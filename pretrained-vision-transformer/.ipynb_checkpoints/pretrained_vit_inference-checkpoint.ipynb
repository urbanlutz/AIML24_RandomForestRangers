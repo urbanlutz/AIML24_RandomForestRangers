{
 "cells": [
  {
   "cell_type": "code",
   "execution_count": 1,
   "id": "be265cde-057f-4b24-8ca2-db9092310919",
   "metadata": {},
   "outputs": [
    {
     "ename": "NameError",
     "evalue": "name 'sys' is not defined",
     "output_type": "error",
     "traceback": [
      "\u001b[0;31m---------------------------------------------------------------------------\u001b[0m",
      "\u001b[0;31mNameError\u001b[0m                                 Traceback (most recent call last)",
      "Cell \u001b[0;32mIn[1], line 11\u001b[0m\n\u001b[1;32m      9\u001b[0m \u001b[38;5;28;01mfrom\u001b[39;00m \u001b[38;5;21;01mcountry211_module\u001b[39;00m \u001b[38;5;28;01mimport\u001b[39;00m Country211DataModule\n\u001b[1;32m     10\u001b[0m \u001b[38;5;28;01mfrom\u001b[39;00m \u001b[38;5;21;01meurosat_module\u001b[39;00m \u001b[38;5;28;01mimport\u001b[39;00m EuroSAT_RGB_DataModule, SentinelTest\n\u001b[0;32m---> 11\u001b[0m \u001b[38;5;28;01mfrom\u001b[39;00m \u001b[38;5;21;01mvision_transformer\u001b[39;00m \u001b[38;5;28;01mimport\u001b[39;00m VisionTransformerPretrained\n\u001b[1;32m     12\u001b[0m \u001b[38;5;28;01mfrom\u001b[39;00m \u001b[38;5;21;01mlightning\u001b[39;00m\u001b[38;5;21;01m.\u001b[39;00m\u001b[38;5;21;01mpytorch\u001b[39;00m\u001b[38;5;21;01m.\u001b[39;00m\u001b[38;5;21;01mcallbacks\u001b[39;00m\u001b[38;5;21;01m.\u001b[39;00m\u001b[38;5;21;01mearly_stopping\u001b[39;00m \u001b[38;5;28;01mimport\u001b[39;00m EarlyStopping\n\u001b[1;32m     13\u001b[0m \u001b[38;5;28;01mfrom\u001b[39;00m \u001b[38;5;21;01mlightning\u001b[39;00m\u001b[38;5;21;01m.\u001b[39;00m\u001b[38;5;21;01mpytorch\u001b[39;00m\u001b[38;5;21;01m.\u001b[39;00m\u001b[38;5;21;01mloggers\u001b[39;00m \u001b[38;5;28;01mimport\u001b[39;00m TensorBoardLogger\n",
      "File \u001b[0;32m~/code/AIML24_RandomForestRangers/pretrained-vision-transformer/./src/vision_transformer.py:10\u001b[0m\n\u001b[1;32m      7\u001b[0m \u001b[38;5;28;01mfrom\u001b[39;00m \u001b[38;5;21;01mtransformers\u001b[39;00m \u001b[38;5;28;01mimport\u001b[39;00m ViTForImageClassification\n\u001b[1;32m      8\u001b[0m \u001b[38;5;28;01mimport\u001b[39;00m \u001b[38;5;21;01mtorchmetrics\u001b[39;00m\n\u001b[0;32m---> 10\u001b[0m \u001b[43msys\u001b[49m\u001b[38;5;241m.\u001b[39mpath\u001b[38;5;241m.\u001b[39mappend(\u001b[38;5;124m'\u001b[39m\u001b[38;5;124m./src/\u001b[39m\u001b[38;5;124m'\u001b[39m)\n\u001b[1;32m     11\u001b[0m \u001b[38;5;28;01mfrom\u001b[39;00m \u001b[38;5;21;01mcountry211_module\u001b[39;00m \u001b[38;5;28;01mimport\u001b[39;00m Country211DataModule\n\u001b[1;32m     12\u001b[0m \u001b[38;5;28;01mfrom\u001b[39;00m \u001b[38;5;21;01meurosat_module\u001b[39;00m \u001b[38;5;28;01mimport\u001b[39;00m EuroSAT_RGB_DataModule, SentinelTest\n",
      "\u001b[0;31mNameError\u001b[0m: name 'sys' is not defined"
     ]
    }
   ],
   "source": [
    "# import os\n",
    "# os.chdir(\"pretrained-vision-transformer\")\n",
    "\n",
    "import sys\n",
    "import yaml\n",
    "import lightning as L\n",
    "\n",
    "sys.path.append('./src/')\n",
    "from country211_module import Country211DataModule\n",
    "from eurosat_module import EuroSAT_RGB_DataModule, SentinelTest\n",
    "from vision_transformer import VisionTransformerPretrained\n",
    "from lightning.pytorch.callbacks.early_stopping import EarlyStopping\n",
    "from lightning.pytorch.loggers import TensorBoardLogger\n",
    "\n",
    "with open('./configs/default.yaml') as cf_file:\n",
    "        config = yaml.safe_load(cf_file.read())\n",
    "\n",
    "\n",
    "\n",
    "# setup data\n",
    "# datamodule = EuroSAT_RGB_DataModule(path_to_data, config['batch_size'], config['valid_size'])\n",
    "# datamodule.prepare_data()\n",
    "# datamodule.setup()\n",
    "# train_dataloader = datamodule.train_dataloader()\n",
    "# valid_dataloader = datamodule.valid_dataloader()\n",
    "# test_dataloader = datamodule.test_dataloader()\n",
    "\n",
    "\n",
    "\n",
    "# path_to_data = \"../drive/MyDrive/AIML24/testset/testset/testset\"\n",
    "# test_dataset = SentinelTest(path_to_data, config['batch_size'])\n",
    "# test_dataloader = test_dataset.test_dataloader()\n",
    "\n",
    "# TODO: try https://pytorch-lightning.readthedocs.io/en/1.6.5/common/checkpointing.html#restoring-training-state\n",
    "model = VisionTransformerPretrained(\n",
    "    config['model'], 10, config['learning_rate']\n",
    ")\n",
    "\n",
    "early_stopping = EarlyStopping(monitor='valid_acc', patience=config['early_stopping_patience'], mode='max')\n",
    "\n",
    "logger = TensorBoardLogger(\"tensorboard_logs\", name=config['run_id'])\n",
    "\n",
    "trainer = L.Trainer(max_epochs=config['max_epochs'],\n",
    "                        devices=config['devices'], \n",
    "                        num_nodes=config['num_nodes'],\n",
    "                        strategy='ddp_notebook',\n",
    "                        callbacks=[early_stopping], \n",
    "                        logger=logger,\n",
    "                        enable_progress_bar=False)\n",
    "\n",
    "chkpt_path = \"tensorboard_logs/alpha/version_1/checkpoints/epoch=14-step=2955.ckpt\"\n",
    "\n",
    "# trainer.fit(model, ckpt_path=chkpt_path)\n",
    "trainer.predict(model=model, ckpt_path=chkpt_path)\n",
    "# disable randomness, dropout, etc...\n",
    "model.eval()\n",
    "\n",
    "# predict with the model\n",
    "y_hat = model(x)"
   ]
  }
 ],
 "metadata": {
  "kernelspec": {
   "display_name": "Python 3 (ipykernel)",
   "language": "python",
   "name": "python3"
  },
  "language_info": {
   "codemirror_mode": {
    "name": "ipython",
    "version": 3
   },
   "file_extension": ".py",
   "mimetype": "text/x-python",
   "name": "python",
   "nbconvert_exporter": "python",
   "pygments_lexer": "ipython3",
   "version": "3.10.14"
  }
 },
 "nbformat": 4,
 "nbformat_minor": 5
}
