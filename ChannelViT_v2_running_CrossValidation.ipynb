{
  "cells": [
    {
      "cell_type": "markdown",
      "metadata": {
        "id": "H24hLkOfNP8Z"
      },
      "source": [
        "# ML Coding Challenge\n",
        "## Random Forest Rangers\n",
        "## Urban, Atilla, Jano"
      ]
    },
    {
      "cell_type": "markdown",
      "metadata": {
        "id": "r2lLq2JG11yd"
      },
      "source": [
        "ssh -N -T -L 30001:localhost:30001 urban@dgx-2-02.ics.unisg.ch"
      ]
    },
    {
      "cell_type": "markdown",
      "metadata": {
        "id": "yZtLM40ANoYV"
      },
      "source": [
        "## Setup"
      ]
    },
    {
      "cell_type": "code",
      "execution_count": 1,
      "metadata": {
        "ExecuteTime": {
          "end_time": "2024-04-11T18:15:33.747304Z",
          "start_time": "2024-04-11T18:15:33.718280Z"
        },
        "id": "uFUdT5EvNjh5"
      },
      "outputs": [],
      "source": [
        "import os\n",
        "\n",
        "\n",
        "import numpy as np\n",
        "import matplotlib.pyplot as plt\n",
        "%matplotlib inline"
      ]
    },
    {
      "cell_type": "markdown",
      "metadata": {
        "id": "8PSMPxqggzmV"
      },
      "source": [
        "# Load Training & Test Data"
      ]
    },
    {
      "cell_type": "code",
      "execution_count": 2,
      "metadata": {
        "ExecuteTime": {
          "end_time": "2024-04-11T18:19:32.046245Z",
          "start_time": "2024-04-11T18:19:32.025732Z"
        },
        "colab": {
          "base_uri": "https://localhost:8080/"
        },
        "id": "kE3L__QDgYvS",
        "outputId": "d8854479-444d-4538-cdc5-13945681707e"
      },
      "outputs": [],
      "source": [
        "# file locations\n",
        "DATA_PATH = \"drive/MyDrive/AIML24\"\n",
        "TRAINING_PATH = DATA_PATH + \"/remote_sensing/otherDatasets/sentinel_2/tif\"\n",
        "TEST_PATH = DATA_PATH + \"/remote_sensing/otherDatasets/sentinel_2/testset\"\n",
        "\n",
        "# mount g-drive\n",
        "try:\n",
        "    from google.colab import drive\n",
        "    drive.mount('/content/drive')\n",
        "\n",
        "    # copy files into runtime for performance\n",
        "    !cp \"drive/MyDrive/AIML24\" \"AIML24\"\n",
        "    DATA_PATH = \"AIML24\"\n",
        "except:\n",
        "    pass # probably local environment\n",
        "\n"
      ]
    },
    {
      "cell_type": "code",
      "execution_count": 3,
      "metadata": {
        "ExecuteTime": {
          "end_time": "2024-04-11T18:17:29.845750Z",
          "start_time": "2024-04-11T18:17:29.843397Z"
        },
        "id": "0SYpaK22lHsC"
      },
      "outputs": [],
      "source": [
        "# Download Training Data\n",
        "# !wget https://madm.dfki.de/files/sentinel/EuroSATallBands.zip --no-check-certificate\n",
        "# !unzip EuroSATallBands.zip\n",
        "# !mv ds/* \"drive/MyDrive/AIML24\"\n",
        "\n",
        "# ☝️Test data must be downloaded manually: put into AIML24/remote_sensing/otherDatasets/sentinel_2/testdata dir"
      ]
    },
    {
      "cell_type": "code",
      "execution_count": 4,
      "metadata": {
        "ExecuteTime": {
          "end_time": "2024-04-11T18:15:44.541157Z",
          "start_time": "2024-04-11T18:15:44.526963Z"
        },
        "id": "EKZuqiBL7c3k"
      },
      "outputs": [],
      "source": [
        "# !unzip \"drive/MyDrive/AIML24/remote_sensing/otherDatasets/sentinel_2/testset.zip\"\n",
        "# !mv testset/testset/* \"drive/MyDrive/AIML24/remote_sensing/otherDatasets/sentinel_2/testset\""
      ]
    },
    {
      "cell_type": "markdown",
      "metadata": {
        "id": "dq3pTziUr1MK"
      },
      "source": [
        "## Define PyTorch Dataset"
      ]
    },
    {
      "cell_type": "code",
      "execution_count": 5,
      "metadata": {
        "ExecuteTime": {
          "end_time": "2024-04-11T18:15:45.826100Z",
          "start_time": "2024-04-11T18:15:45.808195Z"
        },
        "colab": {
          "base_uri": "https://localhost:8080/"
        },
        "id": "un57p0ZwhlaK",
        "outputId": "3f10f5e7-4eaa-46c5-a86d-260b619df994"
      },
      "outputs": [
        {
          "data": {
            "text/plain": [
              "4232"
            ]
          },
          "execution_count": 5,
          "metadata": {},
          "output_type": "execute_result"
        }
      ],
      "source": [
        "import glob\n",
        "len(glob.glob(os.path.join(TEST_PATH,  f\"*.npy\")))"
      ]
    },
    {
      "cell_type": "code",
      "execution_count": 6,
      "metadata": {
        "ExecuteTime": {
          "end_time": "2024-04-11T18:15:48.479745Z",
          "start_time": "2024-04-11T18:15:47.404369Z"
        },
        "colab": {
          "base_uri": "https://localhost:8080/"
        },
        "id": "cAZ7aZePhbJo",
        "outputId": "1f387d39-2b29-45fd-a067-b793ef6c8ded"
      },
      "outputs": [
        {
          "name": "stdout",
          "output_type": "stream",
          "text": [
            "Requirement already satisfied: rasterio in /home/user/.venv/lib/python3.10/site-packages (1.3.10)\n",
            "Requirement already satisfied: affine in /home/user/.venv/lib/python3.10/site-packages (from rasterio) (2.4.0)\n",
            "Requirement already satisfied: attrs in /home/user/.venv/lib/python3.10/site-packages (from rasterio) (23.2.0)\n",
            "Requirement already satisfied: certifi in /home/user/.venv/lib/python3.10/site-packages (from rasterio) (2024.2.2)\n",
            "Requirement already satisfied: click>=4.0 in /home/user/.venv/lib/python3.10/site-packages (from rasterio) (8.1.7)\n",
            "Requirement already satisfied: cligj>=0.5 in /home/user/.venv/lib/python3.10/site-packages (from rasterio) (0.7.2)\n",
            "Requirement already satisfied: numpy in /home/user/.venv/lib/python3.10/site-packages (from rasterio) (1.26.4)\n",
            "Requirement already satisfied: snuggs>=1.4.1 in /home/user/.venv/lib/python3.10/site-packages (from rasterio) (1.4.7)\n",
            "Requirement already satisfied: click-plugins in /home/user/.venv/lib/python3.10/site-packages (from rasterio) (1.1.1)\n",
            "Requirement already satisfied: setuptools in /home/user/.venv/lib/python3.10/site-packages (from rasterio) (69.1.0)\n",
            "Requirement already satisfied: pyparsing>=2.1.6 in /home/user/.venv/lib/python3.10/site-packages (from snuggs>=1.4.1->rasterio) (3.1.1)\n",
            "\u001b[33mDEPRECATION: bert-score 0.3.11 has a non-standard dependency specifier transformers>=3.0.0numpy. pip 24.1 will enforce this behaviour change. A possible replacement is to upgrade to a newer version of bert-score or contact the author to suggest that they release a version with a conforming dependency specifiers. Discussion can be found at https://github.com/pypa/pip/issues/12063\u001b[0m\u001b[33m\n",
            "\u001b[0m"
          ]
        }
      ],
      "source": [
        "!pip install rasterio"
      ]
    },
    {
      "cell_type": "code",
      "execution_count": 7,
      "metadata": {
        "ExecuteTime": {
          "end_time": "2024-04-11T18:18:37.269060Z",
          "start_time": "2024-04-11T18:18:37.237644Z"
        },
        "id": "U6j3IRM6gghb"
      },
      "outputs": [],
      "source": [
        "import rasterio as rio\n",
        "import glob\n",
        "from torch.utils.data import Dataset\n",
        "from collections.abc import Callable\n",
        "import torch\n",
        "\n",
        "def load_img(img_path:str) -> np.ndarray:\n",
        "  if img_path.split('.')[-1] == \"tif\":\n",
        "    with rio.open(img_path, \"r\") as d:\n",
        "      img = d.read([1,2,3,4,5,6,7,8,9,10,11,12,13])\n",
        "      img = reshape_as_image(img)\n",
        "  else:\n",
        "    img = np.load(img_path)\n",
        "  return img\n",
        "\n",
        "\n",
        "ids2labels = {\n",
        "    0: 'AnnualCrop',\n",
        "    1: 'Forest',\n",
        "    2: 'HerbaceousVegetation',\n",
        "    3: 'Highway',\n",
        "    4: 'Industrial',\n",
        "    5: 'Pasture',\n",
        "    6: 'PermanentCrop',\n",
        "    7: 'Residential',\n",
        "    8: 'River',\n",
        "    9: 'SeaLake'\n",
        "    # 0: 'AnnualCrop',\n",
        "    # 1: 'Forest', -> 0\n",
        "    # 2: 'HerbaceousVegetation',\n",
        "    # 3: 'Highway', -> 0\n",
        "    # 4: 'Industrial', -> 265\n",
        "    # 5: 'Pasture',\n",
        "    # 6: 'PermanentCrop',\n",
        "    # 7: 'Residential', -> 35\n",
        "    # 8: 'River', -> 845\n",
        "    # 9: 'SeaLake' -> 1000\n",
        "}\n",
        "\n",
        "labels2ids = {v: k for k, v in ids2labels.items()}\n",
        "\n",
        "def text2oh(label):\n",
        "    one_hot = np.zeros(10)\n",
        "    one_hot.put(labels2ids[label], 1)\n",
        "    return one_hot\n",
        "\n",
        "def oh2text(one_hot):\n",
        "    try:\n",
        "        one_hot = one_hot.numpy()\n",
        "    except:\n",
        "        pass\n",
        "    idx = np.argmax(one_hot)\n",
        "    return ids2labels[idx]\n",
        "\n",
        "class SentinelTrain(Dataset):\n",
        "    def __init__(self, transformations=None):\n",
        "        self.img_paths = [path.replace('\\\\', '/') for path in glob.glob(os.path.join(TRAINING_PATH, \"*\", f\"*.tif\"))]\n",
        "\n",
        "        # labels = set([path.split('/')[-1].split('_')[0] for path in self.img_paths]) # get unique labels\n",
        "        # self.label2ids = {name: id for (id, name) in enumerate(sorted(labels))} # map an id to each label\n",
        "        # self.ids2label = {v:k for k, v in self.label2ids.items()} # reverse lookup dict\n",
        "        self.transformations = transformations\n",
        "\n",
        "    def __len__(self):\n",
        "        return len(self.img_paths)\n",
        "\n",
        "    def __getitem__(self, idx):\n",
        "        img_path = self.img_paths[idx]\n",
        "        image = load_img(img_path)\n",
        "\n",
        "        if self.transformations:\n",
        "            image = self.transformations(image)\n",
        "\n",
        "        label = img_path.split(\"/\")[-1].split(\"_\")[0]\n",
        "        one_hot = text2oh(label)\n",
        "        # return image, one_hot\n",
        "        channels = torch.tensor([c for c in range(12)])\n",
        "        return image, {\"ID\": one_hot, \"channels\": channels}\n",
        "\n",
        "\n",
        "\n",
        "def get_id(img_path):\n",
        "    return img_path.split(\"/\")[-1].split(\"_\")[-1].split(\".\")[0]\n",
        "\n",
        "class SentinelTest(Dataset):\n",
        "    def __init__(self, transformations=None):\n",
        "        self.img_paths = [path.replace(\"\\\\\",\"/\") for path in glob.glob(os.path.join(TEST_PATH,  f\"*.npy\"))]\n",
        "        self.transformations = transformations\n",
        "    def __len__(self):\n",
        "        return len(self.img_paths)\n",
        "\n",
        "    def __getitem__(self, idx):\n",
        "        img_path = self.img_paths[idx]\n",
        "        image = load_img(img_path).astype(np.float32)\n",
        "        image_id = get_id(img_path)\n",
        "\n",
        "        if self.transformations:\n",
        "            image = self.transformations(image)\n",
        "        return image, image_id\n"
      ]
    },
    {
      "cell_type": "code",
      "execution_count": 8,
      "metadata": {
        "id": "iO0y_kAgA4Vu"
      },
      "outputs": [],
      "source": [
        "# Calc train dataset statistics for use in normalization transform\n",
        "\n",
        "# Create a data loader for your dataset\n",
        "# data_loader = DataLoader(train_dataset, batch_size=1, shuffle=True)\n",
        "\n",
        "# # Compute the mean and std of the data\n",
        "# mean = 0.\n",
        "# std = 0.\n",
        "# nb_samples = 0.\n",
        "# for data in tqdm(data_loader):\n",
        "#     batch_samples = data[0].size(0)\n",
        "#     data = data[0].view(batch_samples, data[0].size(1), -1)\n",
        "#     mean += data.mean(2).sum(0)\n",
        "#     std += data.std(2).sum(0)\n",
        "#     nb_samples += batch_samples\n",
        "\n",
        "# mean /= nb_samples\n",
        "# std /= nb_samples\n",
        "\n",
        "# print(\"Mean:\", mean)\n",
        "# print(\"Std:\", std)\n",
        "\n",
        "\n"
      ]
    },
    {
      "cell_type": "markdown",
      "metadata": {
        "id": "6MebCK7DA4Vu"
      },
      "source": [
        "### Tranforms"
      ]
    },
    {
      "cell_type": "code",
      "execution_count": 9,
      "metadata": {
        "ExecuteTime": {
          "end_time": "2024-04-11T18:18:43.526453Z",
          "start_time": "2024-04-11T18:18:43.506219Z"
        },
        "colab": {
          "base_uri": "https://localhost:8080/"
        },
        "id": "rgWl6XyfnOrH",
        "outputId": "4e0d5e17-d646-44ca-e128-32be2f173510"
      },
      "outputs": [
        {
          "name": "stdout",
          "output_type": "stream",
          "text": [
            "27000\n",
            "4232\n"
          ]
        }
      ],
      "source": [
        "# Create instances of the Dataset Class for both train & test\n",
        "import torch\n",
        "import torchvision.transforms as transforms\n",
        "from torchvision import transforms\n",
        "\n",
        "def bandselect(img):\n",
        "    return img[:, :, [3,2,1]]\n",
        "\n",
        "def convert_to_float(img):\n",
        "    return img.astype(np.float32) / 10000.0\n",
        "\n",
        "def bands_to_front(img):\n",
        "    return img.permute(2, 0, 1)\n",
        "\n",
        "# TODO: improvement -> find global max / min\n",
        "def l2a_approx(img):\n",
        "    l2a_bands = img[:,:,[0,1,2,3,4,5,6,7,12,8,10,11]]\n",
        "    return l2a_bands\n",
        "    # band_min = np.min(l2a_bands, (0,1)) # minimal value per band\n",
        "    # return l2a_bands - band_min # dark object subtraction algo approximation\n",
        "\n",
        "mean = [0.0117, 0.0252, 0.0351, 0.0476, 0.0456, 0.0787, 0.0985, 0.1248, 0.1104,\n",
        "        0.0204, 0.0810, 0.0598]\n",
        "std= [0.0065, 0.0154, 0.0188, 0.0278, 0.0228, 0.0356, 0.0456, 0.0531, 0.0502,\n",
        "        0.0099, 0.0378, 0.0303]\n",
        "\n",
        "train_transforms = transforms.Compose([\n",
        "    l2a_approx,\n",
        "    convert_to_float,\n",
        "    transforms.ToTensor(),\n",
        "    transforms.Normalize(mean, std),\n",
        "    transforms.GaussianBlur(1),\n",
        "    transforms.RandomHorizontalFlip(),\n",
        "    transforms.RandomVerticalFlip(),\n",
        "])\n",
        "\n",
        "train_dataset = SentinelTrain(train_transforms)\n",
        "\n",
        "mean_test = [ 4.0489,  0.9620,  1.4780,  0.3701,  2.1379,  2.9192,  2.4817,  1.8041,\n",
        "         2.3450, 20.8376,  1.7928,  1.1922]\n",
        "std_test = [1.7592, 1.2338, 1.1740, 1.0023, 1.1506, 1.1490, 1.0764, 1.0468, 1.0285,\n",
        "        4.0531, 1.0332, 1.1070]\n",
        "\n",
        "test_transforms  = transforms.Compose([\n",
        "    # convert_to_float,\n",
        "    transforms.ToTensor(),\n",
        "    transforms.Normalize(mean_test, std_test),\n",
        "    transforms.GaussianBlur(3),\n",
        "    # img_proc\n",
        "])\n",
        "\n",
        "test_dataset = SentinelTest(test_transforms)\n",
        "\n",
        "print(len(train_dataset))\n",
        "print(len(test_dataset))"
      ]
    },
    {
      "cell_type": "markdown",
      "metadata": {
        "id": "8Zy9guTzA4Vu"
      },
      "source": [
        "\n",
        "\n",
        "### Dataloaders (adjusted)"
      ]
    },
    {
      "cell_type": "code",
      "execution_count": 10,
      "metadata": {
        "ExecuteTime": {
          "end_time": "2024-03-26T13:48:46.034706Z",
          "start_time": "2024-03-26T13:48:46.033705Z"
        },
        "id": "uJEWU_uJhf3E"
      },
      "outputs": [],
      "source": [
        "from torch.utils.data import DataLoader\n",
        "from torch.utils.data import random_split\n",
        "import numpy as np\n",
        "import torch\n",
        "\n",
        "\n",
        "train_dataset_subset, val_dataset_subset = random_split(train_dataset, [.8, .2])\n",
        "\n",
        "train_dataloader = DataLoader(train_dataset_subset, batch_size=64, shuffle=True)\n",
        "val_dataloader = DataLoader(val_dataset_subset, batch_size=64, shuffle=True)\n",
        "test_dataloader = DataLoader(test_dataset, batch_size=64, shuffle=True)\n",
        "\n"
      ]
    },
    {
      "cell_type": "markdown",
      "metadata": {
        "id": "winfN1gXA4Vv"
      },
      "source": [
        "## Utils"
      ]
    },
    {
      "cell_type": "code",
      "execution_count": 11,
      "metadata": {
        "ExecuteTime": {
          "end_time": "2024-03-26T13:48:46.039237Z",
          "start_time": "2024-03-26T13:48:46.038036Z"
        },
        "id": "GJYIs5jInbbx"
      },
      "outputs": [],
      "source": [
        "# Utility function to display image from dataset\n",
        "from rasterio.plot import reshape_as_image\n",
        "\n",
        "def normalize_for_display(band_data):\n",
        "    \"\"\"Normalize multi-spectral imagery across bands.\n",
        "    The input is expected to be in HxWxC format, e.g. 64x64x13.\n",
        "    To account for outliers (e.g. extremly high values due to\n",
        "    reflective surfaces), we normalize with the 2- and 98-percentiles\n",
        "    instead of minimum and maximum of each band.\n",
        "    \"\"\"\n",
        "    band_data = np.array(band_data)\n",
        "    lower_perc = np.percentile(band_data, 2, axis=(0,1))\n",
        "    upper_perc = np.percentile(band_data, 98, axis=(0,1))\n",
        "    print(lower_perc)\n",
        "    print(upper_perc)\n",
        "    return (band_data - lower_perc) / (upper_perc - lower_perc)\n",
        "\n",
        "\n",
        "def print_image(img, label, rgb_bands=[3,2,1])-> None:\n",
        "  \"\"\"Displays an image. Indices of bands given by \"rgb_bands\" will be displayed as RGB in the print\n",
        "  \"\"\"\n",
        "  img = img.numpy()\n",
        "  img = img.transpose(1,2,0)\n",
        "  img = normalize_for_display(img)\n",
        "  img = img[:, :, rgb_bands]\n",
        "  fig, ax = plt.subplots(1, figsize=(5,5))\n",
        "  ax.imshow((img * 255).astype(np.uint8), vmin=0, vmax=255)\n",
        "\n",
        "  label = oh2text(label[\"ID\"])\n",
        "  ax.set_title(label)\n",
        "  ax.axis(False)\n",
        "  plt.tight_layout()\n",
        "\n",
        "  plt.show()"
      ]
    },
    {
      "cell_type": "code",
      "execution_count": 12,
      "metadata": {
        "ExecuteTime": {
          "end_time": "2024-03-26T13:48:46.048694Z",
          "start_time": "2024-03-26T13:48:46.047399Z"
        },
        "id": "rjQNNMvJrBsA"
      },
      "outputs": [],
      "source": [
        "# # example image from test\n",
        "# img, label = train_dataset.__getitem__(800)\n",
        "# print_image(img, label, [0,1,2])\n",
        "# # img.shape\n",
        "# #"
      ]
    },
    {
      "cell_type": "markdown",
      "metadata": {
        "id": "uDpb4f0SNs6x"
      },
      "source": [
        "# Model"
      ]
    },
    {
      "cell_type": "code",
      "execution_count": 13,
      "metadata": {
        "colab": {
          "base_uri": "https://localhost:8080/"
        },
        "id": "k2Ex4u0PA4Vv",
        "outputId": "ca2ad00d-0a66-4404-8c6c-d8593d300c6c"
      },
      "outputs": [
        {
          "data": {
            "text/plain": [
              "87437578"
            ]
          },
          "execution_count": 13,
          "metadata": {},
          "output_type": "execute_result"
        }
      ],
      "source": [
        "from transformers import ViTForImageClassification, ViTConfig\n",
        "\n",
        "\n",
        "model = ViTForImageClassification(ViTConfig(\n",
        "    num_labels=10,\n",
        "    image_size=64,\n",
        "    num_channels=12\n",
        ")).to(\"cuda\")\n",
        "\n",
        "# Number of trainable parameters\n",
        "sum(p.numel() for p in model.parameters() if p.requires_grad)"
      ]
    },
    {
      "cell_type": "code",
      "execution_count": null,
      "metadata": {
        "id": "0oqGuEnJNcJu"
      },
      "outputs": [],
      "source": []
    },
    {
      "cell_type": "markdown",
      "metadata": {
        "id": "0SPAIf2qA4Vw"
      },
      "source": [
        "Load previous Model"
      ]
    },
    {
      "cell_type": "code",
      "execution_count": 14,
      "metadata": {
        "id": "CVCiBPnzA4Vw"
      },
      "outputs": [],
      "source": [
        "# model = model.load_state_dict(torch.load(\"04162024-143828.pt\"))"
      ]
    },
    {
      "cell_type": "markdown",
      "metadata": {
        "id": "xeZtkJz7NX5d"
      },
      "source": [
        "# Setup Cross Validation (adjusted)\n"
      ]
    },
    {
      "cell_type": "code",
      "execution_count": 15,
      "metadata": {
        "id": "hYbnFQk_A8Ni"
      },
      "outputs": [],
      "source": [
        "from torch.utils.data import ConcatDataset, DataLoader, Subset\n",
        "from sklearn.model_selection import KFold\n",
        "\n",
        "# Assuming train_dataset and val_dataset_subset are your datasets\n",
        "combined_train_val_dataset = ConcatDataset([train_dataset_subset, val_dataset_subset])\n",
        "\n",
        "# Define the number of splits for cross-validation\n",
        "k_folds = 10\n",
        "kfold = KFold(n_splits=k_folds, shuffle=True, random_state=42)\n"
      ]
    },
    {
      "cell_type": "markdown",
      "metadata": {
        "id": "VCNm48rYA4Vw"
      },
      "source": [
        "# Train"
      ]
    },
    {
      "cell_type": "code",
      "execution_count": null,
      "metadata": {
        "id": "vAMiSKkXA4Vw"
      },
      "outputs": [],
      "source": []
    },
    {
      "cell_type": "code",
      "execution_count": 16,
      "metadata": {
        "colab": {
          "base_uri": "https://localhost:8080/",
          "height": 445
        },
        "id": "GQ-b3jIKRYjB",
        "outputId": "dd5e68c2-6c44-4e4a-bac7-b94544a4f8dd"
      },
      "outputs": [],
      "source": [
        "# from datetime import datetime\n",
        "\n",
        "# execution_start = datetime.now().strftime(\"%m%d%Y-%H%M%S\")\n",
        "\n",
        "# import torch\n",
        "# from tqdm import tqdm\n",
        "# from torch import nn, optim\n",
        "\n",
        "# device = torch.device(\"cuda\" if torch.cuda.is_available() else \"cpu\")\n",
        "# cross_entropy = nn.CrossEntropyLoss()\n",
        "# learning_rate = 0.002\n",
        "# num_epochs = 3\n",
        "\n",
        "# optimizer = optim.Adam(params=model.parameters(), lr=learning_rate)\n",
        "# model.train()\n",
        "\n",
        "\n",
        "# for fold, (train_ids, test_ids) in enumerate(kfold.split(combined_train_val_dataset)):\n",
        "#     print(f\"Fold {fold+1}/{k_folds}\")\n",
        "\n",
        "#     # Create data loaders for the current fold\n",
        "#     train_subsampler = Subset(combined_train_val_dataset, train_ids)\n",
        "#     val_subsampler = Subset(combined_train_val_dataset, test_ids)\n",
        "\n",
        "#     train_dataloader = DataLoader(train_subsampler, batch_size=64, shuffle=True)\n",
        "#     val_dataloader = DataLoader(val_subsampler, batch_size=64, shuffle=True)\n",
        "\n",
        "#     train_losses = []\n",
        "#     train_epoch_losses = []\n",
        "\n",
        "#     for epoch in range(num_epochs):\n",
        "#         train_mini_batch_losses = []\n",
        "#         moving_avg_loss = 0.0\n",
        "\n",
        "#         for x, y_dict in (pbar := tqdm(train_dataloader, ncols=100)):\n",
        "\n",
        "#             pbar.set_description(f\"{moving_avg_loss: .3f}\")\n",
        "#             x = x.float().to(device)\n",
        "#             y = y_dict['ID'].to(device)\n",
        "\n",
        "#             outputs = model(x)\n",
        "#             loss = cross_entropy(outputs.logits, y)\n",
        "\n",
        "#             optimizer.zero_grad()\n",
        "#             loss.backward()\n",
        "#             optimizer.step()\n",
        "\n",
        "#             # Store and log mini-batch losses\n",
        "#             train_mini_batch_losses.append(loss.item())\n",
        "#             train_losses.append(loss.item())\n",
        "#             moving_avg_loss = np.mean(train_losses[-5:])\n",
        "\n",
        "#         else:\n",
        "#             epoch_loss = np.mean(train_mini_batch_losses)\n",
        "#             pbar.set_description(f\"{epoch_loss: .3f}\")\n",
        "#             train_epoch_losses.append(epoch_loss)\n",
        "\n",
        "#         if epoch_loss < 0.75:\n",
        "#             break\n",
        "\n",
        "#     model.eval()\n",
        "#     validation_losses = []\n",
        "#     with torch.no_grad():\n",
        "#         for x, y_dict in val_dataloader:\n",
        "#             x = x.float().to(device)\n",
        "#             y = y_dict['ID'].to(device)\n",
        "#             outputs = model(x)\n",
        "#             loss = cross_entropy(outputs.logits, y)\n",
        "#             validation_losses.append(loss.item())\n",
        "\n",
        "#     avg_val_loss = np.mean(validation_losses)\n",
        "#     print(f\"Validation Loss for Fold {fold+1}: {avg_val_loss:.3f}\")\n",
        "\n",
        "# # Save final model\n",
        "# torch.save(model.state_dict(), f\"{execution_start}.pt\")"
      ]
    },
    {
      "cell_type": "code",
      "execution_count": 17,
      "metadata": {},
      "outputs": [
        {
          "name": "stderr",
          "output_type": "stream",
          "text": [
            "  0%|                                                             | 0/338 [00:00<?, ?it/s]"
          ]
        },
        {
          "name": "stderr",
          "output_type": "stream",
          "text": [
            " 1.065: 100%|███████████████████████████████████████████| 338/338 [01:57<00:00,  2.88it/s]\n",
            " 1.213:   6%|██▌                                         | 20/338 [00:06<01:49,  2.91it/s]"
          ]
        }
      ],
      "source": [
        "from tqdm import tqdm\n",
        "from torch import nn\n",
        "train_losses = []\n",
        "train_epoch_losses = []\n",
        "\n",
        "\n",
        "model.train()\n",
        "\n",
        "num_epochs = 12\n",
        "mini_batch_size = 64\n",
        "\n",
        "cross_entropy = nn.CrossEntropyLoss()\n",
        "\n",
        "from torch import optim\n",
        "learning_rate = 0.002\n",
        "optimizer = optim.Adam(params=model.parameters(), lr=learning_rate)\n",
        "\n",
        "device = torch.device(\"cuda\" if torch.cuda.is_available() else \"cpu\")\n",
        "\n",
        "\n",
        "for epoch in range(num_epochs):\n",
        "    train_mini_batch_losses = []\n",
        "    moving_avg_loss = 0.0\n",
        "    \n",
        "    for x, y_dict in (pbar := tqdm(train_dataloader, ncols=90)):\n",
        "\n",
        "        pbar.set_description(f\"{moving_avg_loss: .3f}\")\n",
        "        x = x.float().to(device)\n",
        "        y = y_dict['ID'].to(device)\n",
        "\n",
        "\n",
        "        outputs = model(x)\n",
        "\n",
        "        loss = cross_entropy(outputs.logits, y)\n",
        "\n",
        "        optimizer.zero_grad()\n",
        "        loss.backward()\n",
        "        optimizer.step()\n",
        "\n",
        "        # Store and log mini-batch losses\n",
        "        train_mini_batch_losses.append(loss.item())\n",
        "        train_losses.append(loss.item())\n",
        "        moving_avg_loss = np.mean(train_losses[-5:])\n",
        "        # print(f\"Epoch {epoch}, Batch loss: {loss.item()}\")\n",
        "    else:\n",
        "        epoch_loss = np.mean(train_mini_batch_losses)\n",
        "        pbar.set_description(f\"{epoch_loss: .3f}\")\n",
        "\n",
        "    # Average loss for the epoch\n",
        "    \n",
        "    train_epoch_losses.append(epoch_loss)\n",
        "    \n",
        "    if epoch_loss < .72:\n",
        "        break\n",
        "\n",
        "\n",
        "# Save final model\n",
        "torch.save(model.state_dict(), f\"{execution_start}.pt\")"
      ]
    },
    {
      "cell_type": "code",
      "execution_count": null,
      "metadata": {
        "id": "JQKFot0J11y8"
      },
      "outputs": [
        {
          "data": {
            "text/plain": [
              "[None]"
            ]
          },
          "execution_count": 33,
          "metadata": {},
          "output_type": "execute_result"
        },
        {
          "data": {
            "image/png": "[encoded data removed]",
            "text/plain": [
              "<Figure size 640x480 with 1 Axes>"
            ]
          },
          "metadata": {},
          "output_type": "display_data"
        },
        {
          "ename": "",
          "evalue": "",
          "output_type": "error",
          "traceback": [
            "\u001b[1;31mnotebook controller is DISPOSED. \n",
            "\u001b[1;31mView Jupyter <a href='command:jupyter.viewOutput'>log</a> for further details."
          ]
        },
        {
          "ename": "",
          "evalue": "",
          "output_type": "error",
          "traceback": [
            "\u001b[1;31mnotebook controller is DISPOSED. \n",
            "\u001b[1;31mView Jupyter <a href='command:jupyter.viewOutput'>log</a> for further details."
          ]
        },
        {
          "ename": "",
          "evalue": "",
          "output_type": "error",
          "traceback": [
            "\u001b[1;31mnotebook controller is DISPOSED. \n",
            "\u001b[1;31mView Jupyter <a href='command:jupyter.viewOutput'>log</a> for further details."
          ]
        }
      ],
      "source": [
        "import seaborn as sns\n",
        "\n",
        "\n",
        "p = sns.lineplot(train_losses)\n",
        "p.set(yscale='log')"
      ]
    },
    {
      "cell_type": "markdown",
      "metadata": {
        "id": "iQP8Ikcp11y-"
      },
      "source": [
        "# Validation"
      ]
    },
    {
      "cell_type": "code",
      "execution_count": null,
      "metadata": {
        "ExecuteTime": {
          "start_time": "2024-03-26T13:48:46.075667Z"
        },
        "id": "_j_RZDqEUqzb"
      },
      "outputs": [
        {
          "ename": "",
          "evalue": "",
          "output_type": "error",
          "traceback": [
            "\u001b[1;31mnotebook controller is DISPOSED. \n",
            "\u001b[1;31mView Jupyter <a href='command:jupyter.viewOutput'>log</a> for further details."
          ]
        },
        {
          "ename": "",
          "evalue": "",
          "output_type": "error",
          "traceback": [
            "\u001b[1;31mnotebook controller is DISPOSED. \n",
            "\u001b[1;31mView Jupyter <a href='command:jupyter.viewOutput'>log</a> for further details."
          ]
        },
        {
          "ename": "",
          "evalue": "",
          "output_type": "error",
          "traceback": [
            "\u001b[1;31mnotebook controller is DISPOSED. \n",
            "\u001b[1;31mView Jupyter <a href='command:jupyter.viewOutput'>log</a> for further details."
          ]
        }
      ],
      "source": [
        "# # set model in evaluation mode\n",
        "# model.eval()\n",
        "\n",
        "\n",
        "# validate = []\n",
        "# for i, (imgs, labels) in enumerate(val_dataloader):\n",
        "#     preds = model(imgs.to(\"cuda\")).logits\n",
        "#     pred_labels = [oh2text(oh.detach().cpu()) for oh in preds]\n",
        "#     validate += list(zip(labels, preds))\n",
        "\n",
        "\n",
        "# # TODO: Test Metrics"
      ]
    },
    {
      "cell_type": "markdown",
      "metadata": {
        "id": "qtxx5AGS11zA"
      },
      "source": [
        "# Test"
      ]
    },
    {
      "cell_type": "markdown",
      "metadata": {
        "id": "xl74eq_cRWOE"
      },
      "source": [
        "evaluation loop"
      ]
    },
    {
      "cell_type": "code",
      "execution_count": null,
      "metadata": {
        "id": "7Q-IfruEb-f7"
      },
      "outputs": [
        {
          "ename": "",
          "evalue": "",
          "output_type": "error",
          "traceback": [
            "\u001b[1;31mnotebook controller is DISPOSED. \n",
            "\u001b[1;31mView Jupyter <a href='command:jupyter.viewOutput'>log</a> for further details."
          ]
        },
        {
          "ename": "",
          "evalue": "",
          "output_type": "error",
          "traceback": [
            "\u001b[1;31mnotebook controller is DISPOSED. \n",
            "\u001b[1;31mView Jupyter <a href='command:jupyter.viewOutput'>log</a> for further details."
          ]
        },
        {
          "ename": "",
          "evalue": "",
          "output_type": "error",
          "traceback": [
            "\u001b[1;31mnotebook controller is DISPOSED. \n",
            "\u001b[1;31mView Jupyter <a href='command:jupyter.viewOutput'>log</a> for further details."
          ]
        }
      ],
      "source": [
        "model.eval()\n",
        "\n",
        "classArray = []\n",
        "\n",
        "for i, (imgs, paths) in enumerate(test_dataloader):\n",
        "\n",
        "    img_ids = [get_id(path) for path in paths]\n",
        "    preds = model(imgs.to(\"cuda\"))\n",
        "    preds = list(preds.logits.detach())\n",
        "    preds = [oh2text(pred.detach().cpu()) for pred in preds]\n",
        "    classArray += list(zip(img_ids, preds))\n"
      ]
    },
    {
      "cell_type": "markdown",
      "metadata": {
        "id": "7ObxBMEJM6gs"
      },
      "source": [
        "## Submission\n",
        "\n",
        "\n",
        "\n"
      ]
    },
    {
      "cell_type": "code",
      "execution_count": null,
      "metadata": {
        "id": "lTl0h6xMMl4D"
      },
      "outputs": [
        {
          "ename": "",
          "evalue": "",
          "output_type": "error",
          "traceback": [
            "\u001b[1;31mnotebook controller is DISPOSED. \n",
            "\u001b[1;31mView Jupyter <a href='command:jupyter.viewOutput'>log</a> for further details."
          ]
        },
        {
          "ename": "",
          "evalue": "",
          "output_type": "error",
          "traceback": [
            "\u001b[1;31mnotebook controller is DISPOSED. \n",
            "\u001b[1;31mView Jupyter <a href='command:jupyter.viewOutput'>log</a> for further details."
          ]
        },
        {
          "ename": "",
          "evalue": "",
          "output_type": "error",
          "traceback": [
            "\u001b[1;31mnotebook controller is DISPOSED. \n",
            "\u001b[1;31mView Jupyter <a href='command:jupyter.viewOutput'>log</a> for further details."
          ]
        }
      ],
      "source": [
        "import csv\n",
        "\n",
        "with open(f'{execution_start}.csv', 'w', newline='') as csvfile:\n",
        "    writer = csv.writer(csvfile)\n",
        "    writer.writerow(['test_id', 'label'])\n",
        "\n",
        "    # Write each string to a row with its corresponding index as the test_id\n",
        "    for i, label in classArray:\n",
        "        writer.writerow([i, label])"
      ]
    }
  ],
  "metadata": {
    "accelerator": "GPU",
    "colab": {
      "gpuType": "A100",
      "provenance": []
    },
    "kernelspec": {
      "display_name": "Python 3 (ipykernel)",
      "language": "python",
      "name": "python3"
    },
    "language_info": {
      "codemirror_mode": {
        "name": "ipython",
        "version": 3
      },
      "file_extension": ".py",
      "mimetype": "text/x-python",
      "name": "python",
      "nbconvert_exporter": "python",
      "pygments_lexer": "ipython3",
      "version": "3.10.13"
    }
  },
  "nbformat": 4,
  "nbformat_minor": 0
}
