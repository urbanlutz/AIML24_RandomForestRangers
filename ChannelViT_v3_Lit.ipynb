{
 "cells": [
  {
   "cell_type": "markdown",
   "metadata": {
    "id": "H24hLkOfNP8Z"
   },
   "source": [
    "# Random Forest Rangers Lightning Version\n",
    "Urban, Atilla, Jano"
   ]
  },
  {
   "cell_type": "code",
   "execution_count": 16,
   "metadata": {},
   "outputs": [],
   "source": [
    "# !pip install lightning, rasterio"
   ]
  },
  {
   "cell_type": "code",
   "execution_count": 17,
   "metadata": {
    "ExecuteTime": {
     "end_time": "2024-04-11T18:15:33.747304Z",
     "start_time": "2024-04-11T18:15:33.718280Z"
    },
    "id": "uFUdT5EvNjh5"
   },
   "outputs": [],
   "source": [
    "import os\n",
    "import numpy as np\n",
    "import matplotlib.pyplot as plt\n",
    "%matplotlib inline\n",
    "\n",
    "import lightning as L\n",
    "import torch.nn.functional as F"
   ]
  },
  {
   "cell_type": "markdown",
   "metadata": {
    "id": "8PSMPxqggzmV"
   },
   "source": [
    "# Load Training & Test Data"
   ]
  },
  {
   "cell_type": "code",
   "execution_count": 18,
   "metadata": {
    "ExecuteTime": {
     "end_time": "2024-04-11T18:19:32.046245Z",
     "start_time": "2024-04-11T18:19:32.025732Z"
    },
    "colab": {
     "base_uri": "https://localhost:8080/"
    },
    "id": "kE3L__QDgYvS",
    "outputId": "c3c38229-90d5-4be7-9b78-bb2e1e079432"
   },
   "outputs": [],
   "source": [
    "# file locations\n",
    "DATA_PATH = \"drive/MyDrive/AIML24\"\n",
    "TRAINING_PATH = DATA_PATH + \"/remote_sensing/otherDatasets/sentinel_2/tif\"\n",
    "TEST_PATH = DATA_PATH + \"/remote_sensing/otherDatasets/sentinel_2/testset\"\n",
    "\n",
    "# mount g-drive\n",
    "try:\n",
    "    from google.colab import drive\n",
    "    drive.mount('/content/drive')\n",
    "\n",
    "    # copy files into runtime for performance\n",
    "    !cp \"drive/MyDrive/AIML24\" \"AIML24\"\n",
    "    DATA_PATH = \"AIML24\"\n",
    "except:\n",
    "    pass # probably local environment\n",
    "\n"
   ]
  },
  {
   "cell_type": "code",
   "execution_count": 19,
   "metadata": {
    "ExecuteTime": {
     "end_time": "2024-04-11T18:17:29.845750Z",
     "start_time": "2024-04-11T18:17:29.843397Z"
    },
    "id": "0SYpaK22lHsC"
   },
   "outputs": [],
   "source": [
    "# Download Training Data\n",
    "# !wget https://madm.dfki.de/files/sentinel/EuroSATallBands.zip --no-check-certificate\n",
    "# !unzip EuroSATallBands.zip\n",
    "# !mv ds/* \"drive/MyDrive/AIML24\"\n",
    "\n",
    "# ☝️Test data must be downloaded manually: put into AIML24/remote_sensing/otherDatasets/sentinel_2/testdata dir"
   ]
  },
  {
   "cell_type": "code",
   "execution_count": 20,
   "metadata": {
    "ExecuteTime": {
     "end_time": "2024-04-11T18:15:44.541157Z",
     "start_time": "2024-04-11T18:15:44.526963Z"
    },
    "id": "EKZuqiBL7c3k"
   },
   "outputs": [],
   "source": [
    "# !unzip \"drive/MyDrive/AIML24/remote_sensing/otherDatasets/sentinel_2/testset.zip\"\n",
    "# !mv testset/testset/* \"drive/MyDrive/AIML24/remote_sensing/otherDatasets/sentinel_2/testset\""
   ]
  },
  {
   "cell_type": "markdown",
   "metadata": {
    "id": "dq3pTziUr1MK"
   },
   "source": [
    "## Define PyTorch Dataset"
   ]
  },
  {
   "cell_type": "code",
   "execution_count": 38,
   "metadata": {
    "ExecuteTime": {
     "end_time": "2024-04-11T18:18:37.269060Z",
     "start_time": "2024-04-11T18:18:37.237644Z"
    },
    "id": "U6j3IRM6gghb"
   },
   "outputs": [],
   "source": [
    "import rasterio as rio\n",
    "import glob\n",
    "import torch\n",
    "from torch.utils.data import Dataset\n",
    "from rasterio.plot import reshape_as_image\n",
    "\n",
    "def load_img(img_path:str) -> np.ndarray:\n",
    "  if img_path.split('.')[-1] == \"tif\":\n",
    "    with rio.open(img_path, \"r\") as d:\n",
    "      img = d.read([1,2,3,4,5,6,7,8,9,10,11,12,13])\n",
    "      img = reshape_as_image(img)\n",
    "  else:\n",
    "    img = np.load(img_path)\n",
    "  return img\n",
    "\n",
    "\n",
    "ids2labels = {0: 'AnnualCrop',\n",
    " 1: 'Forest',\n",
    " 2: 'HerbaceousVegetation',\n",
    " 3: 'Highway',\n",
    " 4: 'Industrial',\n",
    " 5: 'Pasture',\n",
    " 6: 'PermanentCrop',\n",
    " 7: 'Residential',\n",
    " 8: 'River',\n",
    " 9: 'SeaLake'}\n",
    "\n",
    "labels2ids = {v: k for k, v in ids2labels.items()}\n",
    "\n",
    "def text2oh(label):\n",
    "    one_hot = np.zeros(10)\n",
    "    one_hot.put(labels2ids[label], 1)\n",
    "    return one_hot\n",
    "\n",
    "def oh2text(one_hot):\n",
    "    try:\n",
    "        one_hot = one_hot.numpy()\n",
    "    except:\n",
    "        pass\n",
    "    idx = np.argmax(one_hot)\n",
    "    return ids2labels[idx]\n",
    "\n",
    "class SentinelTrain(Dataset):\n",
    "    def __init__(self, transformations=None):\n",
    "        self.img_paths = [path.replace('\\\\', '/') for path in glob.glob(os.path.join(TRAINING_PATH, \"*\", f\"*.tif\"))]\n",
    "        self.transformations = transformations\n",
    "\n",
    "    def __len__(self):\n",
    "        return len(self.img_paths)\n",
    "\n",
    "    def __getitem__(self, idx):\n",
    "        img_path = self.img_paths[idx]\n",
    "        image = load_img(img_path).astype(np.float32)\n",
    "\n",
    "        if self.transformations:\n",
    "            image = self.transformations(image)\n",
    "\n",
    "        label = img_path.split(\"/\")[-1].split(\"_\")[0]\n",
    "        one_hot = text2oh(label)\n",
    "        # return image, one_hot\n",
    "        channels = torch.tensor([c for c in range(12)])\n",
    "        return image, {\"ID\": one_hot, \"channels\": channels}\n",
    "\n",
    "\n",
    "\n",
    "def get_id(img_path):\n",
    "    return img_path.split(\"/\")[-1].split(\"_\")[-1].split(\".\")[0]\n",
    "\n",
    "class SentinelTest(Dataset):\n",
    "    def __init__(self, transformations=None):\n",
    "        self.img_paths = [path.replace(\"\\\\\",\"/\") for path in glob.glob(os.path.join(TEST_PATH,  f\"*.npy\"))]\n",
    "        self.transformations = transformations\n",
    "    def __len__(self):\n",
    "        return len(self.img_paths)\n",
    "\n",
    "    def __getitem__(self, idx):\n",
    "        img_path = self.img_paths[idx]\n",
    "        image = load_img(img_path).astype(np.float32)\n",
    "        image_id = get_id(img_path)\n",
    "\n",
    "        if self.transformations:\n",
    "            image = self.transformations(image)\n",
    "        return image, image_id\n"
   ]
  },
  {
   "cell_type": "code",
   "execution_count": null,
   "metadata": {},
   "outputs": [],
   "source": []
  },
  {
   "cell_type": "code",
   "execution_count": 40,
   "metadata": {},
   "outputs": [
    {
     "name": "stderr",
     "output_type": "stream",
     "text": [
      "100%|██████████████████████████████████████████████████████████████████████████████████████████████████████████████████████████████████████████████████████████████████████████████████████████████████████████████████| 27000/27000 [01:57<00:00, 228.86it/s]\n"
     ]
    },
    {
     "name": "stdout",
     "output_type": "stream",
     "text": [
      "Mean Train: tensor([1353.7283, 1117.2009, 1041.8888,  946.5547, 1199.1866, 2003.0106,\n",
      "        2374.0134, 2301.2244, 2599.7827,  732.1823, 1820.6930, 1118.2052])\n",
      "Std Train: tensor([ 65.2964, 153.7740, 187.6989, 278.1234, 227.9242, 355.9332, 455.1324,\n",
      "        530.7811, 502.1637,  98.9300, 378.1612, 303.1070])\n"
     ]
    },
    {
     "name": "stderr",
     "output_type": "stream",
     "text": [
      "100%|███████████████████████████████████████████████████████████████████████████████████████████████████████████████████████████████████████████████████████████████████████████████████████████████████████████████████| 4232/4232 [00:02<00:00, 1442.87it/s]"
     ]
    },
    {
     "name": "stdout",
     "output_type": "stream",
     "text": [
      "Mean Test: tensor([ 380.1732,  400.1498,  628.8646,  578.8707,  943.4276, 1826.2419,\n",
      "        2116.6646, 2205.9729, 2281.1836, 2266.9331, 1487.6902,  959.2352])\n",
      "Std Test: tensor([115.1743, 209.1482, 241.2069, 301.1053, 269.5137, 420.2494, 503.8187,\n",
      "        598.0409, 529.4133, 403.9382, 398.1438, 342.4408])\n"
     ]
    },
    {
     "name": "stderr",
     "output_type": "stream",
     "text": [
      "\n"
     ]
    }
   ],
   "source": [
    "# # Calc train dataset statistics for use in normalization transform\n",
    "# from torch.utils.data import DataLoader\n",
    "# from tqdm import tqdm\n",
    "# # Create a data loader for your dataset\n",
    "# data_loader = DataLoader(train_dataset, batch_size=1, shuffle=True)\n",
    "\n",
    "# # Compute the mean and std of the data\n",
    "# mean = 0.\n",
    "# std = 0.\n",
    "# nb_samples = 0.\n",
    "# for data in tqdm(data_loader):\n",
    "#     batch_samples = data[0].size(0)\n",
    "#     data = data[0].view(batch_samples, data[0].size(1), -1)\n",
    "#     mean += data.mean(2).sum(0)\n",
    "#     std += data.std(2).sum(0)\n",
    "#     nb_samples += batch_samples\n",
    "\n",
    "# mean /= nb_samples\n",
    "# std /= nb_samples\n",
    "\n",
    "# print(\"Mean Train:\", mean)\n",
    "# print(\"Std Train:\", std)\n",
    "\n",
    "# from tqdm import tqdm\n",
    "# data_loader = DataLoader(test_dataset, batch_size=1, shuffle=True)\n",
    "\n",
    "# # Compute the mean and std of the data\n",
    "# mean = 0.\n",
    "# std = 0.\n",
    "# nb_samples = 0.\n",
    "# for data in tqdm(data_loader):\n",
    "#     batch_samples = data[0].size(0)\n",
    "#     data = data[0].view(batch_samples, data[0].size(1), -1)\n",
    "#     mean += data.mean(2).sum(0)\n",
    "#     std += data.std(2).sum(0)\n",
    "#     nb_samples += batch_samples\n",
    "\n",
    "# mean /= nb_samples\n",
    "# std /= nb_samples\n",
    "\n",
    "# print(\"Mean Test:\", mean)\n",
    "# print(\"Std Test:\", std)\n",
    "\n",
    "\n"
   ]
  },
  {
   "cell_type": "markdown",
   "metadata": {},
   "source": [
    "### Tranforms"
   ]
  },
  {
   "cell_type": "code",
   "execution_count": 41,
   "metadata": {
    "ExecuteTime": {
     "end_time": "2024-04-11T18:18:43.526453Z",
     "start_time": "2024-04-11T18:18:43.506219Z"
    },
    "colab": {
     "base_uri": "https://localhost:8080/"
    },
    "id": "rgWl6XyfnOrH",
    "outputId": "86f15dbb-7795-4442-8e8c-94e1faf28fcd"
   },
   "outputs": [
    {
     "name": "stdout",
     "output_type": "stream",
     "text": [
      "27000\n",
      "4232\n"
     ]
    }
   ],
   "source": [
    "# Create instances of the Dataset Class for both train & test\n",
    "import torch\n",
    "import torchvision.transforms as transforms\n",
    "from torchvision import transforms\n",
    "\n",
    "def bandselect(img):\n",
    "    return img[:, :, [3,2,1]]\n",
    "\n",
    "def convert_to_float(img):\n",
    "    return img / 10000.0\n",
    "\n",
    "def bands_to_front(img):\n",
    "    return img.permute(2, 0, 1)\n",
    "\n",
    "# TODO: improvement -> find global max / min\n",
    "def l2a_approx(img):\n",
    "    l2a_bands = img[:,:,[0,1,2,3,4,5,6,7,12,8,10,11]]\n",
    "    return l2a_bands\n",
    "    # band_min = np.min(l2a_bands, (0,1)) # minimal value per band\n",
    "    # return l2a_bands - band_min # dark object subtraction algo approximation\n",
    "\n",
    "train_mean = [1353.7283, 1117.2009, 1041.8888,  946.5547, 1199.1866, 2003.0106,\n",
    "        2374.0134, 2301.2244, 2599.7827,  732.1823, 1820.6930, 1118.2052]\n",
    "train_std = [ 65.2964, 153.7740, 187.6989, 278.1234, 227.9242, 355.9332, 455.1324,\n",
    "        530.7811, 502.1637,  98.9300, 378.1612, 303.1070]\n",
    "test_mean = [380.1732,  400.1498,  628.8646,  578.8707,  943.4276, 1826.2419,\n",
    "        2116.6646, 2205.9729, 2281.1836, 2266.9331, 1487.6902,  959.2352]\n",
    "test_std = [115.1743, 209.1482, 241.2069, 301.1053, 269.5137, 420.2494, 503.8187,\n",
    "        598.0409, 529.4133, 403.9382, 398.1438, 342.4408]\n",
    "\n",
    "\n",
    "train_transforms = transforms.Compose([\n",
    "    l2a_approx,\n",
    "    # convert_to_float,\n",
    "    transforms.ToTensor(),\n",
    "    transforms.Normalize(train_mean, train_std),\n",
    "    transforms.GaussianBlur(1),\n",
    "    transforms.RandomHorizontalFlip(),\n",
    "    transforms.RandomVerticalFlip(),\n",
    "])\n",
    "\n",
    "train_dataset = SentinelTrain(train_transforms)\n",
    "\n",
    "\n",
    "test_transforms  = transforms.Compose([\n",
    "    # convert_to_float,\n",
    "    transforms.ToTensor(),\n",
    "    transforms.Normalize(test_mean, test_std),\n",
    "    transforms.GaussianBlur(1),\n",
    "])\n",
    "\n",
    "test_dataset = SentinelTest(test_transforms)\n",
    "\n",
    "print(len(train_dataset))\n",
    "print(len(test_dataset))"
   ]
  },
  {
   "cell_type": "code",
   "execution_count": 44,
   "metadata": {},
   "outputs": [
    {
     "data": {
      "text/plain": [
       "tensor([[4.2761, 4.2761, 4.3294,  ..., 3.7479, 3.5091, 2.9443],\n",
       "        [4.2761, 4.2761, 4.3294,  ..., 3.7479, 3.5091, 2.9443],\n",
       "        [4.2704, 4.2704, 4.3800,  ..., 3.4669, 3.3208, 2.8376],\n",
       "        ...,\n",
       "        [4.9475, 4.9475, 5.7033,  ..., 1.1743, 1.1996, 1.2221],\n",
       "        [4.7031, 4.7031, 5.5375,  ..., 1.1491, 1.1687, 1.1856],\n",
       "        [4.2957, 4.2957, 5.1554,  ..., 1.1491, 1.1631, 1.1715]])"
      ]
     },
     "execution_count": 44,
     "metadata": {},
     "output_type": "execute_result"
    }
   ],
   "source": [
    "train_dataset.__getitem__(1)[0][5]"
   ]
  },
  {
   "cell_type": "code",
   "execution_count": 66,
   "metadata": {},
   "outputs": [
    {
     "data": {
      "image/png": "[encoded data removed]",
      "text/plain": [
       "<Figure size 500x500 with 1 Axes>"
      ]
     },
     "metadata": {},
     "output_type": "display_data"
    },
    {
     "data": {
      "text/plain": [
       "<Axes: ylabel='Count'>"
      ]
     },
     "execution_count": 66,
     "metadata": {},
     "output_type": "execute_result"
    },
    {
     "data": {
      "image/png": "[encoded data removed]",
      "text/plain": [
       "<Figure size 640x480 with 1 Axes>"
      ]
     },
     "metadata": {},
     "output_type": "display_data"
    }
   ],
   "source": [
    "import seaborn as sns\n",
    "\n",
    "img = test_dataset.__getitem__(300)[0]\n",
    "print_image(img, {\"ID\":\"Test\"})\n",
    "\n",
    "sns.histplot(img[2].flatten())\n"
   ]
  },
  {
   "cell_type": "markdown",
   "metadata": {},
   "source": [
    "### Dataloaders"
   ]
  },
  {
   "cell_type": "code",
   "execution_count": 54,
   "metadata": {
    "ExecuteTime": {
     "end_time": "2024-03-26T13:48:46.034706Z",
     "start_time": "2024-03-26T13:48:46.033705Z"
    },
    "id": "uJEWU_uJhf3E"
   },
   "outputs": [],
   "source": [
    "from torch.utils.data import DataLoader\n",
    "from torch.utils.data import random_split\n",
    "import numpy as np\n",
    "import torch\n",
    "\n",
    "\n",
    "train_dataset_subset, val_dataset_subset = random_split(train_dataset, [.8, .2])\n",
    "\n",
    "train_dataloader = DataLoader(train_dataset, batch_size=64, shuffle=True)\n",
    "val_dataloader = DataLoader(val_dataset_subset, batch_size=64, shuffle=True)\n",
    "test_dataloader = DataLoader(test_dataset, batch_size=64, shuffle=True)\n",
    "\n"
   ]
  },
  {
   "cell_type": "markdown",
   "metadata": {},
   "source": [
    "## Utils"
   ]
  },
  {
   "cell_type": "code",
   "execution_count": 60,
   "metadata": {
    "ExecuteTime": {
     "end_time": "2024-03-26T13:48:46.039237Z",
     "start_time": "2024-03-26T13:48:46.038036Z"
    },
    "id": "GJYIs5jInbbx"
   },
   "outputs": [],
   "source": [
    "# Utility function to display image from dataset\n",
    "# from rasterio.plot import reshape_as_image\n",
    "\n",
    "def normalize_for_display(band_data):\n",
    "    \"\"\"Normalize multi-spectral imagery across bands.\n",
    "    The input is expected to be in HxWxC format, e.g. 64x64x13.\n",
    "    To account for outliers (e.g. extremly high values due to\n",
    "    reflective surfaces), we normalize with the 2- and 98-percentiles\n",
    "    instead of minimum and maximum of each band.\n",
    "    \"\"\"\n",
    "    band_data = np.array(band_data)\n",
    "    lower_perc = np.percentile(band_data, 2, axis=(0,1))\n",
    "    upper_perc = np.percentile(band_data, 98, axis=(0,1))\n",
    "    # print(lower_perc)\n",
    "    # print(upper_perc)\n",
    "    return (band_data - lower_perc) / (upper_perc - lower_perc)\n",
    "\n",
    "\n",
    "def print_image(img, label, rgb_bands=[3,2,1])-> None:\n",
    "  \"\"\"Displays an image. Indices of bands given by \"rgb_bands\" will be displayed as RGB in the print\n",
    "  \"\"\"\n",
    "  img = img.numpy()\n",
    "  img = img.transpose(1,2,0)\n",
    "  # img = normalize_for_display(img)\n",
    "  img = img[:, :, rgb_bands]\n",
    "  fig, ax = plt.subplots(1, figsize=(5,5))\n",
    "  ax.imshow((img * 255).astype(np.uint8), vmin=0, vmax=255)\n",
    "\n",
    "  label = oh2text(label[\"ID\"])\n",
    "  ax.set_title(label)\n",
    "  ax.axis(False)\n",
    "  plt.tight_layout()\n",
    "\n",
    "  plt.show()"
   ]
  },
  {
   "cell_type": "code",
   "execution_count": 12,
   "metadata": {
    "ExecuteTime": {
     "end_time": "2024-03-26T13:48:46.048694Z",
     "start_time": "2024-03-26T13:48:46.047399Z"
    },
    "colab": {
     "base_uri": "https://localhost:8080/",
     "height": 580
    },
    "id": "rjQNNMvJrBsA",
    "outputId": "ca6eea7c-84d9-418f-af9d-84bc6eeb122f"
   },
   "outputs": [
    {
     "name": "stdout",
     "output_type": "stream",
     "text": [
      "[22.21538353  5.90259743  3.15957427  0.64028764  3.13157892  2.67949433\n",
      "  2.2054826   0.90338994  2.3324703   6.6060605   2.72751331  1.00627069]\n",
      "[25.12307549  8.18246737  5.59042597  3.62230253  5.96096506  6.13005648\n",
      "  5.48508773  4.16195869  5.43446202  9.99090881  5.61428533  5.03630352]\n"
     ]
    },
    {
     "data": {
      "image/png": "[encoded data removed]",
      "text/plain": [
       "<Figure size 500x500 with 1 Axes>"
      ]
     },
     "metadata": {},
     "output_type": "display_data"
    }
   ],
   "source": [
    "# # example image from test\n",
    "# img, label = train_dataset.__getitem__(800)\n",
    "# print_image(img, label, [0,1,2])\n",
    "# # img.shape\n",
    "# # "
   ]
  },
  {
   "cell_type": "markdown",
   "metadata": {
    "id": "uDpb4f0SNs6x"
   },
   "source": [
    "# Model"
   ]
  },
  {
   "cell_type": "code",
   "execution_count": 2,
   "metadata": {},
   "outputs": [
    {
     "name": "stdout",
     "output_type": "stream",
     "text": [
      "Collecting transformers\n",
      "  Downloading transformers-4.39.3-py3-none-any.whl.metadata (134 kB)\n",
      "     ---------------------------------------- 0.0/134.8 kB ? eta -:--:--\n",
      "     -------- ---------------------------- 30.7/134.8 kB 660.6 kB/s eta 0:00:01\n",
      "     ---------------- -------------------- 61.4/134.8 kB 812.7 kB/s eta 0:00:01\n",
      "     ------------------------------ ----- 112.6/134.8 kB 726.2 kB/s eta 0:00:01\n",
      "     ------------------------------------ 134.8/134.8 kB 798.7 kB/s eta 0:00:00\n",
      "Requirement already satisfied: filelock in c:\\users\\urban\\appdata\\local\\programs\\python\\python312\\lib\\site-packages (from transformers) (3.13.1)\n",
      "Requirement already satisfied: huggingface-hub<1.0,>=0.19.3 in c:\\users\\urban\\appdata\\local\\programs\\python\\python312\\lib\\site-packages (from transformers) (0.22.2)\n",
      "Requirement already satisfied: numpy>=1.17 in c:\\users\\urban\\appdata\\local\\programs\\python\\python312\\lib\\site-packages (from transformers) (1.26.4)\n",
      "Requirement already satisfied: packaging>=20.0 in c:\\users\\urban\\appdata\\roaming\\python\\python312\\site-packages (from transformers) (23.2)\n",
      "Requirement already satisfied: pyyaml>=5.1 in c:\\users\\urban\\appdata\\local\\programs\\python\\python312\\lib\\site-packages (from transformers) (6.0.1)\n",
      "Collecting regex!=2019.12.17 (from transformers)\n",
      "  Downloading regex-2023.12.25-cp312-cp312-win_amd64.whl.metadata (41 kB)\n",
      "     ---------------------------------------- 0.0/42.0 kB ? eta -:--:--\n",
      "     -------------------------------------  41.0/42.0 kB 960.0 kB/s eta 0:00:01\n",
      "     -------------------------------------- 42.0/42.0 kB 675.2 kB/s eta 0:00:00\n",
      "Requirement already satisfied: requests in c:\\users\\urban\\appdata\\local\\programs\\python\\python312\\lib\\site-packages (from transformers) (2.31.0)\n",
      "Collecting tokenizers<0.19,>=0.14 (from transformers)\n",
      "  Downloading tokenizers-0.15.2-cp312-none-win_amd64.whl.metadata (6.8 kB)\n",
      "Requirement already satisfied: safetensors>=0.4.1 in c:\\users\\urban\\appdata\\local\\programs\\python\\python312\\lib\\site-packages (from transformers) (0.4.2)\n",
      "Requirement already satisfied: tqdm>=4.27 in c:\\users\\urban\\appdata\\local\\programs\\python\\python312\\lib\\site-packages (from transformers) (4.66.2)\n",
      "Requirement already satisfied: fsspec>=2023.5.0 in c:\\users\\urban\\appdata\\local\\programs\\python\\python312\\lib\\site-packages (from huggingface-hub<1.0,>=0.19.3->transformers) (2024.2.0)\n",
      "Requirement already satisfied: typing-extensions>=3.7.4.3 in c:\\users\\urban\\appdata\\local\\programs\\python\\python312\\lib\\site-packages (from huggingface-hub<1.0,>=0.19.3->transformers) (4.10.0)\n",
      "Requirement already satisfied: colorama in c:\\users\\urban\\appdata\\roaming\\python\\python312\\site-packages (from tqdm>=4.27->transformers) (0.4.6)\n",
      "Requirement already satisfied: charset-normalizer<4,>=2 in c:\\users\\urban\\appdata\\local\\programs\\python\\python312\\lib\\site-packages (from requests->transformers) (3.3.2)\n",
      "Requirement already satisfied: idna<4,>=2.5 in c:\\users\\urban\\appdata\\local\\programs\\python\\python312\\lib\\site-packages (from requests->transformers) (3.6)\n",
      "Requirement already satisfied: urllib3<3,>=1.21.1 in c:\\users\\urban\\appdata\\local\\programs\\python\\python312\\lib\\site-packages (from requests->transformers) (2.2.1)\n",
      "Requirement already satisfied: certifi>=2017.4.17 in c:\\users\\urban\\appdata\\local\\programs\\python\\python312\\lib\\site-packages (from requests->transformers) (2024.2.2)\n",
      "Downloading transformers-4.39.3-py3-none-any.whl (8.8 MB)\n",
      "   ---------------------------------------- 0.0/8.8 MB ? eta -:--:--\n",
      "   ---------------------------------------- 0.0/8.8 MB 991.0 kB/s eta 0:00:09\n",
      "    --------------------------------------- 0.1/8.8 MB 1.3 MB/s eta 0:00:07\n",
      "    --------------------------------------- 0.1/8.8 MB 1.2 MB/s eta 0:00:08\n",
      "   - -------------------------------------- 0.2/8.8 MB 1.4 MB/s eta 0:00:07\n",
      "   - -------------------------------------- 0.3/8.8 MB 1.4 MB/s eta 0:00:06\n",
      "   - -------------------------------------- 0.4/8.8 MB 1.6 MB/s eta 0:00:06\n",
      "   -- ------------------------------------- 0.5/8.8 MB 1.7 MB/s eta 0:00:05\n",
      "   -- ------------------------------------- 0.6/8.8 MB 1.8 MB/s eta 0:00:05\n",
      "   --- ------------------------------------ 0.7/8.8 MB 1.6 MB/s eta 0:00:05\n",
      "   --- ------------------------------------ 0.7/8.8 MB 1.7 MB/s eta 0:00:05\n",
      "   --- ------------------------------------ 0.8/8.8 MB 1.7 MB/s eta 0:00:05\n",
      "   --- ------------------------------------ 0.8/8.8 MB 1.7 MB/s eta 0:00:05\n",
      "   ---- ----------------------------------- 0.9/8.8 MB 1.6 MB/s eta 0:00:05\n",
      "   ---- ----------------------------------- 1.0/8.8 MB 1.6 MB/s eta 0:00:05\n",
      "   ---- ----------------------------------- 1.1/8.8 MB 1.6 MB/s eta 0:00:05\n",
      "   ----- ---------------------------------- 1.2/8.8 MB 1.6 MB/s eta 0:00:05\n",
      "   ----- ---------------------------------- 1.2/8.8 MB 1.6 MB/s eta 0:00:05\n",
      "   ----- ---------------------------------- 1.3/8.8 MB 1.6 MB/s eta 0:00:05\n",
      "   ------ --------------------------------- 1.4/8.8 MB 1.7 MB/s eta 0:00:05\n",
      "   ------ --------------------------------- 1.4/8.8 MB 1.7 MB/s eta 0:00:05\n",
      "   ------ --------------------------------- 1.5/8.8 MB 1.7 MB/s eta 0:00:05\n",
      "   ------- -------------------------------- 1.6/8.8 MB 1.7 MB/s eta 0:00:05\n",
      "   ------- -------------------------------- 1.7/8.8 MB 1.7 MB/s eta 0:00:05\n",
      "   -------- ------------------------------- 1.8/8.8 MB 1.7 MB/s eta 0:00:05\n",
      "   -------- ------------------------------- 1.9/8.8 MB 1.7 MB/s eta 0:00:04\n",
      "   --------- ------------------------------ 2.0/8.8 MB 1.8 MB/s eta 0:00:04\n",
      "   --------- ------------------------------ 2.1/8.8 MB 1.8 MB/s eta 0:00:04\n",
      "   --------- ------------------------------ 2.2/8.8 MB 1.8 MB/s eta 0:00:04\n",
      "   ---------- ----------------------------- 2.2/8.8 MB 1.8 MB/s eta 0:00:04\n",
      "   ---------- ----------------------------- 2.3/8.8 MB 1.7 MB/s eta 0:00:04\n",
      "   ---------- ----------------------------- 2.3/8.8 MB 1.7 MB/s eta 0:00:04\n",
      "   ---------- ----------------------------- 2.4/8.8 MB 1.7 MB/s eta 0:00:04\n",
      "   ----------- ---------------------------- 2.4/8.8 MB 1.7 MB/s eta 0:00:04\n",
      "   ----------- ---------------------------- 2.5/8.8 MB 1.7 MB/s eta 0:00:04\n",
      "   ----------- ---------------------------- 2.5/8.8 MB 1.6 MB/s eta 0:00:04\n",
      "   ----------- ---------------------------- 2.6/8.8 MB 1.6 MB/s eta 0:00:04\n",
      "   ------------ --------------------------- 2.7/8.8 MB 1.6 MB/s eta 0:00:04\n",
      "   ------------ --------------------------- 2.7/8.8 MB 1.6 MB/s eta 0:00:04\n",
      "   ------------ --------------------------- 2.8/8.8 MB 1.6 MB/s eta 0:00:04\n",
      "   ------------ --------------------------- 2.8/8.8 MB 1.6 MB/s eta 0:00:04\n",
      "   ------------- -------------------------- 2.9/8.8 MB 1.6 MB/s eta 0:00:04\n",
      "   ------------- -------------------------- 3.0/8.8 MB 1.6 MB/s eta 0:00:04\n",
      "   ------------- -------------------------- 3.0/8.8 MB 1.6 MB/s eta 0:00:04\n",
      "   -------------- ------------------------- 3.1/8.8 MB 1.6 MB/s eta 0:00:04\n",
      "   -------------- ------------------------- 3.2/8.8 MB 1.6 MB/s eta 0:00:04\n",
      "   -------------- ------------------------- 3.2/8.8 MB 1.6 MB/s eta 0:00:04\n",
      "   --------------- ------------------------ 3.3/8.8 MB 1.6 MB/s eta 0:00:04\n",
      "   --------------- ------------------------ 3.4/8.8 MB 1.6 MB/s eta 0:00:04\n",
      "   --------------- ------------------------ 3.5/8.8 MB 1.6 MB/s eta 0:00:04\n",
      "   ---------------- ----------------------- 3.6/8.8 MB 1.6 MB/s eta 0:00:04\n",
      "   ---------------- ----------------------- 3.6/8.8 MB 1.6 MB/s eta 0:00:04\n",
      "   ---------------- ----------------------- 3.7/8.8 MB 1.6 MB/s eta 0:00:04\n",
      "   ----------------- ---------------------- 3.8/8.8 MB 1.6 MB/s eta 0:00:04\n",
      "   ----------------- ---------------------- 3.9/8.8 MB 1.6 MB/s eta 0:00:04\n",
      "   ------------------ --------------------- 4.0/8.8 MB 1.6 MB/s eta 0:00:04\n",
      "   ------------------ --------------------- 4.1/8.8 MB 1.6 MB/s eta 0:00:03\n",
      "   ------------------ --------------------- 4.1/8.8 MB 1.6 MB/s eta 0:00:03\n",
      "   ------------------- -------------------- 4.2/8.8 MB 1.6 MB/s eta 0:00:03\n",
      "   ------------------- -------------------- 4.2/8.8 MB 1.6 MB/s eta 0:00:03\n",
      "   ------------------- -------------------- 4.3/8.8 MB 1.6 MB/s eta 0:00:03\n",
      "   ------------------- -------------------- 4.4/8.8 MB 1.6 MB/s eta 0:00:03\n",
      "   -------------------- ------------------- 4.4/8.8 MB 1.6 MB/s eta 0:00:03\n",
      "   -------------------- ------------------- 4.5/8.8 MB 1.6 MB/s eta 0:00:03\n",
      "   -------------------- ------------------- 4.5/8.8 MB 1.6 MB/s eta 0:00:03\n",
      "   -------------------- ------------------- 4.6/8.8 MB 1.5 MB/s eta 0:00:03\n",
      "   -------------------- ------------------- 4.6/8.8 MB 1.5 MB/s eta 0:00:03\n",
      "   --------------------- ------------------ 4.6/8.8 MB 1.5 MB/s eta 0:00:03\n",
      "   --------------------- ------------------ 4.7/8.8 MB 1.5 MB/s eta 0:00:03\n",
      "   --------------------- ------------------ 4.8/8.8 MB 1.5 MB/s eta 0:00:03\n",
      "   --------------------- ------------------ 4.8/8.8 MB 1.5 MB/s eta 0:00:03\n",
      "   ---------------------- ----------------- 4.9/8.8 MB 1.5 MB/s eta 0:00:03\n",
      "   ---------------------- ----------------- 4.9/8.8 MB 1.5 MB/s eta 0:00:03\n",
      "   ---------------------- ----------------- 5.0/8.8 MB 1.5 MB/s eta 0:00:03\n",
      "   ----------------------- ---------------- 5.1/8.8 MB 1.5 MB/s eta 0:00:03\n",
      "   ----------------------- ---------------- 5.2/8.8 MB 1.5 MB/s eta 0:00:03\n",
      "   ----------------------- ---------------- 5.2/8.8 MB 1.5 MB/s eta 0:00:03\n",
      "   ------------------------ --------------- 5.3/8.8 MB 1.5 MB/s eta 0:00:03\n",
      "   ------------------------ --------------- 5.4/8.8 MB 1.5 MB/s eta 0:00:03\n",
      "   ------------------------ --------------- 5.4/8.8 MB 1.5 MB/s eta 0:00:03\n",
      "   ------------------------ --------------- 5.5/8.8 MB 1.5 MB/s eta 0:00:03\n",
      "   ------------------------- -------------- 5.6/8.8 MB 1.5 MB/s eta 0:00:03\n",
      "   ------------------------- -------------- 5.7/8.8 MB 1.5 MB/s eta 0:00:03\n",
      "   -------------------------- ------------- 5.8/8.8 MB 1.5 MB/s eta 0:00:02\n",
      "   -------------------------- ------------- 5.8/8.8 MB 1.5 MB/s eta 0:00:02\n",
      "   -------------------------- ------------- 5.9/8.8 MB 1.5 MB/s eta 0:00:02\n",
      "   --------------------------- ------------ 6.0/8.8 MB 1.5 MB/s eta 0:00:02\n",
      "   --------------------------- ------------ 6.1/8.8 MB 1.6 MB/s eta 0:00:02\n",
      "   ---------------------------- ----------- 6.2/8.8 MB 1.6 MB/s eta 0:00:02\n",
      "   ---------------------------- ----------- 6.2/8.8 MB 1.6 MB/s eta 0:00:02\n",
      "   ---------------------------- ----------- 6.3/8.8 MB 1.6 MB/s eta 0:00:02\n",
      "   ----------------------------- ---------- 6.4/8.8 MB 1.6 MB/s eta 0:00:02\n",
      "   ----------------------------- ---------- 6.4/8.8 MB 1.6 MB/s eta 0:00:02\n",
      "   ----------------------------- ---------- 6.5/8.8 MB 1.6 MB/s eta 0:00:02\n",
      "   ----------------------------- ---------- 6.5/8.8 MB 1.6 MB/s eta 0:00:02\n",
      "   ----------------------------- ---------- 6.5/8.8 MB 1.6 MB/s eta 0:00:02\n",
      "   ----------------------------- ---------- 6.5/8.8 MB 1.6 MB/s eta 0:00:02\n",
      "   ----------------------------- ---------- 6.5/8.8 MB 1.6 MB/s eta 0:00:02\n",
      "   ----------------------------- ---------- 6.6/8.8 MB 1.5 MB/s eta 0:00:02\n",
      "   ----------------------------- ---------- 6.6/8.8 MB 1.5 MB/s eta 0:00:02\n",
      "   ------------------------------ --------- 6.6/8.8 MB 1.5 MB/s eta 0:00:02\n",
      "   ------------------------------ --------- 6.7/8.8 MB 1.5 MB/s eta 0:00:02\n",
      "   ------------------------------ --------- 6.8/8.8 MB 1.5 MB/s eta 0:00:02\n",
      "   ------------------------------ --------- 6.8/8.8 MB 1.5 MB/s eta 0:00:02\n",
      "   ------------------------------- -------- 6.9/8.8 MB 1.5 MB/s eta 0:00:02\n",
      "   ------------------------------- -------- 7.0/8.8 MB 1.5 MB/s eta 0:00:02\n",
      "   -------------------------------- ------- 7.1/8.8 MB 1.5 MB/s eta 0:00:02\n",
      "   -------------------------------- ------- 7.2/8.8 MB 1.5 MB/s eta 0:00:02\n",
      "   --------------------------------- ------ 7.3/8.8 MB 1.5 MB/s eta 0:00:01\n",
      "   --------------------------------- ------ 7.4/8.8 MB 1.5 MB/s eta 0:00:01\n",
      "   ---------------------------------- ----- 7.5/8.8 MB 1.5 MB/s eta 0:00:01\n",
      "   ---------------------------------- ----- 7.6/8.8 MB 1.5 MB/s eta 0:00:01\n",
      "   ---------------------------------- ----- 7.7/8.8 MB 1.5 MB/s eta 0:00:01\n",
      "   ----------------------------------- ---- 7.8/8.8 MB 1.5 MB/s eta 0:00:01\n",
      "   ----------------------------------- ---- 7.9/8.8 MB 1.5 MB/s eta 0:00:01\n",
      "   ------------------------------------ --- 8.0/8.8 MB 1.6 MB/s eta 0:00:01\n",
      "   ------------------------------------ --- 8.1/8.8 MB 1.6 MB/s eta 0:00:01\n",
      "   ------------------------------------- -- 8.2/8.8 MB 1.6 MB/s eta 0:00:01\n",
      "   ------------------------------------- -- 8.3/8.8 MB 1.6 MB/s eta 0:00:01\n",
      "   ------------------------------------- -- 8.3/8.8 MB 1.6 MB/s eta 0:00:01\n",
      "   -------------------------------------- - 8.4/8.8 MB 1.6 MB/s eta 0:00:01\n",
      "   -------------------------------------- - 8.5/8.8 MB 1.6 MB/s eta 0:00:01\n",
      "   ---------------------------------------  8.6/8.8 MB 1.6 MB/s eta 0:00:01\n",
      "   ---------------------------------------  8.7/8.8 MB 1.6 MB/s eta 0:00:01\n",
      "   ---------------------------------------  8.8/8.8 MB 1.6 MB/s eta 0:00:01\n",
      "   ---------------------------------------- 8.8/8.8 MB 1.6 MB/s eta 0:00:00\n",
      "Downloading regex-2023.12.25-cp312-cp312-win_amd64.whl (268 kB)\n",
      "   ---------------------------------------- 0.0/268.9 kB ? eta -:--:--\n",
      "   ---- ----------------------------------- 30.7/268.9 kB ? eta -:--:--\n",
      "   ---------------- ----------------------- 112.6/268.9 kB 1.3 MB/s eta 0:00:01\n",
      "   ---------------------- ----------------- 153.6/268.9 kB 1.1 MB/s eta 0:00:01\n",
      "   ----------------------------------- ---- 235.5/268.9 kB 1.2 MB/s eta 0:00:01\n",
      "   ---------------------------------------- 268.9/268.9 kB 1.3 MB/s eta 0:00:00\n",
      "Downloading tokenizers-0.15.2-cp312-none-win_amd64.whl (2.2 MB)\n",
      "   ---------------------------------------- 0.0/2.2 MB ? eta -:--:--\n",
      "    --------------------------------------- 0.0/2.2 MB 640.0 kB/s eta 0:00:04\n",
      "   - -------------------------------------- 0.1/2.2 MB 1.0 MB/s eta 0:00:03\n",
      "   -- ------------------------------------- 0.1/2.2 MB 1.0 MB/s eta 0:00:03\n",
      "   --- ------------------------------------ 0.2/2.2 MB 1.0 MB/s eta 0:00:02\n",
      "   ---- ----------------------------------- 0.2/2.2 MB 1.1 MB/s eta 0:00:02\n",
      "   ---- ----------------------------------- 0.3/2.2 MB 1.0 MB/s eta 0:00:02\n",
      "   ----- ---------------------------------- 0.3/2.2 MB 1.1 MB/s eta 0:00:02\n",
      "   ------- -------------------------------- 0.4/2.2 MB 1.1 MB/s eta 0:00:02\n",
      "   -------- ------------------------------- 0.4/2.2 MB 1.1 MB/s eta 0:00:02\n",
      "   --------- ------------------------------ 0.5/2.2 MB 1.2 MB/s eta 0:00:02\n",
      "   ---------- ----------------------------- 0.6/2.2 MB 1.2 MB/s eta 0:00:02\n",
      "   ----------- ---------------------------- 0.6/2.2 MB 1.2 MB/s eta 0:00:02\n",
      "   ------------ --------------------------- 0.7/2.2 MB 1.2 MB/s eta 0:00:02\n",
      "   ------------- -------------------------- 0.8/2.2 MB 1.2 MB/s eta 0:00:02\n",
      "   --------------- ------------------------ 0.8/2.2 MB 1.2 MB/s eta 0:00:02\n",
      "   ---------------- ----------------------- 0.9/2.2 MB 1.3 MB/s eta 0:00:01\n",
      "   ----------------- ---------------------- 1.0/2.2 MB 1.3 MB/s eta 0:00:01\n",
      "   ------------------- -------------------- 1.0/2.2 MB 1.3 MB/s eta 0:00:01\n",
      "   -------------------- ------------------- 1.1/2.2 MB 1.3 MB/s eta 0:00:01\n",
      "   --------------------- ------------------ 1.2/2.2 MB 1.4 MB/s eta 0:00:01\n",
      "   ----------------------- ---------------- 1.3/2.2 MB 1.4 MB/s eta 0:00:01\n",
      "   ------------------------ --------------- 1.4/2.2 MB 1.4 MB/s eta 0:00:01\n",
      "   ------------------------- -------------- 1.4/2.2 MB 1.4 MB/s eta 0:00:01\n",
      "   -------------------------- ------------- 1.5/2.2 MB 1.4 MB/s eta 0:00:01\n",
      "   --------------------------- ------------ 1.5/2.2 MB 1.4 MB/s eta 0:00:01\n",
      "   ----------------------------- ---------- 1.6/2.2 MB 1.4 MB/s eta 0:00:01\n",
      "   ------------------------------ --------- 1.6/2.2 MB 1.4 MB/s eta 0:00:01\n",
      "   ------------------------------ --------- 1.7/2.2 MB 1.4 MB/s eta 0:00:01\n",
      "   ------------------------------- -------- 1.7/2.2 MB 1.4 MB/s eta 0:00:01\n",
      "   -------------------------------- ------- 1.8/2.2 MB 1.4 MB/s eta 0:00:01\n",
      "   --------------------------------- ------ 1.8/2.2 MB 1.4 MB/s eta 0:00:01\n",
      "   ---------------------------------- ----- 1.9/2.2 MB 1.4 MB/s eta 0:00:01\n",
      "   ----------------------------------- ---- 1.9/2.2 MB 1.3 MB/s eta 0:00:01\n",
      "   ------------------------------------- -- 2.0/2.2 MB 1.3 MB/s eta 0:00:01\n",
      "   ------------------------------------- -- 2.1/2.2 MB 1.3 MB/s eta 0:00:01\n",
      "   ---------------------------------------  2.1/2.2 MB 1.3 MB/s eta 0:00:01\n",
      "   ---------------------------------------- 2.2/2.2 MB 1.3 MB/s eta 0:00:00\n",
      "Installing collected packages: regex, tokenizers, transformers\n",
      "Successfully installed regex-2023.12.25 tokenizers-0.15.2 transformers-4.39.3\n"
     ]
    }
   ],
   "source": [
    "!pip install transformers"
   ]
  },
  {
   "cell_type": "code",
   "execution_count": 4,
   "metadata": {},
   "outputs": [
    {
     "data": {
      "text/plain": [
       "85474570"
      ]
     },
     "execution_count": 4,
     "metadata": {},
     "output_type": "execute_result"
    }
   ],
   "source": [
    "from transformers import ViTForImageClassification, ViTConfig\n",
    "\n",
    "\n",
    "model = ViTForImageClassification(ViTConfig(\n",
    "    patch_size=6,\n",
    "    num_labels=10,\n",
    "    image_size=64,\n",
    "    num_channels=12\n",
    ")).to(\"cuda\")\n",
    "\n",
    "# Number of trainable parameters\n",
    "sum(p.numel() for p in model.parameters() if p.requires_grad)"
   ]
  },
  {
   "cell_type": "markdown",
   "metadata": {},
   "source": [
    "Load previous Model"
   ]
  },
  {
   "cell_type": "code",
   "execution_count": null,
   "metadata": {},
   "outputs": [],
   "source": [
    "# model = model.load_state_dict(torch.load(\"04162024-143828.pt\"))"
   ]
  },
  {
   "cell_type": "markdown",
   "metadata": {},
   "source": [
    "# Train"
   ]
  },
  {
   "cell_type": "code",
   "execution_count": null,
   "metadata": {},
   "outputs": [],
   "source": [
    "# https://lightning.ai/docs/pytorch/stable/notebooks/lightning_examples/cifar10-baseline.html\n",
    "class LitViT(L.LightningModule):\n",
    "    def __init__(self, model):\n",
    "        super().__init__()\n",
    "\n",
    "        self.save_hyperparameters()\n",
    "        self.model = model\n",
    "\n",
    "    def forward(self, x):\n",
    "        return self.model(x)\n",
    "    \n",
    "    def training_step(self, batch, batch_idx):\n",
    "        x, y = batch\n",
    "        logits = self(x)\n",
    "        loss = F.nll_loss(logits, y)\n",
    "        self.log(\"train_loss\", loss)\n",
    "        return loss\n",
    "    \n",
    "    # def evaluate(self, batch, stage=None):\n",
    "    #     x, y = batch\n",
    "    #     logits = self(x)\n",
    "    #     loss = F.nll_loss(logits, y)\n",
    "    #     preds = torch.argmax(logits, dim=1)\n",
    "    #     acc = accuracy(preds, y)\n",
    "\n",
    "    #     if stage:\n",
    "    #         self.log(f\"{stage}_loss\", loss, prog_bar=True)\n",
    "    #         self.log(f\"{stage}_acc\", acc, prog_bar=True)\n",
    "\n",
    "    # def validation_step(self, batch, batch_idx):\n",
    "    #     self.evaluate(batch, \"val\")\n",
    "\n",
    "    # def test_step(self, batch, batch_idx):\n",
    "    #     self.evaluate(batch, \"test\")\n",
    "\n",
    "    # def configure_optimizers(self):\n",
    "    #     optimizer = torch.optim.SGD(\n",
    "    #         self.parameters(),\n",
    "    #         lr=self.hparams.lr,\n",
    "    #         momentum=0.9,\n",
    "    #         weight_decay=5e-4,\n",
    "    #     )\n",
    "    #     steps_per_epoch = 45000 // BATCH_SIZE\n",
    "    #     scheduler_dict = {\n",
    "    #         \"scheduler\": OneCycleLR(\n",
    "    #             optimizer,\n",
    "    #             0.1,\n",
    "    #             epochs=self.trainer.max_epochs,\n",
    "    #             steps_per_epoch=steps_per_epoch,\n",
    "    #         ),\n",
    "    #         \"interval\": \"step\",\n",
    "    #     }\n",
    "    #     return {\"optimizer\": optimizer, \"lr_scheduler\": scheduler_dict}\n",
    "\n",
    "\n",
    "    #     def training_step(self, batch, batch_idx):\n",
    "    #     # training_step defines the train loop.\n",
    "    #     # it is independent of forward\n",
    "    #     x, y = batch\n",
    "    #     x = x.view(x.size(0), -1)\n",
    "    #     z = self.encoder(x)\n",
    "    #     x_hat = self.decoder(z)\n",
    "    #     loss = nn.functional.mse_loss(x_hat, x)\n",
    "    #     # Logging to TensorBoard (if installed) by default\n",
    "    #     self.log(\"train_loss\", loss)\n",
    "    #     return loss\n",
    "\n",
    "    # def configure_optimizers(self):\n",
    "    #     optimizer = optim.Adam(self.parameters(), lr=1e-3)\n",
    "    #     return optimizer"
   ]
  },
  {
   "cell_type": "code",
   "execution_count": null,
   "metadata": {},
   "outputs": [],
   "source": [
    "from datetime import datetime\n",
    "\n",
    "execution_start = datetime.now().strftime(\"%m%d%Y-%H%M%S\")"
   ]
  },
  {
   "cell_type": "code",
   "execution_count": 15,
   "metadata": {
    "colab": {
     "base_uri": "https://localhost:8080/"
    },
    "id": "GQ-b3jIKRYjB",
    "outputId": "9ac09c3e-135a-4fbb-b2d9-4a31004a4413"
   },
   "outputs": [
    {
     "name": "stderr",
     "output_type": "stream",
     "text": [
      " 0.000:   0%|                                                                                                                                                                                                                                                         | 0/422 [00:00<?, ?it/s]"
     ]
    },
    {
     "name": "stderr",
     "output_type": "stream",
     "text": [
      " 1.244: 100%|███████████████████████████████████████████████████████████████████████████████████████████████████████████████████████████████████████████████████████████████████████████████████████████████████████████████████████████████████████████████| 422/422 [02:13<00:00,  3.17it/s]\n"
     ]
    },
    {
     "name": "stdout",
     "output_type": "stream",
     "text": [
      "Epoch 0 completed. Mean loss: 1.1906276663296294\n"
     ]
    },
    {
     "name": "stderr",
     "output_type": "stream",
     "text": [
      " 0.953: 100%|███████████████████████████████████████████████████████████████████████████████████████████████████████████████████████████████████████████████████████████████████████████████████████████████████████████████████████████████████████████████| 422/422 [02:09<00:00,  3.26it/s]\n"
     ]
    },
    {
     "name": "stdout",
     "output_type": "stream",
     "text": [
      "Epoch 1 completed. Mean loss: 1.0155915686416497\n"
     ]
    },
    {
     "name": "stderr",
     "output_type": "stream",
     "text": [
      " 0.808: 100%|███████████████████████████████████████████████████████████████████████████████████████████████████████████████████████████████████████████████████████████████████████████████████████████████████████████████████████████████████████████████| 422/422 [02:09<00:00,  3.25it/s]\n"
     ]
    },
    {
     "name": "stdout",
     "output_type": "stream",
     "text": [
      "Epoch 2 completed. Mean loss: 1.0335247000487664\n"
     ]
    },
    {
     "name": "stderr",
     "output_type": "stream",
     "text": [
      " 1.514: 100%|███████████████████████████████████████████████████████████████████████████████████████████████████████████████████████████████████████████████████████████████████████████████████████████████████████████████████████████████████████████████| 422/422 [02:06<00:00,  3.32it/s]\n"
     ]
    },
    {
     "name": "stdout",
     "output_type": "stream",
     "text": [
      "Epoch 3 completed. Mean loss: 1.060868189730728\n"
     ]
    },
    {
     "name": "stderr",
     "output_type": "stream",
     "text": [
      " 0.965: 100%|███████████████████████████████████████████████████████████████████████████████████████████████████████████████████████████████████████████████████████████████████████████████████████████████████████████████████████████████████████████████| 422/422 [02:08<00:00,  3.28it/s]\n"
     ]
    },
    {
     "name": "stdout",
     "output_type": "stream",
     "text": [
      "Epoch 4 completed. Mean loss: 1.1079406670320966\n"
     ]
    },
    {
     "name": "stderr",
     "output_type": "stream",
     "text": [
      " 0.952: 100%|███████████████████████████████████████████████████████████████████████████████████████████████████████████████████████████████████████████████████████████████████████████████████████████████████████████████████████████████████████████████| 422/422 [02:09<00:00,  3.26it/s]\n"
     ]
    },
    {
     "name": "stdout",
     "output_type": "stream",
     "text": [
      "Epoch 5 completed. Mean loss: 0.9323215078911319\n"
     ]
    },
    {
     "name": "stderr",
     "output_type": "stream",
     "text": [
      " 1.143: 100%|███████████████████████████████████████████████████████████████████████████████████████████████████████████████████████████████████████████████████████████████████████████████████████████████████████████████████████████████████████████████| 422/422 [02:09<00:00,  3.26it/s]\n"
     ]
    },
    {
     "name": "stdout",
     "output_type": "stream",
     "text": [
      "Epoch 6 completed. Mean loss: 0.968075693963032\n"
     ]
    },
    {
     "name": "stderr",
     "output_type": "stream",
     "text": [
      " 0.800: 100%|███████████████████████████████████████████████████████████████████████████████████████████████████████████████████████████████████████████████████████████████████████████████████████████████████████████████████████████████████████████████| 422/422 [02:10<00:00,  3.23it/s]\n"
     ]
    },
    {
     "name": "stdout",
     "output_type": "stream",
     "text": [
      "Epoch 7 completed. Mean loss: 0.9646669674938635\n"
     ]
    },
    {
     "name": "stderr",
     "output_type": "stream",
     "text": [
      " 0.822: 100%|███████████████████████████████████████████████████████████████████████████████████████████████████████████████████████████████████████████████████████████████████████████████████████████████████████████████████████████████████████████████| 422/422 [02:09<00:00,  3.25it/s]\n"
     ]
    },
    {
     "name": "stdout",
     "output_type": "stream",
     "text": [
      "Epoch 8 completed. Mean loss: 0.9732726761129756\n"
     ]
    },
    {
     "name": "stderr",
     "output_type": "stream",
     "text": [
      " 0.984: 100%|███████████████████████████████████████████████████████████████████████████████████████████████████████████████████████████████████████████████████████████████████████████████████████████████████████████████████████████████████████████████| 422/422 [02:10<00:00,  3.23it/s]\n"
     ]
    },
    {
     "name": "stdout",
     "output_type": "stream",
     "text": [
      "Epoch 9 completed. Mean loss: 1.0129237420048989\n"
     ]
    },
    {
     "name": "stderr",
     "output_type": "stream",
     "text": [
      " 0.897: 100%|███████████████████████████████████████████████████████████████████████████████████████████████████████████████████████████████████████████████████████████████████████████████████████████████████████████████████████████████████████████████| 422/422 [02:11<00:00,  3.21it/s]\n"
     ]
    },
    {
     "name": "stdout",
     "output_type": "stream",
     "text": [
      "Epoch 10 completed. Mean loss: 0.9551650527578549\n"
     ]
    },
    {
     "name": "stderr",
     "output_type": "stream",
     "text": [
      " 1.027: 100%|███████████████████████████████████████████████████████████████████████████████████████████████████████████████████████████████████████████████████████████████████████████████████████████████████████████████████████████████████████████████| 422/422 [02:13<00:00,  3.16it/s]\n"
     ]
    },
    {
     "name": "stdout",
     "output_type": "stream",
     "text": [
      "Epoch 11 completed. Mean loss: 0.9534264262711036\n"
     ]
    },
    {
     "name": "stderr",
     "output_type": "stream",
     "text": [
      " 0.844: 100%|███████████████████████████████████████████████████████████████████████████████████████████████████████████████████████████████████████████████████████████████████████████████████████████████████████████████████████████████████████████████| 422/422 [02:12<00:00,  3.18it/s]\n"
     ]
    },
    {
     "name": "stdout",
     "output_type": "stream",
     "text": [
      "Epoch 12 completed. Mean loss: 0.9227740739907687\n"
     ]
    },
    {
     "name": "stderr",
     "output_type": "stream",
     "text": [
      " 0.982: 100%|███████████████████████████████████████████████████████████████████████████████████████████████████████████████████████████████████████████████████████████████████████████████████████████████████████████████████████████████████████████████| 422/422 [02:09<00:00,  3.26it/s]\n"
     ]
    },
    {
     "name": "stdout",
     "output_type": "stream",
     "text": [
      "Epoch 13 completed. Mean loss: 0.9451743291982894\n"
     ]
    },
    {
     "name": "stderr",
     "output_type": "stream",
     "text": [
      " 0.896: 100%|███████████████████████████████████████████████████████████████████████████████████████████████████████████████████████████████████████████████████████████████████████████████████████████████████████████████████████████████████████████████| 422/422 [02:10<00:00,  3.24it/s]\n"
     ]
    },
    {
     "name": "stdout",
     "output_type": "stream",
     "text": [
      "Epoch 14 completed. Mean loss: 0.8280579302949546\n"
     ]
    },
    {
     "name": "stderr",
     "output_type": "stream",
     "text": [
      " 0.954: 100%|███████████████████████████████████████████████████████████████████████████████████████████████████████████████████████████████████████████████████████████████████████████████████████████████████████████████████████████████████████████████| 422/422 [02:09<00:00,  3.26it/s]\n"
     ]
    },
    {
     "name": "stdout",
     "output_type": "stream",
     "text": [
      "Epoch 15 completed. Mean loss: 0.8761097559961875\n"
     ]
    },
    {
     "name": "stderr",
     "output_type": "stream",
     "text": [
      " 1.238: 100%|███████████████████████████████████████████████████████████████████████████████████████████████████████████████████████████████████████████████████████████████████████████████████████████████████████████████████████████████████████████████| 422/422 [02:13<00:00,  3.16it/s]\n"
     ]
    },
    {
     "name": "stdout",
     "output_type": "stream",
     "text": [
      "Epoch 16 completed. Mean loss: 0.9218836981992563\n"
     ]
    },
    {
     "name": "stderr",
     "output_type": "stream",
     "text": [
      " 0.931: 100%|███████████████████████████████████████████████████████████████████████████████████████████████████████████████████████████████████████████████████████████████████████████████████████████████████████████████████████████████████████████████| 422/422 [02:08<00:00,  3.29it/s]\n"
     ]
    },
    {
     "name": "stdout",
     "output_type": "stream",
     "text": [
      "Epoch 17 completed. Mean loss: 1.0085261428406047\n"
     ]
    }
   ],
   "source": [
    "from torch import nn\n",
    "train_losses = []\n",
    "train_epoch_losses = []\n",
    "\n",
    "\n",
    "model.train()\n",
    "\n",
    "num_epochs = 18\n",
    "mini_batch_size = 64\n",
    "\n",
    "cross_entropy = nn.CrossEntropyLoss()\n",
    "\n",
    "from torch import optim\n",
    "learning_rate = 0.002\n",
    "optimizer = optim.Adam(params=model.parameters(), lr=learning_rate)\n",
    "\n",
    "device = torch.device(\"cuda\" if torch.cuda.is_available() else \"cpu\")\n",
    "\n",
    "\n",
    "for epoch in range(num_epochs):\n",
    "    train_mini_batch_losses = []\n",
    "    moving_avg_loss = 0.0\n",
    "    \n",
    "    for x, y_dict in (pbar := tqdm(train_dataloader)):\n",
    "\n",
    "        pbar.set_description(f\"{moving_avg_loss: .3f}\")\n",
    "        x = x.float().to(device)\n",
    "        y = y_dict['ID'].to(device)\n",
    "\n",
    "\n",
    "        outputs = model(x)\n",
    "\n",
    "        loss = cross_entropy(outputs.logits, y)\n",
    "\n",
    "        optimizer.zero_grad()\n",
    "        loss.backward()\n",
    "        optimizer.step()\n",
    "\n",
    "        # Store and log mini-batch losses\n",
    "        train_mini_batch_losses.append(loss.item())\n",
    "        train_losses.append(loss.item())\n",
    "        moving_avg_loss = np.mean(train_losses[-5:])\n",
    "        # print(f\"Epoch {epoch}, Batch loss: {loss.item()}\")\n",
    "    else:\n",
    "        epoch_loss = np.mean(train_mini_batch_losses)\n",
    "        pbar.set_description(f\"{epoch_loss: .3f}\")\n",
    "\n",
    "    # Average loss for the epoch\n",
    "    \n",
    "    train_epoch_losses.append(epoch_loss)\n",
    "    \n",
    "    if epoch_loss < .75:\n",
    "        break\n",
    "\n",
    "\n",
    "# Save final model\n",
    "\n",
    "\n",
    "\n",
    "torch.save(model.state_dict(), f\"{execution_start}.pt\")"
   ]
  },
  {
   "cell_type": "code",
   "execution_count": null,
   "metadata": {
    "id": "JQKFot0J11y8"
   },
   "outputs": [
    {
     "data": {
      "text/plain": [
       "[None]"
      ]
     },
     "execution_count": 29,
     "metadata": {},
     "output_type": "execute_result"
    },
    {
     "data": {
      "image/png": "[encoded data removed]",
      "text/plain": [
       "<Figure size 640x480 with 1 Axes>"
      ]
     },
     "metadata": {},
     "output_type": "display_data"
    }
   ],
   "source": [
    "import seaborn as sns\n",
    "\n",
    "\n",
    "p = sns.lineplot(train_losses)\n",
    "p.set(yscale='log')"
   ]
  },
  {
   "cell_type": "markdown",
   "metadata": {
    "id": "iQP8Ikcp11y-"
   },
   "source": [
    "# Validation"
   ]
  },
  {
   "cell_type": "code",
   "execution_count": null,
   "metadata": {
    "ExecuteTime": {
     "start_time": "2024-03-26T13:48:46.075667Z"
    },
    "id": "_j_RZDqEUqzb"
   },
   "outputs": [],
   "source": [
    "# set model in evaluation mode\n",
    "model.eval()\n",
    "\n",
    "\n",
    "validate = []\n",
    "for i, (imgs, labels) in enumerate(val_dataloader):\n",
    "    preds = model(imgs.to(\"cuda\")).logits\n",
    "    pred_labels = [oh2text(oh.detach().cpu()) for oh in preds]\n",
    "    validate += list(zip(labels, preds))\n",
    "\n",
    "\n",
    "# TODO: Test Metrics"
   ]
  },
  {
   "cell_type": "markdown",
   "metadata": {
    "id": "qtxx5AGS11zA"
   },
   "source": [
    "# Test"
   ]
  },
  {
   "cell_type": "markdown",
   "metadata": {
    "id": "xl74eq_cRWOE"
   },
   "source": [
    "evaluation loop"
   ]
  },
  {
   "cell_type": "code",
   "execution_count": null,
   "metadata": {
    "id": "7Q-IfruEb-f7"
   },
   "outputs": [],
   "source": [
    "model.eval()\n",
    "\n",
    "classArray = []\n",
    "\n",
    "for i, (imgs, paths) in enumerate(test_dataloader):\n",
    "\n",
    "    img_ids = [get_id(path) for path in paths]\n",
    "    preds = model(imgs.to(\"cuda\"))\n",
    "    preds = list(preds.logits.detach())\n",
    "    preds = [oh2text(pred.detach().cpu()) for pred in preds]\n",
    "    classArray += list(zip(img_ids, preds))\n"
   ]
  },
  {
   "cell_type": "markdown",
   "metadata": {
    "id": "7ObxBMEJM6gs"
   },
   "source": [
    "## Submission\n",
    "\n",
    "\n",
    "\n"
   ]
  },
  {
   "cell_type": "code",
   "execution_count": null,
   "metadata": {
    "id": "lTl0h6xMMl4D"
   },
   "outputs": [],
   "source": [
    "import csv\n",
    "\n",
    "with open(f'{execution_start}.csv', 'w', newline='') as csvfile:\n",
    "    writer = csv.writer(csvfile)\n",
    "    writer.writerow(['test_id', 'label'])\n",
    "\n",
    "    # Write each string to a row with its corresponding index as the test_id\n",
    "    for i, label in classArray:\n",
    "        writer.writerow([i, label])"
   ]
  }
 ],
 "metadata": {
  "accelerator": "GPU",
  "colab": {
   "gpuType": "T4",
   "provenance": []
  },
  "kernelspec": {
   "display_name": "Python 3 (ipykernel)",
   "language": "python",
   "name": "python3"
  }
 },
 "nbformat": 4,
 "nbformat_minor": 0
}
