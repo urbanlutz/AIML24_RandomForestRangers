{
 "cells": [
  {
   "cell_type": "code",
   "execution_count": 1,
   "id": "be265cde-057f-4b24-8ca2-db9092310919",
   "metadata": {},
   "outputs": [],
   "source": [
    "import pickle\n",
    "\n",
    "with open(\"model_output.pkl\", \"rb\") as f:\n",
    "    preds = pickle.load(f)"
   ]
  },
  {
   "cell_type": "code",
   "execution_count": 10,
   "id": "cbdb6194-5b28-45fd-94a3-9fe66898c566",
   "metadata": {},
   "outputs": [
    {
     "name": "stdout",
     "output_type": "stream",
     "text": [
      "./drive/MyDrive/AIML24/remote_sensing/otherDatasets/sentinel_2/tif\n",
      "Dataset ImageFolder\n",
      "    Number of datapoints: 27000\n",
      "    Root location: ./drive/MyDrive/AIML24/remote_sensing/otherDatasets/sentinel_2/tif\n",
      "    StandardTransform\n",
      "Transform: Compose(\n",
      "                 <function l2a_approx at 0x7f9019a72840>\n",
      "                 <function bandselect at 0x7f9019a72d40>\n",
      "                 ToImage()\n",
      "                 Resize(size=[224, 224], interpolation=2, antialias=True)\n",
      "                 ToDtype(scale=True)\n",
      "                 Normalize(mean=[0.5, 0.5, 0.5], std=[0.5, 0.5, 0.5], inplace=False)\n",
      "           )\n",
      "Total number of samples:  27000\n",
      "Training samples: 18900\n",
      "Validation samples: 2700\n",
      "Test samples: 5400\n"
     ]
    }
   ],
   "source": [
    "# import os\n",
    "# os.chdir(\"pretrained-vision-transformer\")\n",
    "\n",
    "import sys\n",
    "import torch\n",
    "import yaml\n",
    "import lightning as L\n",
    "import numpy as np\n",
    "sys.path.append('./pretrained/src/')\n",
    "from eurosat_module import EuroSAT_RGB_DataModule, SentinelTest\n",
    "from vision_transformer import VisionTransformerPretrained\n",
    "from lightning.pytorch.callbacks.early_stopping import EarlyStopping\n",
    "from lightning.pytorch.loggers import TensorBoardLogger\n",
    "\n",
    "with open('./pretrained/configs/default.yaml', encoding=\"utf-8\") as cf_file:\n",
    "    config = yaml.safe_load(cf_file.read())\n",
    "    \n",
    "    \n",
    "def get_id(img_path):\n",
    "    return img_path.split(\"/\")[-1].split(\"_\")[-1].split(\".\")[0]\n",
    "\n",
    "\n",
    "datamodule = EuroSAT_RGB_DataModule(config[\"data_root\"], config['batch_size'], config['valid_size'])\n",
    "datamodule.prepare_data()\n",
    "datamodule.setup()\n",
    "\n",
    "labels2ids = datamodule.train_data.dataset.class_to_idx\n",
    "ids2labels = {v: k for k, v in ids2labels.items()}\n",
    "\n",
    "\n",
    "def oh2text(one_hot):\n",
    "    idx = torch.argmax(one_hot).item()\n",
    "    return ids2labels[idx]\n",
    "\n",
    "\n",
    "# classArray = []\n",
    "\n",
    "# for i, (imgs, paths) in enumerate(test_dataloader):\n",
    "\n",
    "#     img_ids = [get_id(path) for path in paths]\n",
    "#     preds = model(imgs.to(\"cuda\"))\n",
    "#     preds = list(preds.logits.detach())\n",
    "#     preds = [oh2text(pred.detach().cpu()) for pred in preds]\n",
    "#     classArray += list(zip(img_ids, preds))\n",
    "\n",
    "# import csv\n",
    "\n",
    "# with open(f'{execution_start}.csv', 'w', newline='') as csvfile:\n",
    "#     writer = csv.writer(csvfile)\n",
    "#     writer.writerow(['test_id', 'label'])\n",
    "\n",
    "#     # Write each string to a row with its corresponding index as the test_id\n",
    "#     for i, label in classArray:\n",
    "#         writer.writerow([i, label])"
   ]
  },
  {
   "cell_type": "code",
   "execution_count": 11,
   "id": "3d0cd4a6",
   "metadata": {},
   "outputs": [
    {
     "data": {
      "text/plain": [
       "{0: 'AnnualCrop',\n",
       " 1: 'Forest',\n",
       " 2: 'HerbaceousVegetation',\n",
       " 3: 'Highway',\n",
       " 4: 'Industrial',\n",
       " 5: 'Pasture',\n",
       " 6: 'PermanentCrop',\n",
       " 7: 'Residential',\n",
       " 8: 'River',\n",
       " 9: 'SeaLake'}"
      ]
     },
     "execution_count": 11,
     "metadata": {},
     "output_type": "execute_result"
    }
   ],
   "source": [
    "ids2labels"
   ]
  },
  {
   "cell_type": "code",
   "execution_count": 12,
   "id": "2b3a3f8b-097f-469f-b07b-228f6721910b",
   "metadata": {},
   "outputs": [],
   "source": [
    "import sys\n",
    "\n",
    "sys.path.append(\"pretrained/src/\")\n",
    "from eurosat_module import SentinelTest\n",
    "\n",
    "ds = SentinelTest(\"./drive/MyDrive/AIML24/testset/testset/testset\", 2)\n",
    "ids = [get_id(path) for path in ds.img_paths]"
   ]
  },
  {
   "cell_type": "code",
   "execution_count": 13,
   "id": "54c4a592-78c5-48a4-9c6f-7e831759647e",
   "metadata": {},
   "outputs": [],
   "source": [
    "class_array = []\n",
    "for pred in preds:\n",
    "    class_array = [*class_array, *[oh2text(pred.loss['logits'][i]) for i in range(pred.loss['logits'].shape[0])]]\n",
    "\n",
    "class_array = list(zip(ids, class_array))"
   ]
  },
  {
   "cell_type": "code",
   "execution_count": 14,
   "id": "e0e4f338-6e84-460d-bcab-a4ea86385999",
   "metadata": {},
   "outputs": [],
   "source": [
    "\n",
    "\n",
    "from datetime import datetime\n",
    "execution_start = datetime.now().strftime(\"%m%d%Y-%H%M%S\")\n",
    "import csv\n",
    "with open(f'{execution_start}.csv', 'w', newline='') as csvfile:\n",
    "    writer = csv.writer(csvfile)\n",
    "    writer.writerow(['test_id', 'label'])\n",
    "\n",
    "    # Write each string to a row with its corresponding index as the test_id\n",
    "    for i, label in class_array:\n",
    "        writer.writerow([i, label])\n"
   ]
  },
  {
   "cell_type": "code",
   "execution_count": null,
   "id": "e778f081-aac7-4757-8a15-40f94936e8a9",
   "metadata": {},
   "outputs": [
    {
     "data": {
      "text/plain": [
       "[]"
      ]
     },
     "execution_count": 55,
     "metadata": {},
     "output_type": "execute_result"
    }
   ],
   "source": [
    "[\"a\", \"b\", \"c\"][2:1]"
   ]
  }
 ],
 "metadata": {
  "kernelspec": {
   "display_name": "Python 3 (ipykernel)",
   "language": "python",
   "name": "python3"
  },
  "language_info": {
   "codemirror_mode": {
    "name": "ipython",
    "version": 3
   },
   "file_extension": ".py",
   "mimetype": "text/x-python",
   "name": "python",
   "nbconvert_exporter": "python",
   "pygments_lexer": "ipython3",
   "version": "3.12.3"
  }
 },
 "nbformat": 4,
 "nbformat_minor": 5
}
