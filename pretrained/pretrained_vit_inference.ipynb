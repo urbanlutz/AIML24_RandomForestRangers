{
 "cells": [
  {
   "cell_type": "code",
   "execution_count": 4,
   "id": "be265cde-057f-4b24-8ca2-db9092310919",
   "metadata": {},
   "outputs": [
    {
     "name": "stderr",
     "output_type": "stream",
     "text": [
      "2024-05-06 21:01:46.157295: I tensorflow/core/platform/cpu_feature_guard.cc:210] This TensorFlow binary is optimized to use available CPU instructions in performance-critical operations.\n",
      "To enable the following instructions: AVX2 AVX512F FMA, in other operations, rebuild TensorFlow with the appropriate compiler flags.\n"
     ]
    }
   ],
   "source": [
    "import pickle\n",
    "\n",
    "with open(\"model_output.pkl\", \"rb\") as f:\n",
    "    preds = pickle.load(f)"
   ]
  },
  {
   "cell_type": "code",
   "execution_count": 20,
   "id": "cbdb6194-5b28-45fd-94a3-9fe66898c566",
   "metadata": {},
   "outputs": [],
   "source": [
    "def get_id(img_path):\n",
    "    return img_path.split(\"/\")[-1].split(\"_\")[-1].split(\".\")[0]\n",
    "    \n",
    "ids2labels = {0: 'AnnualCrop',\n",
    " 1: 'Forest',\n",
    " 2: 'HerbaceousVegetation',\n",
    " 3: 'Highway',\n",
    " 4: 'Industrial',\n",
    " 5: 'Pasture',\n",
    " 6: 'PermanentCrop',\n",
    " 7: 'Residential',\n",
    " 8: 'River',\n",
    " 9: 'SeaLake'}\n",
    "\n",
    "labels2ids = {v: k for k, v in ids2labels.items()}\n",
    "\n",
    "def text2oh(label):\n",
    "    one_hot = np.zeros(10)\n",
    "    one_hot.put(labels2ids[label], 1)\n",
    "    return one_hot\n",
    "\n",
    "def oh2text(one_hot):\n",
    "    try:\n",
    "        one_hot = one_hot.numpy()\n",
    "    except:\n",
    "        pass\n",
    "    idx = np.argmax(one_hot)\n",
    "    return ids2labels[idx]\n",
    "\n",
    "\n",
    "# classArray = []\n",
    "\n",
    "# for i, (imgs, paths) in enumerate(test_dataloader):\n",
    "\n",
    "#     img_ids = [get_id(path) for path in paths]\n",
    "#     preds = model(imgs.to(\"cuda\"))\n",
    "#     preds = list(preds.logits.detach())\n",
    "#     preds = [oh2text(pred.detach().cpu()) for pred in preds]\n",
    "#     classArray += list(zip(img_ids, preds))\n",
    "\n",
    "# import csv\n",
    "\n",
    "# with open(f'{execution_start}.csv', 'w', newline='') as csvfile:\n",
    "#     writer = csv.writer(csvfile)\n",
    "#     writer.writerow(['test_id', 'label'])\n",
    "\n",
    "#     # Write each string to a row with its corresponding index as the test_id\n",
    "#     for i, label in classArray:\n",
    "#         writer.writerow([i, label])"
   ]
  },
  {
   "cell_type": "code",
   "execution_count": 23,
   "id": "2b3a3f8b-097f-469f-b07b-228f6721910b",
   "metadata": {},
   "outputs": [],
   "source": [
    "import sys\n",
    "\n",
    "sys.path.append(\"pretrained/src/\")\n",
    "from eurosat_module import SentinelTest\n",
    "\n",
    "ds = SentinelTest(\"./drive/MyDrive/AIML24/testset/testset/testset\", 2)\n",
    "ids = [get_id(path) for path in ds.img_paths]"
   ]
  },
  {
   "cell_type": "code",
   "execution_count": 44,
   "id": "54c4a592-78c5-48a4-9c6f-7e831759647e",
   "metadata": {},
   "outputs": [],
   "source": [
    "class_array = []\n",
    "for pred in preds:\n",
    "    class_array = [*class_array, *[oh2text(pred.loss['logits'][i]) for i in range(pred.loss['logits'].shape[0])]]\n",
    "\n",
    "class_array = list(zip(ids, class_array))"
   ]
  },
  {
   "cell_type": "code",
   "execution_count": 46,
   "id": "e0e4f338-6e84-460d-bcab-a4ea86385999",
   "metadata": {},
   "outputs": [],
   "source": [
    "\n",
    "\n",
    "from datetime import datetime\n",
    "execution_start = datetime.now().strftime(\"%m%d%Y-%H%M%S\")\n",
    "import csv\n",
    "with open(f'{execution_start}.csv', 'w', newline='') as csvfile:\n",
    "    writer = csv.writer(csvfile)\n",
    "    writer.writerow(['test_id', 'label'])\n",
    "\n",
    "    # Write each string to a row with its corresponding index as the test_id\n",
    "    for i, label in class_array:\n",
    "        writer.writerow([i, label])\n"
   ]
  },
  {
   "cell_type": "code",
   "execution_count": 55,
   "id": "e778f081-aac7-4757-8a15-40f94936e8a9",
   "metadata": {},
   "outputs": [
    {
     "data": {
      "text/plain": [
       "[]"
      ]
     },
     "execution_count": 55,
     "metadata": {},
     "output_type": "execute_result"
    }
   ],
   "source": [
    "[\"a\", \"b\", \"c\"][2:1]"
   ]
  }
 ],
 "metadata": {
  "kernelspec": {
   "display_name": "Python 3 (ipykernel)",
   "language": "python",
   "name": "python3"
  },
  "language_info": {
   "codemirror_mode": {
    "name": "ipython",
    "version": 3
   },
   "file_extension": ".py",
   "mimetype": "text/x-python",
   "name": "python",
   "nbconvert_exporter": "python",
   "pygments_lexer": "ipython3",
   "version": "3.10.14"
  }
 },
 "nbformat": 4,
 "nbformat_minor": 5
}
