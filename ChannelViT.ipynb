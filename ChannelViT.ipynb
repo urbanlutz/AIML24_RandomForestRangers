{
 "cells": [
  {
   "cell_type": "markdown",
   "metadata": {
    "id": "H24hLkOfNP8Z"
   },
   "source": [
    "# ML Coding Challenge\n",
    "## Random Forest Rangers\n",
    "## Urban, Atilla, Jano"
   ]
  },
  {
   "cell_type": "markdown",
   "metadata": {},
   "source": [
    "ssh -N -T -L 30001:localhost:30001 urban@dgx-2-02.ics.unisg.ch"
   ]
  },
  {
   "cell_type": "markdown",
   "metadata": {
    "id": "yZtLM40ANoYV"
   },
   "source": [
    "## Setup"
   ]
  },
  {
   "cell_type": "code",
   "execution_count": 1,
   "metadata": {
    "ExecuteTime": {
     "end_time": "2024-04-06T12:13:08.930324Z",
     "start_time": "2024-04-06T12:13:08.328932Z"
    },
    "id": "uFUdT5EvNjh5"
   },
   "outputs": [],
   "source": [
    "import os\n",
    "\n",
    "\n",
    "import numpy as np\n",
    "import matplotlib.pyplot as plt\n",
    "%matplotlib inline"
   ]
  },
  {
   "cell_type": "markdown",
   "metadata": {
    "id": "8PSMPxqggzmV"
   },
   "source": [
    "# Load Training & Test Data"
   ]
  },
  {
   "cell_type": "code",
   "execution_count": 2,
   "metadata": {
    "ExecuteTime": {
     "end_time": "2024-04-06T12:13:08.973784Z",
     "start_time": "2024-04-06T12:13:08.944152Z"
    },
    "colab": {
     "base_uri": "https://localhost:8080/"
    },
    "id": "kE3L__QDgYvS",
    "outputId": "0972c115-aeec-409f-d273-271d4310aa7d"
   },
   "outputs": [],
   "source": [
    "# file locations\n",
    "DATA_PATH = \"drive/MyDrive/AIML24\"\n",
    "TRAINING_PATH = DATA_PATH + \"/remote_sensing/otherDatasets/sentinel_2/tif\"\n",
    "TEST_PATH = DATA_PATH + \"/remote_sensing/otherDatasets/sentinel_2/testset\"\n",
    "\n",
    "# mount g-drive\n",
    "try:\n",
    "    from google.colab import drive\n",
    "    drive.mount('/content/drive')\n",
    "\n",
    "    # copy files into runtime for performance\n",
    "    !cp \"drive/MyDrive/AIML24\" \"AIML24\"\n",
    "    DATA_PATH = \"AIML24\"\n",
    "except:\n",
    "    pass # probably local environment\n",
    "\n"
   ]
  },
  {
   "cell_type": "code",
   "execution_count": 3,
   "metadata": {
    "ExecuteTime": {
     "end_time": "2024-04-06T12:13:09.188452Z",
     "start_time": "2024-04-06T12:13:09.063099Z"
    },
    "id": "0SYpaK22lHsC"
   },
   "outputs": [],
   "source": [
    "# Download Training Data\n",
    "# !wget https://madm.dfki.de/files/sentinel/EuroSATallBands.zip --no-check-certificate\n",
    "# !unzip EuroSATallBands.zip\n",
    "# !mv ds/* \"drive/MyDrive/AIML24\"\n",
    "\n",
    "# ☝️Test data must be downloaded manually: put into AIML24/remote_sensing/otherDatasets/sentinel_2/testdata dir"
   ]
  },
  {
   "cell_type": "code",
   "execution_count": 4,
   "metadata": {
    "ExecuteTime": {
     "end_time": "2024-04-06T12:13:09.568045Z",
     "start_time": "2024-04-06T12:13:09.206680Z"
    },
    "colab": {
     "base_uri": "https://localhost:8080/"
    },
    "id": "EKZuqiBL7c3k",
    "outputId": "ae678dba-6edc-4c1c-9b78-e4990cda2484"
   },
   "outputs": [],
   "source": [
    "# !unzip \"drive/MyDrive/AIML24/remote_sensing/otherDatasets/sentinel_2/testset.zip\"\n",
    "# !mv testset/testset/* \"drive/MyDrive/AIML24/remote_sensing/otherDatasets/sentinel_2/testset\""
   ]
  },
  {
   "cell_type": "markdown",
   "metadata": {
    "id": "dq3pTziUr1MK"
   },
   "source": [
    "## Define PyTorch Dataset"
   ]
  },
  {
   "cell_type": "code",
   "execution_count": 5,
   "metadata": {
    "ExecuteTime": {
     "end_time": "2024-04-06T12:13:09.842592Z",
     "start_time": "2024-04-06T12:13:09.579735Z"
    },
    "colab": {
     "base_uri": "https://localhost:8080/"
    },
    "id": "un57p0ZwhlaK",
    "outputId": "d19036bb-eeb1-49da-8749-11623231f302"
   },
   "outputs": [
    {
     "data": {
      "text/plain": [
       "4232"
      ]
     },
     "execution_count": 5,
     "metadata": {},
     "output_type": "execute_result"
    }
   ],
   "source": [
    "import glob\n",
    "len(glob.glob(os.path.join(TEST_PATH,  f\"*.npy\")))"
   ]
  },
  {
   "cell_type": "code",
   "execution_count": 6,
   "metadata": {
    "ExecuteTime": {
     "end_time": "2024-04-06T12:13:18.777461Z",
     "start_time": "2024-04-06T12:13:09.848295Z"
    },
    "colab": {
     "base_uri": "https://localhost:8080/"
    },
    "id": "cAZ7aZePhbJo",
    "outputId": "0e5065b6-e6e0-425b-984b-3fbb829875d8"
   },
   "outputs": [
    {
     "name": "stdout",
     "output_type": "stream",
     "text": [
      "Requirement already satisfied: rasterio in /home/user/.venv/lib/python3.10/site-packages (1.3.9)\n",
      "Requirement already satisfied: affine in /home/user/.venv/lib/python3.10/site-packages (from rasterio) (2.4.0)\n",
      "Requirement already satisfied: attrs in /home/user/.venv/lib/python3.10/site-packages (from rasterio) (23.2.0)\n",
      "Requirement already satisfied: certifi in /home/user/.venv/lib/python3.10/site-packages (from rasterio) (2024.2.2)\n",
      "Requirement already satisfied: click>=4.0 in /home/user/.venv/lib/python3.10/site-packages (from rasterio) (8.1.7)\n",
      "Requirement already satisfied: cligj>=0.5 in /home/user/.venv/lib/python3.10/site-packages (from rasterio) (0.7.2)\n",
      "Requirement already satisfied: numpy in /home/user/.venv/lib/python3.10/site-packages (from rasterio) (1.26.4)\n",
      "Requirement already satisfied: snuggs>=1.4.1 in /home/user/.venv/lib/python3.10/site-packages (from rasterio) (1.4.7)\n",
      "Requirement already satisfied: click-plugins in /home/user/.venv/lib/python3.10/site-packages (from rasterio) (1.1.1)\n",
      "Requirement already satisfied: setuptools in /home/user/.venv/lib/python3.10/site-packages (from rasterio) (69.1.0)\n",
      "Requirement already satisfied: pyparsing>=2.1.6 in /home/user/.venv/lib/python3.10/site-packages (from snuggs>=1.4.1->rasterio) (3.1.1)\n",
      "\u001b[33mDEPRECATION: bert-score 0.3.11 has a non-standard dependency specifier transformers>=3.0.0numpy. pip 24.1 will enforce this behaviour change. A possible replacement is to upgrade to a newer version of bert-score or contact the author to suggest that they release a version with a conforming dependency specifiers. Discussion can be found at https://github.com/pypa/pip/issues/12063\u001b[0m\u001b[33m\n",
      "\u001b[0m"
     ]
    }
   ],
   "source": [
    "!pip install rasterio"
   ]
  },
  {
   "cell_type": "code",
   "execution_count": 31,
   "metadata": {
    "ExecuteTime": {
     "end_time": "2024-04-06T12:13:31.104826Z",
     "start_time": "2024-04-06T12:13:18.800903Z"
    },
    "id": "U6j3IRM6gghb"
   },
   "outputs": [],
   "source": [
    "import rasterio as rio\n",
    "import glob\n",
    "from torch.utils.data import Dataset\n",
    "from collections.abc import Callable\n",
    "import torch\n",
    "\n",
    "def load_img(img_path:str) -> np.ndarray:\n",
    "  if img_path.split('.')[-1] == \"tif\":\n",
    "    with rio.open(img_path, \"r\") as d:\n",
    "      img = d.read([1,2,3,4,5,6,7,8,9,10,11,12,13])\n",
    "      # Assuming bands 2, 3, 4 are the RGB channels (1-based indexing in rasterio)\n",
    "      # Adjust the indices as necessary based on your data\n",
    "      # img = d.read([2, 3, 4])\n",
    "      img = reshape_as_image(img)\n",
    "  else:\n",
    "    img = np.load(img_path)\n",
    "  return img\n",
    "\n",
    "\n",
    "ids2labels = {0: 'AnnualCrop',\n",
    " 1: 'Forest',\n",
    " 2: 'HerbaceousVegetation',\n",
    " 3: 'Highway',\n",
    " 4: 'Industrial',\n",
    " 5: 'Pasture',\n",
    " 6: 'PermanentCrop',\n",
    " 7: 'Residential',\n",
    " 8: 'River',\n",
    " 9: 'SeaLake'}\n",
    "\n",
    "labels2ids = {v: k for k, v in ids2labels.items()}\n",
    "\n",
    "def text2oh(label):\n",
    "    one_hot = np.zeros(10)\n",
    "    one_hot.put(labels2ids[label], 1)\n",
    "    return one_hot\n",
    "    \n",
    "def oh2text(one_hot):\n",
    "    try:\n",
    "        one_hot = one_hot.numpy()\n",
    "    except:\n",
    "        pass\n",
    "    idx = np.argmax(one_hot)\n",
    "    return ids2labels[idx]\n",
    "\n",
    "class SentinelTrain(Dataset):\n",
    "    def __init__(self, transformations=None):\n",
    "        self.img_paths = [path.replace('\\\\', '/') for path in glob.glob(os.path.join(TRAINING_PATH, \"*\", f\"*.tif\"))]\n",
    "\n",
    "        # labels = set([path.split('/')[-1].split('_')[0] for path in self.img_paths]) # get unique labels\n",
    "        # self.label2ids = {name: id for (id, name) in enumerate(sorted(labels))} # map an id to each label\n",
    "        # self.ids2label = {v:k for k, v in self.label2ids.items()} # reverse lookup dict\n",
    "        self.transformations = transformations\n",
    "        \n",
    "    def __len__(self):\n",
    "        return len(self.img_paths)\n",
    "    \n",
    "    def __getitem__(self, idx):\n",
    "        img_path = self.img_paths[idx]\n",
    "        image = load_img(img_path)\n",
    "        \n",
    "        if self.transformations:\n",
    "            image = self.transformations(image)\n",
    "        \n",
    "        label = img_path.split(\"/\")[-1].split(\"_\")[0]\n",
    "        one_hot = text2oh(label)\n",
    "        # return image, one_hot\n",
    "        channels = torch.tensor([c for c in range(12)])\n",
    "        return image, {\"ID\": one_hot, \"channels\": channels}\n",
    "    \n",
    "    \n",
    "    \n",
    "def get_id(img_path):\n",
    "    return img_path.split(\"/\")[-1].split(\"_\")[-1].split(\".\")[0]\n",
    "\n",
    "class SentinelTest(Dataset):\n",
    "    def __init__(self, transformations=None):\n",
    "        self.img_paths = [path.replace(\"\\\\\",\"/\") for path in glob.glob(os.path.join(TEST_PATH,  f\"*.npy\"))]\n",
    "        self.transformations = transformations\n",
    "    def __len__(self):\n",
    "        return len(self.img_paths)\n",
    "    \n",
    "    def __getitem__(self, idx):\n",
    "        img_path = self.img_paths[idx]\n",
    "        image = load_img(img_path)\n",
    "        image_id = get_id(img_path)\n",
    "        \n",
    "        if self.transformations:\n",
    "            image = self.transformations(image)\n",
    "        channels = torch.tensor([c for c in range(12)])\n",
    "        return image, {\"ID\": image_id, \"channels\": channels}\n",
    "    "
   ]
  },
  {
   "cell_type": "code",
   "execution_count": 8,
   "metadata": {
    "ExecuteTime": {
     "end_time": "2024-04-06T12:13:31.121774Z",
     "start_time": "2024-04-06T12:13:31.110704Z"
    }
   },
   "outputs": [],
   "source": [
    "# !pip install torchvision"
   ]
  },
  {
   "cell_type": "code",
   "execution_count": 32,
   "metadata": {
    "ExecuteTime": {
     "end_time": "2024-04-06T12:13:36.487029Z",
     "start_time": "2024-04-06T12:13:31.130427Z"
    },
    "colab": {
     "base_uri": "https://localhost:8080/"
    },
    "id": "rgWl6XyfnOrH",
    "outputId": "f49a2fd0-f42e-4de0-f42d-499cc5cec180"
   },
   "outputs": [
    {
     "name": "stdout",
     "output_type": "stream",
     "text": [
      "27000\n",
      "4232\n"
     ]
    }
   ],
   "source": [
    "# Create instances of the Dataset Class for both train & test\n",
    "import torch\n",
    "import torchvision.transforms as transforms\n",
    "\n",
    "\n",
    "def bandselect(img):\n",
    "    return img[:, :, [3,2,1]]\n",
    "\n",
    "def convert_to_float(img):\n",
    "    return img.astype(np.float32) / 10000.0\n",
    "\n",
    "def permute(img):\n",
    "    return img.transpose(2, 0, 1)\n",
    "\n",
    "# TODO: improvement -> find global max / min\n",
    "def l2a_approx(img):\n",
    "    l2a_bands = img[:,:,[0,1,2,3,4,5,6,7,8,9,11,12]]\n",
    "    band_min = np.min(l2a_bands, (0,1)) # minimal value per band\n",
    "    return l2a_bands - band_min # dark object subtraction algo approximation\n",
    "\n",
    "# Define the transformation functions as lambdas or wrap in Lambda transform\n",
    "train_transforms = transforms.Compose([\n",
    "   l2a_approx,\n",
    "    # bandselect,\n",
    "    convert_to_float,\n",
    "    permute\n",
    "])\n",
    "train_dataset = SentinelTrain(train_transforms)\n",
    "\n",
    "\n",
    "test_transforms  = transforms.Compose([\n",
    "    # bandselect,\n",
    "    convert_to_float,\n",
    "    permute\n",
    "])\n",
    "test_dataset = SentinelTest(test_transforms)\n",
    "\n",
    "print(len(train_dataset))\n",
    "print(len(test_dataset))"
   ]
  },
  {
   "cell_type": "code",
   "execution_count": null,
   "metadata": {
    "ExecuteTime": {
     "end_time": "2024-04-06T12:13:36.516269Z",
     "start_time": "2024-04-06T12:13:36.492069Z"
    }
   },
   "outputs": [],
   "source": []
  },
  {
   "cell_type": "code",
   "execution_count": 10,
   "metadata": {
    "ExecuteTime": {
     "end_time": "2024-04-06T12:13:36.535887Z",
     "start_time": "2024-04-06T12:13:36.516269Z"
    }
   },
   "outputs": [],
   "source": [
    "from torch.utils.data import random_split\n",
    "\n"
   ]
  },
  {
   "cell_type": "code",
   "execution_count": 33,
   "metadata": {
    "ExecuteTime": {
     "end_time": "2024-04-06T12:13:36.634663Z",
     "start_time": "2024-04-06T12:13:36.539919Z"
    },
    "id": "uJEWU_uJhf3E"
   },
   "outputs": [],
   "source": [
    "from torch.utils.data import DataLoader\n",
    "from torch.utils.data import random_split\n",
    "import numpy as np\n",
    "import torch\n",
    "\n",
    "\n",
    "train_dataset_subset, val_dataset_subset = random_split(train_dataset, [.8, .2])\n",
    "\n",
    "train_dataloader = DataLoader(train_dataset_subset, batch_size=64, shuffle=True)\n",
    "val_dataloader = DataLoader(val_dataset_subset, batch_size=64, shuffle=True)\n",
    "test_dataloader = DataLoader(test_dataset, batch_size=64, shuffle=True)\n",
    "\n"
   ]
  },
  {
   "cell_type": "code",
   "execution_count": 12,
   "metadata": {
    "ExecuteTime": {
     "end_time": "2024-04-06T12:13:36.800047Z",
     "start_time": "2024-04-06T12:13:36.645892Z"
    }
   },
   "outputs": [
    {
     "data": {
      "text/plain": [
       "{0: 'AnnualCrop',\n",
       " 1: 'Forest',\n",
       " 2: 'HerbaceousVegetation',\n",
       " 3: 'Highway',\n",
       " 4: 'Industrial',\n",
       " 5: 'Pasture',\n",
       " 6: 'PermanentCrop',\n",
       " 7: 'Residential',\n",
       " 8: 'River',\n",
       " 9: 'SeaLake'}"
      ]
     },
     "execution_count": 12,
     "metadata": {},
     "output_type": "execute_result"
    }
   ],
   "source": [
    "ids2labels"
   ]
  },
  {
   "cell_type": "code",
   "execution_count": 13,
   "metadata": {
    "ExecuteTime": {
     "end_time": "2024-04-06T12:13:36.878621Z",
     "start_time": "2024-04-06T12:13:36.815579Z"
    },
    "id": "GJYIs5jInbbx"
   },
   "outputs": [],
   "source": [
    "# Utility function to display image from dataset\n",
    "from rasterio.plot import reshape_as_image\n",
    "\n",
    "def normalize_for_display(band_data):\n",
    "    \"\"\"Normalize multi-spectral imagery across bands.\n",
    "    The input is expected to be in HxWxC format, e.g. 64x64x13.\n",
    "    To account for outliers (e.g. extremly high values due to\n",
    "    reflective surfaces), we normalize with the 2- and 98-percentiles\n",
    "    instead of minimum and maximum of each band.\n",
    "    \"\"\"\n",
    "    band_data = np.array(band_data)\n",
    "    lower_perc = np.percentile(band_data, 2, axis=(0,1))\n",
    "    upper_perc = np.percentile(band_data, 98, axis=(0,1))\n",
    "    print(lower_perc)\n",
    "    print(upper_perc)\n",
    "    return (band_data - lower_perc) / (upper_perc - lower_perc)\n",
    "\n",
    "\n",
    "def print_image(img, label, rgb_bands=[3,2,1])-> None:\n",
    "  \"\"\"Displays an image. Indices of bands given by \"rgb_bands\" will be displayed as RGB in the print\n",
    "  \"\"\"\n",
    "  img = img.transpose(1,2,0)\n",
    "  img = normalize_for_display(img)\n",
    "  img = img[:, :, rgb_bands]\n",
    "  fig, ax = plt.subplots(1, figsize=(5,5))\n",
    "  ax.imshow((img * 255).astype(np.uint8), vmin=0, vmax=255)\n",
    "  # ax.imshow(img)\n",
    "  ax.set_title(label)\n",
    "  ax.axis(False)\n",
    "  plt.tight_layout()\n",
    "\n",
    "  plt.show()"
   ]
  },
  {
   "cell_type": "code",
   "execution_count": 14,
   "metadata": {
    "ExecuteTime": {
     "end_time": "2024-04-06T12:13:38.255438Z",
     "start_time": "2024-04-06T12:13:36.887849Z"
    },
    "colab": {
     "base_uri": "https://localhost:8080/",
     "height": 542
    },
    "id": "zmFUg37hoQdf",
    "outputId": "6d98d42d-dd25-4c07-f18a-27cafcc41eca"
   },
   "outputs": [
    {
     "name": "stdout",
     "output_type": "stream",
     "text": [
      "[3.99999990e-04 6.88999994e-03 1.41000003e-02 8.09000023e-03\n",
      " 5.70000010e-03 2.93400003e-02 3.70700002e-02 9.19700004e-02\n",
      " 4.99999989e-03 9.99999975e-05 3.70000000e-03 5.53000011e-02]\n",
      "[0.0191     0.048      0.0672     0.1164     0.1109     0.21391\n",
      " 0.32223    0.39071001 0.03841    0.0004     0.13121    0.34502   ]\n"
     ]
    },
    {
     "data": {
      "image/png": "[encoded data removed]",
      "text/plain": [
       "<Figure size 500x500 with 1 Axes>"
      ]
     },
     "metadata": {},
     "output_type": "display_data"
    }
   ],
   "source": [
    "# Example image from train\n",
    "img, label = train_dataset.__getitem__(120)\n",
    "print_image(img, oh2text(label), [0,1,2])\n"
   ]
  },
  {
   "cell_type": "code",
   "execution_count": 15,
   "metadata": {
    "ExecuteTime": {
     "end_time": "2024-04-06T12:13:38.282917Z",
     "start_time": "2024-04-06T12:13:38.260255Z"
    }
   },
   "outputs": [
    {
     "data": {
      "text/plain": [
       "'AnnualCrop'"
      ]
     },
     "execution_count": 15,
     "metadata": {},
     "output_type": "execute_result"
    }
   ],
   "source": [
    "oh2text(label)"
   ]
  },
  {
   "cell_type": "code",
   "execution_count": 16,
   "metadata": {
    "ExecuteTime": {
     "end_time": "2024-04-06T12:13:38.444432Z",
     "start_time": "2024-04-06T12:13:38.284937Z"
    }
   },
   "outputs": [
    {
     "data": {
      "text/plain": [
       "{'AnnualCrop': 0,\n",
       " 'Forest': 1,\n",
       " 'HerbaceousVegetation': 2,\n",
       " 'Highway': 3,\n",
       " 'Industrial': 4,\n",
       " 'Pasture': 5,\n",
       " 'PermanentCrop': 6,\n",
       " 'Residential': 7,\n",
       " 'River': 8,\n",
       " 'SeaLake': 9}"
      ]
     },
     "execution_count": 16,
     "metadata": {},
     "output_type": "execute_result"
    }
   ],
   "source": [
    "labels2ids"
   ]
  },
  {
   "cell_type": "code",
   "execution_count": 17,
   "metadata": {
    "ExecuteTime": {
     "end_time": "2024-04-06T12:13:38.699132Z",
     "start_time": "2024-04-06T12:13:38.568244Z"
    }
   },
   "outputs": [
    {
     "data": {
      "text/plain": [
       "'drive/MyDrive/AIML24/remote_sensing/otherDatasets/sentinel_2/tif/Pasture/Pasture_1763.tif'"
      ]
     },
     "execution_count": 17,
     "metadata": {},
     "output_type": "execute_result"
    }
   ],
   "source": [
    "train_dataset.img_paths[100]"
   ]
  },
  {
   "cell_type": "code",
   "execution_count": 18,
   "metadata": {
    "ExecuteTime": {
     "end_time": "2024-04-06T12:13:39.960480Z",
     "start_time": "2024-04-06T12:13:38.705370Z"
    },
    "colab": {
     "base_uri": "https://localhost:8080/",
     "height": 542
    },
    "id": "rjQNNMvJrBsA",
    "outputId": "a5ddd38c-ce39-4bbd-b972-9cd6a5b48eb2"
   },
   "outputs": [
    {
     "name": "stdout",
     "output_type": "stream",
     "text": [
      "[0.0248  0.0152  0.0166  0.0147  0.0189  0.017   0.0171  0.01269 0.017\n",
      " 0.0159  0.0158  0.0144 ]\n",
      "[0.027  0.0308 0.0321 0.0295 0.0241 0.022  0.022  0.0268 0.022  0.018\n",
      " 0.0189 0.0175]\n"
     ]
    },
    {
     "data": {
      "image/png": "[encoded data removed]",
      "text/plain": [
       "<Figure size 500x500 with 1 Axes>"
      ]
     },
     "metadata": {},
     "output_type": "display_data"
    }
   ],
   "source": [
    "# example image from test\n",
    "img, label = test_dataset.__getitem__(800)\n",
    "print_image(img, label, [0,1,2])\n"
   ]
  },
  {
   "cell_type": "markdown",
   "metadata": {
    "id": "uDpb4f0SNs6x"
   },
   "source": [
    "## Training"
   ]
  },
  {
   "cell_type": "code",
   "execution_count": 19,
   "metadata": {
    "ExecuteTime": {
     "end_time": "2024-04-06T12:13:39.996610Z",
     "start_time": "2024-04-06T12:13:39.969575Z"
    },
    "colab": {
     "base_uri": "https://localhost:8080/"
    },
    "id": "5ooY1wBiCWBN",
    "outputId": "c4766e1c-c276-4a24-a043-ac37baa67a8f"
   },
   "outputs": [
    {
     "data": {
      "text/plain": [
       "12"
      ]
     },
     "execution_count": 19,
     "metadata": {},
     "output_type": "execute_result"
    }
   ],
   "source": [
    "img.shape[0]"
   ]
  },
  {
   "cell_type": "code",
   "execution_count": 20,
   "metadata": {
    "ExecuteTime": {
     "end_time": "2024-04-06T12:13:40.032470Z",
     "start_time": "2024-04-06T12:13:40.006079Z"
    }
   },
   "outputs": [
    {
     "data": {
      "text/plain": [
       "<function torchvision.models.vision_transformer.vit_b_16(*, weights: Optional[torchvision.models.vision_transformer.ViT_B_16_Weights] = None, progress: bool = True, **kwargs: Any) -> torchvision.models.vision_transformer.VisionTransformer>"
      ]
     },
     "execution_count": 20,
     "metadata": {},
     "output_type": "execute_result"
    }
   ],
   "source": [
    "import torchvision\n",
    "\n",
    "torchvision.models.vit_b_16"
   ]
  },
  {
   "cell_type": "markdown",
   "metadata": {
    "id": "zFnJNk9nTCnk"
   },
   "source": [
    "train model"
   ]
  },
  {
   "cell_type": "code",
   "execution_count": 21,
   "metadata": {
    "ExecuteTime": {
     "end_time": "2024-04-06T12:13:48.534998Z",
     "start_time": "2024-04-06T12:13:40.058498Z"
    },
    "colab": {
     "base_uri": "https://localhost:8080/"
    },
    "id": "1mCnw_IwN2p9",
    "outputId": "d9fcabf2-0fa4-450a-c6b4-0526a11e67e8"
   },
   "outputs": [],
   "source": [
    "import torch\n",
    "import torch.nn as nn\n",
    "import torchvision.models as models\n",
    "from torchsummary import torchsummary\n",
    "\n",
    "def get_num_channels():\n",
    "    img, _ = test_dataset.__getitem__(0)\n",
    "    return img.shape[0]\n",
    "\n",
    "\n",
    "class CustomResNet(nn.Module):\n",
    "    def __init__(self, num_classes):\n",
    "        super(CustomResNet, self).__init__()\n",
    "        # Load a pre-trained ResNet model\n",
    "        self.resnet = models.resnet18(pretrained=True)\n",
    "\n",
    "        # Modify the first convolutional layer to accept 3 input channels\n",
    "        self.resnet.conv1 = nn.Conv2d(get_num_channels(), 64, kernel_size=(3, 3), stride=(2, 2), padding=(1, 1), bias=False)\n",
    "        # self.resnet.conv1 = nn.Conv2d(3, 64, kernel_size=(3, 3), padding=(1, 1), bias=False)\n",
    "\n",
    "        # Replace the final fully connected layer to match the number of classes\n",
    "        num_ftrs = self.resnet.fc.in_features\n",
    "        self.resnet.fc = nn.Linear(num_ftrs, num_classes)\n",
    "\n",
    "    def forward(self, x):\n",
    "        return self.resnet(x)\n",
    "\n",
    "\n",
    "# Channel ViT https://github.com/insitro/ChannelViT\n",
    "\n",
    "from channelvit.backbone.channel_vit import ChannelVisionTransformer\n",
    "\n",
    "model = ChannelVisionTransformer(\n",
    "        img_size=(64,64),\n",
    "        patch_size=16,\n",
    "        in_chans=12,\n",
    "        num_classes=10,\n",
    "        embed_dim=768,\n",
    "        depth=12,\n",
    "        num_heads=12,\n",
    "        mlp_ratio=4.0,\n",
    "        qkv_bias=False,\n",
    "        qk_scale=None,\n",
    "        drop_rate=0.0,\n",
    "        attn_drop_rate=0.0,\n",
    "        drop_path_rate=0.0,\n",
    "        norm_layer=nn.LayerNorm,\n",
    "        \n",
    "    )\n",
    "\n",
    "\n",
    "# Number of classes in your dataset\n",
    "# num_classes = 10\n",
    "\n",
    "# Create an instance of the model\n",
    "# model = CustomResNet(num_classes=num_classes)\n",
    "\n",
    "# If you want to see the model summary for input size of 64x64 RGB images\n",
    "# if torch.cuda.is_available():\n",
    "#     model.cuda()\n",
    "#     torchsummary.summary(model, (get_num_channels(), 64, 64))\n",
    "# else:\n",
    "#     torchsummary.summary(model, (get_num_channels(), 64, 64))"
   ]
  },
  {
   "cell_type": "code",
   "execution_count": 22,
   "metadata": {
    "ExecuteTime": {
     "end_time": "2024-04-06T12:13:48.569521Z",
     "start_time": "2024-04-06T12:13:48.539020Z"
    }
   },
   "outputs": [
    {
     "data": {
      "text/plain": [
       "ChannelVisionTransformer(\n",
       "  (patch_embed): PatchEmbedPerChannel(\n",
       "    (proj): Conv3d(1, 768, kernel_size=(1, 16, 16), stride=(1, 16, 16))\n",
       "  )\n",
       "  (pos_drop): Dropout(p=0.0, inplace=False)\n",
       "  (blocks): ModuleList(\n",
       "    (0-11): 12 x Block(\n",
       "      (norm1): LayerNorm((768,), eps=1e-05, elementwise_affine=True)\n",
       "      (attn): Attention(\n",
       "        (qkv): Linear(in_features=768, out_features=2304, bias=False)\n",
       "        (attn_drop): Dropout(p=0.0, inplace=False)\n",
       "        (proj): Linear(in_features=768, out_features=768, bias=True)\n",
       "        (proj_drop): Dropout(p=0.0, inplace=False)\n",
       "      )\n",
       "      (drop_path): Identity()\n",
       "      (norm2): LayerNorm((768,), eps=1e-05, elementwise_affine=True)\n",
       "      (mlp): Mlp(\n",
       "        (fc1): Linear(in_features=768, out_features=3072, bias=True)\n",
       "        (act): GELU(approximate='none')\n",
       "        (fc2): Linear(in_features=3072, out_features=768, bias=True)\n",
       "        (drop): Dropout(p=0.0, inplace=False)\n",
       "      )\n",
       "    )\n",
       "  )\n",
       "  (norm): LayerNorm((768,), eps=1e-05, elementwise_affine=True)\n",
       "  (head): Linear(in_features=768, out_features=10, bias=True)\n",
       ")"
      ]
     },
     "execution_count": 22,
     "metadata": {},
     "output_type": "execute_result"
    }
   ],
   "source": [
    "model"
   ]
  },
  {
   "cell_type": "markdown",
   "metadata": {
    "id": "8WGjtaUBRgRi"
   },
   "source": [
    "training loop"
   ]
  },
  {
   "cell_type": "code",
   "execution_count": 23,
   "metadata": {
    "ExecuteTime": {
     "end_time": "2024-04-06T12:15:02.395454Z",
     "start_time": "2024-04-06T12:13:48.580623Z"
    },
    "colab": {
     "base_uri": "https://localhost:8080/"
    },
    "id": "GQ-b3jIKRYjB",
    "outputId": "976335a7-4c98-43e2-9f41-81e3db080711"
   },
   "outputs": [
    {
     "name": "stderr",
     "output_type": "stream",
     "text": [
      "  0%|                                                                                                                                                                                                                                                                 | 0/338 [00:00<?, ?it/s]/tmp/ipykernel_8112/1158350777.py:36: UserWarning: To copy construct from a tensor, it is recommended to use sourceTensor.clone().detach() or sourceTensor.clone().detach().requires_grad_(True), rather than torch.tensor(sourceTensor).\n",
      "  x = torch.tensor(x).to(device)\n",
      "/tmp/ipykernel_8112/1158350777.py:38: UserWarning: To copy construct from a tensor, it is recommended to use sourceTensor.clone().detach() or sourceTensor.clone().detach().requires_grad_(True), rather than torch.tensor(sourceTensor).\n",
      "  y = torch.tensor(y['ID']).to(device)\n",
      "Loss: 2.28340: 100%|████████████████████████████████████████████████████████████████████████████████████████████████████████████████████████████████████████████████████████████████████████████████████████████████████████████████████████████████████████| 338/338 [04:24<00:00,  1.28it/s]\n"
     ]
    },
    {
     "name": "stdout",
     "output_type": "stream",
     "text": [
      "Epoch 0 - Loss: 2.40426\n"
     ]
    },
    {
     "name": "stderr",
     "output_type": "stream",
     "text": [
      "Loss: 1.63637: 100%|████████████████████████████████████████████████████████████████████████████████████████████████████████████████████████████████████████████████████████████████████████████████████████████████████████████████████████████████████████| 338/338 [04:24<00:00,  1.28it/s]\n"
     ]
    },
    {
     "name": "stdout",
     "output_type": "stream",
     "text": [
      "Epoch 1 - Loss: 1.81442\n"
     ]
    },
    {
     "name": "stderr",
     "output_type": "stream",
     "text": [
      "Loss: 1.48759: 100%|████████████████████████████████████████████████████████████████████████████████████████████████████████████████████████████████████████████████████████████████████████████████████████████████████████████████████████████████████████| 338/338 [04:23<00:00,  1.28it/s]\n"
     ]
    },
    {
     "name": "stdout",
     "output_type": "stream",
     "text": [
      "Epoch 2 - Loss: 1.45198\n"
     ]
    },
    {
     "name": "stderr",
     "output_type": "stream",
     "text": [
      "Loss: 1.52065: 100%|████████████████████████████████████████████████████████████████████████████████████████████████████████████████████████████████████████████████████████████████████████████████████████████████████████████████████████████████████████| 338/338 [04:23<00:00,  1.28it/s]\n"
     ]
    },
    {
     "name": "stdout",
     "output_type": "stream",
     "text": [
      "Epoch 3 - Loss: 1.52365\n"
     ]
    },
    {
     "name": "stderr",
     "output_type": "stream",
     "text": [
      "Loss: 1.77440: 100%|████████████████████████████████████████████████████████████████████████████████████████████████████████████████████████████████████████████████████████████████████████████████████████████████████████████████████████████████████████| 338/338 [04:23<00:00,  1.28it/s]\n"
     ]
    },
    {
     "name": "stdout",
     "output_type": "stream",
     "text": [
      "Epoch 4 - Loss: 1.45791\n"
     ]
    },
    {
     "name": "stderr",
     "output_type": "stream",
     "text": [
      "Loss: 1.43606: 100%|████████████████████████████████████████████████████████████████████████████████████████████████████████████████████████████████████████████████████████████████████████████████████████████████████████████████████████████████████████| 338/338 [04:23<00:00,  1.28it/s]\n"
     ]
    },
    {
     "name": "stdout",
     "output_type": "stream",
     "text": [
      "Epoch 5 - Loss: 1.44604\n"
     ]
    },
    {
     "name": "stderr",
     "output_type": "stream",
     "text": [
      "Loss: 1.05588: 100%|████████████████████████████████████████████████████████████████████████████████████████████████████████████████████████████████████████████████████████████████████████████████████████████████████████████████████████████████████████| 338/338 [04:21<00:00,  1.29it/s]\n"
     ]
    },
    {
     "name": "stdout",
     "output_type": "stream",
     "text": [
      "Epoch 6 - Loss: 1.41672\n"
     ]
    },
    {
     "name": "stderr",
     "output_type": "stream",
     "text": [
      "Loss: 1.15329: 100%|████████████████████████████████████████████████████████████████████████████████████████████████████████████████████████████████████████████████████████████████████████████████████████████████████████████████████████████████████████| 338/338 [04:21<00:00,  1.29it/s]\n"
     ]
    },
    {
     "name": "stdout",
     "output_type": "stream",
     "text": [
      "Epoch 7 - Loss: 1.37848\n"
     ]
    },
    {
     "name": "stderr",
     "output_type": "stream",
     "text": [
      "Loss: 1.47997: 100%|████████████████████████████████████████████████████████████████████████████████████████████████████████████████████████████████████████████████████████████████████████████████████████████████████████████████████████████████████████| 338/338 [04:21<00:00,  1.29it/s]\n"
     ]
    },
    {
     "name": "stdout",
     "output_type": "stream",
     "text": [
      "Epoch 8 - Loss: 1.53520\n"
     ]
    },
    {
     "name": "stderr",
     "output_type": "stream",
     "text": [
      "Loss: 1.79167: 100%|████████████████████████████████████████████████████████████████████████████████████████████████████████████████████████████████████████████████████████████████████████████████████████████████████████████████████████████████████████| 338/338 [04:21<00:00,  1.29it/s]\n"
     ]
    },
    {
     "name": "stdout",
     "output_type": "stream",
     "text": [
      "Epoch 9 - Loss: 1.69104\n"
     ]
    },
    {
     "name": "stderr",
     "output_type": "stream",
     "text": [
      "Loss: 1.81008: 100%|████████████████████████████████████████████████████████████████████████████████████████████████████████████████████████████████████████████████████████████████████████████████████████████████████████████████████████████████████████| 338/338 [04:21<00:00,  1.29it/s]\n"
     ]
    },
    {
     "name": "stdout",
     "output_type": "stream",
     "text": [
      "Epoch 10 - Loss: 1.59710\n"
     ]
    },
    {
     "name": "stderr",
     "output_type": "stream",
     "text": [
      "Loss: 1.67583: 100%|████████████████████████████████████████████████████████████████████████████████████████████████████████████████████████████████████████████████████████████████████████████████████████████████████████████████████████████████████████| 338/338 [04:20<00:00,  1.30it/s]\n"
     ]
    },
    {
     "name": "stdout",
     "output_type": "stream",
     "text": [
      "Epoch 11 - Loss: 1.56774\n"
     ]
    }
   ],
   "source": [
    "import tqdm\n",
    "\n",
    "\n",
    "\n",
    "# Init collection of training epoch losses\n",
    "train_losses = []\n",
    "train_epoch_losses = []\n",
    "\n",
    "# Set the model in training mode\n",
    "model.train()\n",
    "\n",
    "num_epochs = 12\n",
    "mini_batch_size = 64 # size of the mini-batches\n",
    "\n",
    "cross_entropy = nn.CrossEntropyLoss()\n",
    "\n",
    "from torch import optim\n",
    "learning_rate = 0.0005\n",
    "optimizer = optim.Adam(params=model.parameters(), lr=learning_rate)\n",
    "\n",
    "device = torch.device(\"cuda\" if torch.cuda.is_available() else \"cpu\")\n",
    "\n",
    "model.to(device)\n",
    "# Train for n epochs\n",
    "for epoch in range(num_epochs):\n",
    "\n",
    "    # Init collection of mini-batch losses\n",
    "    train_mini_batch_losses = []\n",
    "\n",
    "    train_loader_progress = tqdm.tqdm(train_dataloader)\n",
    "\n",
    "\n",
    "    # Update for each min-batch\n",
    "    for i, (x,y) in enumerate(train_loader_progress):\n",
    "        # Transfer data to compute device\n",
    "        x = torch.tensor(x).to(device)\n",
    "        d = y\n",
    "        y = torch.tensor(y['ID']).to(device)\n",
    "\n",
    "        # Forward pass\n",
    "        #x = x.float()\n",
    "        pred = model(x, d)\n",
    "\n",
    "        # Reset model's gradients\n",
    "        model.zero_grad()\n",
    "\n",
    "        # Compute loss\n",
    "        loss = cross_entropy(pred, y)\n",
    "\n",
    "        # Run backward pass\n",
    "        \n",
    "        loss.backward()\n",
    "\n",
    "        # Update network paramaters\n",
    "        optimizer.step()\n",
    "\n",
    "        # Store mini-batch losses\n",
    "        train_mini_batch_losses.append(loss.data.item())\n",
    "        train_losses.append(loss.data.item())\n",
    "\n",
    "        train_loader_progress.set_description(f\"Loss: {loss.item():0.5f}\")\n",
    "\n",
    "        #np.seterr(divide='ignore', invalid='ignore')\n",
    "\n",
    "    # Compute epoch loss\n",
    "    train_epoch_loss = np.mean(train_mini_batch_losses)\n",
    "    train_epoch_losses.append(train_epoch_loss)\n",
    "\n",
    "    print(f\"Epoch {epoch} - Loss: {train_epoch_loss:0.5f}\")\n",
    "\n",
    "# Save final model\n",
    "torch.save(model.state_dict(), \"checkpoint.pt\")"
   ]
  },
  {
   "cell_type": "code",
   "execution_count": 24,
   "metadata": {},
   "outputs": [
    {
     "data": {
      "text/plain": [
       "torch.Size([32, 10])"
      ]
     },
     "execution_count": 24,
     "metadata": {},
     "output_type": "execute_result"
    }
   ],
   "source": [
    "pred.shape"
   ]
  },
  {
   "cell_type": "code",
   "execution_count": 25,
   "metadata": {
    "ExecuteTime": {
     "end_time": "2024-04-06T12:15:02.501473Z",
     "start_time": "2024-04-06T12:15:02.500208Z"
    }
   },
   "outputs": [
    {
     "data": {
      "text/plain": [
       "[None]"
      ]
     },
     "execution_count": 25,
     "metadata": {},
     "output_type": "execute_result"
    },
    {
     "data": {
      "image/png": "[encoded data removed]",
      "text/plain": [
       "<Figure size 640x480 with 1 Axes>"
      ]
     },
     "metadata": {},
     "output_type": "display_data"
    }
   ],
   "source": [
    "import seaborn as sns\n",
    "\n",
    "\n",
    "p = sns.lineplot(train_losses)\n",
    "p.set(yscale='log')"
   ]
  },
  {
   "cell_type": "markdown",
   "metadata": {},
   "source": [
    "# Validation"
   ]
  },
  {
   "cell_type": "code",
   "execution_count": 26,
   "metadata": {
    "ExecuteTime": {
     "end_time": "2024-04-06T12:15:02.520552Z",
     "start_time": "2024-04-06T12:15:02.514698Z"
    },
    "colab": {
     "base_uri": "https://localhost:8080/"
    },
    "id": "_j_RZDqEUqzb",
    "outputId": "728823a6-c6c9-4508-b790-761dac70aedb"
   },
   "outputs": [
    {
     "ename": "KeyError",
     "evalue": "'channels'",
     "output_type": "error",
     "traceback": [
      "\u001b[0;31m---------------------------------------------------------------------------\u001b[0m",
      "\u001b[0;31mKeyError\u001b[0m                                  Traceback (most recent call last)",
      "Cell \u001b[0;32mIn[26], line 7\u001b[0m\n\u001b[1;32m      5\u001b[0m validate \u001b[38;5;241m=\u001b[39m []\n\u001b[1;32m      6\u001b[0m \u001b[38;5;28;01mfor\u001b[39;00m i, (imgs, labels) \u001b[38;5;129;01min\u001b[39;00m \u001b[38;5;28menumerate\u001b[39m(val_dataloader):\n\u001b[0;32m----> 7\u001b[0m     preds \u001b[38;5;241m=\u001b[39m \u001b[43mmodel\u001b[49m\u001b[43m(\u001b[49m\u001b[43mimgs\u001b[49m\u001b[38;5;241;43m.\u001b[39;49m\u001b[43mto\u001b[49m\u001b[43m(\u001b[49m\u001b[38;5;124;43m\"\u001b[39;49m\u001b[38;5;124;43mcuda\u001b[39;49m\u001b[38;5;124;43m\"\u001b[39;49m\u001b[43m)\u001b[49m\u001b[43m)\u001b[49m\n\u001b[1;32m      8\u001b[0m     pred_labels \u001b[38;5;241m=\u001b[39m [oh2text(oh\u001b[38;5;241m.\u001b[39mdetach()\u001b[38;5;241m.\u001b[39mcpu()) \u001b[38;5;28;01mfor\u001b[39;00m oh \u001b[38;5;129;01min\u001b[39;00m preds]\n\u001b[1;32m      9\u001b[0m     validate \u001b[38;5;241m+\u001b[39m\u001b[38;5;241m=\u001b[39m \u001b[38;5;28mlist\u001b[39m(\u001b[38;5;28mzip\u001b[39m(labels, preds))\n",
      "File \u001b[0;32m~/.venv/lib/python3.10/site-packages/torch/nn/modules/module.py:1511\u001b[0m, in \u001b[0;36mModule._wrapped_call_impl\u001b[0;34m(self, *args, **kwargs)\u001b[0m\n\u001b[1;32m   1509\u001b[0m     \u001b[38;5;28;01mreturn\u001b[39;00m \u001b[38;5;28mself\u001b[39m\u001b[38;5;241m.\u001b[39m_compiled_call_impl(\u001b[38;5;241m*\u001b[39margs, \u001b[38;5;241m*\u001b[39m\u001b[38;5;241m*\u001b[39mkwargs)  \u001b[38;5;66;03m# type: ignore[misc]\u001b[39;00m\n\u001b[1;32m   1510\u001b[0m \u001b[38;5;28;01melse\u001b[39;00m:\n\u001b[0;32m-> 1511\u001b[0m     \u001b[38;5;28;01mreturn\u001b[39;00m \u001b[38;5;28;43mself\u001b[39;49m\u001b[38;5;241;43m.\u001b[39;49m\u001b[43m_call_impl\u001b[49m\u001b[43m(\u001b[49m\u001b[38;5;241;43m*\u001b[39;49m\u001b[43margs\u001b[49m\u001b[43m,\u001b[49m\u001b[43m \u001b[49m\u001b[38;5;241;43m*\u001b[39;49m\u001b[38;5;241;43m*\u001b[39;49m\u001b[43mkwargs\u001b[49m\u001b[43m)\u001b[49m\n",
      "File \u001b[0;32m~/.venv/lib/python3.10/site-packages/torch/nn/modules/module.py:1520\u001b[0m, in \u001b[0;36mModule._call_impl\u001b[0;34m(self, *args, **kwargs)\u001b[0m\n\u001b[1;32m   1515\u001b[0m \u001b[38;5;66;03m# If we don't have any hooks, we want to skip the rest of the logic in\u001b[39;00m\n\u001b[1;32m   1516\u001b[0m \u001b[38;5;66;03m# this function, and just call forward.\u001b[39;00m\n\u001b[1;32m   1517\u001b[0m \u001b[38;5;28;01mif\u001b[39;00m \u001b[38;5;129;01mnot\u001b[39;00m (\u001b[38;5;28mself\u001b[39m\u001b[38;5;241m.\u001b[39m_backward_hooks \u001b[38;5;129;01mor\u001b[39;00m \u001b[38;5;28mself\u001b[39m\u001b[38;5;241m.\u001b[39m_backward_pre_hooks \u001b[38;5;129;01mor\u001b[39;00m \u001b[38;5;28mself\u001b[39m\u001b[38;5;241m.\u001b[39m_forward_hooks \u001b[38;5;129;01mor\u001b[39;00m \u001b[38;5;28mself\u001b[39m\u001b[38;5;241m.\u001b[39m_forward_pre_hooks\n\u001b[1;32m   1518\u001b[0m         \u001b[38;5;129;01mor\u001b[39;00m _global_backward_pre_hooks \u001b[38;5;129;01mor\u001b[39;00m _global_backward_hooks\n\u001b[1;32m   1519\u001b[0m         \u001b[38;5;129;01mor\u001b[39;00m _global_forward_hooks \u001b[38;5;129;01mor\u001b[39;00m _global_forward_pre_hooks):\n\u001b[0;32m-> 1520\u001b[0m     \u001b[38;5;28;01mreturn\u001b[39;00m \u001b[43mforward_call\u001b[49m\u001b[43m(\u001b[49m\u001b[38;5;241;43m*\u001b[39;49m\u001b[43margs\u001b[49m\u001b[43m,\u001b[49m\u001b[43m \u001b[49m\u001b[38;5;241;43m*\u001b[39;49m\u001b[38;5;241;43m*\u001b[39;49m\u001b[43mkwargs\u001b[49m\u001b[43m)\u001b[49m\n\u001b[1;32m   1522\u001b[0m \u001b[38;5;28;01mtry\u001b[39;00m:\n\u001b[1;32m   1523\u001b[0m     result \u001b[38;5;241m=\u001b[39m \u001b[38;5;28;01mNone\u001b[39;00m\n",
      "File \u001b[0;32m~/code/channelvit/backbone/channel_vit.py:213\u001b[0m, in \u001b[0;36mChannelVisionTransformer.forward\u001b[0;34m(self, x, extra_tokens)\u001b[0m\n\u001b[1;32m    212\u001b[0m \u001b[38;5;28;01mdef\u001b[39;00m \u001b[38;5;21mforward\u001b[39m(\u001b[38;5;28mself\u001b[39m, x, extra_tokens\u001b[38;5;241m=\u001b[39m{}):\n\u001b[0;32m--> 213\u001b[0m     x \u001b[38;5;241m=\u001b[39m \u001b[38;5;28;43mself\u001b[39;49m\u001b[38;5;241;43m.\u001b[39;49m\u001b[43mprepare_tokens\u001b[49m\u001b[43m(\u001b[49m\u001b[43mx\u001b[49m\u001b[43m,\u001b[49m\u001b[43m \u001b[49m\u001b[43mextra_tokens\u001b[49m\u001b[43m)\u001b[49m\n\u001b[1;32m    214\u001b[0m     \u001b[38;5;28;01mfor\u001b[39;00m blk \u001b[38;5;129;01min\u001b[39;00m \u001b[38;5;28mself\u001b[39m\u001b[38;5;241m.\u001b[39mblocks:\n\u001b[1;32m    215\u001b[0m         x \u001b[38;5;241m=\u001b[39m blk(x)\n",
      "File \u001b[0;32m~/code/channelvit/backbone/channel_vit.py:201\u001b[0m, in \u001b[0;36mChannelVisionTransformer.prepare_tokens\u001b[0;34m(self, x, extra_tokens)\u001b[0m\n\u001b[1;32m    199\u001b[0m \u001b[38;5;28;01mdef\u001b[39;00m \u001b[38;5;21mprepare_tokens\u001b[39m(\u001b[38;5;28mself\u001b[39m, x, extra_tokens):\n\u001b[1;32m    200\u001b[0m     B, nc, w, h \u001b[38;5;241m=\u001b[39m x\u001b[38;5;241m.\u001b[39mshape\n\u001b[0;32m--> 201\u001b[0m     x \u001b[38;5;241m=\u001b[39m \u001b[38;5;28;43mself\u001b[39;49m\u001b[38;5;241;43m.\u001b[39;49m\u001b[43mpatch_embed\u001b[49m\u001b[43m(\u001b[49m\u001b[43mx\u001b[49m\u001b[43m,\u001b[49m\u001b[43m \u001b[49m\u001b[43mextra_tokens\u001b[49m\u001b[43m)\u001b[49m  \u001b[38;5;66;03m# patch linear embedding\u001b[39;00m\n\u001b[1;32m    203\u001b[0m     \u001b[38;5;66;03m# add the [CLS] token to the embed patch tokens\u001b[39;00m\n\u001b[1;32m    204\u001b[0m     cls_tokens \u001b[38;5;241m=\u001b[39m \u001b[38;5;28mself\u001b[39m\u001b[38;5;241m.\u001b[39mcls_token\u001b[38;5;241m.\u001b[39mexpand(B, \u001b[38;5;241m-\u001b[39m\u001b[38;5;241m1\u001b[39m, \u001b[38;5;241m-\u001b[39m\u001b[38;5;241m1\u001b[39m)\n",
      "File \u001b[0;32m~/.venv/lib/python3.10/site-packages/torch/nn/modules/module.py:1511\u001b[0m, in \u001b[0;36mModule._wrapped_call_impl\u001b[0;34m(self, *args, **kwargs)\u001b[0m\n\u001b[1;32m   1509\u001b[0m     \u001b[38;5;28;01mreturn\u001b[39;00m \u001b[38;5;28mself\u001b[39m\u001b[38;5;241m.\u001b[39m_compiled_call_impl(\u001b[38;5;241m*\u001b[39margs, \u001b[38;5;241m*\u001b[39m\u001b[38;5;241m*\u001b[39mkwargs)  \u001b[38;5;66;03m# type: ignore[misc]\u001b[39;00m\n\u001b[1;32m   1510\u001b[0m \u001b[38;5;28;01melse\u001b[39;00m:\n\u001b[0;32m-> 1511\u001b[0m     \u001b[38;5;28;01mreturn\u001b[39;00m \u001b[38;5;28;43mself\u001b[39;49m\u001b[38;5;241;43m.\u001b[39;49m\u001b[43m_call_impl\u001b[49m\u001b[43m(\u001b[49m\u001b[38;5;241;43m*\u001b[39;49m\u001b[43margs\u001b[49m\u001b[43m,\u001b[49m\u001b[43m \u001b[49m\u001b[38;5;241;43m*\u001b[39;49m\u001b[38;5;241;43m*\u001b[39;49m\u001b[43mkwargs\u001b[49m\u001b[43m)\u001b[49m\n",
      "File \u001b[0;32m~/.venv/lib/python3.10/site-packages/torch/nn/modules/module.py:1520\u001b[0m, in \u001b[0;36mModule._call_impl\u001b[0;34m(self, *args, **kwargs)\u001b[0m\n\u001b[1;32m   1515\u001b[0m \u001b[38;5;66;03m# If we don't have any hooks, we want to skip the rest of the logic in\u001b[39;00m\n\u001b[1;32m   1516\u001b[0m \u001b[38;5;66;03m# this function, and just call forward.\u001b[39;00m\n\u001b[1;32m   1517\u001b[0m \u001b[38;5;28;01mif\u001b[39;00m \u001b[38;5;129;01mnot\u001b[39;00m (\u001b[38;5;28mself\u001b[39m\u001b[38;5;241m.\u001b[39m_backward_hooks \u001b[38;5;129;01mor\u001b[39;00m \u001b[38;5;28mself\u001b[39m\u001b[38;5;241m.\u001b[39m_backward_pre_hooks \u001b[38;5;129;01mor\u001b[39;00m \u001b[38;5;28mself\u001b[39m\u001b[38;5;241m.\u001b[39m_forward_hooks \u001b[38;5;129;01mor\u001b[39;00m \u001b[38;5;28mself\u001b[39m\u001b[38;5;241m.\u001b[39m_forward_pre_hooks\n\u001b[1;32m   1518\u001b[0m         \u001b[38;5;129;01mor\u001b[39;00m _global_backward_pre_hooks \u001b[38;5;129;01mor\u001b[39;00m _global_backward_hooks\n\u001b[1;32m   1519\u001b[0m         \u001b[38;5;129;01mor\u001b[39;00m _global_forward_hooks \u001b[38;5;129;01mor\u001b[39;00m _global_forward_pre_hooks):\n\u001b[0;32m-> 1520\u001b[0m     \u001b[38;5;28;01mreturn\u001b[39;00m \u001b[43mforward_call\u001b[49m\u001b[43m(\u001b[49m\u001b[38;5;241;43m*\u001b[39;49m\u001b[43margs\u001b[49m\u001b[43m,\u001b[49m\u001b[43m \u001b[49m\u001b[38;5;241;43m*\u001b[39;49m\u001b[38;5;241;43m*\u001b[39;49m\u001b[43mkwargs\u001b[49m\u001b[43m)\u001b[49m\n\u001b[1;32m   1522\u001b[0m \u001b[38;5;28;01mtry\u001b[39;00m:\n\u001b[1;32m   1523\u001b[0m     result \u001b[38;5;241m=\u001b[39m \u001b[38;5;28;01mNone\u001b[39;00m\n",
      "File \u001b[0;32m~/code/channelvit/backbone/channel_vit.py:56\u001b[0m, in \u001b[0;36mPatchEmbedPerChannel.forward\u001b[0;34m(self, x, extra_tokens)\u001b[0m\n\u001b[1;32m     54\u001b[0m \u001b[38;5;28;01mdef\u001b[39;00m \u001b[38;5;21mforward\u001b[39m(\u001b[38;5;28mself\u001b[39m, x, extra_tokens\u001b[38;5;241m=\u001b[39m{}):\n\u001b[1;32m     55\u001b[0m     \u001b[38;5;66;03m# assume all images in the same batch has the same input channels\u001b[39;00m\n\u001b[0;32m---> 56\u001b[0m     cur_channels \u001b[38;5;241m=\u001b[39m \u001b[43mextra_tokens\u001b[49m\u001b[43m[\u001b[49m\u001b[38;5;124;43m\"\u001b[39;49m\u001b[38;5;124;43mchannels\u001b[39;49m\u001b[38;5;124;43m\"\u001b[39;49m\u001b[43m]\u001b[49m[\u001b[38;5;241m0\u001b[39m]\n\u001b[1;32m     58\u001b[0m     B, Cin, H, W \u001b[38;5;241m=\u001b[39m x\u001b[38;5;241m.\u001b[39mshape\n\u001b[1;32m     59\u001b[0m     \u001b[38;5;66;03m# Note: The current number of channels (Cin) can be smaller or equal to in_chans\u001b[39;00m\n\u001b[1;32m     60\u001b[0m \n\u001b[1;32m     61\u001b[0m     \u001b[38;5;66;03m# shared projection layer across channels\u001b[39;00m\n",
      "\u001b[0;31mKeyError\u001b[0m: 'channels'"
     ]
    }
   ],
   "source": [
    "# set model in evaluation mode\n",
    "model.eval()\n",
    "\n",
    "\n",
    "validate = []\n",
    "for i, (imgs, labels) in enumerate(val_dataloader):\n",
    "    preds = model(imgs.to(\"cuda\"))\n",
    "    pred_labels = [oh2text(oh.detach().cpu()) for oh in preds]\n",
    "    validate += list(zip(labels, preds))\n",
    "\n",
    "\n",
    "# TODO: Test Metrics"
   ]
  },
  {
   "cell_type": "markdown",
   "metadata": {},
   "source": [
    "# Test"
   ]
  },
  {
   "cell_type": "markdown",
   "metadata": {
    "id": "xl74eq_cRWOE"
   },
   "source": [
    "evaluation loop"
   ]
  },
  {
   "cell_type": "code",
   "execution_count": 27,
   "metadata": {
    "ExecuteTime": {
     "end_time": "2024-04-06T12:15:02.542320Z",
     "start_time": "2024-04-06T12:15:02.535422Z"
    },
    "colab": {
     "base_uri": "https://localhost:8080/",
     "height": 35
    },
    "id": "tzjO6FnOd-z8",
    "outputId": "da79796c-c063-44fe-d2ac-a7743af0412b"
   },
   "outputs": [
    {
     "data": {
      "text/plain": [
       "'3310'"
      ]
     },
     "execution_count": 27,
     "metadata": {},
     "output_type": "execute_result"
    }
   ],
   "source": [
    "img_path = \"drive/MyDrive/AIML24/remote_sensing/otherDatasets/sentinel_2/testset/test_3310.npy\"\n",
    "\n",
    "def get_id(img_path):\n",
    "    return img_path.split(\"/\")[-1].split(\"_\")[-1].split(\".\")[0]\n",
    "\n",
    "get_id(img_path)"
   ]
  },
  {
   "cell_type": "code",
   "execution_count": 36,
   "metadata": {},
   "outputs": [
    {
     "data": {
      "text/plain": [
       "{'ID': ['2421',\n",
       "  '1532',\n",
       "  '4009',\n",
       "  '867',\n",
       "  '473',\n",
       "  '3581',\n",
       "  '240',\n",
       "  '299',\n",
       "  '2436',\n",
       "  '3783',\n",
       "  '3821',\n",
       "  '2636',\n",
       "  '2376',\n",
       "  '1633',\n",
       "  '4029',\n",
       "  '1730',\n",
       "  '275',\n",
       "  '860',\n",
       "  '537',\n",
       "  '108',\n",
       "  '3101',\n",
       "  '3819',\n",
       "  '4209',\n",
       "  '3474',\n",
       "  '3977',\n",
       "  '2015',\n",
       "  '339',\n",
       "  '1966',\n",
       "  '40',\n",
       "  '3016',\n",
       "  '2262',\n",
       "  '157',\n",
       "  '2886',\n",
       "  '2099',\n",
       "  '3737',\n",
       "  '993',\n",
       "  '2563',\n",
       "  '4154',\n",
       "  '1186',\n",
       "  '1827',\n",
       "  '2301',\n",
       "  '215',\n",
       "  '379',\n",
       "  '2018',\n",
       "  '3832',\n",
       "  '1109',\n",
       "  '881',\n",
       "  '1707',\n",
       "  '3446',\n",
       "  '2587',\n",
       "  '263',\n",
       "  '950',\n",
       "  '2310',\n",
       "  '930',\n",
       "  '3318',\n",
       "  '1961',\n",
       "  '3113',\n",
       "  '578',\n",
       "  '1991',\n",
       "  '2756',\n",
       "  '2559',\n",
       "  '3643',\n",
       "  '502',\n",
       "  '3209'],\n",
       " 'channels': tensor([[ 0,  1,  2,  3,  4,  5,  6,  7,  8,  9, 10, 11],\n",
       "         [ 0,  1,  2,  3,  4,  5,  6,  7,  8,  9, 10, 11],\n",
       "         [ 0,  1,  2,  3,  4,  5,  6,  7,  8,  9, 10, 11],\n",
       "         [ 0,  1,  2,  3,  4,  5,  6,  7,  8,  9, 10, 11],\n",
       "         [ 0,  1,  2,  3,  4,  5,  6,  7,  8,  9, 10, 11],\n",
       "         [ 0,  1,  2,  3,  4,  5,  6,  7,  8,  9, 10, 11],\n",
       "         [ 0,  1,  2,  3,  4,  5,  6,  7,  8,  9, 10, 11],\n",
       "         [ 0,  1,  2,  3,  4,  5,  6,  7,  8,  9, 10, 11],\n",
       "         [ 0,  1,  2,  3,  4,  5,  6,  7,  8,  9, 10, 11],\n",
       "         [ 0,  1,  2,  3,  4,  5,  6,  7,  8,  9, 10, 11],\n",
       "         [ 0,  1,  2,  3,  4,  5,  6,  7,  8,  9, 10, 11],\n",
       "         [ 0,  1,  2,  3,  4,  5,  6,  7,  8,  9, 10, 11],\n",
       "         [ 0,  1,  2,  3,  4,  5,  6,  7,  8,  9, 10, 11],\n",
       "         [ 0,  1,  2,  3,  4,  5,  6,  7,  8,  9, 10, 11],\n",
       "         [ 0,  1,  2,  3,  4,  5,  6,  7,  8,  9, 10, 11],\n",
       "         [ 0,  1,  2,  3,  4,  5,  6,  7,  8,  9, 10, 11],\n",
       "         [ 0,  1,  2,  3,  4,  5,  6,  7,  8,  9, 10, 11],\n",
       "         [ 0,  1,  2,  3,  4,  5,  6,  7,  8,  9, 10, 11],\n",
       "         [ 0,  1,  2,  3,  4,  5,  6,  7,  8,  9, 10, 11],\n",
       "         [ 0,  1,  2,  3,  4,  5,  6,  7,  8,  9, 10, 11],\n",
       "         [ 0,  1,  2,  3,  4,  5,  6,  7,  8,  9, 10, 11],\n",
       "         [ 0,  1,  2,  3,  4,  5,  6,  7,  8,  9, 10, 11],\n",
       "         [ 0,  1,  2,  3,  4,  5,  6,  7,  8,  9, 10, 11],\n",
       "         [ 0,  1,  2,  3,  4,  5,  6,  7,  8,  9, 10, 11],\n",
       "         [ 0,  1,  2,  3,  4,  5,  6,  7,  8,  9, 10, 11],\n",
       "         [ 0,  1,  2,  3,  4,  5,  6,  7,  8,  9, 10, 11],\n",
       "         [ 0,  1,  2,  3,  4,  5,  6,  7,  8,  9, 10, 11],\n",
       "         [ 0,  1,  2,  3,  4,  5,  6,  7,  8,  9, 10, 11],\n",
       "         [ 0,  1,  2,  3,  4,  5,  6,  7,  8,  9, 10, 11],\n",
       "         [ 0,  1,  2,  3,  4,  5,  6,  7,  8,  9, 10, 11],\n",
       "         [ 0,  1,  2,  3,  4,  5,  6,  7,  8,  9, 10, 11],\n",
       "         [ 0,  1,  2,  3,  4,  5,  6,  7,  8,  9, 10, 11],\n",
       "         [ 0,  1,  2,  3,  4,  5,  6,  7,  8,  9, 10, 11],\n",
       "         [ 0,  1,  2,  3,  4,  5,  6,  7,  8,  9, 10, 11],\n",
       "         [ 0,  1,  2,  3,  4,  5,  6,  7,  8,  9, 10, 11],\n",
       "         [ 0,  1,  2,  3,  4,  5,  6,  7,  8,  9, 10, 11],\n",
       "         [ 0,  1,  2,  3,  4,  5,  6,  7,  8,  9, 10, 11],\n",
       "         [ 0,  1,  2,  3,  4,  5,  6,  7,  8,  9, 10, 11],\n",
       "         [ 0,  1,  2,  3,  4,  5,  6,  7,  8,  9, 10, 11],\n",
       "         [ 0,  1,  2,  3,  4,  5,  6,  7,  8,  9, 10, 11],\n",
       "         [ 0,  1,  2,  3,  4,  5,  6,  7,  8,  9, 10, 11],\n",
       "         [ 0,  1,  2,  3,  4,  5,  6,  7,  8,  9, 10, 11],\n",
       "         [ 0,  1,  2,  3,  4,  5,  6,  7,  8,  9, 10, 11],\n",
       "         [ 0,  1,  2,  3,  4,  5,  6,  7,  8,  9, 10, 11],\n",
       "         [ 0,  1,  2,  3,  4,  5,  6,  7,  8,  9, 10, 11],\n",
       "         [ 0,  1,  2,  3,  4,  5,  6,  7,  8,  9, 10, 11],\n",
       "         [ 0,  1,  2,  3,  4,  5,  6,  7,  8,  9, 10, 11],\n",
       "         [ 0,  1,  2,  3,  4,  5,  6,  7,  8,  9, 10, 11],\n",
       "         [ 0,  1,  2,  3,  4,  5,  6,  7,  8,  9, 10, 11],\n",
       "         [ 0,  1,  2,  3,  4,  5,  6,  7,  8,  9, 10, 11],\n",
       "         [ 0,  1,  2,  3,  4,  5,  6,  7,  8,  9, 10, 11],\n",
       "         [ 0,  1,  2,  3,  4,  5,  6,  7,  8,  9, 10, 11],\n",
       "         [ 0,  1,  2,  3,  4,  5,  6,  7,  8,  9, 10, 11],\n",
       "         [ 0,  1,  2,  3,  4,  5,  6,  7,  8,  9, 10, 11],\n",
       "         [ 0,  1,  2,  3,  4,  5,  6,  7,  8,  9, 10, 11],\n",
       "         [ 0,  1,  2,  3,  4,  5,  6,  7,  8,  9, 10, 11],\n",
       "         [ 0,  1,  2,  3,  4,  5,  6,  7,  8,  9, 10, 11],\n",
       "         [ 0,  1,  2,  3,  4,  5,  6,  7,  8,  9, 10, 11],\n",
       "         [ 0,  1,  2,  3,  4,  5,  6,  7,  8,  9, 10, 11],\n",
       "         [ 0,  1,  2,  3,  4,  5,  6,  7,  8,  9, 10, 11],\n",
       "         [ 0,  1,  2,  3,  4,  5,  6,  7,  8,  9, 10, 11],\n",
       "         [ 0,  1,  2,  3,  4,  5,  6,  7,  8,  9, 10, 11],\n",
       "         [ 0,  1,  2,  3,  4,  5,  6,  7,  8,  9, 10, 11],\n",
       "         [ 0,  1,  2,  3,  4,  5,  6,  7,  8,  9, 10, 11]])}"
      ]
     },
     "execution_count": 36,
     "metadata": {},
     "output_type": "execute_result"
    }
   ],
   "source": [
    "paths"
   ]
  },
  {
   "cell_type": "code",
   "execution_count": 51,
   "metadata": {
    "id": "7Q-IfruEb-f7"
   },
   "outputs": [],
   "source": [
    "model.eval()\n",
    "\n",
    "classArray = []\n",
    "\n",
    "for i, (imgs, paths) in enumerate(test_dataloader):\n",
    "    img_ids = [get_id(path) for path in paths[\"ID\"]]\n",
    "    preds = model(imgs.to(\"cuda\"), paths)\n",
    "    preds = list(preds.detach())\n",
    "    preds = [oh2text(pred.detach().cpu()) for pred in preds]\n",
    "    classArray += list(zip(img_ids, preds))\n"
   ]
  },
  {
   "cell_type": "code",
   "execution_count": 50,
   "metadata": {
    "ExecuteTime": {
     "start_time": "2024-04-06T12:15:02.576891Z"
    },
    "colab": {
     "base_uri": "https://localhost:8080/"
    },
    "id": "Ct8HAdy8efab",
    "outputId": "9681bffa-d136-4087-925a-5f1a4ee1a4b8"
   },
   "outputs": [
    {
     "data": {
      "text/plain": [
       "['3632',\n",
       " '3773',\n",
       " '2357',\n",
       " '1194',\n",
       " '1323',\n",
       " '1330',\n",
       " '1951',\n",
       " '2362',\n",
       " '2906',\n",
       " '2356',\n",
       " '2863',\n",
       " '1',\n",
       " '3819',\n",
       " '3158',\n",
       " '1212',\n",
       " '3013',\n",
       " '3334',\n",
       " '2822',\n",
       " '1785',\n",
       " '3345',\n",
       " '440',\n",
       " '3835',\n",
       " '939',\n",
       " '1803',\n",
       " '620',\n",
       " '3135',\n",
       " '2202',\n",
       " '2672',\n",
       " '1628',\n",
       " '1077',\n",
       " '371',\n",
       " '1025',\n",
       " '99',\n",
       " '1342',\n",
       " '3519',\n",
       " '3871',\n",
       " '1291',\n",
       " '2514',\n",
       " '2609',\n",
       " '2088',\n",
       " '2429',\n",
       " '3651',\n",
       " '3166',\n",
       " '4192',\n",
       " '1047',\n",
       " '1746',\n",
       " '2293',\n",
       " '3943',\n",
       " '1200',\n",
       " '3308',\n",
       " '4042',\n",
       " '134',\n",
       " '1400',\n",
       " '1466',\n",
       " '3595',\n",
       " '2804',\n",
       " '4143',\n",
       " '498',\n",
       " '3481',\n",
       " '432',\n",
       " '1849',\n",
       " '4081',\n",
       " '2832',\n",
       " '4121']"
      ]
     },
     "execution_count": 50,
     "metadata": {},
     "output_type": "execute_result"
    }
   ],
   "source": [
    "paths[\"ID\"]"
   ]
  },
  {
   "cell_type": "code",
   "execution_count": 52,
   "metadata": {},
   "outputs": [
    {
     "data": {
      "text/plain": [
       "[('3812', 'AnnualCrop'),\n",
       " ('15', 'River'),\n",
       " ('2999', 'Residential'),\n",
       " ('3638', 'Industrial'),\n",
       " ('427', 'Residential'),\n",
       " ('733', 'AnnualCrop'),\n",
       " ('1432', 'AnnualCrop'),\n",
       " ('2056', 'Industrial'),\n",
       " ('640', 'AnnualCrop'),\n",
       " ('4161', 'Residential'),\n",
       " ('1997', 'Industrial'),\n",
       " ('2400', 'Residential'),\n",
       " ('3625', 'AnnualCrop'),\n",
       " ('3903', 'Residential'),\n",
       " ('408', 'Residential'),\n",
       " ('373', 'AnnualCrop'),\n",
       " ('3765', 'Industrial'),\n",
       " ('4097', 'Residential'),\n",
       " ('2448', 'Residential'),\n",
       " ('123', 'AnnualCrop'),\n",
       " ('4023', 'Residential'),\n",
       " ('86', 'Residential'),\n",
       " ('835', 'Residential'),\n",
       " ('1565', 'Residential'),\n",
       " ('181', 'AnnualCrop'),\n",
       " ('1586', 'Residential'),\n",
       " ('2124', 'Industrial'),\n",
       " ('3028', 'AnnualCrop'),\n",
       " ('1624', 'Residential'),\n",
       " ('1826', 'Residential'),\n",
       " ('1883', 'Residential'),\n",
       " ('2643', 'Industrial'),\n",
       " ('2909', 'Residential'),\n",
       " ('4108', 'Industrial'),\n",
       " ('3755', 'Residential'),\n",
       " ('2232', 'AnnualCrop'),\n",
       " ('352', 'Residential'),\n",
       " ('261', 'Residential'),\n",
       " ('2241', 'Residential'),\n",
       " ('4098', 'Residential'),\n",
       " ('685', 'Residential'),\n",
       " ('3107', 'Residential'),\n",
       " ('3015', 'Residential'),\n",
       " ('446', 'Residential'),\n",
       " ('368', 'Industrial'),\n",
       " ('3500', 'Industrial'),\n",
       " ('3773', 'Industrial'),\n",
       " ('2096', 'AnnualCrop'),\n",
       " ('1868', 'Industrial'),\n",
       " ('1151', 'Residential'),\n",
       " ('2404', 'Residential'),\n",
       " ('1785', 'Residential'),\n",
       " ('1851', 'Residential'),\n",
       " ('4109', 'AnnualCrop'),\n",
       " ('4068', 'Residential'),\n",
       " ('3721', 'Industrial'),\n",
       " ('1201', 'Residential'),\n",
       " ('2646', 'Residential'),\n",
       " ('1908', 'Industrial'),\n",
       " ('2228', 'Residential'),\n",
       " ('1799', 'Residential'),\n",
       " ('1983', 'AnnualCrop'),\n",
       " ('548', 'Residential'),\n",
       " ('911', 'Industrial'),\n",
       " ('2544', 'Residential'),\n",
       " ('3288', 'Residential'),\n",
       " ('1385', 'Residential'),\n",
       " ('3077', 'AnnualCrop'),\n",
       " ('2066', 'Residential'),\n",
       " ('3291', 'Residential'),\n",
       " ('372', 'Industrial'),\n",
       " ('773', 'Residential'),\n",
       " ('2297', 'Industrial'),\n",
       " ('1570', 'Residential'),\n",
       " ('968', 'Residential'),\n",
       " ('480', 'Industrial'),\n",
       " ('595', 'Residential'),\n",
       " ('2304', 'Residential'),\n",
       " ('1422', 'Residential'),\n",
       " ('34', 'Residential'),\n",
       " ('839', 'HerbaceousVegetation'),\n",
       " ('1143', 'AnnualCrop'),\n",
       " ('3359', 'Residential'),\n",
       " ('687', 'Industrial'),\n",
       " ('567', 'Residential'),\n",
       " ('3751', 'AnnualCrop'),\n",
       " ('1464', 'Residential'),\n",
       " ('639', 'Industrial'),\n",
       " ('3710', 'Residential'),\n",
       " ('636', 'Residential'),\n",
       " ('4014', 'AnnualCrop'),\n",
       " ('3450', 'Residential'),\n",
       " ('1042', 'Industrial'),\n",
       " ('3478', 'Residential'),\n",
       " ('2494', 'River'),\n",
       " ('152', 'Residential'),\n",
       " ('980', 'Industrial'),\n",
       " ('1946', 'AnnualCrop'),\n",
       " ('3418', 'AnnualCrop'),\n",
       " ('1640', 'River'),\n",
       " ('1236', 'Residential'),\n",
       " ('2819', 'Residential'),\n",
       " ('2629', 'AnnualCrop'),\n",
       " ('1167', 'Residential'),\n",
       " ('4118', 'Residential'),\n",
       " ('3081', 'Industrial'),\n",
       " ('1749', 'AnnualCrop'),\n",
       " ('2206', 'Industrial'),\n",
       " ('2301', 'Residential'),\n",
       " ('1690', 'Residential'),\n",
       " ('1483', 'AnnualCrop'),\n",
       " ('2197', 'AnnualCrop'),\n",
       " ('3764', 'AnnualCrop'),\n",
       " ('909', 'Residential'),\n",
       " ('2792', 'Industrial'),\n",
       " ('287', 'AnnualCrop'),\n",
       " ('441', 'AnnualCrop'),\n",
       " ('3830', 'Industrial'),\n",
       " ('2064', 'AnnualCrop'),\n",
       " ('575', 'Residential'),\n",
       " ('1737', 'AnnualCrop'),\n",
       " ('3550', 'AnnualCrop'),\n",
       " ('2670', 'Residential'),\n",
       " ('249', 'Residential'),\n",
       " ('668', 'Residential'),\n",
       " ('3998', 'Industrial'),\n",
       " ('795', 'Residential'),\n",
       " ('3498', 'HerbaceousVegetation'),\n",
       " ('3799', 'AnnualCrop'),\n",
       " ('1057', 'AnnualCrop'),\n",
       " ('231', 'Residential'),\n",
       " ('2660', 'Industrial'),\n",
       " ('1026', 'River'),\n",
       " ('1031', 'Residential'),\n",
       " ('1109', 'Residential'),\n",
       " ('109', 'Residential'),\n",
       " ('1901', 'Residential'),\n",
       " ('160', 'Industrial'),\n",
       " ('1857', 'Residential'),\n",
       " ('2067', 'AnnualCrop'),\n",
       " ('2850', 'Residential'),\n",
       " ('3094', 'Residential'),\n",
       " ('1262', 'Residential'),\n",
       " ('3571', 'Residential'),\n",
       " ('325', 'AnnualCrop'),\n",
       " ('3152', 'AnnualCrop'),\n",
       " ('555', 'Industrial'),\n",
       " ('758', 'Residential'),\n",
       " ('484', 'Residential'),\n",
       " ('3129', 'AnnualCrop'),\n",
       " ('3167', 'Residential'),\n",
       " ('2787', 'River'),\n",
       " ('1687', 'Residential'),\n",
       " ('1936', 'Residential'),\n",
       " ('2006', 'Residential'),\n",
       " ('2158', 'Residential'),\n",
       " ('2996', 'AnnualCrop'),\n",
       " ('3695', 'Residential'),\n",
       " ('4142', 'Residential'),\n",
       " ('172', 'Residential'),\n",
       " ('2267', 'Residential'),\n",
       " ('2669', 'AnnualCrop'),\n",
       " ('2189', 'AnnualCrop'),\n",
       " ('1923', 'AnnualCrop'),\n",
       " ('2473', 'Residential'),\n",
       " ('3193', 'AnnualCrop'),\n",
       " ('2595', 'Residential'),\n",
       " ('3546', 'Residential'),\n",
       " ('3966', 'Residential'),\n",
       " ('3514', 'Industrial'),\n",
       " ('727', 'Industrial'),\n",
       " ('517', 'Industrial'),\n",
       " ('3610', 'AnnualCrop'),\n",
       " ('1671', 'Residential'),\n",
       " ('3609', 'AnnualCrop'),\n",
       " ('796', 'AnnualCrop'),\n",
       " ('2931', 'AnnualCrop'),\n",
       " ('761', 'Residential'),\n",
       " ('2385', 'AnnualCrop'),\n",
       " ('2911', 'AnnualCrop'),\n",
       " ('4178', 'Residential'),\n",
       " ('657', 'River'),\n",
       " ('884', 'AnnualCrop'),\n",
       " ('1811', 'Residential'),\n",
       " ('1593', 'AnnualCrop'),\n",
       " ('4055', 'AnnualCrop'),\n",
       " ('3153', 'Industrial'),\n",
       " ('2753', 'Residential'),\n",
       " ('1367', 'HerbaceousVegetation'),\n",
       " ('1613', 'Residential'),\n",
       " ('2955', 'Industrial'),\n",
       " ('749', 'Residential'),\n",
       " ('556', 'Residential'),\n",
       " ('1581', 'HerbaceousVegetation'),\n",
       " ('2284', 'AnnualCrop'),\n",
       " ('182', 'AnnualCrop'),\n",
       " ('2939', 'AnnualCrop'),\n",
       " ('2071', 'Industrial'),\n",
       " ('72', 'Residential'),\n",
       " ('85', 'Residential'),\n",
       " ('2672', 'Residential'),\n",
       " ('1450', 'Industrial'),\n",
       " ('4116', 'Industrial'),\n",
       " ('2722', 'Residential'),\n",
       " ('1515', 'Residential'),\n",
       " ('201', 'AnnualCrop'),\n",
       " ('1985', 'AnnualCrop'),\n",
       " ('1693', 'Residential'),\n",
       " ('586', 'Residential'),\n",
       " ('3245', 'AnnualCrop'),\n",
       " ('1719', 'River'),\n",
       " ('4218', 'Residential'),\n",
       " ('36', 'Residential'),\n",
       " ('2557', 'Residential'),\n",
       " ('3756', 'AnnualCrop'),\n",
       " ('3850', 'Industrial'),\n",
       " ('3005', 'Residential'),\n",
       " ('1323', 'Residential'),\n",
       " ('3084', 'Residential'),\n",
       " ('2366', 'Residential'),\n",
       " ('3783', 'Residential'),\n",
       " ('1963', 'Industrial'),\n",
       " ('400', 'Residential'),\n",
       " ('2165', 'Residential'),\n",
       " ('2558', 'AnnualCrop'),\n",
       " ('1829', 'AnnualCrop'),\n",
       " ('1065', 'AnnualCrop'),\n",
       " ('3946', 'Industrial'),\n",
       " ('2545', 'Residential'),\n",
       " ('3130', 'AnnualCrop'),\n",
       " ('3021', 'AnnualCrop'),\n",
       " ('2502', 'HerbaceousVegetation'),\n",
       " ('1494', 'Residential'),\n",
       " ('1365', 'Residential'),\n",
       " ('3651', 'Residential'),\n",
       " ('1359', 'Residential'),\n",
       " ('1087', 'Residential'),\n",
       " ('1285', 'AnnualCrop'),\n",
       " ('4033', 'Industrial'),\n",
       " ('3414', 'HerbaceousVegetation'),\n",
       " ('3101', 'AnnualCrop'),\n",
       " ('3714', 'AnnualCrop'),\n",
       " ('523', 'Residential'),\n",
       " ('3662', 'AnnualCrop'),\n",
       " ('1987', 'AnnualCrop'),\n",
       " ('906', 'Residential'),\n",
       " ('3067', 'Industrial'),\n",
       " ('3482', 'Residential'),\n",
       " ('3257', 'Industrial'),\n",
       " ('1510', 'Residential'),\n",
       " ('1068', 'Residential'),\n",
       " ('3842', 'Residential'),\n",
       " ('623', 'Residential'),\n",
       " ('3168', 'AnnualCrop'),\n",
       " ('4137', 'Industrial'),\n",
       " ('741', 'Industrial'),\n",
       " ('4123', 'Residential'),\n",
       " ('2799', 'River'),\n",
       " ('2215', 'Residential'),\n",
       " ('666', 'AnnualCrop'),\n",
       " ('2478', 'Industrial'),\n",
       " ('343', 'AnnualCrop'),\n",
       " ('1551', 'River'),\n",
       " ('239', 'Residential'),\n",
       " ('507', 'Industrial'),\n",
       " ('3758', 'Residential'),\n",
       " ('150', 'HerbaceousVegetation'),\n",
       " ('3600', 'River'),\n",
       " ('536', 'Industrial'),\n",
       " ('3886', 'Residential'),\n",
       " ('3529', 'River'),\n",
       " ('748', 'Industrial'),\n",
       " ('559', 'Residential'),\n",
       " ('4040', 'Residential'),\n",
       " ('3992', 'Residential'),\n",
       " ('2141', 'Residential'),\n",
       " ('4005', 'Residential'),\n",
       " ('766', 'Residential'),\n",
       " ('2480', 'AnnualCrop'),\n",
       " ('1463', 'Residential'),\n",
       " ('594', 'AnnualCrop'),\n",
       " ('2762', 'AnnualCrop'),\n",
       " ('208', 'AnnualCrop'),\n",
       " ('940', 'AnnualCrop'),\n",
       " ('2852', 'Residential'),\n",
       " ('712', 'Industrial'),\n",
       " ('1477', 'Industrial'),\n",
       " ('1645', 'AnnualCrop'),\n",
       " ('936', 'Industrial'),\n",
       " ('1156', 'Residential'),\n",
       " ('1716', 'Residential'),\n",
       " ('4210', 'Residential'),\n",
       " ('417', 'Industrial'),\n",
       " ('157', 'Residential'),\n",
       " ('2965', 'Industrial'),\n",
       " ('2351', 'Residential'),\n",
       " ('2823', 'Residential'),\n",
       " ('1866', 'Industrial'),\n",
       " ('1635', 'AnnualCrop'),\n",
       " ('2218', 'Residential'),\n",
       " ('4088', 'AnnualCrop'),\n",
       " ('526', 'Residential'),\n",
       " ('2886', 'AnnualCrop'),\n",
       " ('1980', 'Residential'),\n",
       " ('2325', 'Residential'),\n",
       " ('1535', 'AnnualCrop'),\n",
       " ('3804', 'Residential'),\n",
       " ('2445', 'Industrial'),\n",
       " ('4215', 'Residential'),\n",
       " ('799', 'AnnualCrop'),\n",
       " ('843', 'Industrial'),\n",
       " ('592', 'Residential'),\n",
       " ('218', 'AnnualCrop'),\n",
       " ('4011', 'AnnualCrop'),\n",
       " ('2103', 'Residential'),\n",
       " ('2020', 'River'),\n",
       " ('989', 'Industrial'),\n",
       " ('3614', 'AnnualCrop'),\n",
       " ('1402', 'Residential'),\n",
       " ('3255', 'AnnualCrop'),\n",
       " ('2281', 'Residential'),\n",
       " ('2142', 'Residential'),\n",
       " ('2766', 'Residential'),\n",
       " ('2423', 'HerbaceousVegetation'),\n",
       " ('1641', 'Residential'),\n",
       " ('1098', 'Industrial'),\n",
       " ('1787', 'AnnualCrop'),\n",
       " ('610', 'River'),\n",
       " ('3476', 'Residential'),\n",
       " ('3416', 'AnnualCrop'),\n",
       " ('2644', 'AnnualCrop'),\n",
       " ('365', 'Residential'),\n",
       " ('939', 'AnnualCrop'),\n",
       " ('1507', 'Residential'),\n",
       " ('132', 'Residential'),\n",
       " ('1075', 'HerbaceousVegetation'),\n",
       " ('3660', 'Residential'),\n",
       " ('423', 'Industrial'),\n",
       " ('235', 'Industrial'),\n",
       " ('4160', 'Residential'),\n",
       " ('2510', 'Residential'),\n",
       " ('1575', 'AnnualCrop'),\n",
       " ('4113', 'AnnualCrop'),\n",
       " ('1573', 'AnnualCrop'),\n",
       " ('2652', 'AnnualCrop'),\n",
       " ('3175', 'SeaLake'),\n",
       " ('4007', 'AnnualCrop'),\n",
       " ('2019', 'Residential'),\n",
       " ('3739', 'River'),\n",
       " ('3355', 'HerbaceousVegetation'),\n",
       " ('1895', 'Residential'),\n",
       " ('54', 'Residential'),\n",
       " ('3327', 'Residential'),\n",
       " ('1299', 'AnnualCrop'),\n",
       " ('797', 'AnnualCrop'),\n",
       " ('504', 'AnnualCrop'),\n",
       " ('2659', 'Industrial'),\n",
       " ('823', 'Residential'),\n",
       " ('1281', 'AnnualCrop'),\n",
       " ('3601', 'Residential'),\n",
       " ('873', 'Industrial'),\n",
       " ('3033', 'Residential'),\n",
       " ('3381', 'AnnualCrop'),\n",
       " ('3461', 'Residential'),\n",
       " ('1734', 'Residential'),\n",
       " ('3679', 'Residential'),\n",
       " ('1704', 'Residential'),\n",
       " ('3818', 'Residential'),\n",
       " ('3016', 'Industrial'),\n",
       " ('1941', 'Residential'),\n",
       " ('2500', 'Industrial'),\n",
       " ('3857', 'Residential'),\n",
       " ('1239', 'Residential'),\n",
       " ('2689', 'Residential'),\n",
       " ('1186', 'Residential'),\n",
       " ('1863', 'AnnualCrop'),\n",
       " ('925', 'Industrial'),\n",
       " ('509', 'AnnualCrop'),\n",
       " ('1258', 'Residential'),\n",
       " ('1472', 'AnnualCrop'),\n",
       " ('1251', 'Residential'),\n",
       " ('1553', 'AnnualCrop'),\n",
       " ('1353', 'Industrial'),\n",
       " ('934', 'Residential'),\n",
       " ('205', 'AnnualCrop'),\n",
       " ('3939', 'Residential'),\n",
       " ('1148', 'Residential'),\n",
       " ('4126', 'Industrial'),\n",
       " ('3460', 'River'),\n",
       " ('1911', 'Residential'),\n",
       " ('658', 'AnnualCrop'),\n",
       " ('1779', 'Residential'),\n",
       " ('2403', 'AnnualCrop'),\n",
       " ('2176', 'AnnualCrop'),\n",
       " ('1339', 'Residential'),\n",
       " ('3539', 'Residential'),\n",
       " ('2193', 'Industrial'),\n",
       " ('1919', 'Residential'),\n",
       " ('3376', 'Industrial'),\n",
       " ('2462', 'Industrial'),\n",
       " ('3929', 'HerbaceousVegetation'),\n",
       " ('209', 'Residential'),\n",
       " ('357', 'AnnualCrop'),\n",
       " ('42', 'Residential'),\n",
       " ('2159', 'AnnualCrop'),\n",
       " ('1834', 'Industrial'),\n",
       " ('2457', 'AnnualCrop'),\n",
       " ('1008', 'Residential'),\n",
       " ('3579', 'AnnualCrop'),\n",
       " ('3352', 'Industrial'),\n",
       " ('1588', 'AnnualCrop'),\n",
       " ('2693', 'Residential'),\n",
       " ('4208', 'Residential'),\n",
       " ('1469', 'AnnualCrop'),\n",
       " ('4087', 'Industrial'),\n",
       " ('1606', 'Industrial'),\n",
       " ('4202', 'Residential'),\n",
       " ('3397', 'AnnualCrop'),\n",
       " ('3581', 'HerbaceousVegetation'),\n",
       " ('1080', 'AnnualCrop'),\n",
       " ('173', 'AnnualCrop'),\n",
       " ('228', 'HerbaceousVegetation'),\n",
       " ('4125', 'River'),\n",
       " ('2604', 'AnnualCrop'),\n",
       " ('1468', 'AnnualCrop'),\n",
       " ('1943', 'AnnualCrop'),\n",
       " ('1626', 'AnnualCrop'),\n",
       " ('767', 'AnnualCrop'),\n",
       " ('2461', 'AnnualCrop'),\n",
       " ('810', 'Industrial'),\n",
       " ('2956', 'AnnualCrop'),\n",
       " ('2266', 'AnnualCrop'),\n",
       " ('93', 'AnnualCrop'),\n",
       " ('2957', 'Residential'),\n",
       " ('2132', 'Residential'),\n",
       " ('4067', 'Residential'),\n",
       " ('3462', 'Residential'),\n",
       " ('1527', 'Residential'),\n",
       " ('915', 'Residential'),\n",
       " ('1955', 'HerbaceousVegetation'),\n",
       " ('2311', 'Residential'),\n",
       " ('4022', 'Industrial'),\n",
       " ('2162', 'Residential'),\n",
       " ('3465', 'Residential'),\n",
       " ('1647', 'AnnualCrop'),\n",
       " ('1036', 'HerbaceousVegetation'),\n",
       " ('889', 'Residential'),\n",
       " ('1100', 'AnnualCrop'),\n",
       " ('266', 'Residential'),\n",
       " ('1741', 'AnnualCrop'),\n",
       " ('3217', 'Residential'),\n",
       " ('901', 'AnnualCrop'),\n",
       " ('1916', 'AnnualCrop'),\n",
       " ('3308', 'Residential'),\n",
       " ('120', 'AnnualCrop'),\n",
       " ('3743', 'Residential'),\n",
       " ('2211', 'AnnualCrop'),\n",
       " ('2720', 'Industrial'),\n",
       " ('3595', 'AnnualCrop'),\n",
       " ('1608', 'Industrial'),\n",
       " ('1815', 'Residential'),\n",
       " ('2100', 'AnnualCrop'),\n",
       " ('2308', 'Residential'),\n",
       " ('3673', 'Residential'),\n",
       " ('1090', 'Residential'),\n",
       " ('2624', 'Residential'),\n",
       " ('1967', 'Residential'),\n",
       " ('3809', 'Residential'),\n",
       " ('1296', 'Residential'),\n",
       " ('2402', 'AnnualCrop'),\n",
       " ('1858', 'Residential'),\n",
       " ('2240', 'HerbaceousVegetation'),\n",
       " ('4147', 'Residential'),\n",
       " ('511', 'Residential'),\n",
       " ('661', 'Residential'),\n",
       " ('3279', 'Residential'),\n",
       " ('1079', 'Residential'),\n",
       " ('2519', 'Residential'),\n",
       " ('3938', 'Industrial'),\n",
       " ('751', 'Residential'),\n",
       " ('2363', 'Industrial'),\n",
       " ('3223', 'Residential'),\n",
       " ('3272', 'Residential'),\n",
       " ('875', 'Residential'),\n",
       " ('1688', 'Residential'),\n",
       " ('383', 'Residential'),\n",
       " ('2532', 'Residential'),\n",
       " ('3025', 'Residential'),\n",
       " ('3928', 'AnnualCrop'),\n",
       " ('3989', 'Residential'),\n",
       " ('2057', 'Industrial'),\n",
       " ('577', 'Residential'),\n",
       " ('2758', 'Industrial'),\n",
       " ('1030', 'Industrial'),\n",
       " ('1159', 'Residential'),\n",
       " ('318', 'AnnualCrop'),\n",
       " ('2230', 'HerbaceousVegetation'),\n",
       " ('1235', 'AnnualCrop'),\n",
       " ('3663', 'Industrial'),\n",
       " ('3916', 'Residential'),\n",
       " ('1203', 'AnnualCrop'),\n",
       " ('3221', 'AnnualCrop'),\n",
       " ('2068', 'Industrial'),\n",
       " ('505', 'Industrial'),\n",
       " ('2704', 'AnnualCrop'),\n",
       " ('1327', 'Residential'),\n",
       " ('3145', 'River'),\n",
       " ('1211', 'Residential'),\n",
       " ('1769', 'Residential'),\n",
       " ('2443', 'Industrial'),\n",
       " ('1791', 'Residential'),\n",
       " ('1077', 'AnnualCrop'),\n",
       " ('497', 'AnnualCrop'),\n",
       " ('3337', 'AnnualCrop'),\n",
       " ('3837', 'AnnualCrop'),\n",
       " ('1968', 'AnnualCrop'),\n",
       " ('3652', 'Residential'),\n",
       " ('4047', 'AnnualCrop'),\n",
       " ('3445', 'Residential'),\n",
       " ('2615', 'Residential'),\n",
       " ('177', 'AnnualCrop'),\n",
       " ('2039', 'Residential'),\n",
       " ('2305', 'AnnualCrop'),\n",
       " ('1145', 'HerbaceousVegetation'),\n",
       " ('2477', 'Residential'),\n",
       " ('3171', 'Residential'),\n",
       " ('3615', 'Residential'),\n",
       " ('2119', 'AnnualCrop'),\n",
       " ('2580', 'Industrial'),\n",
       " ('3953', 'AnnualCrop'),\n",
       " ('1560', 'Residential'),\n",
       " ('1040', 'Residential'),\n",
       " ('3524', 'Residential'),\n",
       " ('3814', 'Residential'),\n",
       " ('2853', 'Residential'),\n",
       " ('4194', 'Industrial'),\n",
       " ('2832', 'Residential'),\n",
       " ('3031', 'Residential'),\n",
       " ('163', 'HerbaceousVegetation'),\n",
       " ('3527', 'Residential'),\n",
       " ('1707', 'Industrial'),\n",
       " ('826', 'Industrial'),\n",
       " ('2822', 'Residential'),\n",
       " ('1780', 'Residential'),\n",
       " ('2254', 'AnnualCrop'),\n",
       " ('4172', 'River'),\n",
       " ('2825', 'Residential'),\n",
       " ('4127', 'Residential'),\n",
       " ('851', 'Industrial'),\n",
       " ('1178', 'Industrial'),\n",
       " ('3878', 'AnnualCrop'),\n",
       " ('2349', 'AnnualCrop'),\n",
       " ('79', 'AnnualCrop'),\n",
       " ('1491', 'AnnualCrop'),\n",
       " ('789', 'Industrial'),\n",
       " ('2247', 'Residential'),\n",
       " ('3522', 'River'),\n",
       " ('1720', 'AnnualCrop'),\n",
       " ('1632', 'Residential'),\n",
       " ('927', 'AnnualCrop'),\n",
       " ('1392', 'AnnualCrop'),\n",
       " ('1953', 'AnnualCrop'),\n",
       " ('2231', 'AnnualCrop'),\n",
       " ('1839', 'Industrial'),\n",
       " ('1205', 'AnnualCrop'),\n",
       " ('967', 'Residential'),\n",
       " ('252', 'Residential'),\n",
       " ('1596', 'Residential'),\n",
       " ('3075', 'Residential'),\n",
       " ('1241', 'AnnualCrop'),\n",
       " ('1336', 'AnnualCrop'),\n",
       " ('1401', 'Residential'),\n",
       " ('1421', 'AnnualCrop'),\n",
       " ('2700', 'Residential'),\n",
       " ('184', 'Industrial'),\n",
       " ('921', 'AnnualCrop'),\n",
       " ('2528', 'AnnualCrop'),\n",
       " ('3634', 'Residential'),\n",
       " ('990', 'River'),\n",
       " ('3138', 'Residential'),\n",
       " ('998', 'Residential'),\n",
       " ('2960', 'Industrial'),\n",
       " ('217', 'Residential'),\n",
       " ('647', 'Industrial'),\n",
       " ('394', 'Residential'),\n",
       " ('1873', 'Industrial'),\n",
       " ('3340', 'Industrial'),\n",
       " ('3395', 'AnnualCrop'),\n",
       " ('637', 'Residential'),\n",
       " ('1333', 'AnnualCrop'),\n",
       " ('421', 'Residential'),\n",
       " ('957', 'HerbaceousVegetation'),\n",
       " ('169', 'Residential'),\n",
       " ('4231', 'AnnualCrop'),\n",
       " ('2930', 'Residential'),\n",
       " ('2357', 'AnnualCrop'),\n",
       " ('1442', 'Residential'),\n",
       " ('3513', 'Industrial'),\n",
       " ('2123', 'Residential'),\n",
       " ('2879', 'Residential'),\n",
       " ('651', 'Residential'),\n",
       " ('1721', 'AnnualCrop'),\n",
       " ('4031', 'Residential'),\n",
       " ('1237', 'Residential'),\n",
       " ('404', 'AnnualCrop'),\n",
       " ('1345', 'AnnualCrop'),\n",
       " ('3052', 'River'),\n",
       " ('2160', 'Residential'),\n",
       " ('714', 'AnnualCrop'),\n",
       " ('3845', 'Residential'),\n",
       " ('1545', 'Residential'),\n",
       " ('1913', 'Residential'),\n",
       " ('1382', 'Residential'),\n",
       " ('1715', 'Residential'),\n",
       " ('2559', 'Residential'),\n",
       " ('4184', 'Residential'),\n",
       " ('2430', 'Residential'),\n",
       " ('2715', 'Residential'),\n",
       " ('1817', 'Industrial'),\n",
       " ('3734', 'Residential'),\n",
       " ('2079', 'AnnualCrop'),\n",
       " ('2010', 'Residential'),\n",
       " ('3667', 'Residential'),\n",
       " ('2465', 'Residential'),\n",
       " ('3407', 'Residential'),\n",
       " ('2666', 'HerbaceousVegetation'),\n",
       " ('302', 'Industrial'),\n",
       " ('524', 'Residential'),\n",
       " ('3701', 'Industrial'),\n",
       " ('525', 'Residential'),\n",
       " ('1050', 'Residential'),\n",
       " ('3759', 'AnnualCrop'),\n",
       " ('3379', 'HerbaceousVegetation'),\n",
       " ('3689', 'AnnualCrop'),\n",
       " ('2982', 'AnnualCrop'),\n",
       " ('1654', 'Forest'),\n",
       " ('1567', 'Residential'),\n",
       " ('2212', 'Residential'),\n",
       " ('3583', 'Residential'),\n",
       " ('3648', 'Residential'),\n",
       " ('164', 'Residential'),\n",
       " ('1651', 'River'),\n",
       " ('2043', 'AnnualCrop'),\n",
       " ('4110', 'AnnualCrop'),\n",
       " ('3780', 'AnnualCrop'),\n",
       " ('4148', 'AnnualCrop'),\n",
       " ('1618', 'Residential'),\n",
       " ('3040', 'HerbaceousVegetation'),\n",
       " ('2940', 'Residential'),\n",
       " ('3157', 'HerbaceousVegetation'),\n",
       " ('3099', 'AnnualCrop'),\n",
       " ('3873', 'Residential'),\n",
       " ('4096', 'Industrial'),\n",
       " ('3240', 'AnnualCrop'),\n",
       " ('1846', 'Industrial'),\n",
       " ('225', 'Residential'),\n",
       " ('887', 'Residential'),\n",
       " ('3102', 'Industrial'),\n",
       " ('3893', 'AnnualCrop'),\n",
       " ('2709', 'Residential'),\n",
       " ('3071', 'AnnualCrop'),\n",
       " ('2654', 'Residential'),\n",
       " ('624', 'AnnualCrop'),\n",
       " ('1940', 'Residential'),\n",
       " ('2047', 'Residential'),\n",
       " ('1728', 'Residential'),\n",
       " ('4149', 'Residential'),\n",
       " ('1848', 'Residential'),\n",
       " ('583', 'Residential'),\n",
       " ('494', 'Residential'),\n",
       " ('1984', 'AnnualCrop'),\n",
       " ('1939', 'AnnualCrop'),\n",
       " ('4180', 'Residential'),\n",
       " ('271', 'AnnualCrop'),\n",
       " ('982', 'Residential'),\n",
       " ('2192', 'Residential'),\n",
       " ('311', 'Industrial'),\n",
       " ('2744', 'Residential'),\n",
       " ('1877', 'HerbaceousVegetation'),\n",
       " ('603', 'Residential'),\n",
       " ('3501', 'Residential'),\n",
       " ('907', 'Residential'),\n",
       " ('1412', 'Industrial'),\n",
       " ('1122', 'Residential'),\n",
       " ('2050', 'Residential'),\n",
       " ('1947', 'Residential'),\n",
       " ('2845', 'Residential'),\n",
       " ('2961', 'AnnualCrop'),\n",
       " ('3801', 'Residential'),\n",
       " ('2992', 'Residential'),\n",
       " ('840', 'Residential'),\n",
       " ('3923', 'Residential'),\n",
       " ('78', 'River'),\n",
       " ('3232', 'Residential'),\n",
       " ('2662', 'Industrial'),\n",
       " ('746', 'AnnualCrop'),\n",
       " ('3608', 'AnnualCrop'),\n",
       " ('4190', 'Residential'),\n",
       " ('492', 'Residential'),\n",
       " ('2954', 'AnnualCrop'),\n",
       " ('200', 'AnnualCrop'),\n",
       " ('3578', 'AnnualCrop'),\n",
       " ('147', 'AnnualCrop'),\n",
       " ('2796', 'Industrial'),\n",
       " ('1867', 'Residential'),\n",
       " ('1172', 'AnnualCrop'),\n",
       " ('371', 'Residential'),\n",
       " ('691', 'Residential'),\n",
       " ('1034', 'Residential'),\n",
       " ('3970', 'Residential'),\n",
       " ('1700', 'Industrial'),\n",
       " ('1340', 'Residential'),\n",
       " ('2944', 'AnnualCrop'),\n",
       " ('2303', 'Residential'),\n",
       " ('2352', 'AnnualCrop'),\n",
       " ('3687', 'AnnualCrop'),\n",
       " ('520', 'AnnualCrop'),\n",
       " ('992', 'AnnualCrop'),\n",
       " ('3680', 'River'),\n",
       " ('3070', 'Residential'),\n",
       " ('3439', 'HerbaceousVegetation'),\n",
       " ('3277', 'Residential'),\n",
       " ('2806', 'AnnualCrop'),\n",
       " ('3518', 'AnnualCrop'),\n",
       " ('1082', 'Residential'),\n",
       " ('850', 'Residential'),\n",
       " ('291', 'AnnualCrop'),\n",
       " ('359', 'River'),\n",
       " ('2157', 'Residential'),\n",
       " ('1629', 'Residential'),\n",
       " ('2235', 'Residential'),\n",
       " ('1216', 'Residential'),\n",
       " ('1242', 'Residential'),\n",
       " ('1713', 'Residential'),\n",
       " ('1129', 'Industrial'),\n",
       " ('1094', 'Residential'),\n",
       " ('1828', 'Residential'),\n",
       " ('3134', 'AnnualCrop'),\n",
       " ('1956', 'Residential'),\n",
       " ('179', 'AnnualCrop'),\n",
       " ('3263', 'AnnualCrop'),\n",
       " ('5', 'Industrial'),\n",
       " ('2372', 'Residential'),\n",
       " ('1566', 'Residential'),\n",
       " ('1410', 'Residential'),\n",
       " ('2546', 'Residential'),\n",
       " ('993', 'Industrial'),\n",
       " ('4076', 'Residential'),\n",
       " ('2031', 'Industrial'),\n",
       " ('3698', 'Residential'),\n",
       " ('167', 'Residential'),\n",
       " ('1695', 'Residential'),\n",
       " ('2411', 'Industrial'),\n",
       " ('2029', 'Industrial'),\n",
       " ('3074', 'Residential'),\n",
       " ('3114', 'Residential'),\n",
       " ('3496', 'Residential'),\n",
       " ('1126', 'Industrial'),\n",
       " ('868', 'River'),\n",
       " ('327', 'Residential'),\n",
       " ('1543', 'Residential'),\n",
       " ('2328', 'Industrial'),\n",
       " ('3452', 'AnnualCrop'),\n",
       " ('1951', 'Industrial'),\n",
       " ('1870', 'Residential'),\n",
       " ('2342', 'AnnualCrop'),\n",
       " ('90', 'Residential'),\n",
       " ('3819', 'Residential'),\n",
       " ('3668', 'Residential'),\n",
       " ('1558', 'Residential'),\n",
       " ('1188', 'HerbaceousVegetation'),\n",
       " ('1706', 'Residential'),\n",
       " ('699', 'Residential'),\n",
       " ('3572', 'AnnualCrop'),\n",
       " ('3732', 'Residential'),\n",
       " ('1726', 'AnnualCrop'),\n",
       " ('3093', 'Residential'),\n",
       " ('3824', 'AnnualCrop'),\n",
       " ('127', 'Residential'),\n",
       " ('849', 'Residential'),\n",
       " ('3974', 'Residential'),\n",
       " ('1456', 'Industrial'),\n",
       " ('2147', 'Residential'),\n",
       " ('3202', 'AnnualCrop'),\n",
       " ('142', 'Residential'),\n",
       " ('719', 'Residential'),\n",
       " ('2144', 'Industrial'),\n",
       " ('543', 'Residential'),\n",
       " ('2764', 'HerbaceousVegetation'),\n",
       " ('3164', 'River'),\n",
       " ('1621', 'Industrial'),\n",
       " ('3892', 'Industrial'),\n",
       " ('1453', 'AnnualCrop'),\n",
       " ('1639', 'Residential'),\n",
       " ('1674', 'Residential'),\n",
       " ('2481', 'Residential'),\n",
       " ('3713', 'HerbaceousVegetation'),\n",
       " ('2245', 'Industrial'),\n",
       " ('1091', 'AnnualCrop'),\n",
       " ('864', 'Residential'),\n",
       " ('1307', 'Residential'),\n",
       " ('459', 'Residential'),\n",
       " ('2238', 'AnnualCrop'),\n",
       " ('1833', 'HerbaceousVegetation'),\n",
       " ('2613', 'AnnualCrop'),\n",
       " ('1760', 'River'),\n",
       " ('1761', 'Industrial'),\n",
       " ('593', 'Industrial'),\n",
       " ('3890', 'Residential'),\n",
       " ('736', 'Residential'),\n",
       " ('3199', 'Industrial'),\n",
       " ('584', 'AnnualCrop'),\n",
       " ('1280', 'HerbaceousVegetation'),\n",
       " ('2985', 'Residential'),\n",
       " ('895', 'Residential'),\n",
       " ('2167', 'River'),\n",
       " ('2890', 'AnnualCrop'),\n",
       " ('1598', 'Residential'),\n",
       " ('2011', 'AnnualCrop'),\n",
       " ('2531', 'Residential'),\n",
       " ('1245', 'Residential'),\n",
       " ('1899', 'Residential'),\n",
       " ('2892', 'Residential'),\n",
       " ('1208', 'HerbaceousVegetation'),\n",
       " ('214', 'AnnualCrop'),\n",
       " ('1994', 'Residential'),\n",
       " ('3080', 'HerbaceousVegetation'),\n",
       " ('1074', 'AnnualCrop'),\n",
       " ('1664', 'Residential'),\n",
       " ('2801', 'Residential'),\n",
       " ('2674', 'Residential'),\n",
       " ('2401', 'AnnualCrop'),\n",
       " ('2331', 'Residential'),\n",
       " ('710', 'River'),\n",
       " ('878', 'AnnualCrop'),\n",
       " ('3632', 'Residential'),\n",
       " ('2129', 'Industrial'),\n",
       " ('4074', 'Industrial'),\n",
       " ('2530', 'AnnualCrop'),\n",
       " ('3269', 'Residential'),\n",
       " ('2842', 'Residential'),\n",
       " ('1046', 'AnnualCrop'),\n",
       " ('4228', 'Residential'),\n",
       " ('4204', 'Residential'),\n",
       " ('2678', 'Residential'),\n",
       " ('2635', 'Residential'),\n",
       " ('2283', 'HerbaceousVegetation'),\n",
       " ('1157', 'Residential'),\n",
       " ('1363', 'AnnualCrop'),\n",
       " ('1550', 'AnnualCrop'),\n",
       " ('959', 'AnnualCrop'),\n",
       " ('3887', 'AnnualCrop'),\n",
       " ('1605', 'AnnualCrop'),\n",
       " ('1973', 'Residential'),\n",
       " ('2095', 'Residential'),\n",
       " ('1314', 'AnnualCrop'),\n",
       " ('2508', 'Residential'),\n",
       " ('328', 'AnnualCrop'),\n",
       " ('620', 'AnnualCrop'),\n",
       " ('2114', 'Residential'),\n",
       " ('545', 'AnnualCrop'),\n",
       " ('1169', 'Residential'),\n",
       " ('1744', 'AnnualCrop'),\n",
       " ('479', 'Residential'),\n",
       " ('1452', 'Residential'),\n",
       " ('2008', 'Residential'),\n",
       " ('125', 'Residential'),\n",
       " ('1292', 'Residential'),\n",
       " ('2929', 'Residential'),\n",
       " ('3907', 'Residential'),\n",
       " ('444', 'Industrial'),\n",
       " ('2816', 'Industrial'),\n",
       " ('3811', 'Residential'),\n",
       " ('3558', 'Residential'),\n",
       " ('3894', 'AnnualCrop'),\n",
       " ('194', 'Residential'),\n",
       " ('3127', 'AnnualCrop'),\n",
       " ('4121', 'Residential'),\n",
       " ('401', 'River'),\n",
       " ('705', 'Residential'),\n",
       " ('57', 'Residential'),\n",
       " ('2194', 'Residential'),\n",
       " ('978', 'Residential'),\n",
       " ('1539', 'AnnualCrop'),\n",
       " ('4032', 'Residential'),\n",
       " ('4054', 'AnnualCrop'),\n",
       " ('108', 'Residential'),\n",
       " ('946', 'AnnualCrop'),\n",
       " ('1736', 'Residential'),\n",
       " ('4105', 'Residential'),\n",
       " ('2867', 'AnnualCrop'),\n",
       " ('388', 'Residential'),\n",
       " ('2555', 'Residential'),\n",
       " ('2377', 'AnnualCrop'),\n",
       " ('3353', 'Residential'),\n",
       " ('3273', 'Residential'),\n",
       " ('1933', 'AnnualCrop'),\n",
       " ('2038', 'Residential'),\n",
       " ('3387', 'River'),\n",
       " ('1568', 'Residential'),\n",
       " ('38', 'AnnualCrop'),\n",
       " ('2935', 'Residential'),\n",
       " ('2974', 'Residential'),\n",
       " ('2003', 'Residential'),\n",
       " ('63', 'Residential'),\n",
       " ('1348', 'Residential'),\n",
       " ('1255', 'River'),\n",
       " ('168', 'Residential'),\n",
       " ('2171', 'AnnualCrop'),\n",
       " ('919', 'AnnualCrop'),\n",
       " ('2564', 'Residential'),\n",
       " ('3357', 'River'),\n",
       " ('2012', 'Residential'),\n",
       " ('2981', 'Industrial'),\n",
       " ('2562', 'Residential'),\n",
       " ('353', 'AnnualCrop'),\n",
       " ('3078', 'River'),\n",
       " ('69', 'AnnualCrop'),\n",
       " ('4079', 'Industrial'),\n",
       " ('3815', 'Industrial'),\n",
       " ('1089', 'Residential'),\n",
       " ('2584', 'Industrial'),\n",
       " ('155', 'AnnualCrop'),\n",
       " ('3867', 'Industrial'),\n",
       " ('1243', 'AnnualCrop'),\n",
       " ('3194', 'Industrial'),\n",
       " ('3847', 'Industrial'),\n",
       " ('3345', 'Residential'),\n",
       " ('2224', 'Residential'),\n",
       " ('1615', 'Residential'),\n",
       " ('2651', 'AnnualCrop'),\n",
       " ('1571', 'Residential'),\n",
       " ('1954', 'Residential'),\n",
       " ('2902', 'Residential'),\n",
       " ('3143', 'Residential'),\n",
       " ('3554', 'Residential'),\n",
       " ('994', 'Residential'),\n",
       " ('4139', 'Residential'),\n",
       " ('4043', 'Residential'),\n",
       " ('1111', 'AnnualCrop'),\n",
       " ('2376', 'Residential'),\n",
       " ('73', 'Residential'),\n",
       " ('2236', 'Industrial'),\n",
       " ('3191', 'AnnualCrop'),\n",
       " ('872', 'Residential'),\n",
       " ('2741', 'River'),\n",
       " ('2781', 'HerbaceousVegetation'),\n",
       " ('4196', 'Residential'),\n",
       " ('3534', 'Industrial'),\n",
       " ('2970', 'Residential'),\n",
       " ('3446', 'Residential'),\n",
       " ('1223', 'AnnualCrop'),\n",
       " ('1174', 'Residential'),\n",
       " ('3925', 'Residential'),\n",
       " ('1076', 'Residential'),\n",
       " ('3770', 'Industrial'),\n",
       " ('3231', 'Residential'),\n",
       " ('3805', 'AnnualCrop'),\n",
       " ('1060', 'Residential'),\n",
       " ('631', 'Residential'),\n",
       " ('899', 'AnnualCrop'),\n",
       " ('3656', 'AnnualCrop'),\n",
       " ('2143', 'AnnualCrop'),\n",
       " ('3570', 'AnnualCrop'),\n",
       " ('846', 'AnnualCrop'),\n",
       " ('2309', 'Residential'),\n",
       " ('3378', 'Residential'),\n",
       " ('1724', 'Residential'),\n",
       " ('2086', 'Residential'),\n",
       " ('2663', 'Industrial'),\n",
       " ('776', 'River'),\n",
       " ('892', 'River'),\n",
       " ('2869', 'Industrial'),\n",
       " ('2454', 'AnnualCrop'),\n",
       " ('1081', 'Industrial'),\n",
       " ('695', 'AnnualCrop'),\n",
       " ('2684', 'AnnualCrop'),\n",
       " ('540', 'Residential'),\n",
       " ('2828', 'AnnualCrop'),\n",
       " ('2060', 'AnnualCrop'),\n",
       " ('2712', 'AnnualCrop'),\n",
       " ('1272', 'AnnualCrop'),\n",
       " ('4220', 'Residential'),\n",
       " ('4062', 'AnnualCrop'),\n",
       " ('991', 'AnnualCrop'),\n",
       " ('159', 'AnnualCrop'),\n",
       " ('2136', 'AnnualCrop'),\n",
       " ('4205', 'Residential'),\n",
       " ('3611', 'Residential'),\n",
       " ('349', 'Residential'),\n",
       " ('3146', 'HerbaceousVegetation'),\n",
       " ('1311', 'AnnualCrop'),\n",
       " ('3706', 'Residential'),\n",
       " ('2735', 'Residential'),\n",
       " ('1667', 'AnnualCrop'),\n",
       " ('2083', 'AnnualCrop'),\n",
       " ('1406', 'River'),\n",
       " ('2441', 'HerbaceousVegetation'),\n",
       " ('2878', 'AnnualCrop'),\n",
       " ('3270', 'Residential'),\n",
       " ...]"
      ]
     },
     "execution_count": 52,
     "metadata": {},
     "output_type": "execute_result"
    }
   ],
   "source": [
    "classArray"
   ]
  },
  {
   "cell_type": "code",
   "execution_count": null,
   "metadata": {
    "id": "3XxiAd7KYRnv"
   },
   "outputs": [],
   "source": [
    "# Ziel: Array: classArray von (image index, predicted label)\n",
    "\n",
    "#loop durch test_dataloader (minibatch)\n",
    "    # pred labels (alle im minibatch auf einmal)\n",
    "    # find image ids for each pred ()\n",
    "    # Translate pred to text label\n",
    "    # append to array"
   ]
  },
  {
   "cell_type": "markdown",
   "metadata": {
    "id": "7ObxBMEJM6gs"
   },
   "source": [
    "## Submission\n",
    "\n",
    "\n",
    "\n"
   ]
  },
  {
   "cell_type": "markdown",
   "metadata": {
    "id": "9EwWNO6lMoPS"
   },
   "source": [
    ">We then create a csv with all our predictions to upload it to kaggle."
   ]
  },
  {
   "cell_type": "code",
   "execution_count": 53,
   "metadata": {
    "id": "lTl0h6xMMl4D"
   },
   "outputs": [],
   "source": [
    "import csv\n",
    "\n",
    "with open('submission_v1.csv', 'w', newline='') as csvfile:\n",
    "    # Create a CSV writer object\n",
    "    writer = csv.writer(csvfile)\n",
    "\n",
    "    # Write the header row\n",
    "    writer.writerow(['test_id', 'label'])\n",
    "\n",
    "    # Write each string to a row with its corresponding index as the test_id\n",
    "    for i, label in classArray:\n",
    "        writer.writerow([i, label])"
   ]
  }
 ],
 "metadata": {
  "accelerator": "GPU",
  "colab": {
   "gpuType": "T4",
   "provenance": []
  },
  "kernelspec": {
   "display_name": "Python 3 (ipykernel)",
   "language": "python",
   "name": "python3"
  },
  "language_info": {
   "codemirror_mode": {
    "name": "ipython",
    "version": 3
   },
   "file_extension": ".py",
   "mimetype": "text/x-python",
   "name": "python",
   "nbconvert_exporter": "python",
   "pygments_lexer": "ipython3",
   "version": "3.10.13"
  }
 },
 "nbformat": 4,
 "nbformat_minor": 0
}
