{
 "cells": [
  {
   "cell_type": "markdown",
   "metadata": {
    "id": "H24hLkOfNP8Z"
   },
   "source": [
    "# ML Coding Challenge\n",
    "## Random Forest Rangers\n",
    "## Urban, Atilla, Jano"
   ]
  },
  {
   "cell_type": "markdown",
   "metadata": {},
   "source": [
    "ssh -N -T -L 30001:localhost:30001 urban@dgx-2-02.ics.unisg.ch"
   ]
  },
  {
   "cell_type": "markdown",
   "metadata": {
    "id": "yZtLM40ANoYV"
   },
   "source": [
    "## Setup"
   ]
  },
  {
   "cell_type": "code",
   "metadata": {
    "id": "uFUdT5EvNjh5",
    "ExecuteTime": {
     "end_time": "2024-04-11T18:15:33.747304Z",
     "start_time": "2024-04-11T18:15:33.718280Z"
    }
   },
   "source": [
    "import os\n",
    "\n",
    "\n",
    "import numpy as np\n",
    "import matplotlib.pyplot as plt\n",
    "%matplotlib inline"
   ],
   "outputs": [],
   "execution_count": 6
  },
  {
   "cell_type": "markdown",
   "metadata": {
    "id": "8PSMPxqggzmV"
   },
   "source": [
    "# Load Training & Test Data"
   ]
  },
  {
   "cell_type": "code",
   "metadata": {
    "colab": {
     "base_uri": "https://localhost:8080/"
    },
    "id": "kE3L__QDgYvS",
    "outputId": "0972c115-aeec-409f-d273-271d4310aa7d",
    "ExecuteTime": {
     "end_time": "2024-04-11T18:19:32.046245Z",
     "start_time": "2024-04-11T18:19:32.025732Z"
    }
   },
   "source": [
    "# file locations\n",
    "DATA_PATH = \"drive/MyDrive/AIML24\"\n",
    "TRAINING_PATH = DATA_PATH + \"/remote_sensing/otherDatasets/sentinel_2/tif\"\n",
    "TEST_PATH = DATA_PATH + \"/remote_sensing/otherDatasets/sentinel_2/testset\"\n",
    "\n",
    "# mount g-drive\n",
    "try:\n",
    "    from google.colab import drive\n",
    "    drive.mount('/content/drive')\n",
    "\n",
    "    # copy files into runtime for performance\n",
    "    !cp \"drive/MyDrive/AIML24\" \"AIML24\"\n",
    "    DATA_PATH = \"AIML24\"\n",
    "except:\n",
    "    pass # probably local environment\n",
    "\n"
   ],
   "outputs": [],
   "execution_count": 22
  },
  {
   "cell_type": "code",
   "metadata": {
    "id": "0SYpaK22lHsC",
    "ExecuteTime": {
     "end_time": "2024-04-11T18:17:29.845750Z",
     "start_time": "2024-04-11T18:17:29.843397Z"
    }
   },
   "source": [
    "# Download Training Data\n",
    "# !wget https://madm.dfki.de/files/sentinel/EuroSATallBands.zip --no-check-certificate\n",
    "# !unzip EuroSATallBands.zip\n",
    "# !mv ds/* \"drive/MyDrive/AIML24\"\n",
    "\n",
    "# ☝️Test data must be downloaded manually: put into AIML24/remote_sensing/otherDatasets/sentinel_2/testdata dir"
   ],
   "outputs": [],
   "execution_count": 16
  },
  {
   "cell_type": "code",
   "metadata": {
    "colab": {
     "base_uri": "https://localhost:8080/"
    },
    "id": "EKZuqiBL7c3k",
    "outputId": "ae678dba-6edc-4c1c-9b78-e4990cda2484",
    "ExecuteTime": {
     "end_time": "2024-04-11T18:15:44.541157Z",
     "start_time": "2024-04-11T18:15:44.526963Z"
    }
   },
   "source": [
    "# !unzip \"drive/MyDrive/AIML24/remote_sensing/otherDatasets/sentinel_2/testset.zip\"\n",
    "# !mv testset/testset/* \"drive/MyDrive/AIML24/remote_sensing/otherDatasets/sentinel_2/testset\""
   ],
   "outputs": [],
   "execution_count": 9
  },
  {
   "cell_type": "markdown",
   "metadata": {
    "id": "dq3pTziUr1MK"
   },
   "source": [
    "## Define PyTorch Dataset"
   ]
  },
  {
   "cell_type": "code",
   "metadata": {
    "colab": {
     "base_uri": "https://localhost:8080/"
    },
    "id": "un57p0ZwhlaK",
    "outputId": "d19036bb-eeb1-49da-8749-11623231f302",
    "ExecuteTime": {
     "end_time": "2024-04-11T18:15:45.826100Z",
     "start_time": "2024-04-11T18:15:45.808195Z"
    }
   },
   "source": [
    "import glob\n",
    "len(glob.glob(os.path.join(TEST_PATH,  f\"*.npy\")))"
   ],
   "outputs": [
    {
     "data": {
      "text/plain": [
       "0"
      ]
     },
     "execution_count": 10,
     "metadata": {},
     "output_type": "execute_result"
    }
   ],
   "execution_count": 10
  },
  {
   "cell_type": "code",
   "metadata": {
    "colab": {
     "base_uri": "https://localhost:8080/"
    },
    "id": "cAZ7aZePhbJo",
    "outputId": "0e5065b6-e6e0-425b-984b-3fbb829875d8",
    "ExecuteTime": {
     "end_time": "2024-04-11T18:15:48.479745Z",
     "start_time": "2024-04-11T18:15:47.404369Z"
    }
   },
   "source": [
    "!pip install rasterio"
   ],
   "outputs": [
    {
     "name": "stdout",
     "output_type": "stream",
     "text": [
      "Requirement already satisfied: rasterio in /Users/atillagueven/PycharmProjects/pythonProject/venv/lib/python3.9/site-packages (1.3.9)\r\n",
      "Requirement already satisfied: affine in /Users/atillagueven/PycharmProjects/pythonProject/venv/lib/python3.9/site-packages (from rasterio) (2.4.0)\r\n",
      "Requirement already satisfied: snuggs>=1.4.1 in /Users/atillagueven/PycharmProjects/pythonProject/venv/lib/python3.9/site-packages (from rasterio) (1.4.7)\r\n",
      "Requirement already satisfied: click>=4.0 in /Users/atillagueven/PycharmProjects/pythonProject/venv/lib/python3.9/site-packages (from rasterio) (8.1.7)\r\n",
      "Requirement already satisfied: numpy in /Users/atillagueven/PycharmProjects/pythonProject/venv/lib/python3.9/site-packages (from rasterio) (1.26.4)\r\n",
      "Requirement already satisfied: click-plugins in /Users/atillagueven/PycharmProjects/pythonProject/venv/lib/python3.9/site-packages (from rasterio) (1.1.1)\r\n",
      "Requirement already satisfied: cligj>=0.5 in /Users/atillagueven/PycharmProjects/pythonProject/venv/lib/python3.9/site-packages (from rasterio) (0.7.2)\r\n",
      "Requirement already satisfied: attrs in /Users/atillagueven/PycharmProjects/pythonProject/venv/lib/python3.9/site-packages (from rasterio) (23.2.0)\r\n",
      "Requirement already satisfied: setuptools in /Users/atillagueven/PycharmProjects/pythonProject/venv/lib/python3.9/site-packages (from rasterio) (60.2.0)\r\n",
      "Requirement already satisfied: certifi in /Users/atillagueven/PycharmProjects/pythonProject/venv/lib/python3.9/site-packages (from rasterio) (2022.9.24)\r\n",
      "Requirement already satisfied: pyparsing>=2.1.6 in /Users/atillagueven/PycharmProjects/pythonProject/venv/lib/python3.9/site-packages (from snuggs>=1.4.1->rasterio) (3.1.2)\r\n",
      "\u001B[33mWARNING: You are using pip version 21.3.1; however, version 24.0 is available.\r\n",
      "You should consider upgrading via the '/Users/atillagueven/PycharmProjects/pythonProject/venv/bin/python -m pip install --upgrade pip' command.\u001B[0m\r\n"
     ]
    }
   ],
   "execution_count": 11
  },
  {
   "cell_type": "code",
   "metadata": {
    "id": "U6j3IRM6gghb",
    "ExecuteTime": {
     "end_time": "2024-04-11T18:18:37.269060Z",
     "start_time": "2024-04-11T18:18:37.237644Z"
    }
   },
   "source": [
    "import rasterio as rio\n",
    "import glob\n",
    "from torch.utils.data import Dataset\n",
    "from collections.abc import Callable\n",
    "import torch\n",
    "\n",
    "def load_img(img_path:str) -> np.ndarray:\n",
    "  if img_path.split('.')[-1] == \"tif\":\n",
    "    with rio.open(img_path, \"r\") as d:\n",
    "      img = d.read([1,2,3,4,5,6,7,8,9,10,11,12,13])\n",
    "      # Assuming bands 2, 3, 4 are the RGB channels (1-based indexing in rasterio)\n",
    "      # Adjust the indices as necessary based on your data\n",
    "      # img = d.read([2, 3, 4])\n",
    "      img = reshape_as_image(img)\n",
    "  else:\n",
    "    img = np.load(img_path)\n",
    "  return img\n",
    "\n",
    "\n",
    "ids2labels = {0: 'AnnualCrop',\n",
    " 1: 'Forest',\n",
    " 2: 'HerbaceousVegetation',\n",
    " 3: 'Highway',\n",
    " 4: 'Industrial',\n",
    " 5: 'Pasture',\n",
    " 6: 'PermanentCrop',\n",
    " 7: 'Residential',\n",
    " 8: 'River',\n",
    " 9: 'SeaLake'}\n",
    "\n",
    "labels2ids = {v: k for k, v in ids2labels.items()}\n",
    "\n",
    "def text2oh(label):\n",
    "    one_hot = np.zeros(10)\n",
    "    one_hot.put(labels2ids[label], 1)\n",
    "    return one_hot\n",
    "    \n",
    "def oh2text(one_hot):\n",
    "    try:\n",
    "        one_hot = one_hot.numpy()\n",
    "    except:\n",
    "        pass\n",
    "    idx = np.argmax(one_hot)\n",
    "    return ids2labels[idx]\n",
    "\n",
    "class SentinelTrain(Dataset):\n",
    "    def __init__(self, transformations=None):\n",
    "        self.img_paths = [path.replace('\\\\', '/') for path in glob.glob(os.path.join(TRAINING_PATH, \"*\", f\"*.tif\"))]\n",
    "\n",
    "        # labels = set([path.split('/')[-1].split('_')[0] for path in self.img_paths]) # get unique labels\n",
    "        # self.label2ids = {name: id for (id, name) in enumerate(sorted(labels))} # map an id to each label\n",
    "        # self.ids2label = {v:k for k, v in self.label2ids.items()} # reverse lookup dict\n",
    "        self.transformations = transformations\n",
    "        \n",
    "    def __len__(self):\n",
    "        return len(self.img_paths)\n",
    "    \n",
    "    def __getitem__(self, idx):\n",
    "        img_path = self.img_paths[idx]\n",
    "        image = load_img(img_path)\n",
    "        \n",
    "        if self.transformations:\n",
    "            image = self.transformations(image)\n",
    "        \n",
    "        label = img_path.split(\"/\")[-1].split(\"_\")[0]\n",
    "        one_hot = text2oh(label)\n",
    "        # return image, one_hot\n",
    "        channels = torch.tensor([c for c in range(12)])\n",
    "        return image, {\"ID\": one_hot, \"channels\": channels}\n",
    "    \n",
    "    \n",
    "    \n",
    "def get_id(img_path):\n",
    "    return img_path.split(\"/\")[-1].split(\"_\")[-1].split(\".\")[0]\n",
    "\n",
    "class SentinelTest(Dataset):\n",
    "    def __init__(self, transformations=None):\n",
    "        self.img_paths = [path.replace(\"\\\\\",\"/\") for path in glob.glob(os.path.join(TEST_PATH,  f\"*.npy\"))]\n",
    "        self.transformations = transformations\n",
    "    def __len__(self):\n",
    "        return len(self.img_paths)\n",
    "    \n",
    "    def __getitem__(self, idx):\n",
    "        img_path = self.img_paths[idx]\n",
    "        image = load_img(img_path)\n",
    "        image_id = get_id(img_path)\n",
    "        \n",
    "        if self.transformations:\n",
    "            image = self.transformations(image)\n",
    "        return image, image_id\n",
    "    "
   ],
   "outputs": [],
   "execution_count": 20
  },
  {
   "cell_type": "code",
   "metadata": {
    "ExecuteTime": {
     "end_time": "2024-04-11T18:15:54.282517Z",
     "start_time": "2024-04-11T18:15:54.280121Z"
    }
   },
   "source": [
    "# !pip install torchvision"
   ],
   "outputs": [],
   "execution_count": 13
  },
  {
   "cell_type": "code",
   "metadata": {
    "colab": {
     "base_uri": "https://localhost:8080/"
    },
    "id": "rgWl6XyfnOrH",
    "outputId": "f49a2fd0-f42e-4de0-f42d-499cc5cec180",
    "ExecuteTime": {
     "end_time": "2024-04-11T18:18:43.526453Z",
     "start_time": "2024-04-11T18:18:43.506219Z"
    }
   },
   "source": [
    "# Create instances of the Dataset Class for both train & test\n",
    "import torch\n",
    "import torchvision.transforms as transforms\n",
    "\n",
    "\n",
    "def bandselect(img):\n",
    "    return img[:, :, [3,2,1]]\n",
    "\n",
    "def convert_to_float(img):\n",
    "    return img.astype(np.float32) / 10000.0\n",
    "\n",
    "def permute(img):\n",
    "    return img.transpose(2, 0, 1)\n",
    "\n",
    "# TODO: improvement -> find global max / min\n",
    "def l2a_approx(img):\n",
    "    l2a_bands = img[:,:,[0,1,2,3,4,5,6,7,8,9,11,12]]\n",
    "    band_min = np.min(l2a_bands, (0,1)) # minimal value per band\n",
    "    return l2a_bands - band_min # dark object subtraction algo approximation\n",
    "\n",
    "# Define the transformation functions as lambdas or wrap in Lambda transform\n",
    "train_transforms = transforms.Compose([\n",
    "   l2a_approx,\n",
    "    # bandselect,\n",
    "    convert_to_float,\n",
    "    permute\n",
    "])\n",
    "train_dataset = SentinelTrain(train_transforms)\n",
    "\n",
    "\n",
    "test_transforms  = transforms.Compose([\n",
    "    # bandselect,\n",
    "    convert_to_float,\n",
    "    permute\n",
    "])\n",
    "test_dataset = SentinelTest(test_transforms)\n",
    "\n",
    "print(len(train_dataset))\n",
    "print(len(test_dataset))"
   ],
   "outputs": [
    {
     "name": "stdout",
     "output_type": "stream",
     "text": [
      "0\n",
      "0\n"
     ]
    }
   ],
   "execution_count": 21
  },
  {
   "cell_type": "code",
   "execution_count": null,
   "metadata": {},
   "outputs": [],
   "source": []
  },
  {
   "cell_type": "code",
   "execution_count": 10,
   "metadata": {},
   "outputs": [],
   "source": [
    "from torch.utils.data import random_split\n",
    "\n"
   ]
  },
  {
   "cell_type": "code",
   "execution_count": 11,
   "metadata": {
    "ExecuteTime": {
     "end_time": "2024-03-26T13:48:46.034706Z",
     "start_time": "2024-03-26T13:48:46.033705Z"
    },
    "id": "uJEWU_uJhf3E"
   },
   "outputs": [],
   "source": [
    "from torch.utils.data import DataLoader\n",
    "from torch.utils.data import random_split\n",
    "import numpy as np\n",
    "import torch\n",
    "\n",
    "\n",
    "train_dataset_subset, val_dataset_subset = random_split(train_dataset, [.8, .2])\n",
    "\n",
    "train_dataloader = DataLoader(train_dataset_subset, batch_size=64, shuffle=True)\n",
    "val_dataloader = DataLoader(val_dataset_subset, batch_size=64, shuffle=True)\n",
    "test_dataloader = DataLoader(test_dataset, batch_size=64, shuffle=True)\n",
    "\n"
   ]
  },
  {
   "cell_type": "code",
   "execution_count": 12,
   "metadata": {},
   "outputs": [
    {
     "data": {
      "text/plain": [
       "{0: 'AnnualCrop',\n",
       " 1: 'Forest',\n",
       " 2: 'HerbaceousVegetation',\n",
       " 3: 'Highway',\n",
       " 4: 'Industrial',\n",
       " 5: 'Pasture',\n",
       " 6: 'PermanentCrop',\n",
       " 7: 'Residential',\n",
       " 8: 'River',\n",
       " 9: 'SeaLake'}"
      ]
     },
     "execution_count": 12,
     "metadata": {},
     "output_type": "execute_result"
    }
   ],
   "source": [
    "ids2labels"
   ]
  },
  {
   "cell_type": "code",
   "execution_count": 13,
   "metadata": {
    "ExecuteTime": {
     "end_time": "2024-03-26T13:48:46.039237Z",
     "start_time": "2024-03-26T13:48:46.038036Z"
    },
    "id": "GJYIs5jInbbx"
   },
   "outputs": [],
   "source": [
    "# Utility function to display image from dataset\n",
    "from rasterio.plot import reshape_as_image\n",
    "\n",
    "def normalize_for_display(band_data):\n",
    "    \"\"\"Normalize multi-spectral imagery across bands.\n",
    "    The input is expected to be in HxWxC format, e.g. 64x64x13.\n",
    "    To account for outliers (e.g. extremly high values due to\n",
    "    reflective surfaces), we normalize with the 2- and 98-percentiles\n",
    "    instead of minimum and maximum of each band.\n",
    "    \"\"\"\n",
    "    band_data = np.array(band_data)\n",
    "    lower_perc = np.percentile(band_data, 2, axis=(0,1))\n",
    "    upper_perc = np.percentile(band_data, 98, axis=(0,1))\n",
    "    print(lower_perc)\n",
    "    print(upper_perc)\n",
    "    return (band_data - lower_perc) / (upper_perc - lower_perc)\n",
    "\n",
    "\n",
    "def print_image(img, label, rgb_bands=[3,2,1])-> None:\n",
    "  \"\"\"Displays an image. Indices of bands given by \"rgb_bands\" will be displayed as RGB in the print\n",
    "  \"\"\"\n",
    "  img = img.transpose(1,2,0)\n",
    "  img = normalize_for_display(img)\n",
    "  img = img[:, :, rgb_bands]\n",
    "  fig, ax = plt.subplots(1, figsize=(5,5))\n",
    "  ax.imshow((img * 255).astype(np.uint8), vmin=0, vmax=255)\n",
    "  # ax.imshow(img)\n",
    "  ax.set_title(label)\n",
    "  ax.axis(False)\n",
    "  plt.tight_layout()\n",
    "\n",
    "  plt.show()"
   ]
  },
  {
   "cell_type": "code",
   "execution_count": 14,
   "metadata": {
    "ExecuteTime": {
     "end_time": "2024-03-26T13:48:46.043862Z",
     "start_time": "2024-03-26T13:48:46.042405Z"
    },
    "colab": {
     "base_uri": "https://localhost:8080/",
     "height": 542
    },
    "id": "zmFUg37hoQdf",
    "outputId": "6d98d42d-dd25-4c07-f18a-27cafcc41eca"
   },
   "outputs": [
    {
     "name": "stdout",
     "output_type": "stream",
     "text": [
      "[3.99999990e-04 6.88999994e-03 1.41000003e-02 8.09000023e-03\n",
      " 5.70000010e-03 2.93400003e-02 3.70700002e-02 9.19700004e-02\n",
      " 4.99999989e-03 9.99999975e-05 3.70000000e-03 5.53000011e-02]\n",
      "[0.0191     0.048      0.0672     0.1164     0.1109     0.21391\n",
      " 0.32223    0.39071001 0.03841    0.0004     0.13121    0.34502   ]\n"
     ]
    },
    {
     "data": {
      "image/png": "[encoded data removed]",
      "text/plain": [
       "<Figure size 500x500 with 1 Axes>"
      ]
     },
     "metadata": {},
     "output_type": "display_data"
    }
   ],
   "source": [
    "# Example image from train\n",
    "img, label = train_dataset.__getitem__(120)\n",
    "print_image(img, oh2text(label), [0,1,2])\n"
   ]
  },
  {
   "cell_type": "code",
   "execution_count": 15,
   "metadata": {},
   "outputs": [
    {
     "data": {
      "text/plain": [
       "'AnnualCrop'"
      ]
     },
     "execution_count": 15,
     "metadata": {},
     "output_type": "execute_result"
    }
   ],
   "source": [
    "oh2text(label)"
   ]
  },
  {
   "cell_type": "code",
   "execution_count": 16,
   "metadata": {},
   "outputs": [
    {
     "data": {
      "text/plain": [
       "{'AnnualCrop': 0,\n",
       " 'Forest': 1,\n",
       " 'HerbaceousVegetation': 2,\n",
       " 'Highway': 3,\n",
       " 'Industrial': 4,\n",
       " 'Pasture': 5,\n",
       " 'PermanentCrop': 6,\n",
       " 'Residential': 7,\n",
       " 'River': 8,\n",
       " 'SeaLake': 9}"
      ]
     },
     "execution_count": 16,
     "metadata": {},
     "output_type": "execute_result"
    }
   ],
   "source": [
    "labels2ids"
   ]
  },
  {
   "cell_type": "code",
   "execution_count": 17,
   "metadata": {},
   "outputs": [
    {
     "data": {
      "text/plain": [
       "'drive/MyDrive/AIML24/remote_sensing/otherDatasets/sentinel_2/tif/Pasture/Pasture_1763.tif'"
      ]
     },
     "execution_count": 17,
     "metadata": {},
     "output_type": "execute_result"
    }
   ],
   "source": [
    "train_dataset.img_paths[100]"
   ]
  },
  {
   "cell_type": "code",
   "execution_count": 18,
   "metadata": {
    "ExecuteTime": {
     "end_time": "2024-03-26T13:48:46.048694Z",
     "start_time": "2024-03-26T13:48:46.047399Z"
    },
    "colab": {
     "base_uri": "https://localhost:8080/",
     "height": 542
    },
    "id": "rjQNNMvJrBsA",
    "outputId": "a5ddd38c-ce39-4bbd-b972-9cd6a5b48eb2"
   },
   "outputs": [
    {
     "name": "stdout",
     "output_type": "stream",
     "text": [
      "[0.0248  0.0152  0.0166  0.0147  0.0189  0.017   0.0171  0.01269 0.017\n",
      " 0.0159  0.0158  0.0144 ]\n",
      "[0.027  0.0308 0.0321 0.0295 0.0241 0.022  0.022  0.0268 0.022  0.018\n",
      " 0.0189 0.0175]\n"
     ]
    },
    {
     "data": {
      "image/png": "[encoded data removed]",
      "text/plain": [
       "<Figure size 500x500 with 1 Axes>"
      ]
     },
     "metadata": {},
     "output_type": "display_data"
    }
   ],
   "source": [
    "# example image from test\n",
    "img, label = test_dataset.__getitem__(800)\n",
    "print_image(img, label, [0,1,2])\n"
   ]
  },
  {
   "cell_type": "markdown",
   "metadata": {
    "id": "uDpb4f0SNs6x"
   },
   "source": [
    "## Training"
   ]
  },
  {
   "cell_type": "code",
   "execution_count": 19,
   "metadata": {
    "colab": {
     "base_uri": "https://localhost:8080/"
    },
    "id": "5ooY1wBiCWBN",
    "outputId": "c4766e1c-c276-4a24-a043-ac37baa67a8f"
   },
   "outputs": [
    {
     "data": {
      "text/plain": [
       "12"
      ]
     },
     "execution_count": 19,
     "metadata": {},
     "output_type": "execute_result"
    }
   ],
   "source": [
    "img.shape[0]"
   ]
  },
  {
   "cell_type": "code",
   "execution_count": 20,
   "metadata": {},
   "outputs": [
    {
     "data": {
      "text/plain": [
       "<function torchvision.models.vision_transformer.vit_b_16(*, weights: Optional[torchvision.models.vision_transformer.ViT_B_16_Weights] = None, progress: bool = True, **kwargs: Any) -> torchvision.models.vision_transformer.VisionTransformer>"
      ]
     },
     "execution_count": 20,
     "metadata": {},
     "output_type": "execute_result"
    }
   ],
   "source": [
    "import torchvision\n",
    "\n",
    "#############################################################################\n",
    "\n",
    "torchvision.models.vit_b_16"
   ]
  },
  {
   "cell_type": "markdown",
   "metadata": {
    "id": "zFnJNk9nTCnk"
   },
   "source": [
    "train model"
   ]
  },
  {
   "cell_type": "code",
   "execution_count": 29,
   "metadata": {
    "colab": {
     "base_uri": "https://localhost:8080/"
    },
    "id": "1mCnw_IwN2p9",
    "outputId": "d9fcabf2-0fa4-450a-c6b4-0526a11e67e8"
   },
   "outputs": [],
   "source": [
    "import torch\n",
    "import torch.nn as nn\n",
    "from torchsummary import torchsummary\n",
    "from transformers import ViTModel, ViTConfig\n",
    "\n",
    "# Define the configuration\n",
    "config = ViTConfig(\n",
    "    image_size=64,\n",
    "    patch_size=16,\n",
    "    num_channels=12,\n",
    "    num_labels=10,\n",
    "    hidden_size=768,\n",
    "    num_hidden_layers=12,\n",
    "    num_attention_heads=12,\n",
    "    intermediate_size=768 * 4,  # Corresponds to mlp_ratio * embed_dim\n",
    "    hidden_dropout_prob=0.0,\n",
    "    attention_probs_dropout_prob=0.0,\n",
    "    # Additional parameters as needed\n",
    ")\n",
    "\n",
    "# Instantiate the model\n",
    "model = ViTModel(config)\n",
    "\n",
    "# Channel ViT https://github.com/insitro/ChannelViT"
   ]
  },
  {
   "cell_type": "markdown",
   "metadata": {
    "id": "8WGjtaUBRgRi"
   },
   "source": [
    "training loop"
   ]
  },
  {
   "cell_type": "code",
   "execution_count": 30,
   "metadata": {
    "colab": {
     "base_uri": "https://localhost:8080/"
    },
    "id": "GQ-b3jIKRYjB",
    "outputId": "976335a7-4c98-43e2-9f41-81e3db080711"
   },
   "outputs": [
    {
     "name": "stderr",
     "output_type": "stream",
     "text": [
      "  0%|                                                                                                                                                                                                                                                                 | 0/338 [00:00<?, ?it/s]"
     ]
    },
    {
     "name": "stderr",
     "output_type": "stream",
     "text": [
      "/tmp/ipykernel_6979/1158350777.py:36: UserWarning: To copy construct from a tensor, it is recommended to use sourceTensor.clone().detach() or sourceTensor.clone().detach().requires_grad_(True), rather than torch.tensor(sourceTensor).\n",
      "  x = torch.tensor(x).to(device)\n",
      "/tmp/ipykernel_6979/1158350777.py:38: UserWarning: To copy construct from a tensor, it is recommended to use sourceTensor.clone().detach() or sourceTensor.clone().detach().requires_grad_(True), rather than torch.tensor(sourceTensor).\n",
      "  y = torch.tensor(y['ID']).to(device)\n",
      "  0%|                                                                                                                                                                                                                                                                 | 0/338 [00:00<?, ?it/s]\n"
     ]
    },
    {
     "ename": "RuntimeError",
     "evalue": "0D or 1D target tensor expected, multi-target not supported",
     "output_type": "error",
     "traceback": [
      "\u001B[0;31m---------------------------------------------------------------------------\u001B[0m",
      "\u001B[0;31mRuntimeError\u001B[0m                              Traceback (most recent call last)",
      "Cell \u001B[0;32mIn[30], line 48\u001B[0m\n\u001B[1;32m     45\u001B[0m model\u001B[38;5;241m.\u001B[39mzero_grad()\n\u001B[1;32m     47\u001B[0m \u001B[38;5;66;03m# Compute loss\u001B[39;00m\n\u001B[0;32m---> 48\u001B[0m loss \u001B[38;5;241m=\u001B[39m \u001B[43mcross_entropy\u001B[49m\u001B[43m(\u001B[49m\u001B[43mpred\u001B[49m\u001B[43m,\u001B[49m\u001B[43m \u001B[49m\u001B[43my\u001B[49m\u001B[43m)\u001B[49m\n\u001B[1;32m     50\u001B[0m \u001B[38;5;66;03m# Run backward pass\u001B[39;00m\n\u001B[1;32m     52\u001B[0m loss\u001B[38;5;241m.\u001B[39mbackward()\n",
      "File \u001B[0;32m~/.venv/lib/python3.10/site-packages/torch/nn/modules/module.py:1511\u001B[0m, in \u001B[0;36mModule._wrapped_call_impl\u001B[0;34m(self, *args, **kwargs)\u001B[0m\n\u001B[1;32m   1509\u001B[0m     \u001B[38;5;28;01mreturn\u001B[39;00m \u001B[38;5;28mself\u001B[39m\u001B[38;5;241m.\u001B[39m_compiled_call_impl(\u001B[38;5;241m*\u001B[39margs, \u001B[38;5;241m*\u001B[39m\u001B[38;5;241m*\u001B[39mkwargs)  \u001B[38;5;66;03m# type: ignore[misc]\u001B[39;00m\n\u001B[1;32m   1510\u001B[0m \u001B[38;5;28;01melse\u001B[39;00m:\n\u001B[0;32m-> 1511\u001B[0m     \u001B[38;5;28;01mreturn\u001B[39;00m \u001B[38;5;28;43mself\u001B[39;49m\u001B[38;5;241;43m.\u001B[39;49m\u001B[43m_call_impl\u001B[49m\u001B[43m(\u001B[49m\u001B[38;5;241;43m*\u001B[39;49m\u001B[43margs\u001B[49m\u001B[43m,\u001B[49m\u001B[43m \u001B[49m\u001B[38;5;241;43m*\u001B[39;49m\u001B[38;5;241;43m*\u001B[39;49m\u001B[43mkwargs\u001B[49m\u001B[43m)\u001B[49m\n",
      "File \u001B[0;32m~/.venv/lib/python3.10/site-packages/torch/nn/modules/module.py:1520\u001B[0m, in \u001B[0;36mModule._call_impl\u001B[0;34m(self, *args, **kwargs)\u001B[0m\n\u001B[1;32m   1515\u001B[0m \u001B[38;5;66;03m# If we don't have any hooks, we want to skip the rest of the logic in\u001B[39;00m\n\u001B[1;32m   1516\u001B[0m \u001B[38;5;66;03m# this function, and just call forward.\u001B[39;00m\n\u001B[1;32m   1517\u001B[0m \u001B[38;5;28;01mif\u001B[39;00m \u001B[38;5;129;01mnot\u001B[39;00m (\u001B[38;5;28mself\u001B[39m\u001B[38;5;241m.\u001B[39m_backward_hooks \u001B[38;5;129;01mor\u001B[39;00m \u001B[38;5;28mself\u001B[39m\u001B[38;5;241m.\u001B[39m_backward_pre_hooks \u001B[38;5;129;01mor\u001B[39;00m \u001B[38;5;28mself\u001B[39m\u001B[38;5;241m.\u001B[39m_forward_hooks \u001B[38;5;129;01mor\u001B[39;00m \u001B[38;5;28mself\u001B[39m\u001B[38;5;241m.\u001B[39m_forward_pre_hooks\n\u001B[1;32m   1518\u001B[0m         \u001B[38;5;129;01mor\u001B[39;00m _global_backward_pre_hooks \u001B[38;5;129;01mor\u001B[39;00m _global_backward_hooks\n\u001B[1;32m   1519\u001B[0m         \u001B[38;5;129;01mor\u001B[39;00m _global_forward_hooks \u001B[38;5;129;01mor\u001B[39;00m _global_forward_pre_hooks):\n\u001B[0;32m-> 1520\u001B[0m     \u001B[38;5;28;01mreturn\u001B[39;00m \u001B[43mforward_call\u001B[49m\u001B[43m(\u001B[49m\u001B[38;5;241;43m*\u001B[39;49m\u001B[43margs\u001B[49m\u001B[43m,\u001B[49m\u001B[43m \u001B[49m\u001B[38;5;241;43m*\u001B[39;49m\u001B[38;5;241;43m*\u001B[39;49m\u001B[43mkwargs\u001B[49m\u001B[43m)\u001B[49m\n\u001B[1;32m   1522\u001B[0m \u001B[38;5;28;01mtry\u001B[39;00m:\n\u001B[1;32m   1523\u001B[0m     result \u001B[38;5;241m=\u001B[39m \u001B[38;5;28;01mNone\u001B[39;00m\n",
      "File \u001B[0;32m~/.venv/lib/python3.10/site-packages/torch/nn/modules/loss.py:1179\u001B[0m, in \u001B[0;36mCrossEntropyLoss.forward\u001B[0;34m(self, input, target)\u001B[0m\n\u001B[1;32m   1178\u001B[0m \u001B[38;5;28;01mdef\u001B[39;00m \u001B[38;5;21mforward\u001B[39m(\u001B[38;5;28mself\u001B[39m, \u001B[38;5;28minput\u001B[39m: Tensor, target: Tensor) \u001B[38;5;241m-\u001B[39m\u001B[38;5;241m>\u001B[39m Tensor:\n\u001B[0;32m-> 1179\u001B[0m     \u001B[38;5;28;01mreturn\u001B[39;00m \u001B[43mF\u001B[49m\u001B[38;5;241;43m.\u001B[39;49m\u001B[43mcross_entropy\u001B[49m\u001B[43m(\u001B[49m\u001B[38;5;28;43minput\u001B[39;49m\u001B[43m,\u001B[49m\u001B[43m \u001B[49m\u001B[43mtarget\u001B[49m\u001B[43m,\u001B[49m\u001B[43m \u001B[49m\u001B[43mweight\u001B[49m\u001B[38;5;241;43m=\u001B[39;49m\u001B[38;5;28;43mself\u001B[39;49m\u001B[38;5;241;43m.\u001B[39;49m\u001B[43mweight\u001B[49m\u001B[43m,\u001B[49m\n\u001B[1;32m   1180\u001B[0m \u001B[43m                           \u001B[49m\u001B[43mignore_index\u001B[49m\u001B[38;5;241;43m=\u001B[39;49m\u001B[38;5;28;43mself\u001B[39;49m\u001B[38;5;241;43m.\u001B[39;49m\u001B[43mignore_index\u001B[49m\u001B[43m,\u001B[49m\u001B[43m \u001B[49m\u001B[43mreduction\u001B[49m\u001B[38;5;241;43m=\u001B[39;49m\u001B[38;5;28;43mself\u001B[39;49m\u001B[38;5;241;43m.\u001B[39;49m\u001B[43mreduction\u001B[49m\u001B[43m,\u001B[49m\n\u001B[1;32m   1181\u001B[0m \u001B[43m                           \u001B[49m\u001B[43mlabel_smoothing\u001B[49m\u001B[38;5;241;43m=\u001B[39;49m\u001B[38;5;28;43mself\u001B[39;49m\u001B[38;5;241;43m.\u001B[39;49m\u001B[43mlabel_smoothing\u001B[49m\u001B[43m)\u001B[49m\n",
      "File \u001B[0;32m~/.venv/lib/python3.10/site-packages/torch/nn/functional.py:3059\u001B[0m, in \u001B[0;36mcross_entropy\u001B[0;34m(input, target, weight, size_average, ignore_index, reduce, reduction, label_smoothing)\u001B[0m\n\u001B[1;32m   3057\u001B[0m \u001B[38;5;28;01mif\u001B[39;00m size_average \u001B[38;5;129;01mis\u001B[39;00m \u001B[38;5;129;01mnot\u001B[39;00m \u001B[38;5;28;01mNone\u001B[39;00m \u001B[38;5;129;01mor\u001B[39;00m reduce \u001B[38;5;129;01mis\u001B[39;00m \u001B[38;5;129;01mnot\u001B[39;00m \u001B[38;5;28;01mNone\u001B[39;00m:\n\u001B[1;32m   3058\u001B[0m     reduction \u001B[38;5;241m=\u001B[39m _Reduction\u001B[38;5;241m.\u001B[39mlegacy_get_string(size_average, reduce)\n\u001B[0;32m-> 3059\u001B[0m \u001B[38;5;28;01mreturn\u001B[39;00m \u001B[43mtorch\u001B[49m\u001B[38;5;241;43m.\u001B[39;49m\u001B[43m_C\u001B[49m\u001B[38;5;241;43m.\u001B[39;49m\u001B[43m_nn\u001B[49m\u001B[38;5;241;43m.\u001B[39;49m\u001B[43mcross_entropy_loss\u001B[49m\u001B[43m(\u001B[49m\u001B[38;5;28;43minput\u001B[39;49m\u001B[43m,\u001B[49m\u001B[43m \u001B[49m\u001B[43mtarget\u001B[49m\u001B[43m,\u001B[49m\u001B[43m \u001B[49m\u001B[43mweight\u001B[49m\u001B[43m,\u001B[49m\u001B[43m \u001B[49m\u001B[43m_Reduction\u001B[49m\u001B[38;5;241;43m.\u001B[39;49m\u001B[43mget_enum\u001B[49m\u001B[43m(\u001B[49m\u001B[43mreduction\u001B[49m\u001B[43m)\u001B[49m\u001B[43m,\u001B[49m\u001B[43m \u001B[49m\u001B[43mignore_index\u001B[49m\u001B[43m,\u001B[49m\u001B[43m \u001B[49m\u001B[43mlabel_smoothing\u001B[49m\u001B[43m)\u001B[49m\n",
      "\u001B[0;31mRuntimeError\u001B[0m: 0D or 1D target tensor expected, multi-target not supported"
     ]
    }
   ],
   "source": [
    "import tqdm\n",
    "\n",
    "# Init collection of training epoch losses\n",
    "train_losses = []\n",
    "train_epoch_losses = []\n",
    "\n",
    "# Set the model in training mode\n",
    "model.train()\n",
    "\n",
    "num_epochs = 12\n",
    "mini_batch_size = 64 # size of the mini-batches\n",
    "\n",
    "cross_entropy = nn.CrossEntropyLoss()\n",
    "\n",
    "from torch import optim\n",
    "learning_rate = 0.002\n",
    "optimizer = optim.Adam(params=model.parameters(), lr=learning_rate)\n",
    "\n",
    "device = torch.device(\"cuda\" if torch.cuda.is_available() else \"cpu\")\n",
    "\n",
    "# Train for n epochs\n",
    "for epoch in range(num_epochs):\n",
    "\n",
    "    # Init collection of mini-batch losses\n",
    "    train_mini_batch_losses = []\n",
    "\n",
    "    train_loader_progress = tqdm.tqdm(train_dataloader)\n",
    "\n",
    "\n",
    "    # Update for each min-batch\n",
    "    for i, (x,y) in enumerate(train_loader_progress):\n",
    "        # Transfer data to compute device\n",
    "        x, y = torch.tensor(x).to(device), torch.tensor(y).to(device)\n",
    "\n",
    "        # Forward pass\n",
    "        #x = x.float()\n",
    "        pred = model(x)\n",
    "\n",
    "        # Reset model's gradients\n",
    "        model.zero_grad()\n",
    "\n",
    "        # Compute loss\n",
    "        loss = cross_entropy(pred, y)\n",
    "\n",
    "        # Run backward pass\n",
    "        \n",
    "        loss.backward()\n",
    "\n",
    "        # Update network paramaters\n",
    "        optimizer.step()\n",
    "\n",
    "        # Store mini-batch losses\n",
    "        train_mini_batch_losses.append(loss.data.item())\n",
    "        train_losses.append(loss.data.item())\n",
    "\n",
    "        train_loader_progress.set_description(f\"Loss: {loss.item():0.5f}\")\n",
    "\n",
    "        #np.seterr(divide='ignore', invalid='ignore')\n",
    "\n",
    "    # Compute epoch loss\n",
    "    train_epoch_loss = np.mean(train_mini_batch_losses)\n",
    "    train_epoch_losses.append(train_epoch_loss)\n",
    "\n",
    "    print(f\"Epoch {epoch} - Loss: {train_epoch_loss:0.5f}\")\n",
    "\n",
    "# Save final model\n",
    "torch.save(model.state_dict(), \"checkpoint.pt\")"
   ]
  },
  {
   "cell_type": "code",
   "execution_count": 35,
   "metadata": {},
   "outputs": [
    {
     "data": {
      "text/plain": [
       "tensor([ 1.1652e+00, -4.7734e-01, -3.1547e-01, -4.2493e-01, -8.4718e-01,\n",
       "        -1.6032e+00, -1.1335e+00, -1.9416e+00, -1.3102e+00,  6.1161e-01,\n",
       "         1.2448e+00,  5.7851e-02,  2.4876e-01, -1.4140e-01,  7.4649e-01,\n",
       "         4.1956e-01, -1.4651e+00, -4.7694e-01, -5.8859e-01, -1.5997e+00,\n",
       "         1.2717e+00,  5.3667e-01,  8.1729e-01, -7.9709e-01,  7.4340e-01,\n",
       "        -6.5534e-01,  7.9750e-01,  1.1136e+00,  1.5615e+00,  1.7389e+00,\n",
       "        -4.0759e-01, -7.3112e-01, -5.0683e-01,  3.0164e-01, -2.7233e-01,\n",
       "         1.3149e+00,  8.0560e-01, -1.1140e+00, -4.8225e-01,  8.1476e-02,\n",
       "        -1.4946e+00,  7.6304e-01,  1.4236e+00,  1.0976e+00, -6.8153e-01,\n",
       "        -2.7616e+00, -9.9404e-01,  4.0882e-02, -1.8647e+00,  4.7061e-01,\n",
       "         4.2907e-01, -9.9163e-01,  9.1439e-01,  1.5055e+00,  9.9944e-01,\n",
       "        -9.0438e-01,  4.7043e-01,  1.0168e-01,  2.5218e-01,  1.1773e+00,\n",
       "        -1.8353e+00,  6.3218e-01, -2.1308e-01, -2.0126e+00, -2.1346e+00,\n",
       "         8.2017e-01, -1.2573e+00, -2.1851e-01, -4.7984e-01,  1.8205e+00,\n",
       "         7.3342e-01,  1.0042e+00, -9.2088e-01,  8.4294e-01, -6.5240e-01,\n",
       "         2.4061e-01,  1.2259e+00, -8.5687e-01,  1.7614e+00, -1.6983e+00,\n",
       "        -6.3042e-01, -6.0792e-01, -2.3413e-01, -1.2065e+00, -4.2159e-01,\n",
       "        -4.7832e-01, -1.0350e+00,  4.1294e-01, -2.9344e-01,  4.3951e-02,\n",
       "         1.1321e-01,  2.3753e+00,  8.8054e-01, -1.2896e+00,  1.4669e+00,\n",
       "        -3.4547e-02, -1.8456e+00, -1.6657e+00, -1.7132e-01, -6.9844e-01,\n",
       "        -7.0243e-01,  7.2134e-01, -1.1513e+00, -8.3531e-01,  6.8362e-01,\n",
       "        -6.1666e-01,  1.7917e-01,  2.9936e-01, -7.8818e-01,  1.5459e+00,\n",
       "         9.7927e-01, -1.6332e+00, -1.0244e-01, -1.9136e+00, -1.7577e+00,\n",
       "         5.9163e-01,  7.0140e-01, -5.0672e-01,  7.8413e-01, -4.7490e-01,\n",
       "         1.0068e+00, -1.4715e+00, -1.6198e-01,  1.3923e-01,  9.1622e-02,\n",
       "         1.5629e+00,  1.3614e+00, -4.6488e-01, -4.7890e-01, -6.0111e-01,\n",
       "        -2.6289e-01,  1.1489e-01,  1.2887e-01,  5.1372e-01, -5.4716e-01,\n",
       "         6.4878e-01,  1.3962e+00,  4.8377e-01,  1.5638e-01, -1.4117e+00,\n",
       "        -1.0043e+00,  1.0230e+00,  3.6465e-01, -5.2656e-02,  1.2982e+00,\n",
       "         8.1139e-01, -2.5036e-01,  6.4323e-01,  1.3309e+00,  1.8928e+00,\n",
       "        -2.0285e-02,  2.4054e-01, -6.5014e-01,  8.7340e-01, -1.1686e+00,\n",
       "        -6.0583e-01, -7.3467e-01,  1.3080e+00,  9.4134e-01, -1.7773e+00,\n",
       "        -4.7081e-01,  2.3321e-02, -4.7698e-01, -1.0522e+00, -9.6986e-01,\n",
       "        -1.0601e+00,  6.9385e-01, -1.0593e+00, -6.5978e-01,  3.8746e-01,\n",
       "        -7.8368e-01,  1.8745e-01,  1.1959e+00, -1.2476e+00, -1.9245e-01,\n",
       "         7.4838e-01,  1.5915e+00, -1.5856e+00,  6.5186e-01,  1.4111e+00,\n",
       "         5.9143e-01,  2.4172e-01, -1.5772e+00,  2.9523e+00, -1.0822e+00,\n",
       "         4.4022e-01,  1.0201e+00,  5.6846e-02,  1.0306e+00,  4.8460e-02,\n",
       "         1.1526e+00,  1.2960e+00,  3.5045e-01, -4.9828e-01, -2.6134e-01,\n",
       "         1.0600e-01,  4.6139e-01,  9.6143e-01,  5.6411e-01, -1.0804e+00,\n",
       "        -1.0546e+00, -3.2932e+00,  1.1335e-01, -4.2705e-01,  1.4441e+00,\n",
       "        -1.2267e-01,  2.1989e-01, -3.1966e-01, -2.5525e-01, -1.2042e+00,\n",
       "        -8.5120e-01,  1.2444e+00,  5.2566e-01, -1.3698e-01,  4.4869e-01,\n",
       "        -3.1809e-03,  2.0269e-01,  8.7553e-02,  1.8260e+00, -1.1927e+00,\n",
       "        -8.6383e-01, -9.2480e-03, -9.5680e-01, -2.1439e-01,  1.2452e+00,\n",
       "         3.4497e-01, -9.0250e-01,  1.5953e-01,  1.4239e+00, -3.7147e-01,\n",
       "         7.8608e-01, -4.8294e-01,  1.1706e+00,  8.4145e-01,  1.2224e-03,\n",
       "        -7.8193e-01, -7.3815e-01,  9.6748e-01,  1.0548e+00, -6.5597e-01,\n",
       "        -4.8249e-01,  5.4239e-01,  2.7464e+00, -4.6529e-01,  1.9002e+00,\n",
       "        -1.0726e+00, -3.7322e-01, -1.1357e-01,  3.5780e-01,  5.9917e-01,\n",
       "        -6.4482e-01,  3.7751e-01,  9.2987e-01,  9.3464e-01, -1.9691e-01,\n",
       "         5.5344e-01, -7.7370e-01, -1.3555e+00, -6.3966e-01,  1.2661e+00,\n",
       "        -1.3178e+00,  1.4840e+00,  6.7289e-01, -1.3640e+00, -1.0339e+00,\n",
       "        -1.1933e+00, -1.4106e-01,  6.2725e-01, -2.5235e-01, -5.2502e-01,\n",
       "         1.1848e+00, -2.0738e-01,  4.7864e-01, -1.1939e+00,  2.3931e-01,\n",
       "         1.2553e-01, -1.6890e+00, -2.6008e+00,  2.2674e-01, -9.3832e-01,\n",
       "         7.3209e-01,  2.4575e-01, -9.9644e-01, -1.0767e+00, -7.0539e-01,\n",
       "         3.8115e-01, -2.3155e-01,  3.4033e-01, -6.0501e-01,  7.7057e-01,\n",
       "         1.8024e-01,  8.2119e-01, -6.1006e-02, -4.1530e-01, -1.3182e-01,\n",
       "        -1.9545e-01, -2.0638e+00, -5.8883e-01, -1.0580e-01, -8.5078e-02,\n",
       "        -2.1151e+00, -8.9181e-01,  5.2847e-01, -1.4241e+00,  5.8834e-01,\n",
       "         1.5509e+00, -1.9815e+00,  1.8356e+00,  1.0120e+00,  3.4963e-01,\n",
       "        -4.8850e-01,  2.4749e-01, -1.5686e+00, -1.5791e+00,  3.0475e-02,\n",
       "        -1.0172e+00, -1.5865e+00,  4.8677e-01, -1.3699e+00, -4.2903e-01,\n",
       "        -1.3421e+00,  1.2841e+00,  9.0348e-02,  3.7403e-02,  4.4477e-01,\n",
       "         8.0650e-02, -7.1087e-01, -1.6297e-05,  4.3458e-01,  2.8080e-03,\n",
       "        -4.4832e-01,  4.7008e-01,  1.8946e-01,  9.0517e-01, -5.7134e-01,\n",
       "         5.1507e-01, -1.1396e-01,  6.0446e-02, -2.6885e-01, -7.2382e-01,\n",
       "        -7.8903e-01, -9.5665e-01, -8.5265e-01,  3.0549e-01, -4.5149e-01,\n",
       "         1.2531e+00,  1.5107e+00,  3.2212e+00,  5.2031e-02,  8.5943e-02,\n",
       "         5.8599e-01, -1.5820e+00, -1.2781e+00,  2.0240e+00,  4.1071e-01,\n",
       "        -1.4719e+00,  9.2059e-01,  5.0785e-01,  1.2975e-01, -2.3804e+00,\n",
       "         8.0106e-01,  1.5413e+00, -2.3718e-01,  3.3435e-01, -4.6380e-01,\n",
       "         1.4021e+00, -1.9607e-01,  2.2654e-01,  9.9098e-03,  5.4111e-01,\n",
       "        -1.4533e+00,  2.7879e+00, -9.8743e-01, -6.7416e-01, -1.6665e+00,\n",
       "         6.1823e-01, -1.0334e+00, -3.1601e+00,  2.8475e-01,  4.0187e-01,\n",
       "         1.0160e+00,  2.1698e-01, -9.3872e-02, -6.3335e-02,  1.0563e+00,\n",
       "        -5.5301e-01, -1.6423e+00,  3.8796e-02,  2.4789e-01,  4.2638e-01,\n",
       "         6.1514e-01,  3.8855e-01,  9.0962e-01, -8.9384e-01, -3.3664e-01,\n",
       "        -6.2227e-01, -4.2876e-01,  6.5380e-01, -4.4269e-01, -6.2196e-01,\n",
       "        -1.6587e+00,  1.9179e-02, -2.1713e+00,  1.5085e+00,  7.0357e-01,\n",
       "         5.1246e-01,  2.0487e-01,  5.5441e-01, -9.1717e-01, -1.7184e+00,\n",
       "         3.5334e-01, -1.1456e+00,  7.7394e-01,  8.1178e-01, -4.2137e-01,\n",
       "        -6.8980e-01,  1.3874e+00,  1.4153e+00, -1.2988e+00, -2.3486e+00,\n",
       "        -7.0352e-01, -1.5908e+00, -4.4812e-02, -2.1328e+00, -1.7528e-01,\n",
       "        -1.0198e+00,  1.1292e+00, -5.4806e-02,  1.0938e+00, -1.2806e-01,\n",
       "        -1.4103e-01, -4.0746e-01,  3.2726e-01, -7.1660e-01,  3.1015e-01,\n",
       "         4.9210e-01,  1.0578e+00,  5.4360e-01,  2.0238e-01,  8.0858e-01,\n",
       "         1.1966e+00, -5.7300e-05,  4.9541e-01,  3.1522e-01,  1.0492e+00,\n",
       "         8.7011e-01, -8.5274e-01, -5.6715e-01,  1.2401e-01, -2.8859e+00,\n",
       "        -2.9248e-01,  1.3506e+00,  5.2347e-01, -2.4567e-01,  9.3774e-01,\n",
       "         4.1976e-01, -9.8018e-02,  2.1872e-01, -1.6963e+00,  1.1472e-01,\n",
       "        -1.1797e+00, -1.3314e+00,  9.4471e-01,  3.1738e-01, -1.3891e+00,\n",
       "         1.3347e+00,  2.1885e-01,  1.1821e+00,  2.1637e+00, -1.8824e+00,\n",
       "         8.6456e-01,  1.2197e+00,  3.3578e-01,  1.3720e+00,  3.7885e-01,\n",
       "        -6.7511e-01, -7.3855e-01,  2.9829e-01,  6.6593e-01, -1.4929e-01,\n",
       "        -1.0475e+00, -9.3524e-01, -9.9411e-01,  1.2859e+00, -7.2630e-01,\n",
       "        -2.6900e-01, -5.8814e-01,  8.4589e-01,  1.1322e-01, -1.2611e-01,\n",
       "        -3.5352e-01, -7.0000e-01,  4.2449e-01, -9.4677e-02, -2.7031e-01,\n",
       "        -5.0546e-01, -9.1581e-01, -1.4154e+00,  6.2112e-01, -2.1802e+00,\n",
       "         1.0482e+00, -1.9233e+00,  3.2343e-03,  6.0583e-02, -1.0940e+00,\n",
       "        -1.7627e+00, -2.1195e-01, -3.4453e-01, -8.3438e-01,  3.6184e-01,\n",
       "         1.1575e+00,  6.1831e-01, -1.6288e-01,  1.1012e+00, -5.1843e-01,\n",
       "         1.5386e-01,  5.4442e-01, -4.5706e-01,  1.1506e+00, -1.5851e+00,\n",
       "         1.0376e+00, -1.3369e+00,  4.9372e-01,  6.9509e-01,  9.7267e-01,\n",
       "        -6.9623e-01,  6.5420e-01, -9.3083e-01,  1.4506e+00,  2.1171e+00,\n",
       "         9.7757e-01, -3.0903e-01, -1.0356e+00,  2.4690e-02, -1.2919e+00,\n",
       "         3.7408e-01,  9.6119e-01,  9.4705e-01, -4.1998e-01,  9.7765e-01,\n",
       "        -1.5313e-01, -1.8433e+00,  6.3956e-01,  1.8489e-01,  2.7337e-01,\n",
       "         5.5263e-01, -5.1468e-01,  2.1773e-01, -1.3682e+00, -1.3317e+00,\n",
       "        -8.2194e-01,  3.3955e-01,  1.4707e+00, -1.7383e-01,  1.4507e+00,\n",
       "         6.6663e-01,  8.5734e-01,  5.5407e-01,  2.6394e-01, -2.5074e-02,\n",
       "        -6.3099e-02, -1.5762e+00, -1.0358e+00, -5.1416e-02, -1.3418e+00,\n",
       "         1.3380e+00,  3.0035e-01, -9.9740e-02,  5.9288e-01, -1.3319e+00,\n",
       "         1.6677e+00, -5.6670e-01,  1.4131e-01,  1.6382e+00,  3.6762e-01,\n",
       "        -2.0920e-01,  6.3826e-01,  1.2710e-01,  6.9281e-01, -1.9837e+00,\n",
       "        -4.7381e-02,  1.0204e+00,  1.8628e+00, -1.4618e+00, -3.1013e-01,\n",
       "        -1.4432e+00,  1.3116e+00,  1.0835e+00, -2.0590e-01, -1.1624e-01,\n",
       "        -1.0939e+00, -8.7764e-01, -2.6703e-01, -5.5438e-01, -3.6857e-01,\n",
       "        -1.0609e+00,  7.3505e-01,  6.2882e-01,  6.8227e-02,  9.8818e-01,\n",
       "         1.1353e+00,  6.6624e-01, -1.5165e+00,  9.9392e-01,  4.1188e-01,\n",
       "         1.6543e-01, -1.7944e-01,  4.9722e-01, -4.9165e-01, -2.9410e-01,\n",
       "        -2.2269e-01,  6.5875e-01,  5.0871e-01, -4.5298e-01, -2.1641e+00,\n",
       "         3.6302e-01, -2.4115e+00, -9.6380e-01,  1.0131e+00,  5.6621e-02,\n",
       "         2.3854e+00, -1.2253e+00,  4.0074e-01, -8.6653e-01,  1.1964e+00,\n",
       "         1.3863e+00,  1.1300e+00,  6.6672e-01,  1.2726e+00,  7.2408e-01,\n",
       "         1.0005e-01, -7.6829e-02,  1.2600e+00,  1.3103e+00,  2.3013e+00,\n",
       "        -8.5473e-01, -4.0588e-01,  3.5750e-01,  2.0755e+00, -7.6184e-01,\n",
       "         5.4266e-01,  8.4467e-01, -2.2756e+00,  3.4766e-02,  1.4994e+00,\n",
       "         2.4507e-01,  1.7995e+00,  4.3685e-01,  6.5523e-01, -1.3112e+00,\n",
       "        -9.4936e-01, -1.4363e+00, -6.4359e-01,  1.3526e+00,  2.0671e-01,\n",
       "         3.7429e-01, -6.9876e-01, -6.5474e-01, -2.2037e-01, -2.6975e+00,\n",
       "        -6.6953e-01,  1.2118e+00, -7.6687e-01, -1.1152e+00,  1.1392e-01,\n",
       "        -6.3437e-01,  1.3324e+00, -2.6888e-02,  2.8569e-01,  3.3362e-02,\n",
       "        -1.6696e+00,  1.2310e+00,  6.3658e-01,  3.8475e-01,  1.1371e+00,\n",
       "         1.1104e+00, -1.1219e+00,  1.9805e-02,  4.6559e-01,  1.2578e+00,\n",
       "         9.8788e-01,  6.6053e-01,  1.0249e+00, -3.1698e-02,  2.6045e-01,\n",
       "         1.2288e+00,  5.0300e-01,  3.6298e-01,  7.3590e-01, -3.1645e-01,\n",
       "         2.5453e-01, -9.8651e-01,  3.0422e-01, -1.1937e-01,  5.5473e-01,\n",
       "        -5.2925e-01,  3.1985e-01, -1.0139e+00, -1.0255e+00,  1.3958e+00,\n",
       "        -4.7600e-01,  3.0399e-01,  3.0940e-03,  1.3109e-01, -3.5146e-01,\n",
       "        -5.2955e-01,  4.9045e-01, -1.3962e+00,  8.5248e-01,  3.4159e-01,\n",
       "        -5.6163e-01, -1.5326e+00,  7.7761e-01, -1.3008e+00, -2.0157e+00,\n",
       "         9.4913e-01,  1.0639e+00, -5.1461e-01,  8.7602e-01, -7.3815e-01,\n",
       "         8.5478e-01,  8.9924e-01,  8.6376e-02, -1.8968e+00,  1.1344e+00,\n",
       "         1.1617e+00, -6.2888e-01,  7.2430e-01,  5.6309e-01,  1.1609e+00,\n",
       "        -2.2252e-01,  6.6660e-01, -1.6939e-01,  4.1650e-01, -6.9291e-01,\n",
       "         2.1396e-01,  5.8076e-01,  1.0035e+00,  1.8613e+00,  1.7254e+00,\n",
       "        -1.6603e-01, -6.9388e-01,  2.5852e+00,  7.9598e-01,  7.1966e-01,\n",
       "         1.8091e-02,  5.2298e-01,  1.7562e+00, -2.2311e+00, -6.9569e-01,\n",
       "        -4.5840e-01,  8.0067e-01, -3.4149e-01,  1.0267e+00,  5.9759e-01,\n",
       "        -1.9292e-01,  8.8427e-01, -2.9581e-01, -3.6912e-01,  1.5448e+00,\n",
       "         2.8982e-01,  9.8218e-02, -1.4013e-01, -1.6232e+00, -8.3376e-01,\n",
       "        -4.1869e-01, -1.2088e+00,  6.4989e-01], device='cuda:0',\n",
       "       grad_fn=<SelectBackward0>)"
      ]
     },
     "execution_count": 35,
     "metadata": {},
     "output_type": "execute_result"
    }
   ],
   "source": [
    "pred[0]"
   ]
  },
  {
   "cell_type": "code",
   "execution_count": null,
   "metadata": {},
   "outputs": [
    {
     "data": {
      "text/plain": [
       "[None]"
      ]
     },
     "execution_count": 27,
     "metadata": {},
     "output_type": "execute_result"
    },
    {
     "data": {
      "image/png": "[encoded data removed]",
      "text/plain": [
       "<Figure size 640x480 with 1 Axes>"
      ]
     },
     "metadata": {},
     "output_type": "display_data"
    }
   ],
   "source": [
    "import seaborn as sns\n",
    "\n",
    "\n",
    "p = sns.lineplot(train_losses)\n",
    "p.set(yscale='log')"
   ]
  },
  {
   "cell_type": "markdown",
   "metadata": {},
   "source": [
    "# Validation"
   ]
  },
  {
   "cell_type": "code",
   "execution_count": null,
   "metadata": {
    "ExecuteTime": {
     "start_time": "2024-03-26T13:48:46.075667Z"
    },
    "colab": {
     "base_uri": "https://localhost:8080/"
    },
    "id": "_j_RZDqEUqzb",
    "outputId": "728823a6-c6c9-4508-b790-761dac70aedb"
   },
   "outputs": [],
   "source": [
    "# set model in evaluation mode\n",
    "model.eval()\n",
    "\n",
    "\n",
    "validate = []\n",
    "for i, (imgs, labels) in enumerate(val_dataloader):\n",
    "    preds = model(imgs.to(\"cuda\"))\n",
    "    pred_labels = [oh2text(oh.detach().cpu()) for oh in preds]\n",
    "    validate += list(zip(labels, preds))\n",
    "\n",
    "\n",
    "# TODO: Test Metrics"
   ]
  },
  {
   "cell_type": "markdown",
   "metadata": {},
   "source": [
    "# Test"
   ]
  },
  {
   "cell_type": "markdown",
   "metadata": {
    "id": "xl74eq_cRWOE"
   },
   "source": [
    "evaluation loop"
   ]
  },
  {
   "cell_type": "code",
   "execution_count": null,
   "metadata": {
    "colab": {
     "base_uri": "https://localhost:8080/",
     "height": 35
    },
    "id": "tzjO6FnOd-z8",
    "outputId": "da79796c-c063-44fe-d2ac-a7743af0412b"
   },
   "outputs": [
    {
     "data": {
      "text/plain": [
       "'3310'"
      ]
     },
     "execution_count": 18,
     "metadata": {},
     "output_type": "execute_result"
    }
   ],
   "source": [
    "img_path = \"drive/MyDrive/AIML24/remote_sensing/otherDatasets/sentinel_2/testset/test_3310.npy\"\n",
    "\n",
    "def get_id(img_path):\n",
    "    return img_path.split(\"/\")[-1].split(\"_\")[-1].split(\".\")[0]\n",
    "\n",
    "get_id(img_path)"
   ]
  },
  {
   "cell_type": "code",
   "execution_count": null,
   "metadata": {
    "id": "7Q-IfruEb-f7"
   },
   "outputs": [],
   "source": [
    "model.eval()\n",
    "\n",
    "classArray = []\n",
    "\n",
    "for i, (imgs, paths) in enumerate(test_dataloader):\n",
    "\n",
    "    img_ids = [get_id(path) for path in paths]\n",
    "    preds = model(imgs.to(\"cuda\"))\n",
    "    preds = list(preds.detach())\n",
    "    preds = [oh2text(pred.detach().cpu()) for pred in preds]\n",
    "    classArray += list(zip(img_ids, preds))\n"
   ]
  },
  {
   "cell_type": "code",
   "execution_count": null,
   "metadata": {
    "colab": {
     "base_uri": "https://localhost:8080/"
    },
    "id": "Ct8HAdy8efab",
    "outputId": "9681bffa-d136-4087-925a-5f1a4ee1a4b8"
   },
   "outputs": [
    {
     "data": {
      "text/plain": [
       "4232"
      ]
     },
     "execution_count": 31,
     "metadata": {},
     "output_type": "execute_result"
    }
   ],
   "source": [
    "len(classArray)"
   ]
  },
  {
   "cell_type": "code",
   "execution_count": null,
   "metadata": {
    "id": "3XxiAd7KYRnv"
   },
   "outputs": [],
   "source": [
    "# Ziel: Array: classArray von (image index, predicted label)\n",
    "\n",
    "#loop durch test_dataloader (minibatch)\n",
    "    # pred labels (alle im minibatch auf einmal)\n",
    "    # find image ids for each pred ()\n",
    "    # Translate pred to text label\n",
    "    # append to array"
   ]
  },
  {
   "cell_type": "markdown",
   "metadata": {
    "id": "7ObxBMEJM6gs"
   },
   "source": [
    "## Submission\n",
    "\n",
    "\n",
    "\n"
   ]
  },
  {
   "cell_type": "markdown",
   "metadata": {
    "id": "9EwWNO6lMoPS"
   },
   "source": [
    ">We then create a csv with all our predictions to upload it to kaggle."
   ]
  },
  {
   "cell_type": "code",
   "execution_count": null,
   "metadata": {
    "id": "lTl0h6xMMl4D"
   },
   "outputs": [],
   "source": [
    "import csv\n",
    "\n",
    "with open('submission_v1.csv', 'w', newline='') as csvfile:\n",
    "    # Create a CSV writer object\n",
    "    writer = csv.writer(csvfile)\n",
    "\n",
    "    # Write the header row\n",
    "    writer.writerow(['test_id', 'label'])\n",
    "\n",
    "    # Write each string to a row with its corresponding index as the test_id\n",
    "    for i, label in classArray:\n",
    "        writer.writerow([i, label])"
   ]
  }
 ],
 "metadata": {
  "accelerator": "GPU",
  "colab": {
   "gpuType": "T4",
   "provenance": []
  },
  "kernelspec": {
   "display_name": "Python 3 (ipykernel)",
   "language": "python",
   "name": "python3"
  },
  "language_info": {
   "codemirror_mode": {
    "name": "ipython",
    "version": 3
   },
   "file_extension": ".py",
   "mimetype": "text/x-python",
   "name": "python",
   "nbconvert_exporter": "python",
   "pygments_lexer": "ipython3",
   "version": "3.10.13"
  }
 },
 "nbformat": 4,
 "nbformat_minor": 0
}
