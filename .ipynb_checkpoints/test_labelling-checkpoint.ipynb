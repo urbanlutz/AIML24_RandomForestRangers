{
 "cells": [
  {
   "cell_type": "code",
   "execution_count": 121,
   "metadata": {},
   "outputs": [],
   "source": [
    "# !pip uninstall torch -y\n",
    "# !pip install torch==2.1.2 torchvision rasterio ollama\n",
    "\n"
   ]
  },
  {
   "cell_type": "code",
   "execution_count": 122,
   "metadata": {},
   "outputs": [
    {
     "name": "stdout",
     "output_type": "stream",
     "text": [
      "{'model': 'llama3', 'created_at': '2024-05-04T11:45:14.210912471Z', 'response': 'OK', 'done': True, 'context': [128006, 882, 128007, 198, 198, 333, 499, 649, 1373, 420, 10052, 449, 220, 6, 564, 6, 128009, 128006, 78191, 128007, 198, 198, 4012, 128009], 'total_duration': 4672752612, 'load_duration': 4411775230, 'prompt_eval_count': 21, 'prompt_eval_duration': 118295000, 'eval_count': 2, 'eval_duration': 12097000}\n"
     ]
    }
   ],
   "source": [
    "from ollama import Client\n",
    "import random\n",
    "\n",
    "LLAVA_LLAMA3 = \"0ssamaak0/xtuner-llava:llama3-8b-v1.1-f16\"\n",
    "LLAVA_LLAMA3_INT = \"0ssamaak0/xtuner-llava:llama3-8b-v1.1-int4\"\n",
    "LLAVA = \"llava:34b-v1.6\"\n",
    "\n",
    "\n",
    "class Collama():\n",
    "\n",
    "    def __init__(self, num_clients, max_retries = 4):\n",
    "        self.num_clients = num_clients\n",
    "        self.max_retries = max_retries\n",
    "        self.clients = [Client(host=f'http://localhost:1200{i}') for i in range(num_clients)]\n",
    "\n",
    "    def generate(self, *args, **kwargs):\n",
    "        client = random.choice(self.clients)\n",
    "        return client.generate(*args, **kwargs)\n",
    "    \n",
    "    def chat(self, *args, **kwargs):\n",
    "        client = random.choice(self.clients)\n",
    "        return client.chat(*args, **kwargs)\n",
    "\n",
    "# class Collama():\n",
    "\n",
    "#     def __init__(self, num_clients, max_retries = 4):\n",
    "#         self.num_clients = num_clients\n",
    "#         self.max_retries = max_retries\n",
    "#         self.clients = [Client(host=f'http://localhost:1200{i}') for i in range(num_clients)]\n",
    "\n",
    "#     def generate(self, *args, **kwargs):\n",
    "#         for i in range(self.max_retries):\n",
    "#             client = random.choice(self.clients)\n",
    "#             try:\n",
    "#                 print(args, kwargs)\n",
    "#                 return client.generate(*args, **kwargs)\n",
    "#             except Exception as ex:\n",
    "#                 print(f\"Client {client} error: {ex}\")\n",
    "#         # raise ex\n",
    "\n",
    "#     def chat(self, *args, **kwargs):\n",
    "#         for i in range(self.max_retries):\n",
    "#             client = random.choice(self.clients)\n",
    "#             try:\n",
    "#                 print(args, kwargs)\n",
    "#                 return client.chat(*args, **kwargs)\n",
    "#             except Exception as ex:\n",
    "#                 print(f\"Client {client} error\")\n",
    "#         # raise ex\n",
    "\n",
    "\n",
    "collama = Collama(1)\n",
    "\n",
    "\n",
    "# test all clients are running\n",
    "\n",
    "for c in collama.clients:\n",
    "    print(c.generate(\"llama3\", \"if you can read this reply with 'ok'\"))\n",
    "\n"
   ]
  },
  {
   "cell_type": "code",
   "execution_count": 123,
   "metadata": {},
   "outputs": [
    {
     "name": "stdout",
     "output_type": "stream",
     "text": [
      "27000\n",
      "4232\n"
     ]
    }
   ],
   "source": [
    "import os\n",
    "\n",
    "\n",
    "import numpy as np\n",
    "import matplotlib.pyplot as plt\n",
    "%matplotlib inline\n",
    "\n",
    "import rasterio as rio\n",
    "import glob\n",
    "import torch\n",
    "from torch.utils.data import DataLoader, Dataset, random_split\n",
    "import torch\n",
    "import torchvision.transforms as transforms\n",
    "from torchvision import transforms\n",
    "\n",
    "from rasterio.plot import reshape_as_image\n",
    "from PIL import Image\n",
    "\n",
    "# file locations\n",
    "DATA_PATH = \"drive/MyDrive/AIML24\"\n",
    "TRAINING_PATH = DATA_PATH + \"/remote_sensing/otherDatasets/sentinel_2/tif\"\n",
    "TEST_PATH = DATA_PATH + \"/remote_sensing/otherDatasets/sentinel_2/testset\"\n",
    "\n",
    "# mount g-drive\n",
    "try:\n",
    "    from google.colab import drive\n",
    "    drive.mount('/content/drive')\n",
    "\n",
    "    # copy files into runtime for performance\n",
    "    !cp \"drive/MyDrive/AIML24\" \"AIML24\"\n",
    "    DATA_PATH = \"AIML24\"\n",
    "except:\n",
    "    pass # probably local environment\n",
    "\n",
    "\n",
    "\n",
    "def load_img(img_path:str) -> np.ndarray:\n",
    "  if img_path.split('.')[-1] == \"tif\":\n",
    "    with rio.open(img_path, \"r\") as d:\n",
    "      img = d.read([1,2,3,4,5,6,7,8,9,10,11,12,13])\n",
    "      img = reshape_as_image(img)\n",
    "  else:\n",
    "    img = np.load(img_path)\n",
    "  return img\n",
    "\n",
    "\n",
    "ids2labels = {\n",
    "    0: 'AnnualCrop',\n",
    "    1: 'Forest',\n",
    "    2: 'HerbaceousVegetation',\n",
    "    3: 'Highway',\n",
    "    4: 'Industrial',\n",
    "    5: 'Pasture',\n",
    "    6: 'PermanentCrop',\n",
    "    7: 'Residential',\n",
    "    8: 'River',\n",
    "    9: 'SeaLake'\n",
    "}\n",
    "\n",
    "labels2ids = {v: k for k, v in ids2labels.items()}\n",
    "\n",
    "def text2oh(label):\n",
    "    one_hot = np.zeros(10)\n",
    "    one_hot.put(labels2ids[label], 1)\n",
    "    return one_hot\n",
    "\n",
    "def oh2text(one_hot):\n",
    "    try:\n",
    "        one_hot = one_hot[\"ID\"]\n",
    "    except:\n",
    "        pass\n",
    "    try:\n",
    "        one_hot = one_hot.numpy()\n",
    "    except:\n",
    "        pass\n",
    "    idx = np.argmax(one_hot)\n",
    "    return ids2labels[idx]\n",
    "\n",
    "class SentinelTrain(Dataset):\n",
    "    def __init__(self, transformations=None):\n",
    "        self.img_paths = [path.replace('\\\\', '/') for path in glob.glob(os.path.join(TRAINING_PATH, \"*\", f\"*.tif\"))]\n",
    "        self.transformations = transformations\n",
    "\n",
    "    def __len__(self):\n",
    "        return len(self.img_paths)\n",
    "\n",
    "    def __getitem__(self, idx):\n",
    "        img_path = self.img_paths[idx]\n",
    "        image = load_img(img_path).astype(np.float32)\n",
    "\n",
    "        if self.transformations:\n",
    "            image = self.transformations(image)\n",
    "\n",
    "        label = img_path.split(\"/\")[-1].split(\"_\")[0]\n",
    "        one_hot = text2oh(label)\n",
    "        # return image, one_hot\n",
    "        channels = torch.tensor([c for c in range(12)])\n",
    "        return image, {\"ID\": one_hot, \"channels\": channels}\n",
    "\n",
    "\n",
    "\n",
    "def get_id(img_path):\n",
    "    return img_path.split(\"/\")[-1].split(\"_\")[-1].split(\".\")[0]\n",
    "\n",
    "class SentinelTest(Dataset):\n",
    "    def __init__(self, transformations=None):\n",
    "        self.img_paths = [path.replace(\"\\\\\",\"/\") for path in glob.glob(os.path.join(TEST_PATH,  f\"*.npy\"))]\n",
    "        self.transformations = transformations\n",
    "    def __len__(self):\n",
    "        return len(self.img_paths)\n",
    "\n",
    "    def __getitem__(self, idx):\n",
    "        img_path = self.img_paths[idx]\n",
    "        image = load_img(img_path).astype(np.float32)\n",
    "        image_id = get_id(img_path)\n",
    "\n",
    "        if self.transformations:\n",
    "            image = self.transformations(image)\n",
    "        return image, image_id\n",
    "\n",
    "\n",
    "# Create instances of the Dataset Class for both train & test\n",
    "\n",
    "\n",
    "def bandselect(img):\n",
    "    return img[:, :, [3,2,1]]\n",
    "\n",
    "def convert_to_float(img):\n",
    "    return img / 10000.0\n",
    "\n",
    "def bands_to_front(img):\n",
    "    return img.permute(2, 0, 1)\n",
    "\n",
    "# TODO: improvement -> find global max / min\n",
    "def l2a_approx(img):\n",
    "    l2a_bands = img[:,:,[0,1,2,3,4,5,6,7,12,8,10,11]]\n",
    "    return l2a_bands\n",
    "    # band_min = np.min(l2a_bands, (0,1)) # minimal value per band\n",
    "    # return l2a_bands - band_min # dark object subtraction algo approximation\n",
    "\n",
    "train_mean = [1353.7283, 1117.2009, 1041.8888,  946.5547, 1199.1866, 2003.0106,\n",
    "        2374.0134, 2301.2244, 2599.7827,  732.1823, 1820.6930, 1118.2052]\n",
    "train_std = [ 65.2964, 153.7740, 187.6989, 278.1234, 227.9242, 355.9332, 455.1324,\n",
    "        530.7811, 502.1637,  98.9300, 378.1612, 303.1070]\n",
    "test_mean = [380.1732,  400.1498,  628.8646,  578.8707,  943.4276, 1826.2419,\n",
    "        2116.6646, 2205.9729, 2281.1836, 2266.9331, 1487.6902,  959.2352]\n",
    "test_std = [115.1743, 209.1482, 241.2069, 301.1053, 269.5137, 420.2494, 503.8187,\n",
    "        598.0409, 529.4133, 403.9382, 398.1438, 342.4408]\n",
    "\n",
    "\n",
    "def normalize_for_display(band_data):\n",
    "    \"\"\"Normalize multi-spectral imagery across bands.\n",
    "    The input is expected to be in HxWxC format, e.g. 64x64x13.\n",
    "    To account for outliers (e.g. extremly high values due to\n",
    "    reflective surfaces), we normalize with the 2- and 98-percentiles\n",
    "    instead of minimum and maximum of each band.\n",
    "    \"\"\"\n",
    "    band_data = np.array(band_data)\n",
    "    lower_perc = np.percentile(band_data, 2, axis=(0,1))\n",
    "    upper_perc = np.percentile(band_data, 98, axis=(0,1))\n",
    "\n",
    "    return (band_data - lower_perc) / (upper_perc - lower_perc)\n",
    "\n",
    "train_transforms = transforms.Compose([\n",
    "    l2a_approx,\n",
    "    # transforms.Normalize(train_mean, train_std),\n",
    "    transforms.ToTensor(),\n",
    "    # transforms.GaussianBlur(1),\n",
    "    # transforms.RandomHorizontalFlip(),\n",
    "    # transforms.RandomVerticalFlip(),\n",
    "])\n",
    "\n",
    "train_dataset = SentinelTrain(train_transforms)\n",
    "\n",
    "\n",
    "test_transforms  = transforms.Compose([\n",
    "\n",
    "    normalize_for_display,\n",
    "    transforms.ToTensor(),\n",
    "    # transforms.Normalize(test_mean, test_std),\n",
    "    # transforms.GaussianBlur(1),\n",
    "])\n",
    "\n",
    "test_dataset = SentinelTest(test_transforms)\n",
    "\n",
    "print(len(train_dataset))\n",
    "print(len(test_dataset))\n",
    "\n",
    "\n",
    "\n",
    "\n",
    "\n",
    "# train_dataset_subset, val_dataset_subset = random_split(train_dataset, [.8, .2])\n",
    "\n",
    "train_dataloader = DataLoader(train_dataset, batch_size=64, shuffle=True)\n",
    "# val_dataloader = DataLoader(val_dataset_subset, batch_size=64, shuffle=True)\n",
    "test_dataloader = DataLoader(test_dataset, batch_size=64, shuffle=True)\n",
    "\n",
    "# Utility function to display image from dataset\n",
    "from rasterio.plot import reshape_as_image\n",
    "\n",
    "\n",
    "def print_image(img, label, rgb_bands=[3,2,1])-> None:\n",
    "  \"\"\"Displays an image. Indices of bands given by \"rgb_bands\" will be displayed as RGB in the print\n",
    "  \"\"\"\n",
    "  img = img.numpy()\n",
    "  img = img.transpose(1,2,0)\n",
    "#   img = normalize_for_display(img)\n",
    "  img = img[:, :, rgb_bands]\n",
    "  fig, ax = plt.subplots(1, figsize=(5,5))\n",
    "  ax.imshow((img * 255).astype(np.uint8), vmin=0, vmax=255)\n",
    "\n",
    "  label = oh2text(label[\"ID\"])\n",
    "  ax.set_title(label)\n",
    "  ax.axis(False)\n",
    "  plt.tight_layout()\n",
    "\n",
    "  plt.show()"
   ]
  },
  {
   "cell_type": "code",
   "execution_count": 124,
   "metadata": {},
   "outputs": [
    {
     "data": {
      "text/plain": [
       "<Axes: ylabel='Count'>"
      ]
     },
     "execution_count": 124,
     "metadata": {},
     "output_type": "execute_result"
    },
    {
     "data": {
      "image/png": "[encoded data removed]",
      "text/plain": [
       "<Figure size 640x480 with 1 Axes>"
      ]
     },
     "metadata": {},
     "output_type": "display_data"
    }
   ],
   "source": [
    "import seaborn as sns\n",
    "sns.histplot(test_dataset.__getitem__(30)[0][2].flatten())"
   ]
  },
  {
   "cell_type": "code",
   "execution_count": 125,
   "metadata": {},
   "outputs": [],
   "source": [
    "\n",
    "\n",
    "def img2b64(img):\n",
    "    rgb_bands = [3,2,1]\n",
    "\n",
    "\n",
    "\n",
    "    img = img.numpy()\n",
    "    img = img.transpose(1,2,0)\n",
    "    img = normalize_for_display(img)\n",
    "    img = img[:, :, rgb_bands]\n",
    "    # fig, ax = plt.subplots(1, figsize=(5,5))\n",
    "    # img = plt.imshow((img * 255).astype(np.uint8), vmin=0, vmax=255)\n",
    "    img = plt.imshow(img, vmin=0, vmax=255)\n",
    "\n",
    "\n",
    "\n",
    "    plt.axis('off')\n",
    "    plt.tight_layout()\n",
    "    # plt.savefig(\"test.png\", bbox_inches='tight')\n",
    "\n",
    "    import io\n",
    "    import base64\n",
    "    my_stringIObytes = io.BytesIO()\n",
    "    plt.savefig(my_stringIObytes, format='jpg')\n",
    "    my_stringIObytes.seek(0)\n",
    "    my_base64_jpgData = base64.b64encode(my_stringIObytes.read()).decode()\n",
    "    return my_base64_jpgData\n",
    "\n"
   ]
  },
  {
   "cell_type": "code",
   "execution_count": 126,
   "metadata": {},
   "outputs": [
    {
     "data": {
      "text/plain": [
       "<Axes: ylabel='Count'>"
      ]
     },
     "execution_count": 126,
     "metadata": {},
     "output_type": "execute_result"
    },
    {
     "data": {
      "image/png": "[encoded data removed]",
      "text/plain": [
       "<Figure size 640x480 with 1 Axes>"
      ]
     },
     "metadata": {},
     "output_type": "display_data"
    }
   ],
   "source": [
    "import seaborn as sns\n",
    "\n",
    "sns.histplot(test_dataset.__getitem__(4200)[0].flatten())"
   ]
  },
  {
   "cell_type": "markdown",
   "metadata": {},
   "source": [
    "Few shot binary classification\n",
    "\n",
    "1. focus on single label at a time\n",
    "2. Show examples of 1.0"
   ]
  },
  {
   "cell_type": "code",
   "execution_count": 127,
   "metadata": {},
   "outputs": [],
   "source": [
    "# import ollama\n",
    "\n",
    "# ollama.pull('llama3')\n",
    "# ollama.pull('llama3:70b')\n",
    "\n",
    "# ollama.pull('llava')\n",
    "# ollama.pull('llava:34b')\n",
    "# ollama.pull('llava:13b')\n",
    "\n"
   ]
  },
  {
   "cell_type": "code",
   "execution_count": 128,
   "metadata": {},
   "outputs": [],
   "source": [
    "\n",
    "# from collections import defaultdict\n",
    "# img, label = test_dataset.__getitem__(2000)\n",
    "# imgb64 = img2b64(img)\n",
    "\n",
    "# init_prompt = \"\"\"\n",
    "# The following image is a sattelite image from the Sentinel 2 sattelite. The task is to classify the land use into predefined categories\n",
    "\n",
    "# Available classes are:\n",
    "# AnnualCrop\n",
    "# Forest\n",
    "# HerbaceousVegetation\n",
    "# Highway\n",
    "# Industrial\n",
    "# Pasture\n",
    "# PermanentCrop\n",
    "# Residential\n",
    "# River\n",
    "# SeaLake\n",
    "\n",
    "# The following are example images and classes.\n",
    "# \"\"\"\n",
    "# # ollama.chat(model=\"llava\", prompt=prompt, images=[imgb64])['response']\n",
    "\n",
    "# initial_message = {\n",
    "# \t\t\t'role': 'user',\n",
    "# \t\t\t'content': init_prompt,\n",
    "# \t\t\t'images': []\n",
    "# \t\t}\n",
    "\n",
    "# q = f\"\"\"From the list of land use categories provided earlier, what description fits this image best? Anser by providing the class label exactly as stated. \n",
    "\n",
    "# Available classes are:\n",
    "# AnnualCrop\n",
    "# Forest\n",
    "# HerbaceousVegetation\n",
    "# Highway\n",
    "# Industrial\n",
    "# Pasture\n",
    "# PermanentCrop\n",
    "# Residential\n",
    "# River\n",
    "# SeaLake\n",
    "\n",
    "# If unsure which label to predict, choose the one that has the highest likelihood.\n",
    "# \"\"\"\n",
    "\n",
    "# examples = [5, 700, 2000, 2400, 3500, 4500, 6000, 7000, 8000, 9000, 10000, 11000, 13000, 14000, 16000, 17000, 19000, 20000, 22000, 23000, 25000, 26000]\n",
    "\n",
    "\n",
    "# images = defaultdict(list)\n",
    "# for example in examples:\n",
    "#     img, label = train_dataset.__getitem__(example)\n",
    "#     imgb64 = img2b64(img)\n",
    "#     label = oh2text(label[\"ID\"])\n",
    "#     images[label].append(imgb64)\n",
    "\n",
    "# classes = list(images.keys())\n",
    "\n",
    "# negative_examples = {\n",
    "#     \"AnnualCrop\": [images[\"Pasture\"][0], images[\"PermanentCrop\"][0]],\n",
    "#     \"Forest\": [images[\"Industrial\"][0], images[\"SeaLake\"][0]],\n",
    "#     \"HerbaceousVegetation\": [images[\"AnnualCrop\"][0], images[\"PermanentCrop\"][0]],\n",
    "#     \"Highway\": [images[\"Pasture\"][0], images[\"River\"][0]],\n",
    "#     \"Industrial\": [images[\"Forest\"][0], images[\"Residential\"][0]],\n",
    "#     \"Pasture\": [images[\"AnnualCrop\"][0], images[\"PermanentCrop\"][0]],\n",
    "#     \"PermanentCrop\": [images[\"Pasture\"][0], images[\"AnnualCrop\"][0]],\n",
    "#     \"Residential\": [images[\"Industrial\"][0], images[\"Forest\"][0]],\n",
    "#     \"River\": [images[\"Highway\"][0], images[\"Pasture\"][0]],\n",
    "#     \"SeaLake\": [images[\"Forest\"][0], images[\"Industrial\"][0]]\n",
    "# }\n",
    "\n",
    "# # example_messages = []\n",
    "\n",
    "# # for l, i in images:\n",
    "# #     q_message = {\n",
    "# # \t\t\t'role': 'user',\n",
    "# # \t\t\t'content': q,\n",
    "# # \t\t\t'images': [i]\n",
    "# # \t\t}\n",
    "# #     a_message = {\n",
    "# # \t\t\t'role': 'assistant',\n",
    "# # \t\t\t'content': f\"{l}\",\n",
    "# # \t\t\t'images': [i]\n",
    "# # \t\t}\n",
    "# #     example_messages.append(q_message)\n",
    "# #     example_messages.append(a_message)"
   ]
  },
  {
   "cell_type": "code",
   "execution_count": 129,
   "metadata": {},
   "outputs": [],
   "source": [
    "# # embellish prompt\n",
    "# import ollama\n",
    "# l = \"River\"\n",
    "\n",
    "# embellish_q = f\"Describe in a few sentences what you would expect a sattelite image displaying {l} to look like. Describe the main Features and how such images could be differentiated from other types of land use.\"\n",
    "\n",
    "# r = ollama.generate(model=\"llama3\", prompt=embellish_q)\n",
    "# embellish_a = r[\"response\"]\n",
    "\n",
    "\n",
    "# binary_prompt = f\"\"\"\n",
    "#     You are an expert in detecting {l} in low quality sattelite images. {embellish_a}\n",
    "#     Does the image show {l}?\n",
    "#     Verify the correctness of the Answer.\n",
    "#     Answer by giving a likelihood ranging from 0.0 to 1.0, do not provide any other sentences.\n",
    "# \"\"\"\n",
    "\n",
    "# img, label = train_dataset.__getitem__(3000)\n",
    "# imgb64 = img2b64(img)\n",
    "# r = ollama.generate(model=\"llava\", prompt=binary_prompt, images=[imgb64])\n",
    "# r[\"response\"]"
   ]
  },
  {
   "cell_type": "code",
   "execution_count": 130,
   "metadata": {},
   "outputs": [],
   "source": [
    "# c = \"SeaLake\"\n",
    "# r = ollama.generate(model=\"llama3\", prompt=f\"Rewrite the following word into a plural form to use it in a sentence. If necessary, split the word into multiple words, without loosing any of its meaning. Multiple words can be separated by the word and. The word is {c} Answer by providing the plural versions of the word only, without writing any other text.\")"
   ]
  },
  {
   "cell_type": "code",
   "execution_count": 131,
   "metadata": {},
   "outputs": [],
   "source": [
    "# class_plurals = {\n",
    "#     'Pasture': \"pastures\",\n",
    "#     'River': \"rivers\",\n",
    "#     'SeaLake': \"the sea or lakes\",\n",
    "#     'PermanentCrop': \"permanent crops\",\n",
    "#     'Industrial': \"industrial areas\",\n",
    "#     'HerbaceousVegetation': \"herbaceous vegetation\",\n",
    "#     'Forest': \"forests\",\n",
    "#     'Residential':\"residential areas\",\n",
    "#     'AnnualCrop': \"annual crops\",\n",
    "#     'Highway': \"highways\"\n",
    "# }\n",
    "\n",
    "# def embellish_description(l):    \n",
    "#     embellish_q = f\"Describe in a few sentences what you would expect a low quality sattelite image from the Eurosat Dataset displaying {class_plurals[l]} to look like. \\\n",
    "#         Describe the main features, the expected colors and how such images could be differentiated from other types of land use.\"\n",
    "\n",
    "#     r = ollama.generate(model=\"llama3\", prompt=embellish_q)\n",
    "#     embellish_a = r[\"response\"]\n",
    "#     return embellish_a\n",
    "\n",
    "\n",
    "# # class_prompts = {c:  for c in classes}\n",
    "\n",
    "\n",
    "\n",
    "# class_history = defaultdict(list)\n",
    "# for c in classes:\n",
    "\n",
    "#     class_history[c].append({\n",
    "# \t\t\t'role': 'user',\n",
    "# \t\t\t'content': f\"\"\"\n",
    "# You are an expert in detecting {class_plurals[c]} in low quality sattelite images. {embellish_description(c)}\n",
    "# f\"What is the likelihood that  the image shows {class_plurals[c]}? Answer by giving a number from 0.0 to 1.0, with 0.0 indicating no presence of {class_plurals[c]} and 1.0 indicating a absolute certainty that it shows {class_plurals[c]}.\n",
    "\n",
    "# Answer by giving a likelyhood ranging from 0.0 to 1.0, with 0.0 indicating no presence of {class_plurals[c]} and 1.0 indicating a absolute certainty that it shows {class_plurals[c]}.\\\n",
    "# If you are unsure, use a value of 0.0.\n",
    "# Do not provide any other information apart from the score.\n",
    "# \"\"\",\n",
    "# \t\t\t'images': images[c]\n",
    "# \t\t})\n",
    "#     class_history[c].append({\n",
    "# \t\t\t'role': 'assistant',\n",
    "# \t\t\t'content': \"1.0\",\n",
    "# \t\t})\n",
    "#     class_history[c].append({\n",
    "# \t\t\t'role': 'user',\n",
    "# \t\t\t'content': f\"What is the likelihood that  the image shows {class_plurals[c]}? Answer by giving a number from 0.0 to 1.0, with 0.0 indicating no presence of {class_plurals[c]} and 1.0 indicating a absolute certainty that it shows {class_plurals[c]}. Return the number only.\",\n",
    "# \t\t\t'images': negative_examples[c]\n",
    "# \t\t})\n",
    "#     class_history[c].append({\n",
    "# \t\t\t'role': 'assistant',\n",
    "# \t\t\t'content': \"0.0\",\n",
    "# \t\t})\n",
    "\n"
   ]
  },
  {
   "cell_type": "code",
   "execution_count": null,
   "metadata": {},
   "outputs": [],
   "source": []
  },
  {
   "cell_type": "code",
   "execution_count": 132,
   "metadata": {},
   "outputs": [
    {
     "name": "stderr",
     "output_type": "stream",
     "text": [
      "Clipping input data to the valid range for imshow with RGB data ([0..1] for floats or [0..255] for integers).\n",
      "Clipping input data to the valid range for imshow with RGB data ([0..1] for floats or [0..255] for integers).\n",
      "Clipping input data to the valid range for imshow with RGB data ([0..1] for floats or [0..255] for integers).\n",
      "Clipping input data to the valid range for imshow with RGB data ([0..1] for floats or [0..255] for integers).\n",
      "Clipping input data to the valid range for imshow with RGB data ([0..1] for floats or [0..255] for integers).\n",
      "Clipping input data to the valid range for imshow with RGB data ([0..1] for floats or [0..255] for integers).\n",
      "Clipping input data to the valid range for imshow with RGB data ([0..1] for floats or [0..255] for integers).\n",
      "Clipping input data to the valid range for imshow with RGB data ([0..1] for floats or [0..255] for integers).\n",
      "Clipping input data to the valid range for imshow with RGB data ([0..1] for floats or [0..255] for integers).\n",
      "Clipping input data to the valid range for imshow with RGB data ([0..1] for floats or [0..255] for integers).\n",
      "Clipping input data to the valid range for imshow with RGB data ([0..1] for floats or [0..255] for integers).\n",
      "Clipping input data to the valid range for imshow with RGB data ([0..1] for floats or [0..255] for integers).\n",
      "Clipping input data to the valid range for imshow with RGB data ([0..1] for floats or [0..255] for integers).\n",
      "Clipping input data to the valid range for imshow with RGB data ([0..1] for floats or [0..255] for integers).\n",
      "Clipping input data to the valid range for imshow with RGB data ([0..1] for floats or [0..255] for integers).\n",
      "Clipping input data to the valid range for imshow with RGB data ([0..1] for floats or [0..255] for integers).\n",
      "Clipping input data to the valid range for imshow with RGB data ([0..1] for floats or [0..255] for integers).\n",
      "Clipping input data to the valid range for imshow with RGB data ([0..1] for floats or [0..255] for integers).\n",
      "Clipping input data to the valid range for imshow with RGB data ([0..1] for floats or [0..255] for integers).\n"
     ]
    },
    {
     "data": {
      "image/png": "[encoded data removed]",
      "text/plain": [
       "<Figure size 640x480 with 1 Axes>"
      ]
     },
     "metadata": {},
     "output_type": "display_data"
    }
   ],
   "source": [
    "class_examples = {\n",
    "    'AnnualCrop': [100, 116],\n",
    "    'Pasture': [1035, 1037],\n",
    "    'River': [136, 1017],\n",
    "    'SeaLake': [2204, 137],\n",
    "    'PermanentCrop': [51, 1030],\n",
    "    'Industrial': [1008, 1022],\n",
    "    'HerbaceousVegetation': [1016],\n",
    "    'Forest': [163,175],\n",
    "    'Residential': [99, 1006],\n",
    "    'Highway': [112, 1024]\n",
    "}\n",
    "\n",
    "def load_b64(id):\n",
    "    img = test_dataset.__getitem__(id)[0]\n",
    "    return img2b64(img)\n",
    "\n",
    "class_examples = {c: [load_b64(img) for img in imgs] for c, imgs in class_examples.items()}\n",
    "negative_examples = {\n",
    "    \"AnnualCrop\": [class_examples[\"Pasture\"][0], class_examples[\"PermanentCrop\"][0]],\n",
    "    \"Forest\": [class_examples[\"Industrial\"][0], class_examples[\"SeaLake\"][0]],\n",
    "    \"HerbaceousVegetation\": [class_examples[\"AnnualCrop\"][0], class_examples[\"PermanentCrop\"][0]],\n",
    "    \"Highway\": [class_examples[\"Pasture\"][0], class_examples[\"River\"][0]],\n",
    "    \"Industrial\": [class_examples[\"Forest\"][0], class_examples[\"Residential\"][0]],\n",
    "    \"Pasture\": [class_examples[\"AnnualCrop\"][0], class_examples[\"PermanentCrop\"][0]],\n",
    "    \"PermanentCrop\": [class_examples[\"Pasture\"][0], class_examples[\"AnnualCrop\"][0]],\n",
    "    \"Residential\": [class_examples[\"Industrial\"][0], class_examples[\"Forest\"][0]],\n",
    "    \"River\": [class_examples[\"Highway\"][0], class_examples[\"Pasture\"][0]],\n",
    "    \"SeaLake\": [class_examples[\"Forest\"][0], class_examples[\"Industrial\"][0]]\n",
    "}\n",
    "\n",
    "\n"
   ]
  },
  {
   "cell_type": "code",
   "execution_count": 133,
   "metadata": {},
   "outputs": [],
   "source": [
    "\n",
    "\n",
    "class_plurals = {\n",
    "    'Pasture': \"pastures\",\n",
    "    'River': \"rivers\",\n",
    "    'SeaLake': \"the sea or lakes\",\n",
    "    'PermanentCrop': \"permanent crops\",\n",
    "    'Industrial': \"industrial areas\",\n",
    "    'HerbaceousVegetation': \"herbaceous vegetation\",\n",
    "    'Forest': \"forests\",\n",
    "    'Residential':\"residential areas\",\n",
    "    'AnnualCrop': \"annual crops\",\n",
    "    'Highway': \"highways\"\n",
    "}\n",
    "\n",
    "def embellish_description(l):    \n",
    "    embellish_q = f\"Describe in a few sentences what you would expect a low quality sattelite image from the Eurosat Dataset displaying {class_plurals[l]} to look like. \\\n",
    "        Describe the main features, the expected colors and how such images could be differentiated from other types of land use.\"\n",
    "\n",
    "    r = collama.generate(model=\"llama3\", prompt=embellish_q)\n",
    "    embellish_a = r[\"response\"]\n",
    "    return embellish_a\n",
    "\n",
    "def prime_prompt(c):\n",
    "    return f\"You are an expert in detecting {class_plurals[c]} in low quality sattelite images. {embellish_description(c)} \\n \\\n",
    "    These images provided are examples of images showing {class_plurals[c]}. Probability: 1.0\"\n",
    "\n",
    "def prime_negative_prompt(c):\n",
    "    return f\"These images are not likely to feature any {class_plurals[c]}. Probability: 0.0\"   \n",
    "\n",
    "def binary_prompt(c):\n",
    "    # return f\"Does the image show {class_plurals[c]}? \\n \\\n",
    "    # Take into account the images provided as examples earlier. \\n \\\n",
    "    # Carefully consider the features that indicate the presence of {class_plurals[c]} as well as the features pointing towards a different type of land use. and assign a probabilitly of it containing {class_plurals[c]}. \\n \\\n",
    "    # Answer by giving only a value on a scale from 0.0 (meaning there is little evidence for it to contain \\\n",
    "    # {class_plurals[c]}) to 1.0 (contains primarily {class_plurals[c]} with high certainty). \\\n",
    "    # Return only the probability value and no additional information.\\\n",
    "    # \\n Probability:\"\n",
    "    return f\"How probable do you think is it, that the image provided shows {class_plurals[c]}? Probability:\"\n",
    "\n"
   ]
  },
  {
   "cell_type": "code",
   "execution_count": 134,
   "metadata": {},
   "outputs": [],
   "source": [
    "import sys\n",
    "import time\n",
    "import traceback\n",
    "from joblib.externals.loky import set_loky_pickler\n",
    "from joblib import parallel_config\n",
    "from joblib import Parallel, delayed\n",
    "from joblib import wrap_non_picklable_objects\n",
    "import ollama\n",
    "\n",
    "class Conversation():\n",
    "\n",
    "    def __init__(self, model, context=None):\n",
    "        self.model = model\n",
    "        self.context = context\n",
    "    \n",
    "    def __reduce__(self):\n",
    "        return (self.__class__,  (self.model, self.context) )\n",
    "\n",
    "    def reply(self, prompt, images=[], save_ctx=True):\n",
    "        # print(f\"{prompt} \\n images {len(images)}\")\n",
    "        res = ollama.generate(model=self.model, prompt=prompt, images=images, context=self.context, options={\"num_ctx\": 4096, \"temperature\":.5})\n",
    "        if save_ctx:\n",
    "            self.context = res[\"context\"]\n",
    "        print(f\"{res['total_duration'] / 1e9} seconds\")\n",
    "        return res[\"response\"]\n",
    "    \n",
    "\n",
    "class BinaryClassifier():\n",
    "\n",
    "    def __init__(self, cls, model):\n",
    "        self.cls = cls\n",
    "        self.conv = Conversation(model)\n",
    "\n",
    "    def __reduce__(self):\n",
    "        return (self.__class__, (self.cls, self.conv))\n",
    "\n",
    "    def prime(self, examples, negative_examples):\n",
    "        prompt = prime_prompt(self.cls)\n",
    "        self.conv.reply(prompt=prompt, images=examples)\n",
    "\n",
    "        #negative examples\n",
    "        prompt = prime_negative_prompt(self.cls)\n",
    "        self.conv.reply(prompt=prompt, images=negative_examples)\n",
    "\n",
    "    def predict(self, img):\n",
    "        imgb64 = img2b64(img)\n",
    "        # print(binary_prompt(self.cls))\n",
    "        return (self.cls, self.conv.reply(prompt=binary_prompt(self.cls), images=[imgb64], save_ctx=False))\n",
    "    \n",
    "class ExpertGroup():\n",
    "\n",
    "    def __init__(self, model, classes):\n",
    "        self.model= model\n",
    "        self.experts = {c: BinaryClassifier(c, model) for c in classes}\n",
    "\n",
    "    def prime(self, examples):\n",
    "        tasks = [delayed(self.experts[c].prime)(imgs) for c, imgs in examples.items()]\n",
    "        Parallel(n_jobs=collama.num_clients, backend=\"threading\")(tasks)\n",
    "\n",
    "    def predict(self, img):\n",
    "        tasks = [delayed(expert.predict)(img) for _, expert in self.experts.items()]\n",
    "        results = Parallel(n_jobs=collama.num_clients, backend=\"threading\")(tasks)\n",
    "        return {t[0]: t[1] for t in results}\n"
   ]
  },
  {
   "cell_type": "code",
   "execution_count": 135,
   "metadata": {},
   "outputs": [
    {
     "name": "stdout",
     "output_type": "stream",
     "text": [
      "22.338876182 seconds\n",
      "11.458730991 seconds\n"
     ]
    }
   ],
   "source": [
    "forest_expert = BinaryClassifier(\"Forest\", LLAVA)\n",
    "forest_expert.prime(class_examples[\"Forest\"], negative_examples[\"Forest\"])"
   ]
  },
  {
   "cell_type": "code",
   "execution_count": 136,
   "metadata": {},
   "outputs": [
    {
     "name": "stderr",
     "output_type": "stream",
     "text": [
      "Clipping input data to the valid range for imshow with RGB data ([0..1] for floats or [0..255] for integers).\n"
     ]
    },
    {
     "name": "stdout",
     "output_type": "stream",
     "text": [
      "8.978723751 seconds\n"
     ]
    },
    {
     "data": {
      "text/plain": [
       "('Forest',\n",
       " \"The image you've provided is highly distorted and corrupted, making it impossible to accurately interpret any part of the image. The distortion includes pixelation, color bleeding, and visual artifacts that make it difficult to discern any features or patterns that might be indicative of forested areas.\\n\\nGiven the current state of this image, it is not suitable for identifying forests or any other land use patterns. The probability of it showing a forest would be 0 due to the lack of coherent information in the image.\")"
      ]
     },
     "execution_count": 136,
     "metadata": {},
     "output_type": "execute_result"
    },
    {
     "data": {
      "image/png": "[encoded data removed]",
      "text/plain": [
       "<Figure size 640x480 with 1 Axes>"
      ]
     },
     "metadata": {},
     "output_type": "display_data"
    }
   ],
   "source": [
    "img, ids= test_dataset.__getitem__(180)\n",
    "\n",
    "pred = forest_expert.predict(img)\n",
    "pred"
   ]
  },
  {
   "cell_type": "code",
   "execution_count": 142,
   "metadata": {},
   "outputs": [
    {
     "data": {
      "text/plain": [
       "'The image provided is extremely blurry and low-resolution, making it challenging to discern any specific details or features. If the image quality were superb with all features clearly visible, I would be able to provide a detailed description of the aerial view, such as landscape features like roads, bodies of water, buildings, vegetation, or other points of interest. However, due to the current state of the image, it is not possible to describe its content accurately.'"
      ]
     },
     "execution_count": 142,
     "metadata": {},
     "output_type": "execute_result"
    }
   ],
   "source": [
    "img = class_examples[\"Forest\"][0]\n",
    "ollama.generate(model=LLAVA, prompt=\"\"\"\n",
    "describe this aerial image. Pretend that the image quality is superb and all features are clearly visible.\n",
    "\"\"\", images=[img])[\"response\"]"
   ]
  },
  {
   "cell_type": "code",
   "execution_count": 137,
   "metadata": {},
   "outputs": [
    {
     "name": "stderr",
     "output_type": "stream",
     "text": [
      "Clipping input data to the valid range for imshow with RGB data ([0..1] for floats or [0..255] for integers).\n"
     ]
    },
    {
     "data": {
      "text/plain": [
       "'0.9'"
      ]
     },
     "execution_count": 137,
     "metadata": {},
     "output_type": "execute_result"
    },
    {
     "data": {
      "image/png": "[encoded data removed]",
      "text/plain": [
       "<Figure size 640x480 with 1 Axes>"
      ]
     },
     "metadata": {},
     "output_type": "display_data"
    }
   ],
   "source": [
    "img = img2b64(test_dataset.__getitem__(2)[0])\n",
    "\n",
    "res = ollama.generate(model=LLAVA, prompt=\"\"\"\n",
    "could this low resolution aerial image show forests? \n",
    "Ignore the low resolution and potential color shift.\n",
    "Return the probability on a scale from 0.0 to 1.0.\n",
    "Return only the number.\n",
    "\"\"\", images=[img])\n",
    "\n",
    "res[\"response\"]"
   ]
  },
  {
   "cell_type": "code",
   "execution_count": 138,
   "metadata": {},
   "outputs": [
    {
     "ename": "TypeError",
     "evalue": "BinaryClassifier.prime() missing 1 required positional argument: 'negative_examples'",
     "output_type": "error",
     "traceback": [
      "\u001b[0;31m---------------------------------------------------------------------------\u001b[0m",
      "\u001b[0;31mTypeError\u001b[0m                                 Traceback (most recent call last)",
      "Cell \u001b[0;32mIn[138], line 14\u001b[0m\n\u001b[1;32m     12\u001b[0m model \u001b[38;5;241m=\u001b[39m LLAVA_LLAMA3\n\u001b[1;32m     13\u001b[0m expert_group \u001b[38;5;241m=\u001b[39m ExpertGroup(model, class_examples\u001b[38;5;241m.\u001b[39mkeys())\n\u001b[0;32m---> 14\u001b[0m tasks \u001b[38;5;241m=\u001b[39m \u001b[43mexpert_group\u001b[49m\u001b[38;5;241;43m.\u001b[39;49m\u001b[43mprime\u001b[49m\u001b[43m(\u001b[49m\u001b[43mclass_examples\u001b[49m\u001b[43m)\u001b[49m\n",
      "Cell \u001b[0;32mIn[134], line 58\u001b[0m, in \u001b[0;36mExpertGroup.prime\u001b[0;34m(self, examples)\u001b[0m\n\u001b[1;32m     56\u001b[0m \u001b[38;5;28;01mdef\u001b[39;00m \u001b[38;5;21mprime\u001b[39m(\u001b[38;5;28mself\u001b[39m, examples):\n\u001b[1;32m     57\u001b[0m     tasks \u001b[38;5;241m=\u001b[39m [delayed(\u001b[38;5;28mself\u001b[39m\u001b[38;5;241m.\u001b[39mexperts[c]\u001b[38;5;241m.\u001b[39mprime)(imgs) \u001b[38;5;28;01mfor\u001b[39;00m c, imgs \u001b[38;5;129;01min\u001b[39;00m examples\u001b[38;5;241m.\u001b[39mitems()]\n\u001b[0;32m---> 58\u001b[0m     \u001b[43mParallel\u001b[49m\u001b[43m(\u001b[49m\u001b[43mn_jobs\u001b[49m\u001b[38;5;241;43m=\u001b[39;49m\u001b[43mcollama\u001b[49m\u001b[38;5;241;43m.\u001b[39;49m\u001b[43mnum_clients\u001b[49m\u001b[43m,\u001b[49m\u001b[43m \u001b[49m\u001b[43mbackend\u001b[49m\u001b[38;5;241;43m=\u001b[39;49m\u001b[38;5;124;43m\"\u001b[39;49m\u001b[38;5;124;43mthreading\u001b[39;49m\u001b[38;5;124;43m\"\u001b[39;49m\u001b[43m)\u001b[49m\u001b[43m(\u001b[49m\u001b[43mtasks\u001b[49m\u001b[43m)\u001b[49m\n",
      "File \u001b[0;32m~/.venv/lib/python3.10/site-packages/joblib/parallel.py:1918\u001b[0m, in \u001b[0;36mParallel.__call__\u001b[0;34m(self, iterable)\u001b[0m\n\u001b[1;32m   1916\u001b[0m     output \u001b[38;5;241m=\u001b[39m \u001b[38;5;28mself\u001b[39m\u001b[38;5;241m.\u001b[39m_get_sequential_output(iterable)\n\u001b[1;32m   1917\u001b[0m     \u001b[38;5;28mnext\u001b[39m(output)\n\u001b[0;32m-> 1918\u001b[0m     \u001b[38;5;28;01mreturn\u001b[39;00m output \u001b[38;5;28;01mif\u001b[39;00m \u001b[38;5;28mself\u001b[39m\u001b[38;5;241m.\u001b[39mreturn_generator \u001b[38;5;28;01melse\u001b[39;00m \u001b[38;5;28;43mlist\u001b[39;49m\u001b[43m(\u001b[49m\u001b[43moutput\u001b[49m\u001b[43m)\u001b[49m\n\u001b[1;32m   1920\u001b[0m \u001b[38;5;66;03m# Let's create an ID that uniquely identifies the current call. If the\u001b[39;00m\n\u001b[1;32m   1921\u001b[0m \u001b[38;5;66;03m# call is interrupted early and that the same instance is immediately\u001b[39;00m\n\u001b[1;32m   1922\u001b[0m \u001b[38;5;66;03m# re-used, this id will be used to prevent workers that were\u001b[39;00m\n\u001b[1;32m   1923\u001b[0m \u001b[38;5;66;03m# concurrently finalizing a task from the previous call to run the\u001b[39;00m\n\u001b[1;32m   1924\u001b[0m \u001b[38;5;66;03m# callback.\u001b[39;00m\n\u001b[1;32m   1925\u001b[0m \u001b[38;5;28;01mwith\u001b[39;00m \u001b[38;5;28mself\u001b[39m\u001b[38;5;241m.\u001b[39m_lock:\n",
      "File \u001b[0;32m~/.venv/lib/python3.10/site-packages/joblib/parallel.py:1847\u001b[0m, in \u001b[0;36mParallel._get_sequential_output\u001b[0;34m(self, iterable)\u001b[0m\n\u001b[1;32m   1845\u001b[0m \u001b[38;5;28mself\u001b[39m\u001b[38;5;241m.\u001b[39mn_dispatched_batches \u001b[38;5;241m+\u001b[39m\u001b[38;5;241m=\u001b[39m \u001b[38;5;241m1\u001b[39m\n\u001b[1;32m   1846\u001b[0m \u001b[38;5;28mself\u001b[39m\u001b[38;5;241m.\u001b[39mn_dispatched_tasks \u001b[38;5;241m+\u001b[39m\u001b[38;5;241m=\u001b[39m \u001b[38;5;241m1\u001b[39m\n\u001b[0;32m-> 1847\u001b[0m res \u001b[38;5;241m=\u001b[39m \u001b[43mfunc\u001b[49m\u001b[43m(\u001b[49m\u001b[38;5;241;43m*\u001b[39;49m\u001b[43margs\u001b[49m\u001b[43m,\u001b[49m\u001b[43m \u001b[49m\u001b[38;5;241;43m*\u001b[39;49m\u001b[38;5;241;43m*\u001b[39;49m\u001b[43mkwargs\u001b[49m\u001b[43m)\u001b[49m\n\u001b[1;32m   1848\u001b[0m \u001b[38;5;28mself\u001b[39m\u001b[38;5;241m.\u001b[39mn_completed_tasks \u001b[38;5;241m+\u001b[39m\u001b[38;5;241m=\u001b[39m \u001b[38;5;241m1\u001b[39m\n\u001b[1;32m   1849\u001b[0m \u001b[38;5;28mself\u001b[39m\u001b[38;5;241m.\u001b[39mprint_progress()\n",
      "\u001b[0;31mTypeError\u001b[0m: BinaryClassifier.prime() missing 1 required positional argument: 'negative_examples'"
     ]
    }
   ],
   "source": [
    "def take_best_class(res):\n",
    "    best_value = .0\n",
    "    best_class = None\n",
    "\n",
    "    for c, val in res.items():\n",
    "        if val > best_value:\n",
    "            best_value = val\n",
    "            best_class = c\n",
    "    \n",
    "    \n",
    "\n",
    "model = LLAVA_LLAMA3\n",
    "expert_group = ExpertGroup(model, class_examples.keys())\n",
    "tasks = expert_group.prime(class_examples)\n",
    "\n",
    "\n"
   ]
  },
  {
   "cell_type": "code",
   "execution_count": null,
   "metadata": {},
   "outputs": [
    {
     "name": "stderr",
     "output_type": "stream",
     "text": [
      "Clipping input data to the valid range for imshow with RGB data ([0..1] for floats or [0..255] for integers).\n"
     ]
    },
    {
     "name": "stderr",
     "output_type": "stream",
     "text": [
      "Clipping input data to the valid range for imshow with RGB data ([0..1] for floats or [0..255] for integers).\n"
     ]
    },
    {
     "name": "stdout",
     "output_type": "stream",
     "text": [
      "0.795393935 seconds\n"
     ]
    },
    {
     "name": "stderr",
     "output_type": "stream",
     "text": [
      "Clipping input data to the valid range for imshow with RGB data ([0..1] for floats or [0..255] for integers).\n"
     ]
    },
    {
     "name": "stdout",
     "output_type": "stream",
     "text": [
      "0.682628078 seconds\n"
     ]
    },
    {
     "name": "stderr",
     "output_type": "stream",
     "text": [
      "Clipping input data to the valid range for imshow with RGB data ([0..1] for floats or [0..255] for integers).\n"
     ]
    },
    {
     "name": "stdout",
     "output_type": "stream",
     "text": [
      "0.692225541 seconds\n"
     ]
    },
    {
     "name": "stderr",
     "output_type": "stream",
     "text": [
      "Clipping input data to the valid range for imshow with RGB data ([0..1] for floats or [0..255] for integers).\n"
     ]
    },
    {
     "name": "stdout",
     "output_type": "stream",
     "text": [
      "0.611901626 seconds\n"
     ]
    },
    {
     "name": "stderr",
     "output_type": "stream",
     "text": [
      "Clipping input data to the valid range for imshow with RGB data ([0..1] for floats or [0..255] for integers).\n"
     ]
    },
    {
     "name": "stdout",
     "output_type": "stream",
     "text": [
      "0.714203858 seconds\n"
     ]
    },
    {
     "name": "stderr",
     "output_type": "stream",
     "text": [
      "Clipping input data to the valid range for imshow with RGB data ([0..1] for floats or [0..255] for integers).\n"
     ]
    },
    {
     "name": "stdout",
     "output_type": "stream",
     "text": [
      "0.729927433 seconds\n"
     ]
    },
    {
     "name": "stderr",
     "output_type": "stream",
     "text": [
      "Clipping input data to the valid range for imshow with RGB data ([0..1] for floats or [0..255] for integers).\n"
     ]
    },
    {
     "name": "stdout",
     "output_type": "stream",
     "text": [
      "0.66935847 seconds\n"
     ]
    },
    {
     "name": "stderr",
     "output_type": "stream",
     "text": [
      "Clipping input data to the valid range for imshow with RGB data ([0..1] for floats or [0..255] for integers).\n"
     ]
    },
    {
     "name": "stdout",
     "output_type": "stream",
     "text": [
      "0.673279394 seconds\n"
     ]
    },
    {
     "name": "stderr",
     "output_type": "stream",
     "text": [
      "Clipping input data to the valid range for imshow with RGB data ([0..1] for floats or [0..255] for integers).\n"
     ]
    },
    {
     "name": "stdout",
     "output_type": "stream",
     "text": [
      "0.752213028 seconds\n"
     ]
    },
    {
     "name": "stderr",
     "output_type": "stream",
     "text": [
      "Clipping input data to the valid range for imshow with RGB data ([0..1] for floats or [0..255] for integers).\n"
     ]
    },
    {
     "name": "stdout",
     "output_type": "stream",
     "text": [
      "0.71500632 seconds\n"
     ]
    },
    {
     "data": {
      "text/plain": [
       "{'AnnualCrop': '0.0',\n",
       " 'Pasture': '0.5',\n",
       " 'River': '0.0',\n",
       " 'SeaLake': '0.0',\n",
       " 'PermanentCrop': '0.0',\n",
       " 'Industrial': '0.0',\n",
       " 'HerbaceousVegetation': '0.0',\n",
       " 'Forest': '0.0',\n",
       " 'Residential': '0.5',\n",
       " 'Highway': '0.0'}"
      ]
     },
     "execution_count": 25,
     "metadata": {},
     "output_type": "execute_result"
    },
    {
     "data": {
      "image/png": "[encoded data removed]",
      "text/plain": [
       "<Figure size 640x480 with 1 Axes>"
      ]
     },
     "metadata": {},
     "output_type": "display_data"
    }
   ],
   "source": [
    "def take_best_class(res):\n",
    "    best_value = .0\n",
    "    best_class = None\n",
    "\n",
    "    for c, val in res.items():\n",
    "        try:\n",
    "            val = float(val)\n",
    "        except:\n",
    "            print(f\"For {c}, no value was found: {val}\")\n",
    "            continue\n",
    "        if val > best_value:\n",
    "            best_value = val\n",
    "            best_class = c\n",
    "            img, ids= test_dataset.__getitem__(1000)\n",
    "\n",
    "    return best_value, best_class\n",
    "\n",
    "img, ids= test_dataset.__getitem__(1000)\n",
    "\n",
    "preds = expert_group.predict(img)\n",
    "\n",
    "_ = img2b64(img)\n",
    "\n",
    "# take_best_class(preds)\n",
    "preds"
   ]
  },
  {
   "cell_type": "code",
   "execution_count": null,
   "metadata": {},
   "outputs": [
    {
     "data": {
      "text/plain": [
       "{'AnnualCrop': '0.5',\n",
       " 'Pasture': '0.5',\n",
       " 'River': '0.5',\n",
       " 'SeaLake': '0.5',\n",
       " 'PermanentCrop': '0.5',\n",
       " 'Industrial': '0.5',\n",
       " 'HerbaceousVegetation': '0.5',\n",
       " 'Forest': '0.5',\n",
       " 'Residential': '0.5',\n",
       " 'Highway': '0.0'}"
      ]
     },
     "execution_count": 19,
     "metadata": {},
     "output_type": "execute_result"
    }
   ],
   "source": [
    "preds"
   ]
  },
  {
   "cell_type": "code",
   "execution_count": null,
   "metadata": {},
   "outputs": [],
   "source": [
    "_ = img2b64(img)"
   ]
  },
  {
   "cell_type": "code",
   "execution_count": null,
   "metadata": {},
   "outputs": [],
   "source": [
    "classArray = []\n",
    "\n",
    "for i in range(len(test_dataset.img_paths)[:5]):\n",
    "    img, img_id = test_dataset.__getitem__(i)\n",
    "    preds = expert_group.predict(img)\n",
    "    pred = take_best_class(preds)\n",
    "\n",
    "    print(pred)\n",
    "    # img_ids = [get_id(path) for path in paths]\n",
    "    # preds = model(imgs.to(\"cuda\"))\n",
    "    # preds = list(preds.logits.detach())\n",
    "    # preds = [oh2text(pred.detach().cpu()) for pred in preds]\n",
    "    classArray.append((img_id, pred))\n",
    "\n",
    "import csv\n",
    "from datetime import datetime\n",
    "\n",
    "execution_start = datetime.now().strftime(\"%m%d%Y-%H%M%S\")\n",
    "with open(f'{execution_start}.csv', 'w', newline='') as csvfile:\n",
    "    writer = csv.writer(csvfile)\n",
    "    writer.writerow(['test_id', 'label'])\n",
    "\n",
    "    # Write each string to a row with its corresponding index as the test_id\n",
    "    for i, label in classArray:\n",
    "        writer.writerow([i, label])"
   ]
  }
 ],
 "metadata": {
  "kernelspec": {
   "display_name": "Python 3 (ipykernel)",
   "language": "python",
   "name": "python3"
  },
  "language_info": {
   "codemirror_mode": {
    "name": "ipython",
    "version": 3
   },
   "file_extension": ".py",
   "mimetype": "text/x-python",
   "name": "python",
   "nbconvert_exporter": "python",
   "pygments_lexer": "ipython3",
   "version": "3.10.14"
  }
 },
 "nbformat": 4,
 "nbformat_minor": 2
}
