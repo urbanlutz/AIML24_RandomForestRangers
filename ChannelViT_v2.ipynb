{
 "cells": [
  {
   "cell_type": "markdown",
   "metadata": {
    "id": "H24hLkOfNP8Z"
   },
   "source": [
    "# ML Coding Challenge\n",
    "## Random Forest Rangers\n",
    "## Urban, Atilla, Jano"
   ]
  },
  {
   "cell_type": "markdown",
   "metadata": {
    "id": "r2lLq2JG11yd"
   },
   "source": [
    "ssh -N -T -L 30001:localhost:30001 urban@dgx-2-02.ics.unisg.ch"
   ]
  },
  {
   "cell_type": "markdown",
   "metadata": {
    "id": "yZtLM40ANoYV"
   },
   "source": [
    "## Setup"
   ]
  },
  {
   "cell_type": "code",
   "execution_count": 24,
   "metadata": {
    "ExecuteTime": {
     "end_time": "2024-04-11T18:15:33.747304Z",
     "start_time": "2024-04-11T18:15:33.718280Z"
    },
    "id": "uFUdT5EvNjh5"
   },
   "outputs": [],
   "source": [
    "import os\n",
    "\n",
    "\n",
    "import numpy as np\n",
    "import matplotlib.pyplot as plt\n",
    "%matplotlib inline"
   ]
  },
  {
   "cell_type": "markdown",
   "metadata": {
    "id": "8PSMPxqggzmV"
   },
   "source": [
    "# Load Training & Test Data"
   ]
  },
  {
   "cell_type": "code",
   "execution_count": 25,
   "metadata": {
    "ExecuteTime": {
     "end_time": "2024-04-11T18:19:32.046245Z",
     "start_time": "2024-04-11T18:19:32.025732Z"
    },
    "colab": {
     "base_uri": "https://localhost:8080/"
    },
    "id": "kE3L__QDgYvS",
    "outputId": "c3c38229-90d5-4be7-9b78-bb2e1e079432"
   },
   "outputs": [],
   "source": [
    "# file locations\n",
    "DATA_PATH = \"drive/MyDrive/AIML24\"\n",
    "TRAINING_PATH = DATA_PATH + \"/remote_sensing/otherDatasets/sentinel_2/tif\"\n",
    "TEST_PATH = DATA_PATH + \"/remote_sensing/otherDatasets/sentinel_2/testset\"\n",
    "\n",
    "# mount g-drive\n",
    "try:\n",
    "    from google.colab import drive\n",
    "    drive.mount('/content/drive')\n",
    "\n",
    "    # copy files into runtime for performance\n",
    "    !cp \"drive/MyDrive/AIML24\" \"AIML24\"\n",
    "    DATA_PATH = \"AIML24\"\n",
    "except:\n",
    "    pass # probably local environment\n",
    "\n"
   ]
  },
  {
   "cell_type": "code",
   "execution_count": 26,
   "metadata": {
    "ExecuteTime": {
     "end_time": "2024-04-11T18:17:29.845750Z",
     "start_time": "2024-04-11T18:17:29.843397Z"
    },
    "id": "0SYpaK22lHsC"
   },
   "outputs": [],
   "source": [
    "# Download Training Data\n",
    "# !wget https://madm.dfki.de/files/sentinel/EuroSATallBands.zip --no-check-certificate\n",
    "# !unzip EuroSATallBands.zip\n",
    "# !mv ds/* \"drive/MyDrive/AIML24\"\n",
    "\n",
    "# ☝️Test data must be downloaded manually: put into AIML24/remote_sensing/otherDatasets/sentinel_2/testdata dir"
   ]
  },
  {
   "cell_type": "code",
   "execution_count": 27,
   "metadata": {
    "ExecuteTime": {
     "end_time": "2024-04-11T18:15:44.541157Z",
     "start_time": "2024-04-11T18:15:44.526963Z"
    },
    "id": "EKZuqiBL7c3k"
   },
   "outputs": [],
   "source": [
    "# !unzip \"drive/MyDrive/AIML24/remote_sensing/otherDatasets/sentinel_2/testset.zip\"\n",
    "# !mv testset/testset/* \"drive/MyDrive/AIML24/remote_sensing/otherDatasets/sentinel_2/testset\""
   ]
  },
  {
   "cell_type": "markdown",
   "metadata": {
    "id": "dq3pTziUr1MK"
   },
   "source": [
    "## Define PyTorch Dataset"
   ]
  },
  {
   "cell_type": "code",
   "execution_count": 28,
   "metadata": {
    "ExecuteTime": {
     "end_time": "2024-04-11T18:15:45.826100Z",
     "start_time": "2024-04-11T18:15:45.808195Z"
    },
    "colab": {
     "base_uri": "https://localhost:8080/"
    },
    "id": "un57p0ZwhlaK",
    "outputId": "bd9f561e-a7a1-4fc8-85a3-ee4d635d2997"
   },
   "outputs": [
    {
     "data": {
      "text/plain": [
       "4232"
      ]
     },
     "execution_count": 28,
     "metadata": {},
     "output_type": "execute_result"
    }
   ],
   "source": [
    "import glob\n",
    "len(glob.glob(os.path.join(TEST_PATH,  f\"*.npy\")))"
   ]
  },
  {
   "cell_type": "code",
   "execution_count": 29,
   "metadata": {
    "ExecuteTime": {
     "end_time": "2024-04-11T18:15:48.479745Z",
     "start_time": "2024-04-11T18:15:47.404369Z"
    },
    "colab": {
     "base_uri": "https://localhost:8080/"
    },
    "id": "cAZ7aZePhbJo",
    "outputId": "3fe5a4d6-2281-4ef4-c510-9cea0ba6051b"
   },
   "outputs": [
    {
     "name": "stdout",
     "output_type": "stream",
     "text": [
      "Requirement already satisfied: rasterio in /home/user/.venv/lib/python3.10/site-packages (1.3.9)\n",
      "Requirement already satisfied: affine in /home/user/.venv/lib/python3.10/site-packages (from rasterio) (2.4.0)\n",
      "Requirement already satisfied: attrs in /home/user/.venv/lib/python3.10/site-packages (from rasterio) (23.2.0)\n",
      "Requirement already satisfied: certifi in /home/user/.venv/lib/python3.10/site-packages (from rasterio) (2024.2.2)\n",
      "Requirement already satisfied: click>=4.0 in /home/user/.venv/lib/python3.10/site-packages (from rasterio) (8.1.7)\n",
      "Requirement already satisfied: cligj>=0.5 in /home/user/.venv/lib/python3.10/site-packages (from rasterio) (0.7.2)\n",
      "Requirement already satisfied: numpy in /home/user/.venv/lib/python3.10/site-packages (from rasterio) (1.26.4)\n",
      "Requirement already satisfied: snuggs>=1.4.1 in /home/user/.venv/lib/python3.10/site-packages (from rasterio) (1.4.7)\n",
      "Requirement already satisfied: click-plugins in /home/user/.venv/lib/python3.10/site-packages (from rasterio) (1.1.1)\n",
      "Requirement already satisfied: setuptools in /home/user/.venv/lib/python3.10/site-packages (from rasterio) (69.1.0)\n",
      "Requirement already satisfied: pyparsing>=2.1.6 in /home/user/.venv/lib/python3.10/site-packages (from snuggs>=1.4.1->rasterio) (3.1.1)\n",
      "\u001b[33mDEPRECATION: bert-score 0.3.11 has a non-standard dependency specifier transformers>=3.0.0numpy. pip 24.1 will enforce this behaviour change. A possible replacement is to upgrade to a newer version of bert-score or contact the author to suggest that they release a version with a conforming dependency specifiers. Discussion can be found at https://github.com/pypa/pip/issues/12063\u001b[0m\u001b[33m\n",
      "\u001b[0m"
     ]
    }
   ],
   "source": [
    "!pip install rasterio"
   ]
  },
  {
   "cell_type": "code",
   "execution_count": 30,
   "metadata": {
    "ExecuteTime": {
     "end_time": "2024-04-11T18:18:37.269060Z",
     "start_time": "2024-04-11T18:18:37.237644Z"
    },
    "id": "U6j3IRM6gghb"
   },
   "outputs": [],
   "source": [
    "import rasterio as rio\n",
    "import glob\n",
    "from torch.utils.data import Dataset\n",
    "from collections.abc import Callable\n",
    "import torch\n",
    "\n",
    "def load_img(img_path:str) -> np.ndarray:\n",
    "  if img_path.split('.')[-1] == \"tif\":\n",
    "    with rio.open(img_path, \"r\") as d:\n",
    "      img = d.read([1,2,3,4,5,6,7,8,9,10,11,12,13])\n",
    "      # Assuming bands 2, 3, 4 are the RGB channels (1-based indexing in rasterio)\n",
    "      # Adjust the indices as necessary based on your data\n",
    "      # img = d.read([2, 3, 4])\n",
    "      img = reshape_as_image(img)\n",
    "  else:\n",
    "    img = np.load(img_path)\n",
    "  return img\n",
    "\n",
    "\n",
    "ids2labels = {0: 'AnnualCrop',\n",
    " 1: 'Forest',\n",
    " 2: 'HerbaceousVegetation',\n",
    " 3: 'Highway',\n",
    " 4: 'Industrial',\n",
    " 5: 'Pasture',\n",
    " 6: 'PermanentCrop',\n",
    " 7: 'Residential',\n",
    " 8: 'River',\n",
    " 9: 'SeaLake'}\n",
    "\n",
    "labels2ids = {v: k for k, v in ids2labels.items()}\n",
    "\n",
    "def text2oh(label):\n",
    "    one_hot = np.zeros(10)\n",
    "    one_hot.put(labels2ids[label], 1)\n",
    "    return one_hot\n",
    "\n",
    "def oh2text(one_hot):\n",
    "    try:\n",
    "        one_hot = one_hot.numpy()\n",
    "    except:\n",
    "        pass\n",
    "    idx = np.argmax(one_hot)\n",
    "    return ids2labels[idx]\n",
    "\n",
    "class SentinelTrain(Dataset):\n",
    "    def __init__(self, transformations=None):\n",
    "        self.img_paths = [path.replace('\\\\', '/') for path in glob.glob(os.path.join(TRAINING_PATH, \"*\", f\"*.tif\"))]\n",
    "\n",
    "        # labels = set([path.split('/')[-1].split('_')[0] for path in self.img_paths]) # get unique labels\n",
    "        # self.label2ids = {name: id for (id, name) in enumerate(sorted(labels))} # map an id to each label\n",
    "        # self.ids2label = {v:k for k, v in self.label2ids.items()} # reverse lookup dict\n",
    "        self.transformations = transformations\n",
    "\n",
    "    def __len__(self):\n",
    "        return len(self.img_paths)\n",
    "\n",
    "    def __getitem__(self, idx):\n",
    "        img_path = self.img_paths[idx]\n",
    "        image = load_img(img_path)\n",
    "\n",
    "        if self.transformations:\n",
    "            image = self.transformations(image)\n",
    "\n",
    "        label = img_path.split(\"/\")[-1].split(\"_\")[0]\n",
    "        one_hot = text2oh(label)\n",
    "        # return image, one_hot\n",
    "        channels = torch.tensor([c for c in range(12)])\n",
    "        return image, {\"ID\": one_hot, \"channels\": channels}\n",
    "\n",
    "\n",
    "\n",
    "def get_id(img_path):\n",
    "    return img_path.split(\"/\")[-1].split(\"_\")[-1].split(\".\")[0]\n",
    "\n",
    "class SentinelTest(Dataset):\n",
    "    def __init__(self, transformations=None):\n",
    "        self.img_paths = [path.replace(\"\\\\\",\"/\") for path in glob.glob(os.path.join(TEST_PATH,  f\"*.npy\"))]\n",
    "        self.transformations = transformations\n",
    "    def __len__(self):\n",
    "        return len(self.img_paths)\n",
    "\n",
    "    def __getitem__(self, idx):\n",
    "        img_path = self.img_paths[idx]\n",
    "        image = load_img(img_path)\n",
    "        image_id = get_id(img_path)\n",
    "\n",
    "        if self.transformations:\n",
    "            image = self.transformations(image)\n",
    "        return image, image_id\n"
   ]
  },
  {
   "cell_type": "code",
   "execution_count": 31,
   "metadata": {},
   "outputs": [],
   "source": [
    "import torch\n",
    "from torchvision.transforms import ToTensor\n",
    "from tqdm import tqdm\n",
    "# Create a data loader for your dataset\n",
    "# data_loader = DataLoader(train_dataset, batch_size=1, shuffle=True)\n",
    "\n",
    "# # Compute the mean and std of the data\n",
    "# mean = 0.\n",
    "# std = 0.\n",
    "# nb_samples = 0.\n",
    "# for data in tqdm(data_loader):\n",
    "#     batch_samples = data[0].size(0)\n",
    "#     data = data[0].view(batch_samples, data[0].size(1), -1)\n",
    "#     mean += data.mean(2).sum(0)\n",
    "#     std += data.std(2).sum(0)\n",
    "#     nb_samples += batch_samples\n",
    "\n",
    "# mean /= nb_samples\n",
    "# std /= nb_samples\n",
    "\n",
    "# print(\"Mean:\", mean)\n",
    "# print(\"Std:\", std)\n",
    "\n",
    "\n"
   ]
  },
  {
   "cell_type": "code",
   "execution_count": 32,
   "metadata": {
    "ExecuteTime": {
     "end_time": "2024-04-11T18:18:43.526453Z",
     "start_time": "2024-04-11T18:18:43.506219Z"
    },
    "colab": {
     "base_uri": "https://localhost:8080/"
    },
    "id": "rgWl6XyfnOrH",
    "outputId": "86f15dbb-7795-4442-8e8c-94e1faf28fcd"
   },
   "outputs": [
    {
     "name": "stdout",
     "output_type": "stream",
     "text": [
      "27000\n",
      "4232\n"
     ]
    }
   ],
   "source": [
    "# Create instances of the Dataset Class for both train & test\n",
    "import torch\n",
    "import torchvision.transforms as transforms\n",
    "from torchvision import transforms\n",
    "\n",
    "def bandselect(img):\n",
    "    return img[:, :, [3,2,1]]\n",
    "\n",
    "def convert_to_float(img):\n",
    "    return img.astype(np.float32) / 10000.0\n",
    "\n",
    "def bands_to_front(img):\n",
    "    return img.permute(2, 0, 1)\n",
    "\n",
    "# TODO: improvement -> find global max / min\n",
    "def l2a_approx(img):\n",
    "    l2a_bands = img[:,:,[0,1,2,3,4,5,6,7,12,8,10,11]]\n",
    "    band_min = np.min(l2a_bands, (0,1)) # minimal value per band\n",
    "    return l2a_bands - band_min # dark object subtraction algo approximation\n",
    "\n",
    "mean = [0.0117, 0.0252, 0.0351, 0.0476, 0.0456, 0.0787, 0.0985, 0.1248, 0.1104,\n",
    "        0.0204, 0.0810, 0.0598]\n",
    "std= [0.0065, 0.0154, 0.0188, 0.0278, 0.0228, 0.0356, 0.0456, 0.0531, 0.0502,\n",
    "        0.0099, 0.0378, 0.0303]\n",
    "\n",
    "train_transforms = transforms.Compose([\n",
    "    l2a_approx,\n",
    "    convert_to_float,\n",
    "    transforms.ToTensor(),\n",
    "    transforms.Normalize(mean, std),\n",
    "])\n",
    "\n",
    "train_dataset = SentinelTrain(train_transforms)\n",
    "\n",
    "\n",
    "test_transforms  = transforms.Compose([\n",
    "    convert_to_float,\n",
    "    transforms.ToTensor(),\n",
    "    transforms.Normalize(mean, std),\n",
    "])\n",
    "\n",
    "test_dataset = SentinelTest(test_transforms)\n",
    "\n",
    "print(len(train_dataset))\n",
    "print(len(test_dataset))"
   ]
  },
  {
   "cell_type": "code",
   "execution_count": 33,
   "metadata": {
    "ExecuteTime": {
     "end_time": "2024-03-26T13:48:46.034706Z",
     "start_time": "2024-03-26T13:48:46.033705Z"
    },
    "id": "uJEWU_uJhf3E"
   },
   "outputs": [],
   "source": [
    "from torch.utils.data import DataLoader\n",
    "from torch.utils.data import random_split\n",
    "import numpy as np\n",
    "import torch\n",
    "\n",
    "\n",
    "train_dataset_subset, val_dataset_subset = random_split(train_dataset, [.8, .2])\n",
    "\n",
    "train_dataloader = DataLoader(train_dataset, batch_size=64, shuffle=True)\n",
    "val_dataloader = DataLoader(val_dataset_subset, batch_size=64, shuffle=True)\n",
    "test_dataloader = DataLoader(test_dataset, batch_size=64, shuffle=True)\n",
    "\n"
   ]
  },
  {
   "cell_type": "code",
   "execution_count": 34,
   "metadata": {
    "ExecuteTime": {
     "end_time": "2024-03-26T13:48:46.039237Z",
     "start_time": "2024-03-26T13:48:46.038036Z"
    },
    "id": "GJYIs5jInbbx"
   },
   "outputs": [],
   "source": [
    "# Utility function to display image from dataset\n",
    "from rasterio.plot import reshape_as_image\n",
    "\n",
    "def normalize_for_display(band_data):\n",
    "    \"\"\"Normalize multi-spectral imagery across bands.\n",
    "    The input is expected to be in HxWxC format, e.g. 64x64x13.\n",
    "    To account for outliers (e.g. extremly high values due to\n",
    "    reflective surfaces), we normalize with the 2- and 98-percentiles\n",
    "    instead of minimum and maximum of each band.\n",
    "    \"\"\"\n",
    "    band_data = np.array(band_data)\n",
    "    lower_perc = np.percentile(band_data, 2, axis=(0,1))\n",
    "    upper_perc = np.percentile(band_data, 98, axis=(0,1))\n",
    "    print(lower_perc)\n",
    "    print(upper_perc)\n",
    "    return (band_data - lower_perc) / (upper_perc - lower_perc)\n",
    "\n",
    "\n",
    "def print_image(img, label, rgb_bands=[3,2,1])-> None:\n",
    "  \"\"\"Displays an image. Indices of bands given by \"rgb_bands\" will be displayed as RGB in the print\n",
    "  \"\"\"\n",
    "  img = img.numpy()\n",
    "  img = img.transpose(1,2,0)\n",
    "  img = normalize_for_display(img)\n",
    "  img = img[:, :, rgb_bands]\n",
    "  fig, ax = plt.subplots(1, figsize=(5,5))\n",
    "  ax.imshow((img * 255).astype(np.uint8), vmin=0, vmax=255)\n",
    "\n",
    "  label = oh2text(label[\"ID\"])\n",
    "  ax.set_title(label)\n",
    "  ax.axis(False)\n",
    "  plt.tight_layout()\n",
    "\n",
    "  plt.show()"
   ]
  },
  {
   "cell_type": "code",
   "execution_count": 35,
   "metadata": {
    "ExecuteTime": {
     "end_time": "2024-03-26T13:48:46.048694Z",
     "start_time": "2024-03-26T13:48:46.047399Z"
    },
    "colab": {
     "base_uri": "https://localhost:8080/",
     "height": 580
    },
    "id": "rjQNNMvJrBsA",
    "outputId": "ca6eea7c-84d9-418f-af9d-84bc6eeb122f"
   },
   "outputs": [
    {
     "name": "stdout",
     "output_type": "stream",
     "text": [
      "[-1.67692304 -1.39610398 -1.31914914 -1.40647483 -1.64035082  0.05870783\n",
      "  0.19671058 -0.24350274  0.66713165  0.1313131   1.06349218 -0.16204611]\n",
      "[1.23076928 0.8837663  1.11170208 1.57553947 1.18903509 3.50926983\n",
      " 3.47631567 3.01506615 3.76912365 3.51616163 3.9502645  3.86798668]\n"
     ]
    },
    {
     "data": {
      "image/png": "[encoded data removed]",
      "text/plain": [
       "<Figure size 500x500 with 1 Axes>"
      ]
     },
     "metadata": {},
     "output_type": "display_data"
    }
   ],
   "source": [
    "# example image from test\n",
    "img, label = train_dataset.__getitem__(800)\n",
    "print_image(img, label, [0,1,2])\n",
    "# img.shape\n",
    "# "
   ]
  },
  {
   "cell_type": "code",
   "execution_count": 36,
   "metadata": {},
   "outputs": [
    {
     "data": {
      "text/plain": [
       "torch.Size([12, 64, 64])"
      ]
     },
     "execution_count": 36,
     "metadata": {},
     "output_type": "execute_result"
    }
   ],
   "source": [
    "img.shape"
   ]
  },
  {
   "cell_type": "markdown",
   "metadata": {
    "id": "uDpb4f0SNs6x"
   },
   "source": [
    "## Training"
   ]
  },
  {
   "cell_type": "code",
   "execution_count": 37,
   "metadata": {},
   "outputs": [],
   "source": [
    "from transformers import ViTForImageClassification, ViTConfig\n",
    "\n",
    "\n",
    "model = ViTForImageClassification(ViTConfig(\n",
    "    num_labels=10,\n",
    "    image_size=64,\n",
    "    num_channels=12\n",
    ")).to(\"cuda\")"
   ]
  },
  {
   "cell_type": "code",
   "execution_count": 39,
   "metadata": {
    "colab": {
     "base_uri": "https://localhost:8080/"
    },
    "id": "GQ-b3jIKRYjB",
    "outputId": "9ac09c3e-135a-4fbb-b2d9-4a31004a4413"
   },
   "outputs": [
    {
     "name": "stderr",
     "output_type": "stream",
     "text": [
      "  0%|                                                                                                                                                                                                                                                                 | 0/422 [00:00<?, ?it/s]"
     ]
    },
    {
     "name": "stderr",
     "output_type": "stream",
     "text": [
      " 64%|█████████████████████████████████████████████████████████████████████████████████████████████████████████████████████████████████████████████████████████████▍                                                                                         | 269/422 [01:11<00:37,  4.04it/s]"
     ]
    }
   ],
   "source": [
    "from torch import nn\n",
    "\n",
    "train_losses = []\n",
    "train_epoch_losses = []\n",
    "\n",
    "\n",
    "model.train()\n",
    "\n",
    "num_epochs = 18\n",
    "mini_batch_size = 64\n",
    "\n",
    "cross_entropy = nn.CrossEntropyLoss()\n",
    "\n",
    "from torch import optim\n",
    "learning_rate = 0.002\n",
    "optimizer = optim.Adam(params=model.parameters(), lr=learning_rate)\n",
    "\n",
    "device = torch.device(\"cuda\" if torch.cuda.is_available() else \"cpu\")\n",
    "\n",
    "\n",
    "for epoch in range(num_epochs):\n",
    "    train_mini_batch_losses = []\n",
    "\n",
    "    for x, y_dict in tqdm(train_dataloader):\n",
    "\n",
    "\n",
    "        x = x.float().to(device)\n",
    "        y = y_dict['ID'].to(device)\n",
    "\n",
    "\n",
    "        outputs = model(x)\n",
    "\n",
    "        loss = cross_entropy(outputs.logits, y)\n",
    "\n",
    "        optimizer.zero_grad()\n",
    "        loss.backward()\n",
    "        optimizer.step()\n",
    "\n",
    "        # Store and log mini-batch losses\n",
    "        train_mini_batch_losses.append(loss.item())\n",
    "        train_losses.append(loss.item())\n",
    "        # print(f\"Epoch {epoch}, Batch loss: {loss.item()}\")\n",
    "\n",
    "    # Average loss for the epoch\n",
    "    epoch_loss = np.mean(train_mini_batch_losses)\n",
    "    train_epoch_losses.append(epoch_loss)\n",
    "    print(f\"Epoch {epoch} completed. Mean loss: {epoch_loss}\")\n",
    "    if epoch_loss < .75:\n",
    "        break\n",
    "\n",
    "\n",
    "# Save final model\n",
    "\n",
    "\n",
    "from datetime import datetime\n",
    "\n",
    "now = datetime.now().strftime(\"%m%d%Y-%H%M%S\")\n",
    "\n",
    "torch.save(model.state_dict(), f\"{now}.pt\")"
   ]
  },
  {
   "cell_type": "code",
   "execution_count": null,
   "metadata": {
    "id": "JQKFot0J11y8"
   },
   "outputs": [
    {
     "ename": "",
     "evalue": "",
     "output_type": "error",
     "traceback": [
      "\u001b[1;31mnotebook controller is DISPOSED. \n",
      "\u001b[1;31mView Jupyter <a href='command:jupyter.viewOutput'>log</a> for further details."
     ]
    }
   ],
   "source": [
    "import seaborn as sns\n",
    "\n",
    "\n",
    "p = sns.lineplot(train_losses)\n",
    "p.set(yscale='log')"
   ]
  },
  {
   "cell_type": "code",
   "execution_count": null,
   "metadata": {},
   "outputs": [
    {
     "ename": "",
     "evalue": "",
     "output_type": "error",
     "traceback": [
      "\u001b[1;31mnotebook controller is DISPOSED. \n",
      "\u001b[1;31mView Jupyter <a href='command:jupyter.viewOutput'>log</a> for further details."
     ]
    }
   ],
   "source": [
    "from transformers import ViTForImageClassification, ViTConfig\n",
    "\n",
    "def load_model(path):\n",
    "    model = ViTForImageClassification(ViTConfig(\n",
    "        num_labels=10,\n",
    "        image_size=64,\n",
    "        num_channels=12\n",
    "    )).to(\"cuda\")\n",
    "    model.load_state_dict(torch.load(path))\n",
    "    model.eval()\n",
    "    return model\n",
    "\n",
    "model = load_model(\"04152024-201838.pt\")"
   ]
  },
  {
   "cell_type": "markdown",
   "metadata": {
    "id": "iQP8Ikcp11y-"
   },
   "source": [
    "# Validation"
   ]
  },
  {
   "cell_type": "code",
   "execution_count": null,
   "metadata": {
    "ExecuteTime": {
     "start_time": "2024-03-26T13:48:46.075667Z"
    },
    "id": "_j_RZDqEUqzb"
   },
   "outputs": [
    {
     "ename": "",
     "evalue": "",
     "output_type": "error",
     "traceback": [
      "\u001b[1;31mnotebook controller is DISPOSED. \n",
      "\u001b[1;31mView Jupyter <a href='command:jupyter.viewOutput'>log</a> for further details."
     ]
    }
   ],
   "source": [
    "# set model in evaluation mode\n",
    "model.eval()\n",
    "\n",
    "\n",
    "validate = []\n",
    "for i, (imgs, labels) in enumerate(val_dataloader):\n",
    "    preds = model(imgs.to(\"cuda\")).logits\n",
    "    pred_labels = [oh2text(oh.detach().cpu()) for oh in preds]\n",
    "    validate += list(zip(labels, preds))\n",
    "\n",
    "\n",
    "# TODO: Test Metrics"
   ]
  },
  {
   "cell_type": "markdown",
   "metadata": {
    "id": "qtxx5AGS11zA"
   },
   "source": [
    "# Test"
   ]
  },
  {
   "cell_type": "markdown",
   "metadata": {
    "id": "xl74eq_cRWOE"
   },
   "source": [
    "evaluation loop"
   ]
  },
  {
   "cell_type": "code",
   "execution_count": null,
   "metadata": {
    "id": "7Q-IfruEb-f7"
   },
   "outputs": [
    {
     "ename": "",
     "evalue": "",
     "output_type": "error",
     "traceback": [
      "\u001b[1;31mnotebook controller is DISPOSED. \n",
      "\u001b[1;31mView Jupyter <a href='command:jupyter.viewOutput'>log</a> for further details."
     ]
    }
   ],
   "source": [
    "model.eval()\n",
    "\n",
    "classArray = []\n",
    "\n",
    "for i, (imgs, paths) in enumerate(test_dataloader):\n",
    "\n",
    "    img_ids = [get_id(path) for path in paths]\n",
    "    preds = model(imgs.to(\"cuda\"))\n",
    "    preds = list(preds.logits.detach())\n",
    "    preds = [oh2text(pred.detach().cpu()) for pred in preds]\n",
    "    classArray += list(zip(img_ids, preds))\n"
   ]
  },
  {
   "cell_type": "markdown",
   "metadata": {
    "id": "7ObxBMEJM6gs"
   },
   "source": [
    "## Submission\n",
    "\n",
    "\n",
    "\n"
   ]
  },
  {
   "cell_type": "code",
   "execution_count": null,
   "metadata": {
    "id": "lTl0h6xMMl4D"
   },
   "outputs": [
    {
     "ename": "",
     "evalue": "",
     "output_type": "error",
     "traceback": [
      "\u001b[1;31mnotebook controller is DISPOSED. \n",
      "\u001b[1;31mView Jupyter <a href='command:jupyter.viewOutput'>log</a> for further details."
     ]
    }
   ],
   "source": [
    "import csv\n",
    "\n",
    "with open('submission_v1.csv', 'w', newline='') as csvfile:\n",
    "    writer = csv.writer(csvfile)\n",
    "    writer.writerow(['test_id', 'label'])\n",
    "\n",
    "    # Write each string to a row with its corresponding index as the test_id\n",
    "    for i, label in classArray:\n",
    "        writer.writerow([i, label])"
   ]
  }
 ],
 "metadata": {
  "accelerator": "GPU",
  "colab": {
   "gpuType": "T4",
   "provenance": []
  },
  "kernelspec": {
   "display_name": "Python 3 (ipykernel)",
   "language": "python",
   "name": "python3"
  },
  "language_info": {
   "codemirror_mode": {
    "name": "ipython",
    "version": 3
   },
   "file_extension": ".py",
   "mimetype": "text/x-python",
   "name": "python",
   "nbconvert_exporter": "python",
   "pygments_lexer": "ipython3",
   "version": "3.10.13"
  }
 },
 "nbformat": 4,
 "nbformat_minor": 0
}
