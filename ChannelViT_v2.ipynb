{
  "cells": [
    {
      "cell_type": "markdown",
      "metadata": {
        "id": "H24hLkOfNP8Z"
      },
      "source": [
        "# ML Coding Challenge\n",
        "## Random Forest Rangers\n",
        "## Urban, Atilla, Jano"
      ]
    },
    {
      "cell_type": "markdown",
      "metadata": {
        "id": "r2lLq2JG11yd"
      },
      "source": [
        "ssh -N -T -L 30001:localhost:30001 urban@dgx-2-02.ics.unisg.ch"
      ]
    },
    {
      "cell_type": "markdown",
      "metadata": {
        "id": "yZtLM40ANoYV"
      },
      "source": [
        "## Setup"
      ]
    },
    {
      "cell_type": "code",
      "metadata": {
        "id": "uFUdT5EvNjh5",
        "ExecuteTime": {
          "end_time": "2024-04-11T18:15:33.747304Z",
          "start_time": "2024-04-11T18:15:33.718280Z"
        }
      },
      "source": [
        "import os\n",
        "\n",
        "\n",
        "import numpy as np\n",
        "import matplotlib.pyplot as plt\n",
        "%matplotlib inline"
      ],
      "outputs": [],
      "execution_count": 1
    },
    {
      "cell_type": "markdown",
      "metadata": {
        "id": "8PSMPxqggzmV"
      },
      "source": [
        "# Load Training & Test Data"
      ]
    },
    {
      "cell_type": "code",
      "metadata": {
        "colab": {
          "base_uri": "https://localhost:8080/"
        },
        "id": "kE3L__QDgYvS",
        "outputId": "c3c38229-90d5-4be7-9b78-bb2e1e079432",
        "ExecuteTime": {
          "end_time": "2024-04-11T18:19:32.046245Z",
          "start_time": "2024-04-11T18:19:32.025732Z"
        }
      },
      "source": [
        "# file locations\n",
        "DATA_PATH = \"drive/MyDrive/AIML24\"\n",
        "TRAINING_PATH = DATA_PATH + \"/remote_sensing/otherDatasets/sentinel_2/tif\"\n",
        "TEST_PATH = DATA_PATH + \"/remote_sensing/otherDatasets/sentinel_2/testset\"\n",
        "\n",
        "# mount g-drive\n",
        "try:\n",
        "    from google.colab import drive\n",
        "    drive.mount('/content/drive')\n",
        "\n",
        "    # copy files into runtime for performance\n",
        "    !cp \"drive/MyDrive/AIML24\" \"AIML24\"\n",
        "    DATA_PATH = \"AIML24\"\n",
        "except:\n",
        "    pass # probably local environment\n",
        "\n"
      ],
      "outputs": [
        {
          "output_type": "stream",
          "name": "stdout",
          "text": [
            "Mounted at /content/drive\n",
            "cp: -r not specified; omitting directory 'drive/MyDrive/AIML24'\n"
          ]
        }
      ],
      "execution_count": 2
    },
    {
      "cell_type": "code",
      "metadata": {
        "id": "0SYpaK22lHsC",
        "ExecuteTime": {
          "end_time": "2024-04-11T18:17:29.845750Z",
          "start_time": "2024-04-11T18:17:29.843397Z"
        }
      },
      "source": [
        "# Download Training Data\n",
        "# !wget https://madm.dfki.de/files/sentinel/EuroSATallBands.zip --no-check-certificate\n",
        "# !unzip EuroSATallBands.zip\n",
        "# !mv ds/* \"drive/MyDrive/AIML24\"\n",
        "\n",
        "# ☝️Test data must be downloaded manually: put into AIML24/remote_sensing/otherDatasets/sentinel_2/testdata dir"
      ],
      "outputs": [],
      "execution_count": 3
    },
    {
      "cell_type": "code",
      "metadata": {
        "id": "EKZuqiBL7c3k",
        "ExecuteTime": {
          "end_time": "2024-04-11T18:15:44.541157Z",
          "start_time": "2024-04-11T18:15:44.526963Z"
        }
      },
      "source": [
        "# !unzip \"drive/MyDrive/AIML24/remote_sensing/otherDatasets/sentinel_2/testset.zip\"\n",
        "# !mv testset/testset/* \"drive/MyDrive/AIML24/remote_sensing/otherDatasets/sentinel_2/testset\""
      ],
      "outputs": [],
      "execution_count": 4
    },
    {
      "cell_type": "markdown",
      "metadata": {
        "id": "dq3pTziUr1MK"
      },
      "source": [
        "## Define PyTorch Dataset"
      ]
    },
    {
      "cell_type": "code",
      "metadata": {
        "colab": {
          "base_uri": "https://localhost:8080/"
        },
        "id": "un57p0ZwhlaK",
        "outputId": "bd9f561e-a7a1-4fc8-85a3-ee4d635d2997",
        "ExecuteTime": {
          "end_time": "2024-04-11T18:15:45.826100Z",
          "start_time": "2024-04-11T18:15:45.808195Z"
        }
      },
      "source": [
        "import glob\n",
        "len(glob.glob(os.path.join(TEST_PATH,  f\"*.npy\")))"
      ],
      "outputs": [
        {
          "output_type": "execute_result",
          "data": {
            "text/plain": [
              "4232"
            ]
          },
          "metadata": {},
          "execution_count": 5
        }
      ],
      "execution_count": 5
    },
    {
      "cell_type": "code",
      "metadata": {
        "colab": {
          "base_uri": "https://localhost:8080/"
        },
        "id": "cAZ7aZePhbJo",
        "outputId": "3fe5a4d6-2281-4ef4-c510-9cea0ba6051b",
        "ExecuteTime": {
          "end_time": "2024-04-11T18:15:48.479745Z",
          "start_time": "2024-04-11T18:15:47.404369Z"
        }
      },
      "source": [
        "!pip install rasterio"
      ],
      "outputs": [
        {
          "output_type": "stream",
          "name": "stdout",
          "text": [
            "Collecting rasterio\n",
            "  Downloading rasterio-1.3.9-cp310-cp310-manylinux2014_x86_64.whl (20.6 MB)\n",
            "\u001b[2K     \u001b[90m━━━━━━━━━━━━━━━━━━━━━━━━━━━━━━━━━━━━━━━━\u001b[0m \u001b[32m20.6/20.6 MB\u001b[0m \u001b[31m55.0 MB/s\u001b[0m eta \u001b[36m0:00:00\u001b[0m\n",
            "\u001b[?25hCollecting affine (from rasterio)\n",
            "  Downloading affine-2.4.0-py3-none-any.whl (15 kB)\n",
            "Requirement already satisfied: attrs in /usr/local/lib/python3.10/dist-packages (from rasterio) (23.2.0)\n",
            "Requirement already satisfied: certifi in /usr/local/lib/python3.10/dist-packages (from rasterio) (2024.2.2)\n",
            "Requirement already satisfied: click>=4.0 in /usr/local/lib/python3.10/dist-packages (from rasterio) (8.1.7)\n",
            "Requirement already satisfied: cligj>=0.5 in /usr/local/lib/python3.10/dist-packages (from rasterio) (0.7.2)\n",
            "Requirement already satisfied: numpy in /usr/local/lib/python3.10/dist-packages (from rasterio) (1.25.2)\n",
            "Collecting snuggs>=1.4.1 (from rasterio)\n",
            "  Downloading snuggs-1.4.7-py3-none-any.whl (5.4 kB)\n",
            "Requirement already satisfied: click-plugins in /usr/local/lib/python3.10/dist-packages (from rasterio) (1.1.1)\n",
            "Requirement already satisfied: setuptools in /usr/local/lib/python3.10/dist-packages (from rasterio) (67.7.2)\n",
            "Requirement already satisfied: pyparsing>=2.1.6 in /usr/local/lib/python3.10/dist-packages (from snuggs>=1.4.1->rasterio) (3.1.2)\n",
            "Installing collected packages: snuggs, affine, rasterio\n",
            "Successfully installed affine-2.4.0 rasterio-1.3.9 snuggs-1.4.7\n"
          ]
        }
      ],
      "execution_count": 6
    },
    {
      "cell_type": "code",
      "metadata": {
        "id": "U6j3IRM6gghb",
        "ExecuteTime": {
          "end_time": "2024-04-11T18:18:37.269060Z",
          "start_time": "2024-04-11T18:18:37.237644Z"
        }
      },
      "source": [
        "import rasterio as rio\n",
        "import glob\n",
        "from torch.utils.data import Dataset\n",
        "from collections.abc import Callable\n",
        "import torch\n",
        "\n",
        "def load_img(img_path:str) -> np.ndarray:\n",
        "  if img_path.split('.')[-1] == \"tif\":\n",
        "    with rio.open(img_path, \"r\") as d:\n",
        "      img = d.read([1,2,3,4,5,6,7,8,9,10,11,12,13])\n",
        "      # Assuming bands 2, 3, 4 are the RGB channels (1-based indexing in rasterio)\n",
        "      # Adjust the indices as necessary based on your data\n",
        "      # img = d.read([2, 3, 4])\n",
        "      img = reshape_as_image(img)\n",
        "  else:\n",
        "    img = np.load(img_path)\n",
        "  return img\n",
        "\n",
        "\n",
        "ids2labels = {0: 'AnnualCrop',\n",
        " 1: 'Forest',\n",
        " 2: 'HerbaceousVegetation',\n",
        " 3: 'Highway',\n",
        " 4: 'Industrial',\n",
        " 5: 'Pasture',\n",
        " 6: 'PermanentCrop',\n",
        " 7: 'Residential',\n",
        " 8: 'River',\n",
        " 9: 'SeaLake'}\n",
        "\n",
        "labels2ids = {v: k for k, v in ids2labels.items()}\n",
        "\n",
        "def text2oh(label):\n",
        "    one_hot = np.zeros(10)\n",
        "    one_hot.put(labels2ids[label], 1)\n",
        "    return one_hot\n",
        "\n",
        "def oh2text(one_hot):\n",
        "    try:\n",
        "        one_hot = one_hot.numpy()\n",
        "    except:\n",
        "        pass\n",
        "    idx = np.argmax(one_hot)\n",
        "    return ids2labels[idx]\n",
        "\n",
        "class SentinelTrain(Dataset):\n",
        "    def __init__(self, transformations=None):\n",
        "        self.img_paths = [path.replace('\\\\', '/') for path in glob.glob(os.path.join(TRAINING_PATH, \"*\", f\"*.tif\"))]\n",
        "\n",
        "        # labels = set([path.split('/')[-1].split('_')[0] for path in self.img_paths]) # get unique labels\n",
        "        # self.label2ids = {name: id for (id, name) in enumerate(sorted(labels))} # map an id to each label\n",
        "        # self.ids2label = {v:k for k, v in self.label2ids.items()} # reverse lookup dict\n",
        "        self.transformations = transformations\n",
        "\n",
        "    def __len__(self):\n",
        "        return len(self.img_paths)\n",
        "\n",
        "    def __getitem__(self, idx):\n",
        "        img_path = self.img_paths[idx]\n",
        "        image = load_img(img_path)\n",
        "\n",
        "        if self.transformations:\n",
        "            image = self.transformations(image)\n",
        "\n",
        "        label = img_path.split(\"/\")[-1].split(\"_\")[0]\n",
        "        one_hot = text2oh(label)\n",
        "        # return image, one_hot\n",
        "        channels = torch.tensor([c for c in range(12)])\n",
        "        return image, {\"ID\": one_hot, \"channels\": channels}\n",
        "\n",
        "\n",
        "\n",
        "def get_id(img_path):\n",
        "    return img_path.split(\"/\")[-1].split(\"_\")[-1].split(\".\")[0]\n",
        "\n",
        "class SentinelTest(Dataset):\n",
        "    def __init__(self, transformations=None):\n",
        "        self.img_paths = [path.replace(\"\\\\\",\"/\") for path in glob.glob(os.path.join(TEST_PATH,  f\"*.npy\"))]\n",
        "        self.transformations = transformations\n",
        "    def __len__(self):\n",
        "        return len(self.img_paths)\n",
        "\n",
        "    def __getitem__(self, idx):\n",
        "        img_path = self.img_paths[idx]\n",
        "        image = load_img(img_path)\n",
        "        image_id = get_id(img_path)\n",
        "\n",
        "        if self.transformations:\n",
        "            image = self.transformations(image)\n",
        "        return image, image_id\n",
        ""
      ],
      "outputs": [],
      "execution_count": 7
    },
    {
      "cell_type": "code",
      "metadata": {
        "ExecuteTime": {
          "end_time": "2024-04-11T18:15:54.282517Z",
          "start_time": "2024-04-11T18:15:54.280121Z"
        },
        "id": "wO2aUivl11yr"
      },
      "source": [
        "# !pip install torchvision"
      ],
      "outputs": [],
      "execution_count": 8
    },
    {
      "cell_type": "code",
      "metadata": {
        "colab": {
          "base_uri": "https://localhost:8080/"
        },
        "id": "rgWl6XyfnOrH",
        "outputId": "86f15dbb-7795-4442-8e8c-94e1faf28fcd",
        "ExecuteTime": {
          "end_time": "2024-04-11T18:18:43.526453Z",
          "start_time": "2024-04-11T18:18:43.506219Z"
        }
      },
      "source": [
        "# Create instances of the Dataset Class for both train & test\n",
        "import torch\n",
        "import torchvision.transforms as transforms\n",
        "\n",
        "\n",
        "def bandselect(img):\n",
        "    return img[:, :, [3,2,1]]\n",
        "\n",
        "def convert_to_float(img):\n",
        "    return img.astype(np.float32) / 10000.0\n",
        "\n",
        "def permute(img):\n",
        "    return img.transpose(2, 0, 1)\n",
        "\n",
        "# TODO: improvement -> find global max / min\n",
        "def l2a_approx(img):\n",
        "    l2a_bands = img[:,:,[0,1,2,3,4,5,6,7,8,9,11,12]]\n",
        "    band_min = np.min(l2a_bands, (0,1)) # minimal value per band\n",
        "    return l2a_bands - band_min # dark object subtraction algo approximation\n",
        "\n",
        "# Define the transformation functions as lambdas or wrap in Lambda transform\n",
        "train_transforms = transforms.Compose([\n",
        "   l2a_approx,\n",
        "    # bandselect,\n",
        "    convert_to_float,\n",
        "    permute\n",
        "])\n",
        "train_dataset = SentinelTrain(train_transforms)\n",
        "\n",
        "\n",
        "test_transforms  = transforms.Compose([\n",
        "    # bandselect,\n",
        "    convert_to_float,\n",
        "    permute\n",
        "])\n",
        "test_dataset = SentinelTest(test_transforms)\n",
        "\n",
        "print(len(train_dataset))\n",
        "print(len(test_dataset))"
      ],
      "outputs": [
        {
          "output_type": "stream",
          "name": "stdout",
          "text": [
            "27000\n",
            "4232\n"
          ]
        }
      ],
      "execution_count": 9
    },
    {
      "cell_type": "code",
      "execution_count": 9,
      "metadata": {
        "id": "BDU5qU1j11yu"
      },
      "outputs": [],
      "source": []
    },
    {
      "cell_type": "code",
      "execution_count": 10,
      "metadata": {
        "id": "dOkwmy8p11yu"
      },
      "outputs": [],
      "source": [
        "from torch.utils.data import random_split\n",
        "\n"
      ]
    },
    {
      "cell_type": "code",
      "execution_count": 11,
      "metadata": {
        "ExecuteTime": {
          "end_time": "2024-03-26T13:48:46.034706Z",
          "start_time": "2024-03-26T13:48:46.033705Z"
        },
        "id": "uJEWU_uJhf3E"
      },
      "outputs": [],
      "source": [
        "from torch.utils.data import DataLoader\n",
        "from torch.utils.data import random_split\n",
        "import numpy as np\n",
        "import torch\n",
        "\n",
        "\n",
        "train_dataset_subset, val_dataset_subset = random_split(train_dataset, [.8, .2])\n",
        "\n",
        "train_dataloader = DataLoader(train_dataset_subset, batch_size=64, shuffle=True)\n",
        "val_dataloader = DataLoader(val_dataset_subset, batch_size=64, shuffle=True)\n",
        "test_dataloader = DataLoader(test_dataset, batch_size=64, shuffle=True)\n",
        "\n"
      ]
    },
    {
      "cell_type": "code",
      "execution_count": 12,
      "metadata": {
        "id": "8zNu8mBu11yw",
        "outputId": "22b2bb65-d352-414d-fd45-5dced9539426",
        "colab": {
          "base_uri": "https://localhost:8080/"
        }
      },
      "outputs": [
        {
          "output_type": "execute_result",
          "data": {
            "text/plain": [
              "{0: 'AnnualCrop',\n",
              " 1: 'Forest',\n",
              " 2: 'HerbaceousVegetation',\n",
              " 3: 'Highway',\n",
              " 4: 'Industrial',\n",
              " 5: 'Pasture',\n",
              " 6: 'PermanentCrop',\n",
              " 7: 'Residential',\n",
              " 8: 'River',\n",
              " 9: 'SeaLake'}"
            ]
          },
          "metadata": {},
          "execution_count": 12
        }
      ],
      "source": [
        "ids2labels"
      ]
    },
    {
      "cell_type": "code",
      "execution_count": 13,
      "metadata": {
        "ExecuteTime": {
          "end_time": "2024-03-26T13:48:46.039237Z",
          "start_time": "2024-03-26T13:48:46.038036Z"
        },
        "id": "GJYIs5jInbbx"
      },
      "outputs": [],
      "source": [
        "# Utility function to display image from dataset\n",
        "from rasterio.plot import reshape_as_image\n",
        "\n",
        "def normalize_for_display(band_data):\n",
        "    \"\"\"Normalize multi-spectral imagery across bands.\n",
        "    The input is expected to be in HxWxC format, e.g. 64x64x13.\n",
        "    To account for outliers (e.g. extremly high values due to\n",
        "    reflective surfaces), we normalize with the 2- and 98-percentiles\n",
        "    instead of minimum and maximum of each band.\n",
        "    \"\"\"\n",
        "    band_data = np.array(band_data)\n",
        "    lower_perc = np.percentile(band_data, 2, axis=(0,1))\n",
        "    upper_perc = np.percentile(band_data, 98, axis=(0,1))\n",
        "    print(lower_perc)\n",
        "    print(upper_perc)\n",
        "    return (band_data - lower_perc) / (upper_perc - lower_perc)\n",
        "\n",
        "\n",
        "def print_image(img, label, rgb_bands=[3,2,1])-> None:\n",
        "  \"\"\"Displays an image. Indices of bands given by \"rgb_bands\" will be displayed as RGB in the print\n",
        "  \"\"\"\n",
        "  img = img.transpose(1,2,0)\n",
        "  img = normalize_for_display(img)\n",
        "  img = img[:, :, rgb_bands]\n",
        "  fig, ax = plt.subplots(1, figsize=(5,5))\n",
        "  ax.imshow((img * 255).astype(np.uint8), vmin=0, vmax=255)\n",
        "  # ax.imshow(img)\n",
        "  ax.set_title(label)\n",
        "  ax.axis(False)\n",
        "  plt.tight_layout()\n",
        "\n",
        "  plt.show()"
      ]
    },
    {
      "cell_type": "code",
      "execution_count": 14,
      "metadata": {
        "ExecuteTime": {
          "end_time": "2024-03-26T13:48:46.043862Z",
          "start_time": "2024-03-26T13:48:46.042405Z"
        },
        "colab": {
          "base_uri": "https://localhost:8080/",
          "height": 580
        },
        "id": "zmFUg37hoQdf",
        "outputId": "ca0f3646-bde5-49c6-cb92-7d268e34ffdd"
      },
      "outputs": [
        {
          "output_type": "stream",
          "name": "stdout",
          "text": [
            "[0.0023  0.0076  0.01    0.02099 0.01287 0.0097  0.0121  0.0291  0.0007\n",
            " 0.      0.02409 0.0156 ]\n",
            "[0.017   0.04892 0.0674  0.10923 0.0741  0.07211 0.09539 0.12934 0.0132\n",
            " 0.0002  0.11852 0.10173]\n"
          ]
        },
        {
          "output_type": "display_data",
          "data": {
            "text/plain": [
              "<Figure size 500x500 with 1 Axes>"
            ],
            "image/png": "[encoded data removed]"
          },
          "metadata": {}
        }
      ],
      "source": [
        "# Example image from train\n",
        "img, label = train_dataset.__getitem__(120)\n",
        "print_image(img, oh2text(label), [0,1,2])\n"
      ]
    },
    {
      "cell_type": "code",
      "execution_count": 15,
      "metadata": {
        "id": "pR2nPie-11yx",
        "outputId": "11b4a562-c874-4f9d-cfc5-bb8c1455b375",
        "colab": {
          "base_uri": "https://localhost:8080/",
          "height": 36
        }
      },
      "outputs": [
        {
          "output_type": "execute_result",
          "data": {
            "text/plain": [
              "'AnnualCrop'"
            ],
            "application/vnd.google.colaboratory.intrinsic+json": {
              "type": "string"
            }
          },
          "metadata": {},
          "execution_count": 15
        }
      ],
      "source": [
        "oh2text(label)"
      ]
    },
    {
      "cell_type": "code",
      "execution_count": 16,
      "metadata": {
        "id": "XJXVH6qA11yy",
        "outputId": "2cb80aa7-3a8d-4033-d834-7a1eb179199b",
        "colab": {
          "base_uri": "https://localhost:8080/"
        }
      },
      "outputs": [
        {
          "output_type": "execute_result",
          "data": {
            "text/plain": [
              "{'AnnualCrop': 0,\n",
              " 'Forest': 1,\n",
              " 'HerbaceousVegetation': 2,\n",
              " 'Highway': 3,\n",
              " 'Industrial': 4,\n",
              " 'Pasture': 5,\n",
              " 'PermanentCrop': 6,\n",
              " 'Residential': 7,\n",
              " 'River': 8,\n",
              " 'SeaLake': 9}"
            ]
          },
          "metadata": {},
          "execution_count": 16
        }
      ],
      "source": [
        "labels2ids"
      ]
    },
    {
      "cell_type": "code",
      "execution_count": 17,
      "metadata": {
        "id": "yCvtDOVt11yy",
        "outputId": "bcf518b4-56de-453d-a440-f2e56f9c7bdb",
        "colab": {
          "base_uri": "https://localhost:8080/",
          "height": 36
        }
      },
      "outputs": [
        {
          "output_type": "execute_result",
          "data": {
            "text/plain": [
              "'drive/MyDrive/AIML24/remote_sensing/otherDatasets/sentinel_2/tif/PermanentCrop/PermanentCrop_54.tif'"
            ],
            "application/vnd.google.colaboratory.intrinsic+json": {
              "type": "string"
            }
          },
          "metadata": {},
          "execution_count": 17
        }
      ],
      "source": [
        "train_dataset.img_paths[100]"
      ]
    },
    {
      "cell_type": "code",
      "execution_count": 18,
      "metadata": {
        "ExecuteTime": {
          "end_time": "2024-03-26T13:48:46.048694Z",
          "start_time": "2024-03-26T13:48:46.047399Z"
        },
        "colab": {
          "base_uri": "https://localhost:8080/",
          "height": 580
        },
        "id": "rjQNNMvJrBsA",
        "outputId": "ca6eea7c-84d9-418f-af9d-84bc6eeb122f"
      },
      "outputs": [
        {
          "output_type": "stream",
          "name": "stdout",
          "text": [
            "[0.017      0.01279    0.03679    0.0206     0.0811     0.12198\n",
            " 0.13278    0.1012     0.14089    0.21089    0.13079999 0.0862    ]\n",
            "[0.17194    0.30782999 0.33955001 0.35551001 0.32035    0.36853\n",
            " 0.43359999 0.47940001 0.46973001 0.4402     0.30670999 0.25718999]\n"
          ]
        },
        {
          "output_type": "display_data",
          "data": {
            "text/plain": [
              "<Figure size 500x500 with 1 Axes>"
            ],
            "image/png": "[encoded data removed]"
          },
          "metadata": {}
        }
      ],
      "source": [
        "# example image from test\n",
        "img, label = test_dataset.__getitem__(800)\n",
        "print_image(img, label, [0,1,2])\n"
      ]
    },
    {
      "cell_type": "markdown",
      "metadata": {
        "id": "uDpb4f0SNs6x"
      },
      "source": [
        "## Training"
      ]
    },
    {
      "cell_type": "code",
      "execution_count": 19,
      "metadata": {
        "colab": {
          "base_uri": "https://localhost:8080/"
        },
        "id": "5ooY1wBiCWBN",
        "outputId": "366cb575-50a5-4842-f450-95307a2c99d2"
      },
      "outputs": [
        {
          "output_type": "execute_result",
          "data": {
            "text/plain": [
              "12"
            ]
          },
          "metadata": {},
          "execution_count": 19
        }
      ],
      "source": [
        "img.shape[0]"
      ]
    },
    {
      "cell_type": "code",
      "execution_count": 20,
      "metadata": {
        "id": "9bOP5Q_g11y0",
        "outputId": "85f5ec68-f335-4c45-b75c-a16f43433fd8",
        "colab": {
          "base_uri": "https://localhost:8080/",
          "height": 204
        }
      },
      "outputs": [
        {
          "output_type": "execute_result",
          "data": {
            "text/plain": [
              "<function torchvision.models.vision_transformer.vit_b_16(*, weights: Optional[torchvision.models.vision_transformer.ViT_B_16_Weights] = None, progress: bool = True, **kwargs: Any) -> torchvision.models.vision_transformer.VisionTransformer>"
            ],
            "text/html": [
              "<div style=\"max-width:800px; border: 1px solid var(--colab-border-color);\"><style>\n",
              "      pre.function-repr-contents {\n",
              "        overflow-x: auto;\n",
              "        padding: 8px 12px;\n",
              "        max-height: 500px;\n",
              "      }\n",
              "\n",
              "      pre.function-repr-contents.function-repr-contents-collapsed {\n",
              "        cursor: pointer;\n",
              "        max-height: 100px;\n",
              "      }\n",
              "    </style>\n",
              "    <pre style=\"white-space: initial; background:\n",
              "         var(--colab-secondary-surface-color); padding: 8px 12px;\n",
              "         border-bottom: 1px solid var(--colab-border-color);\"><b>torchvision.models.vision_transformer.vit_b_16</b><br/>def vit_b_16(*, weights: Optional[ViT_B_16_Weights]=None, progress: bool=True, **kwargs: Any) -&gt; VisionTransformer</pre><pre class=\"function-repr-contents function-repr-contents-collapsed\" style=\"\"><a class=\"filepath\" style=\"display:none\" href=\"#\">/usr/local/lib/python3.10/dist-packages/torchvision/models/vision_transformer.py</a>Constructs a vit_b_16 architecture from\n",
              "`An Image is Worth 16x16 Words: Transformers for Image Recognition at Scale &lt;https://arxiv.org/abs/2010.11929&gt;`_.\n",
              "\n",
              "Args:\n",
              "    weights (:class:`~torchvision.models.ViT_B_16_Weights`, optional): The pretrained\n",
              "        weights to use. See :class:`~torchvision.models.ViT_B_16_Weights`\n",
              "        below for more details and possible values. By default, no pre-trained weights are used.\n",
              "    progress (bool, optional): If True, displays a progress bar of the download to stderr. Default is True.\n",
              "    **kwargs: parameters passed to the ``torchvision.models.vision_transformer.VisionTransformer``\n",
              "        base class. Please refer to the `source code\n",
              "        &lt;https://github.com/pytorch/vision/blob/main/torchvision/models/vision_transformer.py&gt;`_\n",
              "        for more details about this class.\n",
              "\n",
              ".. autoclass:: torchvision.models.ViT_B_16_Weights\n",
              "    :members:</pre>\n",
              "      <script>\n",
              "      if (google.colab.kernel.accessAllowed && google.colab.files && google.colab.files.view) {\n",
              "        for (const element of document.querySelectorAll('.filepath')) {\n",
              "          element.style.display = 'block'\n",
              "          element.onclick = (event) => {\n",
              "            event.preventDefault();\n",
              "            event.stopPropagation();\n",
              "            google.colab.files.view(element.textContent, 619);\n",
              "          };\n",
              "        }\n",
              "      }\n",
              "      for (const element of document.querySelectorAll('.function-repr-contents')) {\n",
              "        element.onclick = (event) => {\n",
              "          event.preventDefault();\n",
              "          event.stopPropagation();\n",
              "          element.classList.toggle('function-repr-contents-collapsed');\n",
              "        };\n",
              "      }\n",
              "      </script>\n",
              "      </div>"
            ]
          },
          "metadata": {},
          "execution_count": 20
        }
      ],
      "source": [
        "import torchvision\n",
        "\n",
        "#############################################################################\n",
        "\n",
        "\n",
        "torchvision.models.vit_b_16"
      ]
    },
    {
      "cell_type": "markdown",
      "metadata": {
        "id": "zFnJNk9nTCnk"
      },
      "source": [
        "train model"
      ]
    },
    {
      "cell_type": "code",
      "execution_count": 24,
      "metadata": {
        "id": "1mCnw_IwN2p9"
      },
      "outputs": [],
      "source": [
        "import torch\n",
        "import torch.nn as nn\n",
        "from torchsummary import torchsummary\n",
        "from transformers import ViTModel, ViTConfig\n",
        "\n",
        "\n",
        "# Define the configuration\n",
        "config = ViTConfig(\n",
        "    image_size=64,\n",
        "    patch_size=16,\n",
        "    num_channels=12,\n",
        "    num_labels=10,\n",
        "    hidden_size=768,\n",
        "    num_hidden_layers=12,\n",
        "    num_attention_heads=12,\n",
        "    intermediate_size=768 * 4,  # Corresponds to mlp_ratio * embed_dim\n",
        "    hidden_dropout_prob=0.0,\n",
        "    attention_probs_dropout_prob=0.0,\n",
        "    # Additional parameters as needed\n",
        ")\n",
        "\n",
        "# Instantiate the model\n",
        "model = ViTModel(config)\n",
        "# Assume `model` outputs logits in a tuple or an attribute, add a classifier on top if needed\n",
        "class ViTForClassification(nn.Module):\n",
        "    def __init__(self, vit_model):\n",
        "        super().__init__()\n",
        "        self.vit = vit_model\n",
        "        self.classifier = nn.Linear(768, 64)  # Assuming the dimension of the last hidden layer is 768\n",
        "\n",
        "    def forward(self, x):\n",
        "        outputs = self.vit(x)\n",
        "        logits = self.classifier(outputs.pooler_output)  # or outputs.last_hidden_state[:, 0] based on your model\n",
        "        return logits\n",
        "\n",
        "model = ViTForClassification(model)\n",
        "model = model.to(device)\n",
        "\n",
        "# Channel ViT https://github.com/insitro/ChannelViT"
      ]
    },
    {
      "cell_type": "markdown",
      "metadata": {
        "id": "8WGjtaUBRgRi"
      },
      "source": [
        "training loop"
      ]
    },
    {
      "cell_type": "code",
      "execution_count": null,
      "metadata": {
        "colab": {
          "base_uri": "https://localhost:8080/"
        },
        "id": "GQ-b3jIKRYjB",
        "outputId": "9ac09c3e-135a-4fbb-b2d9-4a31004a4413"
      },
      "outputs": [
        {
          "output_type": "stream",
          "name": "stdout",
          "text": [
            "Epoch 0, Batch loss: 1065.1885986328125\n",
            "Epoch 0, Batch loss: 1217.4906005859375\n",
            "Epoch 0, Batch loss: 1142.4683837890625\n",
            "Epoch 0, Batch loss: 1396.307373046875\n",
            "Epoch 0, Batch loss: 1297.216552734375\n",
            "Epoch 0, Batch loss: 1295.8544921875\n",
            "Epoch 0, Batch loss: 1417.57275390625\n",
            "Epoch 0, Batch loss: 1182.3551025390625\n"
          ]
        }
      ],
      "source": [
        "import tqdm\n",
        "\n",
        "# Init collection of training epoch losses\n",
        "train_losses = []\n",
        "train_epoch_losses = []\n",
        "\n",
        "# Set the model in training mode\n",
        "model.train()\n",
        "\n",
        "num_epochs = 12\n",
        "mini_batch_size = 64 # size of the mini-batches\n",
        "\n",
        "cross_entropy = nn.CrossEntropyLoss()\n",
        "\n",
        "from torch import optim\n",
        "learning_rate = 0.002\n",
        "optimizer = optim.Adam(params=model.parameters(), lr=learning_rate)\n",
        "\n",
        "device = torch.device(\"cuda\" if torch.cuda.is_available() else \"cpu\")\n",
        "\n",
        "# Train for n epochs\n",
        "# Train for n epochs\n",
        "for epoch in range(num_epochs):\n",
        "    # Init collection of mini-batch losses\n",
        "    train_mini_batch_losses = []\n",
        "\n",
        "    # Iterate through the training data loader\n",
        "    for x, y_dict in train_dataloader:\n",
        "        # Ensure inputs are floats and labels are long integers\n",
        "        x = x.float().to(device)\n",
        "        # Assuming y_dict['ID'] contains one-hot encoded labels, convert them to indices\n",
        "        y = y_dict['ID'].max(dim=1)[1].float().to(device)  # Get the index of the max log-probability\n",
        "\n",
        "        # Forward pass\n",
        "        outputs = model(x)\n",
        "        # Assume outputs are logits, and get the first output if outputs are a tuple (check model specifics)\n",
        "        pred = outputs.logits if hasattr(outputs, 'logits') else outputs[0]\n",
        "\n",
        "        # Compute loss\n",
        "        loss = cross_entropy(pred, y)\n",
        "\n",
        "        # Backward pass and optimize\n",
        "        optimizer.zero_grad()\n",
        "        loss.backward()\n",
        "        optimizer.step()\n",
        "\n",
        "        # Store and log mini-batch losses\n",
        "        train_mini_batch_losses.append(loss.item())\n",
        "        print(f\"Epoch {epoch}, Batch loss: {loss.item()}\")\n",
        "\n",
        "    # Average loss for the epoch\n",
        "    epoch_loss = np.mean(train_mini_batch_losses)\n",
        "    train_epoch_losses.append(epoch_loss)\n",
        "    print(f\"Epoch {epoch} completed. Mean loss: {epoch_loss}\")\n",
        "\n",
        "\n",
        "# Save final model\n",
        "torch.save(model.state_dict(), \"checkpoint.pt\")"
      ]
    },
    {
      "cell_type": "code",
      "execution_count": null,
      "metadata": {
        "id": "VJqeQEIn11y6"
      },
      "outputs": [],
      "source": [
        "pred[0]"
      ]
    },
    {
      "cell_type": "code",
      "execution_count": null,
      "metadata": {
        "id": "JQKFot0J11y8"
      },
      "outputs": [],
      "source": [
        "import seaborn as sns\n",
        "\n",
        "\n",
        "p = sns.lineplot(train_losses)\n",
        "p.set(yscale='log')"
      ]
    },
    {
      "cell_type": "markdown",
      "metadata": {
        "id": "iQP8Ikcp11y-"
      },
      "source": [
        "# Validation"
      ]
    },
    {
      "cell_type": "code",
      "execution_count": null,
      "metadata": {
        "ExecuteTime": {
          "start_time": "2024-03-26T13:48:46.075667Z"
        },
        "id": "_j_RZDqEUqzb"
      },
      "outputs": [],
      "source": [
        "# set model in evaluation mode\n",
        "model.eval()\n",
        "\n",
        "\n",
        "validate = []\n",
        "for i, (imgs, labels) in enumerate(val_dataloader):\n",
        "    preds = model(imgs.to(\"cuda\"))\n",
        "    pred_labels = [oh2text(oh.detach().cpu()) for oh in preds]\n",
        "    validate += list(zip(labels, preds))\n",
        "\n",
        "\n",
        "# TODO: Test Metrics"
      ]
    },
    {
      "cell_type": "markdown",
      "metadata": {
        "id": "qtxx5AGS11zA"
      },
      "source": [
        "# Test"
      ]
    },
    {
      "cell_type": "markdown",
      "metadata": {
        "id": "xl74eq_cRWOE"
      },
      "source": [
        "evaluation loop"
      ]
    },
    {
      "cell_type": "code",
      "execution_count": null,
      "metadata": {
        "id": "tzjO6FnOd-z8"
      },
      "outputs": [],
      "source": [
        "img_path = \"drive/MyDrive/AIML24/remote_sensing/otherDatasets/sentinel_2/testset/test_3310.npy\"\n",
        "\n",
        "def get_id(img_path):\n",
        "    return img_path.split(\"/\")[-1].split(\"_\")[-1].split(\".\")[0]\n",
        "\n",
        "get_id(img_path)"
      ]
    },
    {
      "cell_type": "code",
      "execution_count": null,
      "metadata": {
        "id": "7Q-IfruEb-f7"
      },
      "outputs": [],
      "source": [
        "model.eval()\n",
        "\n",
        "classArray = []\n",
        "\n",
        "for i, (imgs, paths) in enumerate(test_dataloader):\n",
        "\n",
        "    img_ids = [get_id(path) for path in paths]\n",
        "    preds = model(imgs.to(\"cuda\"))\n",
        "    preds = list(preds.detach())\n",
        "    preds = [oh2text(pred.detach().cpu()) for pred in preds]\n",
        "    classArray += list(zip(img_ids, preds))\n"
      ]
    },
    {
      "cell_type": "code",
      "execution_count": null,
      "metadata": {
        "id": "Ct8HAdy8efab"
      },
      "outputs": [],
      "source": [
        "len(classArray)"
      ]
    },
    {
      "cell_type": "code",
      "execution_count": null,
      "metadata": {
        "id": "3XxiAd7KYRnv"
      },
      "outputs": [],
      "source": [
        "# Ziel: Array: classArray von (image index, predicted label)\n",
        "\n",
        "#loop durch test_dataloader (minibatch)\n",
        "    # pred labels (alle im minibatch auf einmal)\n",
        "    # find image ids for each pred ()\n",
        "    # Translate pred to text label\n",
        "    # append to array"
      ]
    },
    {
      "cell_type": "markdown",
      "metadata": {
        "id": "7ObxBMEJM6gs"
      },
      "source": [
        "## Submission\n",
        "\n",
        "\n",
        "\n"
      ]
    },
    {
      "cell_type": "markdown",
      "metadata": {
        "id": "9EwWNO6lMoPS"
      },
      "source": [
        ">We then create a csv with all our predictions to upload it to kaggle."
      ]
    },
    {
      "cell_type": "code",
      "execution_count": null,
      "metadata": {
        "id": "lTl0h6xMMl4D"
      },
      "outputs": [],
      "source": [
        "import csv\n",
        "\n",
        "with open('submission_v1.csv', 'w', newline='') as csvfile:\n",
        "    # Create a CSV writer object\n",
        "    writer = csv.writer(csvfile)\n",
        "\n",
        "    # Write the header row\n",
        "    writer.writerow(['test_id', 'label'])\n",
        "\n",
        "    # Write each string to a row with its corresponding index as the test_id\n",
        "    for i, label in classArray:\n",
        "        writer.writerow([i, label])"
      ]
    }
  ],
  "metadata": {
    "accelerator": "GPU",
    "colab": {
      "gpuType": "T4",
      "provenance": []
    },
    "kernelspec": {
      "display_name": "Python 3 (ipykernel)",
      "language": "python",
      "name": "python3"
    },
    "language_info": {
      "codemirror_mode": {
        "name": "ipython",
        "version": 3
      },
      "file_extension": ".py",
      "mimetype": "text/x-python",
      "name": "python",
      "nbconvert_exporter": "python",
      "pygments_lexer": "ipython3",
      "version": "3.10.13"
    }
  },
  "nbformat": 4,
  "nbformat_minor": 0
}